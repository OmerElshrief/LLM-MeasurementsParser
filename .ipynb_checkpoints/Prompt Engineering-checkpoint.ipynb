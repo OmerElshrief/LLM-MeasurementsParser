{
 "cells": [
  {
   "cell_type": "markdown",
   "metadata": {},
   "source": [
    "## Building Evaluation Data \n",
    "\n",
    "This manualy extracted data from patent, will be used to evaluate the model and prompts."
   ]
  },
  {
   "cell_type": "code",
   "execution_count": 251,
   "metadata": {},
   "outputs": [],
   "source": [
    "import json\n",
    "\n",
    "def write_json_objects_to_file(json_objects, file_path):\n",
    "    \"\"\"\n",
    "    Writes a list of JSON objects to a file.\n",
    "    \n",
    "    Args:\n",
    "        json_objects (list): List of JSON objects.\n",
    "        file_path (str): File path to write the JSON objects to.\n",
    "    \"\"\"\n",
    "    with open(file_path, 'w') as file:\n",
    "        json.dump(json_objects, file)"
   ]
  },
  {
   "cell_type": "code",
   "execution_count": 249,
   "metadata": {},
   "outputs": [],
   "source": [
    "evaluation_data_json = [{\n",
    "    \"text\": \"\"\"According to one embodiment, the nitrogen oxide storage\n",
    "                materials comprise ceria particles having alkaline earth\n",
    "                oxides, for example, baria, Supported on the particles, the\n",
    "                ceria having a crystallite size of between about 10 and 20 nm\n",
    "                and the alkaline earth oxides having a crystallite size of\n",
    "                between about 20 and 40 nm. Other suitable alkaline earth\n",
    "                oxides include oxides of Mg, Sr. and Ca. In certain embodi\n",
    "                ments, the composite particles have a BET surface area of\n",
    "                between about 30 and 80 m/g.\"\"\",\n",
    "    \"measurments\": [\n",
    "                    {\"measurment\":\"ceria crystallite size\", \"unit\": \"nm\", \"value\": \"10 to 20\"}, \n",
    "                    {\"measurment\":\"alkaline earth oxides crystallite size\", \"unit\": \"nm\", \"value\": \"20 to 40\"}, \n",
    "                    {\"measurment\":\"composite particles BET surface area\", \"unit\": \"m/g\", \"value\": \"30 to 80\"},\n",
    "                   ]\n",
    "},\n",
    "\n",
    "    {\"text\": \"\"\"Desirably, the refractory metal oxide support will have a\n",
    "    surface area of between about 5 and about 350 m?g, and more\n",
    "    particularly between about 100 and 200 m/g. Typically, the\n",
    "    Support will be present on the coated Substrate in the amount\n",
    "    of about 1.5 to about 7.0 g/in, for example between about 3\n",
    "    and 6 g/in. A suitable support material for the precious metal\n",
    "    is alumina, which may be doped with one or more other\n",
    "    materials. Alumina having a BET surface area of about 200\n",
    "    m/g\"\"\",\n",
    "     \"measurments\": [\n",
    "                    {\"measurment\":\"refractory metal oxide support surface area\", \"unit\": \"m^2/g\", \"value\": \"100 to 200\"}, \n",
    "                    {\"measurment\":\"coated Substrate support\", \"unit\": \"g/in\", \"value\": \"1.5 to 7.0\"}, \n",
    "                    {\"measurment\":\"Alumina BET surface area\", \"unit\": \"m/g\", \"value\": \"200\"},\n",
    "                   ]\n",
    "    },\n",
    "{\"text\":\"\"\"In one or more embodiments of the present invention the\n",
    "catalytic component preferably comprises a precious metal\n",
    "component, i.e., a platinum group metal component. Suitable\n",
    "precious metal components include platinum, palladium,\n",
    "rhodium and mixtures thereof. The catalytic component will\n",
    "typically be present in an amount of about 20 to about 200\n",
    "g/ft, more specifically, about 60 to 120 g/ft.\"\"\",\n",
    "\"measurments\":[\n",
    "    {\"measurment\":\"catalytic component\", \"unit\": \"g/ft\", \"value\": \"60 to 120\"}\n",
    "    \n",
    "]},\n",
    "{\"text\": \"\"\"BaCO, and CeO, were intimately mixed and finely dis\n",
    "persed in a weight ratio of between about 1:3 and about 1:5.\n",
    "Cerium oxide having a BET surface area of between about\n",
    "50-150 m/g was mixed with a solution of barium acetate\n",
    "such that the BaCO/CeO composite had a BaCO3 content\n",
    "of about 10-30 wt %. After mixing, the suspension of soluble\n",
    "barium acetate and CeO2 was then spray-dried at a tempera\n",
    "ture of between about 90° C. and 120° C. to obtain a solid\n",
    "mixture of barium acetate and ceria.\"\"\",\n",
    "\"measurments\": [\n",
    "                {\"measurment\":\"BaCO and CeO weight ratio\", \"unit\": \"weight ratio\", \"value\": \"1:3 to 1:5\"},\n",
    "                {\"measurment\":\"Cerium oxide surface area\", \"unit\": \"m/g\", \"value\": \"50 to 150\"},\n",
    "                {\"measurment\":\"BaCO3 content in BaCO/CeO composite\", \"unit\": \"wt\", \"value\": \"10 to 30\"}\n",
    "               ]},\n",
    "{\"text\":\"\"\"According to the data in Tables I and II, an as-prepared BET\n",
    "surface area between 40-60 m/g and a ceria crystal size\n",
    "between about 10- and 20 nm and a BaCO crystallite size of\n",
    "between about 20- and 40 nm yielded the best performance\n",
    "after aging.\"\"\",\n",
    "\"measurments\": [\n",
    "{\n",
    "\"measurment\": \"BET surface area\",\n",
    "\"unit\": \"m/g\",\n",
    "\"value\": \"between 40-60\"\n",
    "},\n",
    "{\n",
    "\"measurment\": \"ceria crystal size\",\n",
    "\"unit\": \"nm\",\n",
    "\"value\": \"between about 10- and 20\"\n",
    "},\n",
    "{\n",
    "\"measurment\": \"BaCO crystallite size\",\n",
    "\"unit\": \"nm\",\n",
    "\"value\": \"between about 20- and 40\"\n",
    "}\n",
    "]},\n",
    "{\"text\": \"\"\"The method of claim 1, wherein the nitrogen oxide\n",
    "storage material has a surface area between about 30 and 80 m^2/g.\"\"\",\n",
    "\"measurments\": [\n",
    "    {\"measurment\": \"nitrogen oxide surface area\", \"unit\":\"m^2/g\", \"value\": \"30 and 80\"}\n",
    "]},\n",
    "{\n",
    "    \"text\":\"\"\"In a favorite realization the bioproducto is useful for the control of plant fungi. In a materialization of the invention the polypeptide included into the bio-product in the concentration range among 1 to 9 g/ml\"\"\",\n",
    "    \"measurments\": [\n",
    "        {\n",
    "        \"measurment\": \"polypeptide concentration\",\n",
    "        \"unit\": \"g/ml\",\n",
    "        \"value\": \"1 to 9\"\n",
    "        }\n",
    "        ]\n",
    "    },\n",
    "{\n",
    "    \"text\": \"The starting RCR mixture contains about 0.01 ng&#x2dc;10 &#x3bc;g of the RCR-ready RNA/mRNA templates, about 0.1&#x2dc;50 U of isolated coronaviral RdRp/helicase, and a proper amount of rNTPs in 1&#xd7;transcription buffer. RdRp/helicase is either an RdRp enzyme with an additional RNA unwinding activity or a mixture of RdRp and helicase.\",\n",
    "    \"measurements\":[\n",
    "          {\n",
    "            \"measurement\": \"RCR-ready RNA/mRNA templates\",\n",
    "            \"unit\": \"ng-µg\",\n",
    "            \"value\": \"0.01-10\"\n",
    "          },\n",
    "          {\n",
    "            \"measurement\": \"Isolated coronaviral RdRp/helicase\",\n",
    "            \"unit\": \"U (units)\",\n",
    "            \"value\": \"0.1-50\"\n",
    "          }\n",
    "        ]\n",
    "\n",
    "}]\n",
    "\n",
    "output_format = \"\"\"Your output should follow be a list of json objects, good output format: [{\"measurments\":\"string\", \"unit\":\"string\", \"value\": \"string\"},\n",
    "{\"measurments\":\"string\", \"unit\":\"string\", \"value\": \"string\"}]\"\"\""
   ]
  },
  {
   "cell_type": "code",
   "execution_count": null,
   "metadata": {},
   "outputs": [],
   "source": [
    "prompt_example_1 = 'You are given a text from chimestry research patent, extract all the measurments mentinoed in the text.\\nExtract Measurment Details, Unit, Value or Value ranges. \\n\\nYour output should follow JSON format.\\n'"
   ]
  },
  {
   "cell_type": "code",
   "execution_count": 252,
   "metadata": {},
   "outputs": [],
   "source": [
    "write_json_objects_to_file(evaluation_data_json, \"Data/evaluation_examples.json\")"
   ]
  },
  {
   "cell_type": "markdown",
   "metadata": {},
   "source": [
    "# Setting up OpenAI and Azure"
   ]
  },
  {
   "cell_type": "code",
   "execution_count": 117,
   "metadata": {},
   "outputs": [
    {
     "data": {
      "text/plain": [
       "True"
      ]
     },
     "execution_count": 117,
     "metadata": {},
     "output_type": "execute_result"
    }
   ],
   "source": [
    "import os\n",
    "from dotenv import load_dotenv\n",
    "\n",
    "load_dotenv(\"env.env\")\n"
   ]
  },
  {
   "cell_type": "code",
   "execution_count": 118,
   "metadata": {},
   "outputs": [],
   "source": [
    "import os\n",
    "import requests\n",
    "import json\n",
    "import openai\n",
    "\n",
    "openai.api_key = os.getenv(\"AZURE_OPENAI_KEY\")\n",
    "openai.api_base = os.getenv(\"AZURE_OPENAI_ENDPOINT\") # your endpoint should look like the following https://YOUR_RESOURCE_NAME.openai.azure.com/\n",
    "openai.api_type = 'azure'\n",
    "openai.api_version = '2023-05-15' # this may change in the future\n",
    "\n",
    "deployment_name='Omar Challange' #This will correspond to the custom name you chose for your deployment when you deployed a model. \n",
    "\n",
    "#"
   ]
  },
  {
   "cell_type": "markdown",
   "metadata": {},
   "source": [
    "## Building Prombt"
   ]
  },
  {
   "cell_type": "markdown",
   "metadata": {},
   "source": [
    "# Example 1"
   ]
  },
  {
   "cell_type": "code",
   "execution_count": 147,
   "metadata": {},
   "outputs": [],
   "source": [
    "from langchain.embeddings import OpenAIEmbeddings"
   ]
  },
  {
   "cell_type": "code",
   "execution_count": 148,
   "metadata": {},
   "outputs": [
    {
     "ename": "ValidationError",
     "evalue": "1 validation error for OpenAIEmbeddings\nengine\n  extra fields not permitted (type=value_error.extra)",
     "output_type": "error",
     "traceback": [
      "\u001b[1;31m---------------------------------------------------------------------------\u001b[0m",
      "\u001b[1;31mValidationError\u001b[0m                           Traceback (most recent call last)",
      "Cell \u001b[1;32mIn[148], line 1\u001b[0m\n\u001b[1;32m----> 1\u001b[0m OpenAIEmbeddings(engine\u001b[38;5;241m=\u001b[39m\u001b[38;5;124m\"\u001b[39m\u001b[38;5;124mtext-embedding-ada-002\u001b[39m\u001b[38;5;124m\"\u001b[39m)\n",
      "File \u001b[1;32m~\\anaconda3\\envs\\langchain\\Lib\\site-packages\\pydantic\\main.py:341\u001b[0m, in \u001b[0;36mpydantic.main.BaseModel.__init__\u001b[1;34m()\u001b[0m\n",
      "\u001b[1;31mValidationError\u001b[0m: 1 validation error for OpenAIEmbeddings\nengine\n  extra fields not permitted (type=value_error.extra)"
     ]
    }
   ],
   "source": [
    "OpenAIEmbeddings(engine=\"text-embedding-ada-002\")"
   ]
  },
  {
   "cell_type": "code",
   "execution_count": 208,
   "metadata": {},
   "outputs": [],
   "source": [
    "from langchain.chat_models import ChatOpenAI, AzureChatOpenAI\n",
    "from langchain import PromptTemplate, LLMChain\n",
    "from langchain.prompts.chat import (\n",
    "    ChatPromptTemplate,\n",
    "    SystemMessagePromptTemplate,\n",
    "    AIMessagePromptTemplate,\n",
    "    HumanMessagePromptTemplate,\n",
    ")\n",
    "from langchain.schema import AIMessage, HumanMessage, SystemMessage"
   ]
  },
  {
   "cell_type": "code",
   "execution_count": 224,
   "metadata": {},
   "outputs": [],
   "source": [
    "def concat_string_with_dicts(string, dict_list):\n",
    "    result = string\n",
    "    for dictionary in dict_list:\n",
    "        dict_str = \", \".join([f\"{key}: {value}\" for key, value in dictionary.items()])\n",
    "        result += \" {\" + dict_str + \"},\"\n",
    "    return result.rstrip(',')  # Remove trailing comma\n",
    "\n",
    "def format_dicts_to_string(data_list):\n",
    "    formatted_strings = []\n",
    "    \n",
    "    for data in data_list:\n",
    "        formatted_string =  '''\"measurment\": \"{measurment}\", \"unit\": \"{unit}\", \"value\": \"{value}\"'''.format(**data)\n",
    "        formatted_strings.append(formatted_string)\n",
    "    \n",
    "    result =  ',\\n'.join(formatted_strings) \n",
    "    return result"
   ]
  },
  {
   "cell_type": "code",
   "execution_count": 236,
   "metadata": {},
   "outputs": [],
   "source": [
    "import json\n",
    "\n",
    "def build_few_shots_prombt(prombt, examples):\n",
    "    \n",
    "    system_message = \"You are a helpful assistant you extract measurments from research patent.\"\n",
    "    system_message_prompt = SystemMessagePromptTemplate.from_template(system_message)\n",
    "\n",
    "    first_message = HumanMessagePromptTemplate.from_template(prombt)\n",
    "    \n",
    "    final_prombt = [system_message_prompt, first_message]\n",
    "    for example in examples:\n",
    "        final_prombt.append(HumanMessagePromptTemplate.from_template(f\"text: '''{example['text']}'''\"))\n",
    "        final_prombt.append(AIMessagePromptTemplate.from_template(format_dicts_to_string(example['measurments'])))\n",
    "    \n",
    "    final_prombt.append(HumanMessagePromptTemplate.from_template(\"\\nOutput format:{output_format}:\\n '''{input_text}'''\"))\n",
    "        \n",
    "    return ChatPromptTemplate.from_messages(final_prombt)"
   ]
  },
  {
   "cell_type": "code",
   "execution_count": 237,
   "metadata": {},
   "outputs": [
    {
     "name": "stdout",
     "output_type": "stream",
     "text": [
      "\"measurment\": \"ceria crystallite size\", \"unit\": \"nm\", \"value\": \"10 to 20\",\n",
      "\"measurment\": \"alkaline earth oxides crystallite size\", \"unit\": \"nm\", \"value\": \"20 to 40\",\n",
      "\"measurment\": \"composite particles BET surface area\", \"unit\": \"m/g\", \"value\": \"30 to 80\"\n"
     ]
    },
    {
     "ename": "JSONDecodeError",
     "evalue": "Expecting ',' delimiter: line 1 column 14 (char 13)",
     "output_type": "error",
     "traceback": [
      "\u001b[1;31m---------------------------------------------------------------------------\u001b[0m",
      "\u001b[1;31mJSONDecodeError\u001b[0m                           Traceback (most recent call last)",
      "Cell \u001b[1;32mIn[237], line 3\u001b[0m\n\u001b[0;32m      1\u001b[0m ms_dic \u001b[38;5;241m=\u001b[39m format_dicts_to_string(mes)\n\u001b[0;32m      2\u001b[0m \u001b[38;5;28mprint\u001b[39m(ms_dic)\n\u001b[1;32m----> 3\u001b[0m json\u001b[38;5;241m.\u001b[39mloads(\u001b[38;5;124m'\u001b[39m\u001b[38;5;124m[\u001b[39m\u001b[38;5;124m'\u001b[39m\u001b[38;5;241m+\u001b[39mms_dic\u001b[38;5;241m+\u001b[39m\u001b[38;5;124m'\u001b[39m\u001b[38;5;124m]\u001b[39m\u001b[38;5;124m'\u001b[39m)\n",
      "File \u001b[1;32m~\\anaconda3\\envs\\langchain\\Lib\\json\\__init__.py:346\u001b[0m, in \u001b[0;36mloads\u001b[1;34m(s, cls, object_hook, parse_float, parse_int, parse_constant, object_pairs_hook, **kw)\u001b[0m\n\u001b[0;32m    341\u001b[0m     s \u001b[38;5;241m=\u001b[39m s\u001b[38;5;241m.\u001b[39mdecode(detect_encoding(s), \u001b[38;5;124m'\u001b[39m\u001b[38;5;124msurrogatepass\u001b[39m\u001b[38;5;124m'\u001b[39m)\n\u001b[0;32m    343\u001b[0m \u001b[38;5;28;01mif\u001b[39;00m (\u001b[38;5;28mcls\u001b[39m \u001b[38;5;129;01mis\u001b[39;00m \u001b[38;5;28;01mNone\u001b[39;00m \u001b[38;5;129;01mand\u001b[39;00m object_hook \u001b[38;5;129;01mis\u001b[39;00m \u001b[38;5;28;01mNone\u001b[39;00m \u001b[38;5;129;01mand\u001b[39;00m\n\u001b[0;32m    344\u001b[0m         parse_int \u001b[38;5;129;01mis\u001b[39;00m \u001b[38;5;28;01mNone\u001b[39;00m \u001b[38;5;129;01mand\u001b[39;00m parse_float \u001b[38;5;129;01mis\u001b[39;00m \u001b[38;5;28;01mNone\u001b[39;00m \u001b[38;5;129;01mand\u001b[39;00m\n\u001b[0;32m    345\u001b[0m         parse_constant \u001b[38;5;129;01mis\u001b[39;00m \u001b[38;5;28;01mNone\u001b[39;00m \u001b[38;5;129;01mand\u001b[39;00m object_pairs_hook \u001b[38;5;129;01mis\u001b[39;00m \u001b[38;5;28;01mNone\u001b[39;00m \u001b[38;5;129;01mand\u001b[39;00m \u001b[38;5;129;01mnot\u001b[39;00m kw):\n\u001b[1;32m--> 346\u001b[0m     \u001b[38;5;28;01mreturn\u001b[39;00m _default_decoder\u001b[38;5;241m.\u001b[39mdecode(s)\n\u001b[0;32m    347\u001b[0m \u001b[38;5;28;01mif\u001b[39;00m \u001b[38;5;28mcls\u001b[39m \u001b[38;5;129;01mis\u001b[39;00m \u001b[38;5;28;01mNone\u001b[39;00m:\n\u001b[0;32m    348\u001b[0m     \u001b[38;5;28mcls\u001b[39m \u001b[38;5;241m=\u001b[39m JSONDecoder\n",
      "File \u001b[1;32m~\\anaconda3\\envs\\langchain\\Lib\\json\\decoder.py:337\u001b[0m, in \u001b[0;36mJSONDecoder.decode\u001b[1;34m(self, s, _w)\u001b[0m\n\u001b[0;32m    332\u001b[0m \u001b[38;5;28;01mdef\u001b[39;00m \u001b[38;5;21mdecode\u001b[39m(\u001b[38;5;28mself\u001b[39m, s, _w\u001b[38;5;241m=\u001b[39mWHITESPACE\u001b[38;5;241m.\u001b[39mmatch):\n\u001b[0;32m    333\u001b[0m     \u001b[38;5;124;03m\"\"\"Return the Python representation of ``s`` (a ``str`` instance\u001b[39;00m\n\u001b[0;32m    334\u001b[0m \u001b[38;5;124;03m    containing a JSON document).\u001b[39;00m\n\u001b[0;32m    335\u001b[0m \n\u001b[0;32m    336\u001b[0m \u001b[38;5;124;03m    \"\"\"\u001b[39;00m\n\u001b[1;32m--> 337\u001b[0m     obj, end \u001b[38;5;241m=\u001b[39m \u001b[38;5;28mself\u001b[39m\u001b[38;5;241m.\u001b[39mraw_decode(s, idx\u001b[38;5;241m=\u001b[39m_w(s, \u001b[38;5;241m0\u001b[39m)\u001b[38;5;241m.\u001b[39mend())\n\u001b[0;32m    338\u001b[0m     end \u001b[38;5;241m=\u001b[39m _w(s, end)\u001b[38;5;241m.\u001b[39mend()\n\u001b[0;32m    339\u001b[0m     \u001b[38;5;28;01mif\u001b[39;00m end \u001b[38;5;241m!=\u001b[39m \u001b[38;5;28mlen\u001b[39m(s):\n",
      "File \u001b[1;32m~\\anaconda3\\envs\\langchain\\Lib\\json\\decoder.py:353\u001b[0m, in \u001b[0;36mJSONDecoder.raw_decode\u001b[1;34m(self, s, idx)\u001b[0m\n\u001b[0;32m    344\u001b[0m \u001b[38;5;124;03m\"\"\"Decode a JSON document from ``s`` (a ``str`` beginning with\u001b[39;00m\n\u001b[0;32m    345\u001b[0m \u001b[38;5;124;03ma JSON document) and return a 2-tuple of the Python\u001b[39;00m\n\u001b[0;32m    346\u001b[0m \u001b[38;5;124;03mrepresentation and the index in ``s`` where the document ended.\u001b[39;00m\n\u001b[1;32m   (...)\u001b[0m\n\u001b[0;32m    350\u001b[0m \n\u001b[0;32m    351\u001b[0m \u001b[38;5;124;03m\"\"\"\u001b[39;00m\n\u001b[0;32m    352\u001b[0m \u001b[38;5;28;01mtry\u001b[39;00m:\n\u001b[1;32m--> 353\u001b[0m     obj, end \u001b[38;5;241m=\u001b[39m \u001b[38;5;28mself\u001b[39m\u001b[38;5;241m.\u001b[39mscan_once(s, idx)\n\u001b[0;32m    354\u001b[0m \u001b[38;5;28;01mexcept\u001b[39;00m \u001b[38;5;167;01mStopIteration\u001b[39;00m \u001b[38;5;28;01mas\u001b[39;00m err:\n\u001b[0;32m    355\u001b[0m     \u001b[38;5;28;01mraise\u001b[39;00m JSONDecodeError(\u001b[38;5;124m\"\u001b[39m\u001b[38;5;124mExpecting value\u001b[39m\u001b[38;5;124m\"\u001b[39m, s, err\u001b[38;5;241m.\u001b[39mvalue) \u001b[38;5;28;01mfrom\u001b[39;00m \u001b[38;5;28mNone\u001b[39m\n",
      "\u001b[1;31mJSONDecodeError\u001b[0m: Expecting ',' delimiter: line 1 column 14 (char 13)"
     ]
    }
   ],
   "source": [
    "ms_dic = format_dicts_to_string(mes)\n",
    "print(ms_dic)\n",
    "json.loads('['+ms_dic+']')\n"
   ]
  },
  {
   "cell_type": "code",
   "execution_count": 220,
   "metadata": {},
   "outputs": [
    {
     "data": {
      "text/plain": [
       "'[{\"measurment\": \"ceria crystallite size\", \"unit\": \"nm\", \"value\": \"10 to 20\"}, {\"measurment\": \"alkaline earth oxides crystallite size\", \"unit\": \"nm\", \"value\": \"20 to 40\"}, {\"measurment\": \"composite particles BET surface area\", \"unit\": \"m/g\", \"value\": \"30 to 80\"}]'"
      ]
     },
     "execution_count": 220,
     "metadata": {},
     "output_type": "execute_result"
    }
   ],
   "source": [
    "json.dumps(mes)"
   ]
  },
  {
   "cell_type": "code",
   "execution_count": 238,
   "metadata": {},
   "outputs": [
    {
     "name": "stdout",
     "output_type": "stream",
     "text": [
      "input_variables=['input_text', 'output_format'] output_parser=None partial_variables={} messages=[SystemMessagePromptTemplate(prompt=PromptTemplate(input_variables=[], output_parser=None, partial_variables={}, template='You are a helpful assistant you extract measurments from research patent.', template_format='f-string', validate_template=True), additional_kwargs={}), HumanMessagePromptTemplate(prompt=PromptTemplate(input_variables=[], output_parser=None, partial_variables={}, template='You are given a text from chimestry research patent, extract all the measurments mentinoed in the text.\\nExtract Measurment Details, Unit, Value or Value ranges. \\n\\nYour output should follow JSON format.\\n', template_format='f-string', validate_template=True), additional_kwargs={}), HumanMessagePromptTemplate(prompt=PromptTemplate(input_variables=[], output_parser=None, partial_variables={}, template=\"text: '''According to one embodiment, the nitrogen oxide storage\\n                materials comprise ceria particles having alkaline earth\\n                oxides, for example, baria, Supported on the particles, the\\n                ceria having a crystallite size of between about 10 and 20 nm\\n                and the alkaline earth oxides having a crystallite size of\\n                between about 20 and 40 nm. Other suitable alkaline earth\\n                oxides include oxides of Mg, Sr. and Ca. In certain embodi\\n                ments, the composite particles have a BET surface area of\\n                between about 30 and 80 m/g.'''\", template_format='f-string', validate_template=True), additional_kwargs={}), AIMessagePromptTemplate(prompt=PromptTemplate(input_variables=[], output_parser=None, partial_variables={}, template='\"measurment\": \"ceria crystallite size\", \"unit\": \"nm\", \"value\": \"10 to 20\",\\n\"measurment\": \"alkaline earth oxides crystallite size\", \"unit\": \"nm\", \"value\": \"20 to 40\",\\n\"measurment\": \"composite particles BET surface area\", \"unit\": \"m/g\", \"value\": \"30 to 80\"', template_format='f-string', validate_template=True), additional_kwargs={}), HumanMessagePromptTemplate(prompt=PromptTemplate(input_variables=[], output_parser=None, partial_variables={}, template=\"text: '''Desirably, the refractory metal oxide support will have a\\n    surface area of between about 5 and about 350 m?g, and more\\n    particularly between about 100 and 200 m/g. Typically, the\\n    Support will be present on the coated Substrate in the amount\\n    of about 1.5 to about 7.0 g/in, for example between about 3\\n    and 6 g/in. A suitable support material for the precious metal\\n    is alumina, which may be doped with one or more other\\n    materials. Alumina having a BET surface area of about 200\\n    m/g'''\", template_format='f-string', validate_template=True), additional_kwargs={}), AIMessagePromptTemplate(prompt=PromptTemplate(input_variables=[], output_parser=None, partial_variables={}, template='\"measurment\": \"refractory metal oxide support surface area\", \"unit\": \"m^2/g\", \"value\": \"100 to 200\",\\n\"measurment\": \"coated Substrate support\", \"unit\": \"g/in\", \"value\": \"1.5 to 7.0\",\\n\"measurment\": \"Alumina BET surface area\", \"unit\": \"m/g\", \"value\": \"200\"', template_format='f-string', validate_template=True), additional_kwargs={}), HumanMessagePromptTemplate(prompt=PromptTemplate(input_variables=[], output_parser=None, partial_variables={}, template=\"text: '''In one or more embodiments of the present invention the\\ncatalytic component preferably comprises a precious metal\\ncomponent, i.e., a platinum group metal component. Suitable\\nprecious metal components include platinum, palladium,\\nrhodium and mixtures thereof. The catalytic component will\\ntypically be present in an amount of about 20 to about 200\\ng/ft, more specifically, about 60 to 120 g/ft.'''\", template_format='f-string', validate_template=True), additional_kwargs={}), AIMessagePromptTemplate(prompt=PromptTemplate(input_variables=[], output_parser=None, partial_variables={}, template='\"measurment\": \"catalytic component\", \"unit\": \"g/ft\", \"value\": \"60 to 120\"', template_format='f-string', validate_template=True), additional_kwargs={}), HumanMessagePromptTemplate(prompt=PromptTemplate(input_variables=[], output_parser=None, partial_variables={}, template=\"text: '''BaCO, and CeO, were intimately mixed and finely dis\\npersed in a weight ratio of between about 1:3 and about 1:5.\\nCerium oxide having a BET surface area of between about\\n50-150 m/g was mixed with a solution of barium acetate\\nsuch that the BaCO/CeO composite had a BaCO3 content\\nof about 10-30 wt %. After mixing, the suspension of soluble\\nbarium acetate and CeO2 was then spray-dried at a tempera\\nture of between about 90° C. and 120° C. to obtain a solid\\nmixture of barium acetate and ceria.'''\", template_format='f-string', validate_template=True), additional_kwargs={}), AIMessagePromptTemplate(prompt=PromptTemplate(input_variables=[], output_parser=None, partial_variables={}, template='\"measurment\": \"BaCO and CeO weight ratio\", \"unit\": \"weight ratio\", \"value\": \"1:3 to 1:5\",\\n\"measurment\": \"Cerium oxide surface area\", \"unit\": \"m/g\", \"value\": \"50 to 150\",\\n\"measurment\": \"BaCO3 content in BaCO/CeO composite\", \"unit\": \"wt\", \"value\": \"10 to 30\"', template_format='f-string', validate_template=True), additional_kwargs={}), HumanMessagePromptTemplate(prompt=PromptTemplate(input_variables=[], output_parser=None, partial_variables={}, template=\"text: '''According to the data in Tables I and II, an as-prepared BET\\nsurface area between 40-60 m/g and a ceria crystal size\\nbetween about 10- and 20 nm and a BaCO crystallite size of\\nbetween about 20- and 40 nm yielded the best performance\\nafter aging.'''\", template_format='f-string', validate_template=True), additional_kwargs={}), AIMessagePromptTemplate(prompt=PromptTemplate(input_variables=[], output_parser=None, partial_variables={}, template='\"measurment\": \"BET surface area\", \"unit\": \"m/g\", \"value\": \"between 40-60\",\\n\"measurment\": \"ceria crystal size\", \"unit\": \"nm\", \"value\": \"between about 10- and 20\",\\n\"measurment\": \"BaCO crystallite size\", \"unit\": \"nm\", \"value\": \"between about 20- and 40\"', template_format='f-string', validate_template=True), additional_kwargs={}), HumanMessagePromptTemplate(prompt=PromptTemplate(input_variables=[], output_parser=None, partial_variables={}, template=\"text: '''The method of claim 1, wherein the nitrogen oxide\\nstorage material has a surface area between about 30 and 80 m^2/g.'''\", template_format='f-string', validate_template=True), additional_kwargs={}), AIMessagePromptTemplate(prompt=PromptTemplate(input_variables=[], output_parser=None, partial_variables={}, template='\"measurment\": \"nitrogen oxide surface area\", \"unit\": \"m^2/g\", \"value\": \"30 and 80\"', template_format='f-string', validate_template=True), additional_kwargs={}), HumanMessagePromptTemplate(prompt=PromptTemplate(input_variables=[], output_parser=None, partial_variables={}, template=\"text: '''In a favorite realization the bioproducto is useful for the control of plant fungi. In a materialization of the invention the polypeptide included into the bio-product in the concentration range among 1 to 9 g/ml'''\", template_format='f-string', validate_template=True), additional_kwargs={}), AIMessagePromptTemplate(prompt=PromptTemplate(input_variables=[], output_parser=None, partial_variables={}, template='\"measurment\": \"polypeptide concentration\", \"unit\": \"g/ml\", \"value\": \"1 to 9\"', template_format='f-string', validate_template=True), additional_kwargs={}), HumanMessagePromptTemplate(prompt=PromptTemplate(input_variables=['input_text', 'output_format'], output_parser=None, partial_variables={}, template=\"\\nOutput format:{output_format}:\\n '''{input_text}'''\", template_format='f-string', validate_template=True), additional_kwargs={})]\n"
     ]
    }
   ],
   "source": [
    "input_text = \"\"\"In one or more embodiments of the present invention the\n",
    "catalytic component preferably comprises a precious metal\n",
    "component, i.e., a platinum group metal component. Suitable\n",
    "precious metal components include platinum, palladium,\n",
    "rhodium and mixtures thereof. The catalytic component will\n",
    "typically be present in an amount of about 20 to about 200\n",
    "g/ft, more specifically, about 60 to 120 g/ft.\"\"\"\n",
    "print(build_few_shots_prombt(prompt_example_1, evaluation_data_json))"
   ]
  },
  {
   "cell_type": "code",
   "execution_count": 239,
   "metadata": {},
   "outputs": [],
   "source": [
    "# chat = ChatOpenAI(engine='gpt-35-turbo')\n",
    "\n",
    "openai.api_key = os.getenv(\"AZURE_OPENAI_KEY\")\n",
    "openai.api_base = os.getenv(\"AZURE_OPENAI_ENDPOINT\") # your endpoint should look like the following https://YOUR_RESOURCE_NAME.openai.azure.com/\n",
    "openai.api_type = 'azure'\n",
    "openai.api_version = '2023-05-15' # this may change in the future\n",
    "\n",
    "deployment_name='Omar Challange' #This will correspond to the custom name you chose for your deployment when you deployed a model. \n",
    "\n",
    "#\n",
    "\n",
    "BASE_URL = os.getenv(\"AZURE_OPENAI_ENDPOINT\")\n",
    "API_KEY = os.getenv(\"AZURE_OPENAI_KEY\")\n",
    "DEPLOYMENT_NAME = 'gpt-35-turbo'\n",
    "chat = AzureChatOpenAI(\n",
    "    openai_api_base=BASE_URL,\n",
    "    openai_api_version=\"2023-03-15-preview\",\n",
    "    deployment_name=DEPLOYMENT_NAME,\n",
    "    openai_api_key=API_KEY,\n",
    "    openai_api_type=\"azure\",\n",
    ")"
   ]
  },
  {
   "cell_type": "code",
   "execution_count": 248,
   "metadata": {},
   "outputs": [
    {
     "data": {
      "text/plain": [
       "'You are given a text from chimestry research patent, extract all the measurments mentinoed in the text.\\nExtract Measurment Details, Unit, Value or Value ranges. \\n\\nYour output should follow JSON format.\\n'"
      ]
     },
     "execution_count": 248,
     "metadata": {},
     "output_type": "execute_result"
    }
   ],
   "source": []
  },
  {
   "cell_type": "code",
   "execution_count": 245,
   "metadata": {},
   "outputs": [],
   "source": [
    "chat_prompt = build_few_shots_prombt(prompt_example_1, evaluation_data_json[0:2])\n",
    "\n",
    "chain = LLMChain(llm=chat, prompt=chat_prompt)\n",
    "# get a chat completion from the formatted messages\n"
   ]
  },
  {
   "cell_type": "code",
   "execution_count": 256,
   "metadata": {},
   "outputs": [
    {
     "data": {
      "text/plain": [
       "'You are given a text from chimestry research patent, extract all the measurments mentinoed in the text.\\nExtract Measurment Details, Unit, Value or Value ranges. \\n\\nYour output should follow JSON format.\\n'"
      ]
     },
     "execution_count": 256,
     "metadata": {},
     "output_type": "execute_result"
    }
   ],
   "source": [
    "prompt_example_1"
   ]
  },
  {
   "cell_type": "code",
   "execution_count": 257,
   "metadata": {},
   "outputs": [
    {
     "data": {
      "text/plain": [
       "47"
      ]
     },
     "execution_count": 257,
     "metadata": {},
     "output_type": "execute_result"
    }
   ],
   "source": [
    "chat.get_num_tokens(prompt_example_1)"
   ]
  },
  {
   "cell_type": "code",
   "execution_count": 246,
   "metadata": {},
   "outputs": [
    {
     "data": {
      "text/plain": [
       "ChatPromptTemplate(input_variables=['input_text', 'output_format'], output_parser=None, partial_variables={}, messages=[SystemMessagePromptTemplate(prompt=PromptTemplate(input_variables=[], output_parser=None, partial_variables={}, template='You are a helpful assistant you extract measurments from research patent.', template_format='f-string', validate_template=True), additional_kwargs={}), HumanMessagePromptTemplate(prompt=PromptTemplate(input_variables=[], output_parser=None, partial_variables={}, template='You are given a text from chimestry research patent, extract all the measurments mentinoed in the text.\\nExtract Measurment Details, Unit, Value or Value ranges. \\n\\nYour output should follow JSON format.\\n', template_format='f-string', validate_template=True), additional_kwargs={}), HumanMessagePromptTemplate(prompt=PromptTemplate(input_variables=[], output_parser=None, partial_variables={}, template=\"text: '''According to one embodiment, the nitrogen oxide storage\\n                materials comprise ceria particles having alkaline earth\\n                oxides, for example, baria, Supported on the particles, the\\n                ceria having a crystallite size of between about 10 and 20 nm\\n                and the alkaline earth oxides having a crystallite size of\\n                between about 20 and 40 nm. Other suitable alkaline earth\\n                oxides include oxides of Mg, Sr. and Ca. In certain embodi\\n                ments, the composite particles have a BET surface area of\\n                between about 30 and 80 m/g.'''\", template_format='f-string', validate_template=True), additional_kwargs={}), AIMessagePromptTemplate(prompt=PromptTemplate(input_variables=[], output_parser=None, partial_variables={}, template='\"measurment\": \"ceria crystallite size\", \"unit\": \"nm\", \"value\": \"10 to 20\",\\n\"measurment\": \"alkaline earth oxides crystallite size\", \"unit\": \"nm\", \"value\": \"20 to 40\",\\n\"measurment\": \"composite particles BET surface area\", \"unit\": \"m/g\", \"value\": \"30 to 80\"', template_format='f-string', validate_template=True), additional_kwargs={}), HumanMessagePromptTemplate(prompt=PromptTemplate(input_variables=[], output_parser=None, partial_variables={}, template=\"text: '''Desirably, the refractory metal oxide support will have a\\n    surface area of between about 5 and about 350 m?g, and more\\n    particularly between about 100 and 200 m/g. Typically, the\\n    Support will be present on the coated Substrate in the amount\\n    of about 1.5 to about 7.0 g/in, for example between about 3\\n    and 6 g/in. A suitable support material for the precious metal\\n    is alumina, which may be doped with one or more other\\n    materials. Alumina having a BET surface area of about 200\\n    m/g'''\", template_format='f-string', validate_template=True), additional_kwargs={}), AIMessagePromptTemplate(prompt=PromptTemplate(input_variables=[], output_parser=None, partial_variables={}, template='\"measurment\": \"refractory metal oxide support surface area\", \"unit\": \"m^2/g\", \"value\": \"100 to 200\",\\n\"measurment\": \"coated Substrate support\", \"unit\": \"g/in\", \"value\": \"1.5 to 7.0\",\\n\"measurment\": \"Alumina BET surface area\", \"unit\": \"m/g\", \"value\": \"200\"', template_format='f-string', validate_template=True), additional_kwargs={}), HumanMessagePromptTemplate(prompt=PromptTemplate(input_variables=['input_text', 'output_format'], output_parser=None, partial_variables={}, template=\"\\nOutput format:{output_format}:\\n '''{input_text}'''\", template_format='f-string', validate_template=True), additional_kwargs={})])"
      ]
     },
     "execution_count": 246,
     "metadata": {},
     "output_type": "execute_result"
    }
   ],
   "source": [
    "chat_prompt"
   ]
  },
  {
   "cell_type": "code",
   "execution_count": 136,
   "metadata": {},
   "outputs": [],
   "source": [
    "result = chain.run(input_text=input_text, output_format=output_format)"
   ]
  },
  {
   "cell_type": "code",
   "execution_count": 137,
   "metadata": {},
   "outputs": [
    {
     "data": {
      "text/plain": [
       "'measurment: catalytic component amount, unit: g/ft, value: 20 to 200\\nmeasurment: catalytic component amount, unit: g/ft, value: 60 to 120'"
      ]
     },
     "execution_count": 137,
     "metadata": {},
     "output_type": "execute_result"
    }
   ],
   "source": [
    "result"
   ]
  },
  {
   "cell_type": "code",
   "execution_count": 247,
   "metadata": {},
   "outputs": [
    {
     "data": {
      "text/plain": [
       "'[{\"measurment\": \"catalytic component amount\", \"unit\": \"g/ft\", \"value\": \"20 to 200\"},\\n{\"measurment\": \"catalytic component amount\", \"unit\": \"g/ft\", \"value\": \"60 to 120\"}]'"
      ]
     },
     "execution_count": 247,
     "metadata": {},
     "output_type": "execute_result"
    }
   ],
   "source": [
    "result = chain.run(input_text=input_text, output_format=output_format)\n",
    "result"
   ]
  },
  {
   "cell_type": "markdown",
   "metadata": {},
   "source": [
    "## output parser "
   ]
  },
  {
   "cell_type": "code",
   "execution_count": 209,
   "metadata": {},
   "outputs": [],
   "source": [
    "from langchain.output_parsers import PydanticOutputParser\n",
    "from pydantic import BaseModel, Field, validator\n",
    "from typing import List"
   ]
  },
  {
   "cell_type": "code",
   "execution_count": 233,
   "metadata": {},
   "outputs": [],
   "source": [
    "# Define your desired data structure.\n",
    "class Measurments(BaseModel):\n",
    "    measurments: List[dict] = Field(description=\"list of measurments found in text\")\n",
    "\n",
    "\n",
    "\n",
    "# Set up a parser + inject instructions into the prompt template.\n",
    "parser = PydanticOutputParser(pydantic_object=Measurments)\n",
    "\n",
    "# prompt = PromptTemplate(\n",
    "#     template=\"Answer the user query.\\n{format_instructions}\\n{query}\\n\",\n",
    "#     input_variables=[\"query\"],\n",
    "#     partial_variables={\"format_instructions\": parser.get_format_instructions()},\n",
    "# )\n",
    "\n",
    "# _input = prompt.format_prompt(query=joke_query)\n",
    "\n",
    "# output = model(_input.to_string())\n",
    "\n",
    "# parser.parse(output)"
   ]
  },
  {
   "cell_type": "code",
   "execution_count": 234,
   "metadata": {},
   "outputs": [
    {
     "data": {
      "text/plain": [
       "'The output should be formatted as a JSON instance that conforms to the JSON schema below.\\n\\nAs an example, for the schema {\"properties\": {\"foo\": {\"title\": \"Foo\", \"description\": \"a list of strings\", \"type\": \"array\", \"items\": {\"type\": \"string\"}}}, \"required\": [\"foo\"]}}\\nthe object {\"foo\": [\"bar\", \"baz\"]} is a well-formatted instance of the schema. The object {\"properties\": {\"foo\": [\"bar\", \"baz\"]}} is not well-formatted.\\n\\nHere is the output schema:\\n```\\n{\"properties\": {\"measurments\": {\"title\": \"Measurments\", \"description\": \"list of measurments found in text\", \"type\": \"array\", \"items\": {\"type\": \"object\"}}}, \"required\": [\"measurments\"]}\\n```'"
      ]
     },
     "execution_count": 234,
     "metadata": {},
     "output_type": "execute_result"
    }
   ],
   "source": [
    "parser.get_format_instructions()"
   ]
  },
  {
   "cell_type": "markdown",
   "metadata": {},
   "source": [
    "## Let's try by sendin a file "
   ]
  },
  {
   "cell_type": "code",
   "execution_count": 141,
   "metadata": {},
   "outputs": [
    {
     "data": {
      "text/plain": [
       "[Document(page_content='U\\n presence of excess oxygen. In this case, the catalyst/NOX \\n sorbent is effective for storing NOx. As in the case of the gasoline partial lean burn application, after the NOX storage \\n mode, a transient rich condition must be utilized to releasef \\n reduce the stored NOx to nitrogen. In the case of the diesel engine, this transient reducing condition will require unique \\n engine calibration or injection of a diesel fuel into the exhaust \\n to create the next reducing environment. \\n NOX storage (sorbent) components including alkaline \\n earth metal oxides, such as oxides of Mg, Ca,Srand Ba, alkali \\n metal oxides such as oxides of Li, Na, K, Rb and Cs, and rare \\n earth metal oxides such as oxides of Ce, La, Pr and Nd in \\n combination with precious metal catalysts such as platinum \\n dispersed on an alumina Support have been used in the puri \\n fication of exhaust gas from an internal combustion engine. \\n For NOx storage, baria is usually preferred because it forms \\n nitrates at lean engine operation and releases the nitrates \\n relatively easily under rich conditions. However, catalysts \\n that use baria for NOx storage exhibit a problem in practical application, particularly when the catalysts are aged by expo \\n Sure to high temperatures and lean operating conditions. After \\n Such exposure, such catalysts show a marked decrease in \\n catalytic activity for NOx reduction, particularly at low tem \\n perature (200 to 350Â° C.) and high temperature (450Â° C. to \\n 600Â° C.) operating conditions. In addition, NOx absorbents \\n that include baria suffer from the disadvantage that when exposed to temperatures above 450Â° C. in the presence of \\n CO, barium carbonate forms, which becomes more stable \\n than barium nitrate. Furthermore, barium tends to sinter and to form composite compounds with Support materials, which \\n leads to the loss of NOx storage capacity. \\n NOX storage materials comprising barium fixed to ceria \\n particles have been reported, and these NOx materials have exhibited improved thermal aging properties compared to the \\n catalyst materials described above. Despite these improve \\n ments, there is an ongoing need to improve the performance \\n of NOx storage materials, particularly the ability of these \\n materials to operate over a wide temperature range and to operate effectively after exposure to high temperature. It is \\n also desirable to improve the kinetics of NOx oxidation (re quired in advance of NOx storage) and the kinetics of NOx reduction (required following NOx release). Thus, there is a \\n need to provide improved NOx storage materials and meth \\n ods for their manufacture. \\n SUMMARY OF THE INVENTION \\n Aspects of the invention include nitrogen oxide storage \\n materials, catalytic traps for the abatement of nitrogen oxide, methods for manufacturing both the nitrogen oxide storage \\n materials and the catalytic traps for the abatement of nitrogen \\n oxides, and methods of abating nitrogen oxide in an exhaust \\n gas Stream. According to one embodiment, the nitrogen oxide storage materials comprise ceria particles having alkaline earth \\n oxides, for example, baria, Supported on the particles, the \\n ceria having a crystallite size of between about 10 and 20 nm and the alkaline earth oxides having a crystallite size of \\n between about 20 and 40 nm. Other suitable alkaline earth \\n oxides include oxides of Mg, Sr. and Ca. In certain embodi ments, the composite particles have a BET surface area of between about 30 and 80 m/g. In another embodiment, a nitrogen oxide storage catalyst is provided comprising a coat \\n ing on a Substrate, the coating comprising a nitrogen oxide storage material comprising spray-dried ceria particles hav \\n ing baria Supported on the particles. US 8,022,010 B2 \\n 3 \\n In certain embodiments, the coating of the nitrogen oxide \\n storage catalyst further comprises at least one member of \\n platinum group metals selected from the group consisting of \\n platinum, palladium, rhodium, iridium and mixtures thereof supported on refractory oxide particles. The refractory oxide \\n particles may be selected from the group consisting of alumi \\n num oxide, mixed aluminum oxide and Zirconium oxide, \\n mixed aluminum oxide and lanthanum oxide, mixed alumi \\n num oxide and cerium oxide, mixed aluminum oxide and \\n magnesium oxide, and alumina oxide mixed with one or more \\n of Zirconia and lanthana. \\n Another embodiment relates to a catalytic trap disposed in \\n an exhaust passage of an internal combustion engine which \\n operates periodically between lean and stoichiometric or rich \\n conditions, for abatement of NOX in an exhaust gas stream which is generated by the engine. The catalytic trap com prises a catalytic trap material including a precious metal \\n catalytic component effective for oxidizing NO to NO under \\n lean conditions and promoting the reduction of released NOx to nitrogen under Stoichiometric or rich conditions Supported \\n on a refractory metal oxide, and a NOX storage material \\n effective for adsorbing the NOx under lean conditions and \\n desorbing the NOx under stoichiometric or rich conditions, the NOX storage material comprising particles of ceria having \\n alkaline earth carbonate Supported on the ceria particles, hav \\n ing a crystallite size of between about 10 and 20 nm and the \\n alkaline earth oxide having a crystallite size of between about 20 and 40 nm, and the catalytic trap material being disposed \\n on a refractory carrier member. Still another embodiment relates to a method of making a nitrogen oxide storage mate rial comprising mixing a solution of barium with ceria par ticles, spray drying the particles, heating the spray-dried par \\n ticles, mixing the composite particles with a precious metal Supported catalyst and coating the slurry mixture of particles \\n on a Substrate. \\n BRIEF DESCRIPTION OF THE DRAWINGS \\n FIG. 1 is a graph showing the nitrogen oxide conversion \\n efficiency of a catalyst in accordance with an embodiment of the invention and a comparative reference catalyst; FIG. 2 is a graph comparing the nitrogen oxide storage capacity of various catalysts; \\n FIG. 3 is a graph comparing the nitrogen oxide storage capacity of catalysts; \\n FIG. 4 is a graph comparing the nitrogen oxide storage capacity of two catalysts; \\n FIG. 5 is a graph comparing the nitrogen oxide storage \\n capacity of two catalysts; and \\n FIG. 6 is a SEM image of the spray dried and calcined \\n BaCO/CeO composite material. \\n DETAILED DESCRIPTION OF THE INVENTION \\n Before describing several exemplary embodiments of the \\n invention, it is to be understood that the invention is not \\n limited to the details of construction or process steps set forth in the following description. The invention is capable of other \\n embodiments and of being practiced or being carried out in \\n various ways. \\n In one embodiment of the invention, a spray-dried NOx \\n storage material comprising alkaline earth carbonate or mix \\n tures of carbonates, for example, BaCO, or mixtures of BaCO and MgCO supported on CeO particles is provided. \\n According to one or more embodiments of the invention, Ba sintering and Ba composite compound formation is reduced \\n under the conditions of thermal stress in an exhaust gas of a 5 \\n 10 \\n 15 \\n 25 \\n 30 \\n 35 \\n 40 \\n 45 \\n 50 \\n 55 \\n 60 \\n 65 4 \\n lean burn engine. The NOX storage material according to \\n embodiments of the present invention demonstrates improved NOX storage capacity after thermal aging when \\n used in a catalytic trap. \\n According other embodiments of the invention, methods of manufacturing NOx storage materials and catalytic traps \\n including these storage materials are provided. Other \\n embodiments of the invention pertain to a catalytic trap for \\n abatement of NOX in an exhaust gas stream which is gener \\n ated by an internal combustion engine which is operated \\n periodically between lean and stoichiometric or rich condi \\n tions. According to one or more embodiments, the catalytic trap comprises a catalytic trap material including a catalytic \\n component effective for promoting the reduction of NOx \\n understoichiometric or rich conditions Supported on a refrac \\n tory metal oxide and a NOx storage material effective for \\n adsorbing the NOX underlean conditions and desorbing and \\n reducing the NOx to nitrogen under stoichiometric or rich \\n conditions, the NOX storage material comprising spray-dried \\n particles of ceria having alkaline earth carbonate, for \\n example, barium carbonate, Supported on the ceria particles, \\n the catalytic trap material being disposed on a refractory \\n carrier member. \\n Embodiments of this invention pertain to a process for \\n abatement of NOX in an exhaust gas stream generated by an \\n internal combustion engine which periodically operates alter \\n nately between lean and stoichiometric or rich conditions, comprising locating the above-described catalytic trap in an \\n exhaust passage of the engine and treating the exhaust gas \\n stream with a catalytic trap whereby at least some of the NOx \\n in the exhaust gas stream is adsorbed by the catalytic trap \\n during the periods of lean conditions and is desorbed from the catalytic trap and reduced to nitrogen during the periods of \\n Stoichiometric or rich conditions. \\n The refractory metal oxide support of the catalytic trap \\n may be porous in nature and has a high Surface area Such as alumina, for example, gamma-alumina. Other Suitable Sup \\n port materials include titania, titania-alumina, Zirconia, Zir \\n conia-alumina, baria-alumina, lanthana-alumina, lanthana \\n Zirconia-alumina titania-Zirconia, and mixtures thereof. \\n Desirably, the refractory metal oxide support will have a surface area of between about 5 and about 350 m?g, and more particularly between about 100 and 200 m/g. Typically, the \\n Support will be present on the coated Substrate in the amount of about 1.5 to about 7.0 g/in, for example between about 3 and 6 g/in. A suitable support material for the precious metal \\n is alumina, which may be doped with one or more other \\n materials. Alumina having a BET surface area of about 200 m/g and doped with 10%-30% ZrO, and 1%-4% Lao pro \\n vided good results. \\n In one or more embodiments of the present invention the catalytic component preferably comprises a precious metal \\n component, i.e., a platinum group metal component. Suitable precious metal components include platinum, palladium, \\n rhodium and mixtures thereof. The catalytic component will \\n typically be present in an amount of about 20 to about 200 g/ft, more specifically, about 60 to 120 g/ft. \\n The NOx storage material employed in the catalytic trap \\n according to embodiments of the present invention comprises a spray-dried NOX storage material comprising BaCO Sup ported on CeO particles. \\n In one or more embodiments, the catalytic trap is disposed \\n on a refractory carrier member. Examples of Such Substrates \\n include, for example, stainless steel, titanium, aluminum Zir \\n conate, aluminum titanate, aluminum phosphate, cordierite, US 8,022,010 B2 \\n 5 \\n mullite and corundum. The carrier member may be employed as a monolithic honeycomb structure, spun fibers, corrugated \\n foils, layered materials, etc. In a gasoline vehicle application, a catalytic device \\n employing a three-way conversion (â€œTWC) catalyst may be \\n used in conjunction with the catalytic trap of the invention. \\n Such a device will be located in an exhaust passage of the internal combustion engine and will be disposed upstream \\n and/or downstream of the catalytic trap. The TWC catalyst would typically include platinum, palladium and rhodium \\n catalytic components dispersed on a high Surface area refrac \\n tory Support and may also contain one or more base metal oxide catalytic components such as oxides of iron, manga \\n nese or nickel. Such catalysts can be stabilized against ther mal degradation by expedients such as impregnating an acti \\n vated alumina Support with one or more rare earth metal oxides, e.g., ceria. Such stabilized catalysts can Sustain very high operating temperatures. For example, if a fuel cut tech \\n nique is utilized, temperatures as high as 1050Â° C. may be \\n Sustained in the catalytic device. If the catalytic device is employed and is located upstream \\n of the catalytic trap of the invention, the catalytic device \\n would be mounted close to the exhaust manifold of the \\n engine. In Such an arrangement, the TWC catalyst would \\n warm up quickly and provide for efficient cold startemission control. Once the engine is warmed up, the TWC catalyst will \\n remove HC, CO and NOx from the exhaust gas stream during stoichiometric or rich operation and HC and CO during lean operation. The catalytic trap of the invention would be posi \\n tioned downstream of the catalytic device where the exhaust gas temperature enables maximum NOX trap efficiency. Dur ing periods of lean engine operation, when NOx passes \\n through the TWC catalyst, NOx is stored on the catalytic trap. \\n The catalytic trap is periodically desorbed and the NOx is \\n reduced to nitrogen under periods of Stoichiometric or rich engine operation. If desired, a catalytic device containing a \\n TWC catalyst may be employed downstream of the catalytic \\n trap of the invention. Such catalytic device will serve to \\n remove further amounts of HC and CO from the exhaust gas stream and, in particular, will provide for efficient reduction \\n of the NOx to nitrogen under periods of stoichiometric or rich engine operation. \\n In a diesel vehicle application, the catalytic NOx-trap \\n according to embodiments of the invention may be used in conjunction with a diesel oxidation catalyst (DOC), and a \\n catalyzed soot filter (CSF); where the DOC and CSF are placed either before or after the catalytic device of this inven \\n tion. In another embodiment of the invention, it is possible to place the NOx-trap catalyst directly onto the filter media. \\n The several components of the catalytic trap material may \\n be applied to the refractory carrier member, i.e., the substrate, \\n as a mixture of two or more components or as individual components in sequential steps in a manner which will be \\n readily apparent to those skilled in the art of catalyst manu facture. A typical method of manufacturing the catalytic trap \\n of the present invention is to provide the catalytic trap mate \\n rial as a coating or layer of washcoat on the walls of the gas-flow passages of a suitable carrier member. This may be accomplished, by impregnating a fine particulate refractory \\n metal oxide Support material, e.g., gamma alumina, with one or more catalytic metal components such as a precious metal, \\n i.e., platinum group, compound or other noble metals or base metals, drying and calcining the impregnated Support par \\n ticles and forming an aqueous slurry of these particles. Spray \\n dried particles of the bulkNOx sorbent may be included in the slurry. Alternatively, the NOx storage material or sorbent may be dispersed into the Support, preferably in an impregnation 10 \\n 15 \\n 25 \\n 30 \\n 35 \\n 40 \\n 45 \\n 50 \\n 55 \\n 60 \\n 65 6 \\n operation, as described below. Activated alumina may be thermally stabilized before the catalytic components are dis \\n persed thereon, as is well known in the art, by impregnating it \\n with, e.g., a Solution of a soluble salt of barium, lanthanum, zirconium, rare earth metal or other suitable stabilizer precur \\n Sor, and thereafter drying (e.g., at 110Â° C. for one hour) and calcining (e.g., at 550Â° C. for one hour) the impregnated \\n activated alumina to form a stabilizing metal oxide dispersed onto the alumina. Base metal catalysts may optionally also \\n have been impregnated into the activated alumina, for example, by impregnating a solution of a base metal nitrate into the alumina particles and calcining to provide a base \\n metal oxide dispersed in the alumina particles. \\n The carrier may then be immersed into the slurry of impregnated activated alumina and excess slurry removed to provide a thin coating of the slurry on the walls of the gas-flow \\n passages of the carrier. The coated carrier is then dried and calcined to provide an adherent coating of the catalytic com ponent and, optionally, the catalytic trap material, to the walls \\n of the passages thereof. The carrier may then be immersed into a slurry offine particles of component of the NOx storage \\n material as a second or overlayer coating deposited over the layer of catalytic component. A magnesium component, e.g., \\n a solution of a magnesium salt Such as magnesium nitrate, \\n acetate, Sulfate, hydroxide, etc., may be combined with the slurry of component of the NOx storage material or it may be applied as a third or overlayer coating deposited over the \\n second layer of the NOx storage material. The carrier is then dried and calcined to provide a finished catalyst trap member \\n in accordance with one embodiment of the present invention. Alternatively, the alumina or other Support particles \\n impregnated with the catalytic component may be mixed with \\n bulk or supported particles of the NOx storage material in an aqueous slurry, and this mixed slurry of catalytic component \\n particles and NOX storage material particles may be applied \\n as a coating to the walls of the gas-flow passages of the carrier. Preferably, however, for improved dispersion of the NOx \\n storage material, the washcoat of catalytic component mate \\n rial, after being dried and calcined, is immersed (post-dipped) into a solution of a component (NOX storage material precur Sor compound (or complex) and a magnesium precursor.com \\n pound (or complex) to impregnate the washcoat with the NOx \\n storage material precursor. The impregnated washcoat is then \\n dried and calcined to provide the NOx storage material dis persed throughout the washcoat. \\n Separate discrete layers of washcoat may be applied in Successive impregnating/drying/calcining operations, e.g., to \\n provide a bottom washcoat layer containing a platinum cata \\n lytic component in a bottom washcoat layer and a palladium \\n and/or rhodium catalytic component in a top washcoat layer. The NOX storage material may be dispersed by impregnation \\n into both the top and bottom layers. \\n In use, the exhaust gas stream which is contacted with the catalytic trap of the present invention is alternately adjusted \\n between lean and Stoichiometric/rich operating conditions so as to provide alternating lean operating periods and stoichio \\n metric/rich operating periods. It will be understood that the \\n exhaust gas stream being treated may be selectively rendered \\n lean or stoichiometric/rich either by adjusting the air-to-fuel ratio fed to the engine generating the exhaust or by periodi \\n cally injecting a reductant into the gas stream upstream of the catalytic trap. For example, the composition of the present \\n invention is well Suited to treat the exhaust of engines, includ ing diesel engines, which continuously run lean. In Such case, \\n in order to establish a stoichiometric/rich operating period, a Suitable reductant, such as fuel, may be periodically sprayed into the exhaust immediately upstream of the catalytic trap of US 8,022,010 B2 \\n 7 \\n the present invention to provide at least local (at the catalytic \\n trap) stoichiometric/rich conditions at selected intervals. Par tial lean-burn engines, such as partial lean-burn gasoline \\n engines, are designed with controls which cause them to \\n operate lean with brief, intermittent rich or stoichiometric \\n conditions. \\n Without intending to limit the invention in any manner, \\n embodiments of the present invention will be more fully described by the following examples. \\n EXAMPLES \\n Example 1 \\n Preparation of NOx Storage Material \\n BaCO, and CeO, were intimately mixed and finely dis \\n persed in a weight ratio of between about 1:3 and about 1:5. \\n Cerium oxide having a BET surface area of between about 50-150 m/g was mixed with a solution of barium acetate \\n such that the BaCO/CeO composite had a BaCO3 content of about 10-30 wt %. After mixing, the suspension of soluble \\n barium acetate and CeO2 was then spray-dried at a tempera \\n ture of between about 90Â° C. and 120Â° C. to obtain a solid \\n mixture of barium acetate and ceria. \\n After spray-drying, the mixture was then heated at about \\n 550Â° C. to 800Â° C. for about 2 hours to form particles of ceria having barium carbonate Supported on the ceria particles. The \\n resulting BaCO3 had a crystallite size of between about 20 \\n and 40 nm. The BaCO and CeO crystallites formed particles \\n with a size of between about 5 and 50 microns. The BET \\n surface area of the particulate mixture is between about 30 and 80 m/g. Preparation of Catalytic Component \\n To provide a fully formulated NOx storage catalyst or \\n catalytic trap as described above, in addition to the manufac \\n ture of barium carbonate Supported onceria, a precious metal can be Supported on a refractory oxide according to the fol \\n lowing description. Pt and Rhare impregnated onto Al-O by an incipient wetness procedure to yield 1.8 weight percent Pt \\n and 0.1 weight percent Rh. Pd is impregnated separately onto \\n alumina to a Pd loading of 1.4 weight percent. \\n A slurry mixture containing about 34 wt % of alumina \\n previously mixed with Pt/Rh, about 9 wt % Pd on alumina, a \\n solution of zirconium acetate with a content of about 3 wt % \\n ZrO, magnesium acetate to yield 9 wt % MgO, and 45 wt % BaCO/CeO, spray-dried powder is milled at pH 6-8 until a \\n particle size of 11 micron (Do) is obtained. Coating of a Substrate \\n Ceramic or metallic honeycomb substrates are coated with the slurry in a dip coating manner and then dried in a dryer and \\n subsequently calcined in a furnace under air at about 450Â° C.-550Â° C. The coating procedure is then repeated until a loading of about 4-6.5 g/in is achieved. The coating on the honeycomb catalyst comprises about 3-30 micron BaCO/ \\n CeO particles and about 1-20 micron alumina particles. \\n BaCO, is fixed within the pores of the ceria particles in such a way that it does not migrate to the alumina particles. It is \\n believed that the contact of BaCO, and alumina would lead to the formation of inactive BaAl2O composite compound for \\n mation upon aging, which has a reduced NOX storage capac ity compared to BaCO. \\n Comparative Example 2 \\n Samples were prepared in accordance with Example 1 \\n above, except that the barium acetate/ceria Solution was not spray dried. 10 \\n 15 \\n 25 \\n 30 \\n 35 \\n 40 \\n 45 \\n 50 \\n 55 \\n 60 \\n 65 8 \\n Example 3 \\n NOx Storage Capacity Testing \\n Two catalytic traps were prepared, a first catalytic trap was prepared in accordance with Example 1 and a comparative catalytic trap was prepared in accordance with Comparative Example 2. Both catalytic traps A were evaluated after aging \\n for 8 hours at 850Â° C. \\n Both catalytic traps were evaluated as follows. An engine \\n was set to an air/fuel ratio of 11.6 for 2 minutes at the desired \\n temperature to remove all stored NOx and oxygen from the catalyst. This mode represents rich engine operation. Subse quently, the engine was adjusted to an air/fuel ratio of 29.6 \\n under constant NOx mass flow. This mode represents lean engine operation. During the whole test, the NOX concentra \\n tion was measured before and after the NOx trap using a NOx analyzer. \\n (1) incissoutlet NO. T NOnassinlet ... 100 \\n X \\n After the 2 minute rich operation followed by a 60 second lean operation, the engine was set to a 3 second rich operation to remove stored NOx without having hydrocarbon and car bon monoxide tailpipe emissions. This 60 sec lean/3 sec rich cycle is repeated 10 times to establish constant catalyst con ditions. For the time period of the 10 lean/rich cycles the NOx efficiency (U) is calculated from the NOx inlet and NOx outlet concentrations via equation (1): NOX storage massing is calculated via equation (2): \\n NOX=NOx concentration (ppm) \\n V=volume flow (m3/h) Videal molar volume (1/mol) at STP M=Molar weight of NO2 (g/mol) \\n dt-time interval(s) After the 10 lean/rich cycles, the engine is operated for 1 minrich to remove the stored NOx completely. Subsequently, \\n the engine is operated under lean condition until no more NOx is stored in the trap. Under these conditions, the overall NOx storage capacity is evaluated. However, to achieve a NOx conversion of greater than 80%, the NOx storage capac ity at high NOx efficiency is decisive. FIG. 1 demonstrates that the NOX storage capacity of catalytic trap prepared in accordance with Example 1 utilizing a spray-drying process exhibited Superior capacity compared to the Comparative \\n reference Example. \\n Example 4 \\n Barium Concentration and Calcination Temperature \\n Different amounts of Ba were impregnated into ceria of different Surface area, using the procedures described in Example 1. Ceria powders with different BET surface areas \\n were used to determine the effect of the resulting Ba/Ceria composite powder. \\n Characterization of the impregnated powder included BET \\n surface area measurement. In addition fully formulated NOx trap catalysts were prepared using the procedures described in Example 1 that contain the particular Ba/Ceria composite material as NOX storage component. The NOX storage prop \\n erties of the catalysts have been evaluated after aging for 8 hours at 850Â° C. under air with 10% HO in a laboratory \\n reactor. The results are shown in Table I and Table II below. \\n Table I shows the result of a variation of the BaCO and CeO concentration together with a variation of the ceria used. After impregnation, all samples were calcined at US 8,022 \\n 9 \\n TABLE I \\n BET BET BaCO \\n Surface BaCeria Crystallite \\n 808 calcined size \\n of 4h As \\n BaCO. CeO2 Ceria CeO2 800Â° C. prepared \\n Sample Wt% wt % (mig) Crystallite (nm) (m?g) (nm) \\n A. 29 71 90 12 13 2O \\n B 29 71 40 18 9 22 \\n C 25 75 66 16 14 21 \\n D 2O 8O 90 12 17 22 \\n E 2O 8O 40 18 13 2O \\n 550Â°C. in air to decompose the impregnated Ba precursor into BaCO3. \\n After 800Â° C. aging, the highest NOx storage activity at \\n 400Â° C. is obtained with sample C, having a medium Ba \\n concentration and a CeO2 material with a medium BET sur face area and crystallinity. A high BET surface area and 25 \\n relative low Ba concentration is especially beneficial for NOx storage at 300Â° C. It is particularly interesting that sample D \\n having the largest BaCO crystallite size after agingyields the \\n best NOx storage at low temperature. In addition, increased Ba concentration resulted in decreased BET surface area and \" \\n increase in CeO crystal size. 0 1 0 B2 9 \\n 10 \\n CeO2 \\n Crystallite \\n size \\n of \\n BaCO Ceria \\n Crystallite in \\n size Bai Ceria NOx NOx \\n Aged, aged Storage at Storage at \\n 4800Â° C. 4800Â° C. 300Â° C. 400Â° C. \\n (nm) (nm) (g/l) (g) \\n 34 28 2.8 2.4 \\n 30 34 1.4 2.0 \\n 32 28 2.6 2.7 \\n 40 27 3.5 1.9 \\n 26 31 2.3 2.4 \\n According to the data in Tables I and II, an as-prepared BET surface area between 40-60 m/g and a ceria crystal size \\n between about 10- and 20 nm and a BaCO crystallite size of between about 20- and 40 nm yielded the best performance after aging. \\n An example of a desirable morphology of spray dried and \\n calcined BaCO/CeO mixture is shown in the SEM image of \\n FIG. 6. FIG. 6 shows about 10-20 nm size CeO crystals agglomerated to particles of about 5-50 microns in size. \\n Adhering to these about 5-50 micron size CeO particles are \\n TABLE II \\n CeO2 \\n crystallite \\n size \\n of \\n BaCO/ CeO2 BET BaCO Ceria \\n BET Ceria crystallite Ba? crystallite in Ba \\n surface calcination BET Ba size BaCO Ceria size Ceria NOx NOx \\n area Temp C. Ceria of Crystallite aged Aged, aged storage storage \\n of (2 h after after Ceria in Ba size 4h 4h 4h at at \\n Sam- BaCO. CeO2 Ceria spray calcination Ceria after 800Â° C. 800Â° C. 800Â° C. 300Â° C. 400Â° C. \\n ple Wt% wt % (mig) drying) (m?g) (nm) calcinations (nm) (mâ€™/g) (nm) (nm) (g) (g/l) \\n F 29 71 2OO 550 66 9 18 17 37 29 2.0 1.7 \\n G 29 71 2OO 6SO S4 10 28 16 40 26 3.5 1.8 \\n H 29 71 2OO 750 21 24 40 16 45 28 2.5 2.7 \\n I 29 71 2OO 850 14 33 37 12 40 32 1.1 1.3 \\n In order to determine an optimum BaCO/CeO compos \\n ite, the Ba/CeO is calcined after Ba impregnation at different temperatures. This is done to decompose the Ba precursor to \\n the carbonate and to conditioning the composite for optimum \\n NOx adsorption capacity. The data in Table II demonstrates \\n that a calcination temperature between 550 and 750Â° C. after \\n impregnation of Ba onto CeO, provided the best results for \\n NOx storage. The samples calcined within this temperature \\n range had higher surface area and exhibited higher NOx \\n storage after aging than a sample calcined at 850Â° C. Further \\n more, a BaCO crystallite size of between about 20-50 nm, for example, 45 nm, and a CeO crystallite size of between \\n about 25-30 nm in combination with a sufficient BET surface \\n area after aging yielded the highest NOx storage at 400Â° C. 55 \\n 60 \\n 65 BaCO particles of about 20-150 nm size. The BaCO par ticles are likely agglomerates of Smaller crystallites. \\n Example 5 \\n Ceria Type and Doping \\n Various types of ceria and doping with different materials \\n were evaluated for effect on BET surface area and decompo \\n sition temperature of the barium carbonate. The decomposi \\n tion temperature is the temperature at which Ba reacts with \\n ceria to form BaCeO. The samples below were prepared by an incipient wetness preparation instead of spray-drying prior \\n to calcination. The results are shown in Table III: US 8,022,010 B2 \\n 12 11 \\n TABLE III \\n BET \\n Surface \\n BET after \\n Surface aging phases observed \\n Decomposition 8S at by XRD after \\n Temperature prepared 950Â° C. thermal treatment Material of BaCO (C.) (mâ€™/g) (m?g) (950Â° C.) \\n A (90% CeO2, 10% 914 13 1.8 BaCeO, CeO2, BaCO \\n La) + 15% Ba \\n C (57% CeO2, 43% 950 44 6 BaCeO, CeO2 \\n Pr) + 15% Ba \\n D (72% CeO2, 28% 770 31 6 BaCeO, CeO2 \\n La) + 15% Ba \\n B (90% CeO2, 10% 945 30 6.6 BaCeO, CeO2, BaCO \\n La) + 15% Ba (Example 5B) \\n E (95% CeO2, 5% 945 25 10 BaCeO, CeO2, BaCO \\n La) + 15% Ba \\n F (90% CeO, 10% 945 30 10 BaCeOs, CeO2, BaCO \\n La) + 15% Ba (Example 5F) \\n G (100% CeO2) + 942 41 13 BaCeO, CeO2, BaCO \\n 5% Bal \\n H (91% CeO2,9% 950 86 16 BaCeO, CeO2 \\n Pr) + 15% Ba \\n According to the data in table III, doping ceria with La or Pr \\n to a level of 10% does not influence the decomposition tem perature of BaCO. Only sample D with 28% La has a much lower temperature of BaCO decomposition while sample C \\n even with 43% of Pr has a high resistance towards reaction \\n with BaCO. The preferred BaCO/CeOfdopandmaterial should have a BET surface area-10 m/g after aging and a high resistance \\n towards reaction to BaCO as shown in table III. \\n Example 6 \\n Precious Metal Support \\n Various alumina supports were evaluated for stability. It \\n was found that the Support material for the precious metal \\n tends to react with BaCO, at a certain temperature. If this temperature for a specific material is reached most or all of the 25 \\n 30 \\n 35 \\n 40 BaCO3 has formed a compound with the support material and \\n this compound has much diminished tendency to adsorb NOx \\n compared to BaCO. \\n The table below shows a list of different support materials \\n derived from ZrO, or Al-O. Materials A and B show higher BaCO decomposition temperature than pure or La, Ba or \\n ZrO doped aluminas. However the surface area of those materials is relatively small compared to other doped or \\n undoped materials. Furthermore, it was found that the higher the Surface area of a material in presence of Ba the higher is the NOX storage capacity of an aged catalyst containing this \\n material. \\n In particular, it was found that ZrO doped aluminas and also La and ZrO doped materials have very thermally stable \\n surface areas in presence of Ba. The preferred alumina should have a BET surface area of 150-250 m/g, a pore volume of 0.3-0.8 ml/g an average pore size of 3-20 nm. \\n TABLE IV \\n BET \\n Surface BET phases \\n Decomposition 8S after observed by \\n Al2O/ZrO2 derived temperature prepared 4h XRD \\n Support + 15% BaC) of BaCO (C.) (mâ€™g) 900Â° C. after thermal treatment \\n A (92% ZrO2, 8% La-O.) 82O 36 BaZrO.s, BaCO, ZrO. \\n B (31% MgO, 69% 830 64 39 MgAl2O, BaAl2O \\n Al2O3) \\n C (20% Ba, 80%. Al-O.) 740 101.3 61 BaCO3, BaAl2O \\n D (4% La, 20% ZrO, 76% 736 96 CeO2, Al-Os. \\n Al2O) BaAl2O4. \\n E (100% Al2O) 765 73.6 67.9 Al-O, ZrO2 \\n F (90%. Al-O + 10% 730 81 73 CeO2, BaAl2O. \\n CeO2) \\n G (30% ZrO2, 70% Al-O.) 740 88 BaAl2O, ZrO2 \\n H (20% Ba, 80% Al-O.) 695 1S6 83 BaAl2O \\n (82% Al-O, 11% CeO2, 720 118 80 Al2O, BaCO \\n 7% ZrO2) \\n (100% Al-O.) 720 116 106 BaAl2O \\n MgAl2O, BaAl2O, \\n K (72% Al-O, 28% Mg) 750 130 1OO BaCO \\n L (90% Al-Os, 10% ZrO2) 700 133.5 BaAl2O, Al2O. \\n M (80% Al-O, 20% 720 133 100 CeO2, Al2O. \\n CeO2) US 8,022,010 B2 \\n TABLE IV-continued \\n BET \\n Surface BET phases \\n Decomposition 8S after observed by \\n Al2O/ZrO, derived temperature prepared 4h XRD \\n support + 15% BaC) of BaCO (C.) (m/g) 900Â° C. after thermal treatment \\n N (80% Al-O, 20% ZrO2) 720 121.7 100.5 Al2O, ZrO2 \\n O (4% La/15%ZrO.) 700 126 BaAl2O, ZrO2, Al2O. \\n P (21% Mg, 10% Zr, 69% 730 142 BaCO, MgAl2O, ZrO2 \\n Al2O3) \\n Q (97% Al2O, 3% La) 720 152 121 Al2O3 \\n R (75% Al-O, 25%ZrO.) 700 135 ZrO2, Al2O, BaCO \\n S (90% Al-O. 10% ZrO2) 700 154 124.1 Al2O3, BaCO3, BaAl2O \\n T (85% Al-O 15% ZrO2) 700 142 ZrO2, Al2O3, BaCO3 \\n U (74.6% Al2O, 0.4% 748 156 132 BaAl2O, Al2O3, ZrO2, \\n La/15% ZrO.) BaCO, \\n Example 7 What is claimed is: \\n 1. A method of making a nitrogen oxide storage material, \\n Optimization of Aged NOx Storage Capacity 20 comprising mixing a solution of barium with ceria, spray \\n Various samples were tested foraged NOX storage capacity \\n for samples aged at 850Â°C. in an oven with 10% steam in air. A sample prepared in accordance with comparative Example \\n 1 having the NOx sorbent samples with BaCO/CeO con \\n centration of sample C in Table I but spray dried and calcined to different surface areas as indicated (Example 7A=41 m/g and Example 7B-52 m/g). In addition, samples and B and F \\n from table III were tested after spray drying with barium, preparing in accordance with Example 1 and aging in a labo \\n ratory reactor. The results shown in FIG. 2 demonstrate the \\n spray dried and calcined material 7B, with a BET surface area of 52 m/g exhibited the highest NOx storage capacity, while \\n the other samples had similar performance. According to \\n these tests, there is no benefit associated with doping ceria \\n with 10% of La. \\n Various samples were tested foraged NOX storage capacity \\n for samples aged at 850Â° C. for 50 hours in an engine at \\n Stoichiometric air fuel ratio. In this case, the evaluation has been done at an engine. Samples prepared in accordance with comparative Example 2 (NOx sorbent prepared by impreg \\n nation), by spray drying and by spray drying with optimized \\n BET surface area were prepared. The results shown in FIG.3 demonstrate the spray-dried sample exhibited Superior results, particularly the sample with optimized BET surface \\n aca. \\n Example 8 \\n The effect of the refractory oxide to support the precious \\n metal component of the catalyst was also tested. Samples N \\n (Example 8A) and O (Example 8B) from Table IV above were \\n prepared into fully formulated catalysts and tested for NOx storage capacity after aging for 50 hours at 850Â° C. under \\n stoichiometric conditions. FIG. 4 shows that the lanthana and \\n zirconia doped sample (Example O) exhibited the best results \\n between 250 and 400Â° C. Similar results were observed for \\n sample N aged 50 hours at 750Â° C. (Example 8C) and sample \\n Oaged 50 hours at 750Â° C. (Example 8D) at a lean air fuel \\n ratio, and these results are shown in FIG. 5. \\n It will be apparent to those skilled in the art that various \\n modifications and variations can be made to the present invention without departing from the spirit or scope of the \\n invention. Thus, it is intended that the present invention cover modifications and variations of this invention provided they come within the scope of the appended claims and their equivalents. 25 \\n 30 \\n 35 \\n 40 \\n 45 \\n 50 \\n 55 \\n 60 \\n 65 drying the solution of barium mixed with ceria to obtain a \\n Solid mixture of barium and ceria, and heating the Solid mix ture to obtain a material comprising ceria particles having \\n barium Supported thereon. \\n 2. The method of claim 1, wherein the ceria has a surface area of between about 50 and about 150 m/g prior to spray drying. \\n 3. The method of claim 1, wherein the solution of barium \\n comprises barium acetate. \\n 4. The method of claim 1, wherein the solution of barium \\n mixed with ceria is spray dried at a temperature of between \\n about 90Â° C. and 120Â° C. \\n 5. The method of claim 1, wherein the solid mixture is \\n heated at a temperature of between about 550Â° C. and 800Â° C. \\n for about 2 hours. \\n 6. The method of claim 1, wherein the barium in the nitro \\n gen oxide storage material includes BaCOs, and the ceria in \\n the nitrogen oxide storage material includes CeO. \\n 7. The method of claim 6, wherein the barium carbonate \\n and the ceria are present in the nitrogen oxide storage material \\n in a weight ratio of between about 1:3 and 1:5. \\n 8. The method of claim 1, wherein the ceria in the nitrogen \\n oxide storage material has a crystallite size of between about \\n 10 and 20 nm. \\n 9. The method of claim 1, wherein the barium in the nitro \\n gen oxide storage material has a crystallite size of between \\n about 20 and 40 nm. \\n 10. The method of claim 1, wherein the nitrogen oxide \\n storage material has a particle size between about 5 and 50 \\n microns. \\n 11. The method of claim 1, wherein the nitrogen oxide \\n storage material has a surface area between about 30 and 80 m?g. \\n 12. The method of claim 1, further comprising mixing the \\n nitrogen oxide storage material with a precious metal Sup \\n ported on a refractory oxide. \\n 13. The method of claim 12, wherein the precious metal is selected from the group consisting of platinum, palladium, \\n rhodium, iridium, and mixtures thereof, and wherein the refractory oxide is selected from the group consisting of \\n aluminum oxide, mixed aluminum oxide and Zirconium \\n oxide, mixed aluminum oxide and lanthanum oxide, mixed \\n aluminum oxide and cerium oxide, mixed aluminum oxide \\n and magnesium oxide, aluminum oxide mixed with one or \\n more of Zirconia and lanthana, and mixtures thereof. US 8,022,010 B2 \\n 15 \\n 14. The method of claim 13, wherein the aluminum oxide has a surface area between 150 and 250 m/g, a pore volume \\n between 0.3 and 0.8 ml/g, and pore size of between 3 and 20 \\n . \\n 15. The method of claim 12, wherein the mixture of nitro \\n gen oxide storage material and precious metal Supported on a \\n refractory oxide are milled to a Do particle size of 11 \\n microns. \\n 16. The method of claim 1, further comprising coating the nitrogen oxide storage material on a Substrate. \\n 17. The method of claim 16, wherein the substrate is a \\n metallic or ceramic honeycomb structure. 10 16 \\n 18. The method of claim 17, further comprising placing the coated metallic or ceramic honeycomb structure in the fluid path of an exhaust gas stream comprising nitrogen oxide derived from a lean-burn gasoline or diesel engine. \\n 19. The method of claim 1, wherein the nitrogen oxide storage material exhibits an improved nitrogen oxide storage \\n capacity after aging at 850Â° C. for 50 hours at a stoichiometric air fuel ratio compared with a nitrogen storage material hav ing non-spray-dried ceria particles having barium Supported \\n thereon. \\n 20. The method of claim 13, wherein the refractory oxide has a surface area of between about 5 and about 350 m/g. \\n', metadata={'source': 'Data/US8022010.txt'})]"
      ]
     },
     "execution_count": 141,
     "metadata": {},
     "output_type": "execute_result"
    }
   ],
   "source": [
    "from langchain.document_loaders import TextLoader\n",
    "text_loader = TextLoader(\"Data/US8022010.txt\")\n",
    "text = text_loader.load()\n",
    "text"
   ]
  },
  {
   "cell_type": "code",
   "execution_count": 142,
   "metadata": {},
   "outputs": [],
   "source": [
    "from langchain.text_splitter import RecursiveCharacterTextSplitter\n",
    "chunk_size = 500\n",
    "chunk_overlap = 0\n",
    "text_splitter = RecursiveCharacterTextSplitter(chunk_size=chunk_size, chunk_overlap=chunk_overlap)\n",
    "all_splits = text_splitter.split_documents(text)"
   ]
  },
  {
   "cell_type": "code",
   "execution_count": 143,
   "metadata": {},
   "outputs": [
    {
     "data": {
      "text/plain": [
       "[Document(page_content='U\\n presence of excess oxygen. In this case, the catalyst/NOX \\n sorbent is effective for storing NOx. As in the case of the gasoline partial lean burn application, after the NOX storage \\n mode, a transient rich condition must be utilized to releasef \\n reduce the stored NOx to nitrogen. In the case of the diesel engine, this transient reducing condition will require unique \\n engine calibration or injection of a diesel fuel into the exhaust \\n to create the next reducing environment.', metadata={'source': 'Data/US8022010.txt'}),\n",
       " Document(page_content='NOX storage (sorbent) components including alkaline \\n earth metal oxides, such as oxides of Mg, Ca,Srand Ba, alkali \\n metal oxides such as oxides of Li, Na, K, Rb and Cs, and rare \\n earth metal oxides such as oxides of Ce, La, Pr and Nd in \\n combination with precious metal catalysts such as platinum \\n dispersed on an alumina Support have been used in the puri \\n fication of exhaust gas from an internal combustion engine. \\n For NOx storage, baria is usually preferred because it forms', metadata={'source': 'Data/US8022010.txt'}),\n",
       " Document(page_content='nitrates at lean engine operation and releases the nitrates \\n relatively easily under rich conditions. However, catalysts \\n that use baria for NOx storage exhibit a problem in practical application, particularly when the catalysts are aged by expo \\n Sure to high temperatures and lean operating conditions. After \\n Such exposure, such catalysts show a marked decrease in \\n catalytic activity for NOx reduction, particularly at low tem \\n perature (200 to 350Â° C.) and high temperature (450Â° C. to', metadata={'source': 'Data/US8022010.txt'}),\n",
       " Document(page_content='600Â° C.) operating conditions. In addition, NOx absorbents \\n that include baria suffer from the disadvantage that when exposed to temperatures above 450Â° C. in the presence of \\n CO, barium carbonate forms, which becomes more stable \\n than barium nitrate. Furthermore, barium tends to sinter and to form composite compounds with Support materials, which \\n leads to the loss of NOx storage capacity. \\n NOX storage materials comprising barium fixed to ceria', metadata={'source': 'Data/US8022010.txt'}),\n",
       " Document(page_content='particles have been reported, and these NOx materials have exhibited improved thermal aging properties compared to the \\n catalyst materials described above. Despite these improve \\n ments, there is an ongoing need to improve the performance \\n of NOx storage materials, particularly the ability of these \\n materials to operate over a wide temperature range and to operate effectively after exposure to high temperature. It is', metadata={'source': 'Data/US8022010.txt'}),\n",
       " Document(page_content='also desirable to improve the kinetics of NOx oxidation (re quired in advance of NOx storage) and the kinetics of NOx reduction (required following NOx release). Thus, there is a \\n need to provide improved NOx storage materials and meth \\n ods for their manufacture. \\n SUMMARY OF THE INVENTION \\n Aspects of the invention include nitrogen oxide storage \\n materials, catalytic traps for the abatement of nitrogen oxide, methods for manufacturing both the nitrogen oxide storage', metadata={'source': 'Data/US8022010.txt'}),\n",
       " Document(page_content='materials and the catalytic traps for the abatement of nitrogen \\n oxides, and methods of abating nitrogen oxide in an exhaust \\n gas Stream. According to one embodiment, the nitrogen oxide storage materials comprise ceria particles having alkaline earth \\n oxides, for example, baria, Supported on the particles, the \\n ceria having a crystallite size of between about 10 and 20 nm and the alkaline earth oxides having a crystallite size of \\n between about 20 and 40 nm. Other suitable alkaline earth', metadata={'source': 'Data/US8022010.txt'}),\n",
       " Document(page_content='oxides include oxides of Mg, Sr. and Ca. In certain embodi ments, the composite particles have a BET surface area of between about 30 and 80 m/g. In another embodiment, a nitrogen oxide storage catalyst is provided comprising a coat \\n ing on a Substrate, the coating comprising a nitrogen oxide storage material comprising spray-dried ceria particles hav \\n ing baria Supported on the particles. US 8,022,010 B2 \\n 3 \\n In certain embodiments, the coating of the nitrogen oxide', metadata={'source': 'Data/US8022010.txt'}),\n",
       " Document(page_content='storage catalyst further comprises at least one member of \\n platinum group metals selected from the group consisting of \\n platinum, palladium, rhodium, iridium and mixtures thereof supported on refractory oxide particles. The refractory oxide \\n particles may be selected from the group consisting of alumi \\n num oxide, mixed aluminum oxide and Zirconium oxide, \\n mixed aluminum oxide and lanthanum oxide, mixed alumi \\n num oxide and cerium oxide, mixed aluminum oxide and', metadata={'source': 'Data/US8022010.txt'}),\n",
       " Document(page_content='magnesium oxide, and alumina oxide mixed with one or more \\n of Zirconia and lanthana. \\n Another embodiment relates to a catalytic trap disposed in \\n an exhaust passage of an internal combustion engine which \\n operates periodically between lean and stoichiometric or rich \\n conditions, for abatement of NOX in an exhaust gas stream which is generated by the engine. The catalytic trap com prises a catalytic trap material including a precious metal', metadata={'source': 'Data/US8022010.txt'}),\n",
       " Document(page_content='catalytic component effective for oxidizing NO to NO under \\n lean conditions and promoting the reduction of released NOx to nitrogen under Stoichiometric or rich conditions Supported \\n on a refractory metal oxide, and a NOX storage material \\n effective for adsorbing the NOx under lean conditions and \\n desorbing the NOx under stoichiometric or rich conditions, the NOX storage material comprising particles of ceria having \\n alkaline earth carbonate Supported on the ceria particles, hav', metadata={'source': 'Data/US8022010.txt'}),\n",
       " Document(page_content='ing a crystallite size of between about 10 and 20 nm and the \\n alkaline earth oxide having a crystallite size of between about 20 and 40 nm, and the catalytic trap material being disposed \\n on a refractory carrier member. Still another embodiment relates to a method of making a nitrogen oxide storage mate rial comprising mixing a solution of barium with ceria par ticles, spray drying the particles, heating the spray-dried par', metadata={'source': 'Data/US8022010.txt'}),\n",
       " Document(page_content='ticles, mixing the composite particles with a precious metal Supported catalyst and coating the slurry mixture of particles \\n on a Substrate. \\n BRIEF DESCRIPTION OF THE DRAWINGS \\n FIG. 1 is a graph showing the nitrogen oxide conversion \\n efficiency of a catalyst in accordance with an embodiment of the invention and a comparative reference catalyst; FIG. 2 is a graph comparing the nitrogen oxide storage capacity of various catalysts;', metadata={'source': 'Data/US8022010.txt'}),\n",
       " Document(page_content='FIG. 3 is a graph comparing the nitrogen oxide storage capacity of catalysts; \\n FIG. 4 is a graph comparing the nitrogen oxide storage capacity of two catalysts; \\n FIG. 5 is a graph comparing the nitrogen oxide storage \\n capacity of two catalysts; and \\n FIG. 6 is a SEM image of the spray dried and calcined \\n BaCO/CeO composite material. \\n DETAILED DESCRIPTION OF THE INVENTION \\n Before describing several exemplary embodiments of the \\n invention, it is to be understood that the invention is not', metadata={'source': 'Data/US8022010.txt'}),\n",
       " Document(page_content='limited to the details of construction or process steps set forth in the following description. The invention is capable of other \\n embodiments and of being practiced or being carried out in \\n various ways. \\n In one embodiment of the invention, a spray-dried NOx \\n storage material comprising alkaline earth carbonate or mix \\n tures of carbonates, for example, BaCO, or mixtures of BaCO and MgCO supported on CeO particles is provided.', metadata={'source': 'Data/US8022010.txt'}),\n",
       " Document(page_content='According to one or more embodiments of the invention, Ba sintering and Ba composite compound formation is reduced \\n under the conditions of thermal stress in an exhaust gas of a 5 \\n 10 \\n 15 \\n 25 \\n 30 \\n 35 \\n 40 \\n 45 \\n 50 \\n 55 \\n 60 \\n 65 4 \\n lean burn engine. The NOX storage material according to \\n embodiments of the present invention demonstrates improved NOX storage capacity after thermal aging when \\n used in a catalytic trap.', metadata={'source': 'Data/US8022010.txt'}),\n",
       " Document(page_content='According other embodiments of the invention, methods of manufacturing NOx storage materials and catalytic traps \\n including these storage materials are provided. Other \\n embodiments of the invention pertain to a catalytic trap for \\n abatement of NOX in an exhaust gas stream which is gener \\n ated by an internal combustion engine which is operated \\n periodically between lean and stoichiometric or rich condi', metadata={'source': 'Data/US8022010.txt'}),\n",
       " Document(page_content='tions. According to one or more embodiments, the catalytic trap comprises a catalytic trap material including a catalytic \\n component effective for promoting the reduction of NOx \\n understoichiometric or rich conditions Supported on a refrac \\n tory metal oxide and a NOx storage material effective for \\n adsorbing the NOX underlean conditions and desorbing and \\n reducing the NOx to nitrogen under stoichiometric or rich \\n conditions, the NOX storage material comprising spray-dried', metadata={'source': 'Data/US8022010.txt'}),\n",
       " Document(page_content='particles of ceria having alkaline earth carbonate, for \\n example, barium carbonate, Supported on the ceria particles, \\n the catalytic trap material being disposed on a refractory \\n carrier member. \\n Embodiments of this invention pertain to a process for \\n abatement of NOX in an exhaust gas stream generated by an \\n internal combustion engine which periodically operates alter', metadata={'source': 'Data/US8022010.txt'}),\n",
       " Document(page_content='nately between lean and stoichiometric or rich conditions, comprising locating the above-described catalytic trap in an \\n exhaust passage of the engine and treating the exhaust gas \\n stream with a catalytic trap whereby at least some of the NOx \\n in the exhaust gas stream is adsorbed by the catalytic trap \\n during the periods of lean conditions and is desorbed from the catalytic trap and reduced to nitrogen during the periods of \\n Stoichiometric or rich conditions.', metadata={'source': 'Data/US8022010.txt'}),\n",
       " Document(page_content='The refractory metal oxide support of the catalytic trap \\n may be porous in nature and has a high Surface area Such as alumina, for example, gamma-alumina. Other Suitable Sup \\n port materials include titania, titania-alumina, Zirconia, Zir \\n conia-alumina, baria-alumina, lanthana-alumina, lanthana \\n Zirconia-alumina titania-Zirconia, and mixtures thereof.', metadata={'source': 'Data/US8022010.txt'}),\n",
       " Document(page_content='Desirably, the refractory metal oxide support will have a surface area of between about 5 and about 350 m?g, and more particularly between about 100 and 200 m/g. Typically, the \\n Support will be present on the coated Substrate in the amount of about 1.5 to about 7.0 g/in, for example between about 3 and 6 g/in. A suitable support material for the precious metal \\n is alumina, which may be doped with one or more other', metadata={'source': 'Data/US8022010.txt'}),\n",
       " Document(page_content='materials. Alumina having a BET surface area of about 200 m/g and doped with 10%-30% ZrO, and 1%-4% Lao pro \\n vided good results. \\n In one or more embodiments of the present invention the catalytic component preferably comprises a precious metal \\n component, i.e., a platinum group metal component. Suitable precious metal components include platinum, palladium, \\n rhodium and mixtures thereof. The catalytic component will', metadata={'source': 'Data/US8022010.txt'}),\n",
       " Document(page_content='typically be present in an amount of about 20 to about 200 g/ft, more specifically, about 60 to 120 g/ft. \\n The NOx storage material employed in the catalytic trap \\n according to embodiments of the present invention comprises a spray-dried NOX storage material comprising BaCO Sup ported on CeO particles. \\n In one or more embodiments, the catalytic trap is disposed \\n on a refractory carrier member. Examples of Such Substrates \\n include, for example, stainless steel, titanium, aluminum Zir', metadata={'source': 'Data/US8022010.txt'}),\n",
       " Document(page_content='conate, aluminum titanate, aluminum phosphate, cordierite, US 8,022,010 B2 \\n 5 \\n mullite and corundum. The carrier member may be employed as a monolithic honeycomb structure, spun fibers, corrugated \\n foils, layered materials, etc. In a gasoline vehicle application, a catalytic device \\n employing a three-way conversion (â€œTWC) catalyst may be \\n used in conjunction with the catalytic trap of the invention.', metadata={'source': 'Data/US8022010.txt'}),\n",
       " Document(page_content='Such a device will be located in an exhaust passage of the internal combustion engine and will be disposed upstream \\n and/or downstream of the catalytic trap. The TWC catalyst would typically include platinum, palladium and rhodium \\n catalytic components dispersed on a high Surface area refrac \\n tory Support and may also contain one or more base metal oxide catalytic components such as oxides of iron, manga', metadata={'source': 'Data/US8022010.txt'}),\n",
       " Document(page_content='nese or nickel. Such catalysts can be stabilized against ther mal degradation by expedients such as impregnating an acti \\n vated alumina Support with one or more rare earth metal oxides, e.g., ceria. Such stabilized catalysts can Sustain very high operating temperatures. For example, if a fuel cut tech \\n nique is utilized, temperatures as high as 1050Â° C. may be \\n Sustained in the catalytic device. If the catalytic device is employed and is located upstream', metadata={'source': 'Data/US8022010.txt'}),\n",
       " Document(page_content='of the catalytic trap of the invention, the catalytic device \\n would be mounted close to the exhaust manifold of the \\n engine. In Such an arrangement, the TWC catalyst would \\n warm up quickly and provide for efficient cold startemission control. Once the engine is warmed up, the TWC catalyst will \\n remove HC, CO and NOx from the exhaust gas stream during stoichiometric or rich operation and HC and CO during lean operation. The catalytic trap of the invention would be posi', metadata={'source': 'Data/US8022010.txt'}),\n",
       " Document(page_content='tioned downstream of the catalytic device where the exhaust gas temperature enables maximum NOX trap efficiency. Dur ing periods of lean engine operation, when NOx passes \\n through the TWC catalyst, NOx is stored on the catalytic trap. \\n The catalytic trap is periodically desorbed and the NOx is \\n reduced to nitrogen under periods of Stoichiometric or rich engine operation. If desired, a catalytic device containing a \\n TWC catalyst may be employed downstream of the catalytic', metadata={'source': 'Data/US8022010.txt'}),\n",
       " Document(page_content='trap of the invention. Such catalytic device will serve to \\n remove further amounts of HC and CO from the exhaust gas stream and, in particular, will provide for efficient reduction \\n of the NOx to nitrogen under periods of stoichiometric or rich engine operation. \\n In a diesel vehicle application, the catalytic NOx-trap \\n according to embodiments of the invention may be used in conjunction with a diesel oxidation catalyst (DOC), and a', metadata={'source': 'Data/US8022010.txt'}),\n",
       " Document(page_content='catalyzed soot filter (CSF); where the DOC and CSF are placed either before or after the catalytic device of this inven \\n tion. In another embodiment of the invention, it is possible to place the NOx-trap catalyst directly onto the filter media. \\n The several components of the catalytic trap material may \\n be applied to the refractory carrier member, i.e., the substrate, \\n as a mixture of two or more components or as individual components in sequential steps in a manner which will be', metadata={'source': 'Data/US8022010.txt'}),\n",
       " Document(page_content='readily apparent to those skilled in the art of catalyst manu facture. A typical method of manufacturing the catalytic trap \\n of the present invention is to provide the catalytic trap mate \\n rial as a coating or layer of washcoat on the walls of the gas-flow passages of a suitable carrier member. This may be accomplished, by impregnating a fine particulate refractory \\n metal oxide Support material, e.g., gamma alumina, with one or more catalytic metal components such as a precious metal,', metadata={'source': 'Data/US8022010.txt'}),\n",
       " Document(page_content='i.e., platinum group, compound or other noble metals or base metals, drying and calcining the impregnated Support par \\n ticles and forming an aqueous slurry of these particles. Spray \\n dried particles of the bulkNOx sorbent may be included in the slurry. Alternatively, the NOx storage material or sorbent may be dispersed into the Support, preferably in an impregnation 10 \\n 15 \\n 25 \\n 30 \\n 35 \\n 40 \\n 45 \\n 50 \\n 55 \\n 60 \\n 65 6', metadata={'source': 'Data/US8022010.txt'}),\n",
       " Document(page_content='operation, as described below. Activated alumina may be thermally stabilized before the catalytic components are dis \\n persed thereon, as is well known in the art, by impregnating it \\n with, e.g., a Solution of a soluble salt of barium, lanthanum, zirconium, rare earth metal or other suitable stabilizer precur \\n Sor, and thereafter drying (e.g., at 110Â° C. for one hour) and calcining (e.g., at 550Â° C. for one hour) the impregnated', metadata={'source': 'Data/US8022010.txt'}),\n",
       " Document(page_content='activated alumina to form a stabilizing metal oxide dispersed onto the alumina. Base metal catalysts may optionally also \\n have been impregnated into the activated alumina, for example, by impregnating a solution of a base metal nitrate into the alumina particles and calcining to provide a base \\n metal oxide dispersed in the alumina particles.', metadata={'source': 'Data/US8022010.txt'}),\n",
       " Document(page_content='The carrier may then be immersed into the slurry of impregnated activated alumina and excess slurry removed to provide a thin coating of the slurry on the walls of the gas-flow \\n passages of the carrier. The coated carrier is then dried and calcined to provide an adherent coating of the catalytic com ponent and, optionally, the catalytic trap material, to the walls \\n of the passages thereof. The carrier may then be immersed into a slurry offine particles of component of the NOx storage', metadata={'source': 'Data/US8022010.txt'}),\n",
       " Document(page_content='material as a second or overlayer coating deposited over the layer of catalytic component. A magnesium component, e.g., \\n a solution of a magnesium salt Such as magnesium nitrate, \\n acetate, Sulfate, hydroxide, etc., may be combined with the slurry of component of the NOx storage material or it may be applied as a third or overlayer coating deposited over the \\n second layer of the NOx storage material. The carrier is then dried and calcined to provide a finished catalyst trap member', metadata={'source': 'Data/US8022010.txt'}),\n",
       " Document(page_content='in accordance with one embodiment of the present invention. Alternatively, the alumina or other Support particles \\n impregnated with the catalytic component may be mixed with \\n bulk or supported particles of the NOx storage material in an aqueous slurry, and this mixed slurry of catalytic component \\n particles and NOX storage material particles may be applied \\n as a coating to the walls of the gas-flow passages of the carrier. Preferably, however, for improved dispersion of the NOx', metadata={'source': 'Data/US8022010.txt'}),\n",
       " Document(page_content='storage material, the washcoat of catalytic component mate \\n rial, after being dried and calcined, is immersed (post-dipped) into a solution of a component (NOX storage material precur Sor compound (or complex) and a magnesium precursor.com \\n pound (or complex) to impregnate the washcoat with the NOx \\n storage material precursor. The impregnated washcoat is then \\n dried and calcined to provide the NOx storage material dis persed throughout the washcoat.', metadata={'source': 'Data/US8022010.txt'}),\n",
       " Document(page_content='Separate discrete layers of washcoat may be applied in Successive impregnating/drying/calcining operations, e.g., to \\n provide a bottom washcoat layer containing a platinum cata \\n lytic component in a bottom washcoat layer and a palladium \\n and/or rhodium catalytic component in a top washcoat layer. The NOX storage material may be dispersed by impregnation \\n into both the top and bottom layers.', metadata={'source': 'Data/US8022010.txt'}),\n",
       " Document(page_content='In use, the exhaust gas stream which is contacted with the catalytic trap of the present invention is alternately adjusted \\n between lean and Stoichiometric/rich operating conditions so as to provide alternating lean operating periods and stoichio \\n metric/rich operating periods. It will be understood that the \\n exhaust gas stream being treated may be selectively rendered', metadata={'source': 'Data/US8022010.txt'}),\n",
       " Document(page_content='lean or stoichiometric/rich either by adjusting the air-to-fuel ratio fed to the engine generating the exhaust or by periodi \\n cally injecting a reductant into the gas stream upstream of the catalytic trap. For example, the composition of the present \\n invention is well Suited to treat the exhaust of engines, includ ing diesel engines, which continuously run lean. In Such case,', metadata={'source': 'Data/US8022010.txt'}),\n",
       " Document(page_content='in order to establish a stoichiometric/rich operating period, a Suitable reductant, such as fuel, may be periodically sprayed into the exhaust immediately upstream of the catalytic trap of US 8,022,010 B2 \\n 7 \\n the present invention to provide at least local (at the catalytic \\n trap) stoichiometric/rich conditions at selected intervals. Par tial lean-burn engines, such as partial lean-burn gasoline \\n engines, are designed with controls which cause them to', metadata={'source': 'Data/US8022010.txt'}),\n",
       " Document(page_content='operate lean with brief, intermittent rich or stoichiometric \\n conditions. \\n Without intending to limit the invention in any manner, \\n embodiments of the present invention will be more fully described by the following examples. \\n EXAMPLES \\n Example 1 \\n Preparation of NOx Storage Material \\n BaCO, and CeO, were intimately mixed and finely dis \\n persed in a weight ratio of between about 1:3 and about 1:5.', metadata={'source': 'Data/US8022010.txt'}),\n",
       " Document(page_content='Cerium oxide having a BET surface area of between about 50-150 m/g was mixed with a solution of barium acetate \\n such that the BaCO/CeO composite had a BaCO3 content of about 10-30 wt %. After mixing, the suspension of soluble \\n barium acetate and CeO2 was then spray-dried at a tempera \\n ture of between about 90Â° C. and 120Â° C. to obtain a solid \\n mixture of barium acetate and ceria. \\n After spray-drying, the mixture was then heated at about', metadata={'source': 'Data/US8022010.txt'}),\n",
       " Document(page_content='550Â° C. to 800Â° C. for about 2 hours to form particles of ceria having barium carbonate Supported on the ceria particles. The \\n resulting BaCO3 had a crystallite size of between about 20 \\n and 40 nm. The BaCO and CeO crystallites formed particles \\n with a size of between about 5 and 50 microns. The BET \\n surface area of the particulate mixture is between about 30 and 80 m/g. Preparation of Catalytic Component \\n To provide a fully formulated NOx storage catalyst or', metadata={'source': 'Data/US8022010.txt'}),\n",
       " Document(page_content='catalytic trap as described above, in addition to the manufac \\n ture of barium carbonate Supported onceria, a precious metal can be Supported on a refractory oxide according to the fol \\n lowing description. Pt and Rhare impregnated onto Al-O by an incipient wetness procedure to yield 1.8 weight percent Pt \\n and 0.1 weight percent Rh. Pd is impregnated separately onto \\n alumina to a Pd loading of 1.4 weight percent. \\n A slurry mixture containing about 34 wt % of alumina', metadata={'source': 'Data/US8022010.txt'}),\n",
       " Document(page_content='previously mixed with Pt/Rh, about 9 wt % Pd on alumina, a \\n solution of zirconium acetate with a content of about 3 wt % \\n ZrO, magnesium acetate to yield 9 wt % MgO, and 45 wt % BaCO/CeO, spray-dried powder is milled at pH 6-8 until a \\n particle size of 11 micron (Do) is obtained. Coating of a Substrate \\n Ceramic or metallic honeycomb substrates are coated with the slurry in a dip coating manner and then dried in a dryer and', metadata={'source': 'Data/US8022010.txt'}),\n",
       " Document(page_content='subsequently calcined in a furnace under air at about 450Â° C.-550Â° C. The coating procedure is then repeated until a loading of about 4-6.5 g/in is achieved. The coating on the honeycomb catalyst comprises about 3-30 micron BaCO/ \\n CeO particles and about 1-20 micron alumina particles. \\n BaCO, is fixed within the pores of the ceria particles in such a way that it does not migrate to the alumina particles. It is', metadata={'source': 'Data/US8022010.txt'}),\n",
       " Document(page_content='believed that the contact of BaCO, and alumina would lead to the formation of inactive BaAl2O composite compound for \\n mation upon aging, which has a reduced NOX storage capac ity compared to BaCO. \\n Comparative Example 2 \\n Samples were prepared in accordance with Example 1 \\n above, except that the barium acetate/ceria Solution was not spray dried. 10 \\n 15 \\n 25 \\n 30 \\n 35 \\n 40 \\n 45 \\n 50 \\n 55 \\n 60 \\n 65 8 \\n Example 3 \\n NOx Storage Capacity Testing', metadata={'source': 'Data/US8022010.txt'}),\n",
       " Document(page_content='Two catalytic traps were prepared, a first catalytic trap was prepared in accordance with Example 1 and a comparative catalytic trap was prepared in accordance with Comparative Example 2. Both catalytic traps A were evaluated after aging \\n for 8 hours at 850Â° C. \\n Both catalytic traps were evaluated as follows. An engine \\n was set to an air/fuel ratio of 11.6 for 2 minutes at the desired', metadata={'source': 'Data/US8022010.txt'}),\n",
       " Document(page_content='temperature to remove all stored NOx and oxygen from the catalyst. This mode represents rich engine operation. Subse quently, the engine was adjusted to an air/fuel ratio of 29.6 \\n under constant NOx mass flow. This mode represents lean engine operation. During the whole test, the NOX concentra \\n tion was measured before and after the NOx trap using a NOx analyzer. \\n (1) incissoutlet NO. T NOnassinlet ... 100 \\n X', metadata={'source': 'Data/US8022010.txt'}),\n",
       " Document(page_content='After the 2 minute rich operation followed by a 60 second lean operation, the engine was set to a 3 second rich operation to remove stored NOx without having hydrocarbon and car bon monoxide tailpipe emissions. This 60 sec lean/3 sec rich cycle is repeated 10 times to establish constant catalyst con ditions. For the time period of the 10 lean/rich cycles the NOx efficiency (U) is calculated from the NOx inlet and NOx outlet concentrations via equation (1): NOX storage massing is calculated via', metadata={'source': 'Data/US8022010.txt'}),\n",
       " Document(page_content='equation (2):', metadata={'source': 'Data/US8022010.txt'}),\n",
       " Document(page_content='NOX=NOx concentration (ppm) \\n V=volume flow (m3/h) Videal molar volume (1/mol) at STP M=Molar weight of NO2 (g/mol) \\n dt-time interval(s) After the 10 lean/rich cycles, the engine is operated for 1 minrich to remove the stored NOx completely. Subsequently,', metadata={'source': 'Data/US8022010.txt'}),\n",
       " Document(page_content='the engine is operated under lean condition until no more NOx is stored in the trap. Under these conditions, the overall NOx storage capacity is evaluated. However, to achieve a NOx conversion of greater than 80%, the NOx storage capac ity at high NOx efficiency is decisive. FIG. 1 demonstrates that the NOX storage capacity of catalytic trap prepared in accordance with Example 1 utilizing a spray-drying process exhibited Superior capacity compared to the Comparative \\n reference Example.', metadata={'source': 'Data/US8022010.txt'}),\n",
       " Document(page_content='Example 4 \\n Barium Concentration and Calcination Temperature \\n Different amounts of Ba were impregnated into ceria of different Surface area, using the procedures described in Example 1. Ceria powders with different BET surface areas \\n were used to determine the effect of the resulting Ba/Ceria composite powder. \\n Characterization of the impregnated powder included BET', metadata={'source': 'Data/US8022010.txt'}),\n",
       " Document(page_content='surface area measurement. In addition fully formulated NOx trap catalysts were prepared using the procedures described in Example 1 that contain the particular Ba/Ceria composite material as NOX storage component. The NOX storage prop \\n erties of the catalysts have been evaluated after aging for 8 hours at 850Â° C. under air with 10% HO in a laboratory \\n reactor. The results are shown in Table I and Table II below.', metadata={'source': 'Data/US8022010.txt'}),\n",
       " Document(page_content='Table I shows the result of a variation of the BaCO and CeO concentration together with a variation of the ceria used. After impregnation, all samples were calcined at US 8,022 \\n 9 \\n TABLE I \\n BET BET BaCO \\n Surface BaCeria Crystallite \\n 808 calcined size \\n of 4h As \\n BaCO. CeO2 Ceria CeO2 800Â° C. prepared \\n Sample Wt% wt % (mig) Crystallite (nm) (m?g) (nm) \\n A. 29 71 90 12 13 2O \\n B 29 71 40 18 9 22 \\n C 25 75 66 16 14 21 \\n D 2O 8O 90 12 17 22 \\n E 2O 8O 40 18 13 2O', metadata={'source': 'Data/US8022010.txt'}),\n",
       " Document(page_content='550Â°C. in air to decompose the impregnated Ba precursor into BaCO3. \\n After 800Â° C. aging, the highest NOx storage activity at \\n 400Â° C. is obtained with sample C, having a medium Ba \\n concentration and a CeO2 material with a medium BET sur face area and crystallinity. A high BET surface area and 25 \\n relative low Ba concentration is especially beneficial for NOx storage at 300Â° C. It is particularly interesting that sample D', metadata={'source': 'Data/US8022010.txt'}),\n",
       " Document(page_content='having the largest BaCO crystallite size after agingyields the \\n best NOx storage at low temperature. In addition, increased Ba concentration resulted in decreased BET surface area and \" \\n increase in CeO crystal size. 0 1 0 B2 9 \\n 10 \\n CeO2 \\n Crystallite \\n size \\n of \\n BaCO Ceria \\n Crystallite in \\n size Bai Ceria NOx NOx \\n Aged, aged Storage at Storage at \\n 4800Â° C. 4800Â° C. 300Â° C. 400Â° C. \\n (nm) (nm) (g/l) (g) \\n 34 28 2.8 2.4 \\n 30 34 1.4 2.0 \\n 32 28 2.6 2.7 \\n 40 27 3.5 1.9', metadata={'source': 'Data/US8022010.txt'}),\n",
       " Document(page_content='26 31 2.3 2.4 \\n According to the data in Tables I and II, an as-prepared BET surface area between 40-60 m/g and a ceria crystal size \\n between about 10- and 20 nm and a BaCO crystallite size of between about 20- and 40 nm yielded the best performance after aging. \\n An example of a desirable morphology of spray dried and \\n calcined BaCO/CeO mixture is shown in the SEM image of \\n FIG. 6. FIG. 6 shows about 10-20 nm size CeO crystals agglomerated to particles of about 5-50 microns in size.', metadata={'source': 'Data/US8022010.txt'}),\n",
       " Document(page_content='Adhering to these about 5-50 micron size CeO particles are \\n TABLE II \\n CeO2 \\n crystallite \\n size \\n of \\n BaCO/ CeO2 BET BaCO Ceria \\n BET Ceria crystallite Ba? crystallite in Ba \\n surface calcination BET Ba size BaCO Ceria size Ceria NOx NOx \\n area Temp C. Ceria of Crystallite aged Aged, aged storage storage \\n of (2 h after after Ceria in Ba size 4h 4h 4h at at \\n Sam- BaCO. CeO2 Ceria spray calcination Ceria after 800Â° C. 800Â° C. 800Â° C. 300Â° C. 400Â° C.', metadata={'source': 'Data/US8022010.txt'}),\n",
       " Document(page_content='ple Wt% wt % (mig) drying) (m?g) (nm) calcinations (nm) (mâ€™/g) (nm) (nm) (g) (g/l) \\n F 29 71 2OO 550 66 9 18 17 37 29 2.0 1.7 \\n G 29 71 2OO 6SO S4 10 28 16 40 26 3.5 1.8 \\n H 29 71 2OO 750 21 24 40 16 45 28 2.5 2.7 \\n I 29 71 2OO 850 14 33 37 12 40 32 1.1 1.3 \\n In order to determine an optimum BaCO/CeO compos \\n ite, the Ba/CeO is calcined after Ba impregnation at different temperatures. This is done to decompose the Ba precursor to \\n the carbonate and to conditioning the composite for optimum', metadata={'source': 'Data/US8022010.txt'}),\n",
       " Document(page_content='NOx adsorption capacity. The data in Table II demonstrates \\n that a calcination temperature between 550 and 750Â° C. after \\n impregnation of Ba onto CeO, provided the best results for \\n NOx storage. The samples calcined within this temperature \\n range had higher surface area and exhibited higher NOx \\n storage after aging than a sample calcined at 850Â° C. Further \\n more, a BaCO crystallite size of between about 20-50 nm, for example, 45 nm, and a CeO crystallite size of between', metadata={'source': 'Data/US8022010.txt'}),\n",
       " Document(page_content='about 25-30 nm in combination with a sufficient BET surface \\n area after aging yielded the highest NOx storage at 400Â° C. 55 \\n 60 \\n 65 BaCO particles of about 20-150 nm size. The BaCO par ticles are likely agglomerates of Smaller crystallites. \\n Example 5 \\n Ceria Type and Doping \\n Various types of ceria and doping with different materials \\n were evaluated for effect on BET surface area and decompo \\n sition temperature of the barium carbonate. The decomposi', metadata={'source': 'Data/US8022010.txt'}),\n",
       " Document(page_content='tion temperature is the temperature at which Ba reacts with \\n ceria to form BaCeO. The samples below were prepared by an incipient wetness preparation instead of spray-drying prior \\n to calcination. The results are shown in Table III: US 8,022,010 B2 \\n 12 11 \\n TABLE III \\n BET \\n Surface \\n BET after \\n Surface aging phases observed \\n Decomposition 8S at by XRD after \\n Temperature prepared 950Â° C. thermal treatment Material of BaCO (C.) (mâ€™/g) (m?g) (950Â° C.)', metadata={'source': 'Data/US8022010.txt'}),\n",
       " Document(page_content='A (90% CeO2, 10% 914 13 1.8 BaCeO, CeO2, BaCO \\n La) + 15% Ba \\n C (57% CeO2, 43% 950 44 6 BaCeO, CeO2 \\n Pr) + 15% Ba \\n D (72% CeO2, 28% 770 31 6 BaCeO, CeO2 \\n La) + 15% Ba \\n B (90% CeO2, 10% 945 30 6.6 BaCeO, CeO2, BaCO \\n La) + 15% Ba (Example 5B) \\n E (95% CeO2, 5% 945 25 10 BaCeO, CeO2, BaCO \\n La) + 15% Ba \\n F (90% CeO, 10% 945 30 10 BaCeOs, CeO2, BaCO \\n La) + 15% Ba (Example 5F) \\n G (100% CeO2) + 942 41 13 BaCeO, CeO2, BaCO \\n 5% Bal \\n H (91% CeO2,9% 950 86 16 BaCeO, CeO2 \\n Pr) + 15% Ba', metadata={'source': 'Data/US8022010.txt'}),\n",
       " Document(page_content='According to the data in table III, doping ceria with La or Pr \\n to a level of 10% does not influence the decomposition tem perature of BaCO. Only sample D with 28% La has a much lower temperature of BaCO decomposition while sample C \\n even with 43% of Pr has a high resistance towards reaction \\n with BaCO. The preferred BaCO/CeOfdopandmaterial should have a BET surface area-10 m/g after aging and a high resistance \\n towards reaction to BaCO as shown in table III. \\n Example 6', metadata={'source': 'Data/US8022010.txt'}),\n",
       " Document(page_content='Precious Metal Support \\n Various alumina supports were evaluated for stability. It \\n was found that the Support material for the precious metal \\n tends to react with BaCO, at a certain temperature. If this temperature for a specific material is reached most or all of the 25 \\n 30 \\n 35 \\n 40 BaCO3 has formed a compound with the support material and \\n this compound has much diminished tendency to adsorb NOx \\n compared to BaCO. \\n The table below shows a list of different support materials', metadata={'source': 'Data/US8022010.txt'}),\n",
       " Document(page_content='derived from ZrO, or Al-O. Materials A and B show higher BaCO decomposition temperature than pure or La, Ba or \\n ZrO doped aluminas. However the surface area of those materials is relatively small compared to other doped or \\n undoped materials. Furthermore, it was found that the higher the Surface area of a material in presence of Ba the higher is the NOX storage capacity of an aged catalyst containing this \\n material.', metadata={'source': 'Data/US8022010.txt'}),\n",
       " Document(page_content='In particular, it was found that ZrO doped aluminas and also La and ZrO doped materials have very thermally stable \\n surface areas in presence of Ba. The preferred alumina should have a BET surface area of 150-250 m/g, a pore volume of 0.3-0.8 ml/g an average pore size of 3-20 nm. \\n TABLE IV \\n BET \\n Surface BET phases \\n Decomposition 8S after observed by \\n Al2O/ZrO2 derived temperature prepared 4h XRD \\n Support + 15% BaC) of BaCO (C.) (mâ€™g) 900Â° C. after thermal treatment', metadata={'source': 'Data/US8022010.txt'}),\n",
       " Document(page_content='A (92% ZrO2, 8% La-O.) 82O 36 BaZrO.s, BaCO, ZrO. \\n B (31% MgO, 69% 830 64 39 MgAl2O, BaAl2O \\n Al2O3) \\n C (20% Ba, 80%. Al-O.) 740 101.3 61 BaCO3, BaAl2O \\n D (4% La, 20% ZrO, 76% 736 96 CeO2, Al-Os. \\n Al2O) BaAl2O4. \\n E (100% Al2O) 765 73.6 67.9 Al-O, ZrO2 \\n F (90%. Al-O + 10% 730 81 73 CeO2, BaAl2O. \\n CeO2) \\n G (30% ZrO2, 70% Al-O.) 740 88 BaAl2O, ZrO2 \\n H (20% Ba, 80% Al-O.) 695 1S6 83 BaAl2O \\n (82% Al-O, 11% CeO2, 720 118 80 Al2O, BaCO \\n 7% ZrO2) \\n (100% Al-O.) 720 116 106 BaAl2O', metadata={'source': 'Data/US8022010.txt'}),\n",
       " Document(page_content='MgAl2O, BaAl2O, \\n K (72% Al-O, 28% Mg) 750 130 1OO BaCO \\n L (90% Al-Os, 10% ZrO2) 700 133.5 BaAl2O, Al2O. \\n M (80% Al-O, 20% 720 133 100 CeO2, Al2O. \\n CeO2) US 8,022,010 B2 \\n TABLE IV-continued \\n BET \\n Surface BET phases \\n Decomposition 8S after observed by \\n Al2O/ZrO, derived temperature prepared 4h XRD \\n support + 15% BaC) of BaCO (C.) (m/g) 900Â° C. after thermal treatment \\n N (80% Al-O, 20% ZrO2) 720 121.7 100.5 Al2O, ZrO2 \\n O (4% La/15%ZrO.) 700 126 BaAl2O, ZrO2, Al2O.', metadata={'source': 'Data/US8022010.txt'}),\n",
       " Document(page_content='P (21% Mg, 10% Zr, 69% 730 142 BaCO, MgAl2O, ZrO2 \\n Al2O3) \\n Q (97% Al2O, 3% La) 720 152 121 Al2O3 \\n R (75% Al-O, 25%ZrO.) 700 135 ZrO2, Al2O, BaCO \\n S (90% Al-O. 10% ZrO2) 700 154 124.1 Al2O3, BaCO3, BaAl2O \\n T (85% Al-O 15% ZrO2) 700 142 ZrO2, Al2O3, BaCO3 \\n U (74.6% Al2O, 0.4% 748 156 132 BaAl2O, Al2O3, ZrO2, \\n La/15% ZrO.) BaCO, \\n Example 7 What is claimed is: \\n 1. A method of making a nitrogen oxide storage material,', metadata={'source': 'Data/US8022010.txt'}),\n",
       " Document(page_content='Optimization of Aged NOx Storage Capacity 20 comprising mixing a solution of barium with ceria, spray \\n Various samples were tested foraged NOX storage capacity \\n for samples aged at 850Â°C. in an oven with 10% steam in air. A sample prepared in accordance with comparative Example \\n 1 having the NOx sorbent samples with BaCO/CeO con', metadata={'source': 'Data/US8022010.txt'}),\n",
       " Document(page_content='centration of sample C in Table I but spray dried and calcined to different surface areas as indicated (Example 7A=41 m/g and Example 7B-52 m/g). In addition, samples and B and F \\n from table III were tested after spray drying with barium, preparing in accordance with Example 1 and aging in a labo \\n ratory reactor. The results shown in FIG. 2 demonstrate the \\n spray dried and calcined material 7B, with a BET surface area of 52 m/g exhibited the highest NOx storage capacity, while', metadata={'source': 'Data/US8022010.txt'}),\n",
       " Document(page_content='the other samples had similar performance. According to \\n these tests, there is no benefit associated with doping ceria \\n with 10% of La. \\n Various samples were tested foraged NOX storage capacity \\n for samples aged at 850Â° C. for 50 hours in an engine at \\n Stoichiometric air fuel ratio. In this case, the evaluation has been done at an engine. Samples prepared in accordance with comparative Example 2 (NOx sorbent prepared by impreg', metadata={'source': 'Data/US8022010.txt'}),\n",
       " Document(page_content='nation), by spray drying and by spray drying with optimized \\n BET surface area were prepared. The results shown in FIG.3 demonstrate the spray-dried sample exhibited Superior results, particularly the sample with optimized BET surface \\n aca. \\n Example 8 \\n The effect of the refractory oxide to support the precious \\n metal component of the catalyst was also tested. Samples N \\n (Example 8A) and O (Example 8B) from Table IV above were', metadata={'source': 'Data/US8022010.txt'}),\n",
       " Document(page_content='prepared into fully formulated catalysts and tested for NOx storage capacity after aging for 50 hours at 850Â° C. under \\n stoichiometric conditions. FIG. 4 shows that the lanthana and \\n zirconia doped sample (Example O) exhibited the best results \\n between 250 and 400Â° C. Similar results were observed for \\n sample N aged 50 hours at 750Â° C. (Example 8C) and sample \\n Oaged 50 hours at 750Â° C. (Example 8D) at a lean air fuel \\n ratio, and these results are shown in FIG. 5.', metadata={'source': 'Data/US8022010.txt'}),\n",
       " Document(page_content='It will be apparent to those skilled in the art that various \\n modifications and variations can be made to the present invention without departing from the spirit or scope of the \\n invention. Thus, it is intended that the present invention cover modifications and variations of this invention provided they come within the scope of the appended claims and their equivalents. 25 \\n 30 \\n 35 \\n 40 \\n 45 \\n 50 \\n 55 \\n 60 \\n 65 drying the solution of barium mixed with ceria to obtain a', metadata={'source': 'Data/US8022010.txt'}),\n",
       " Document(page_content='Solid mixture of barium and ceria, and heating the Solid mix ture to obtain a material comprising ceria particles having \\n barium Supported thereon. \\n 2. The method of claim 1, wherein the ceria has a surface area of between about 50 and about 150 m/g prior to spray drying. \\n 3. The method of claim 1, wherein the solution of barium \\n comprises barium acetate. \\n 4. The method of claim 1, wherein the solution of barium \\n mixed with ceria is spray dried at a temperature of between', metadata={'source': 'Data/US8022010.txt'}),\n",
       " Document(page_content='about 90Â° C. and 120Â° C. \\n 5. The method of claim 1, wherein the solid mixture is \\n heated at a temperature of between about 550Â° C. and 800Â° C. \\n for about 2 hours. \\n 6. The method of claim 1, wherein the barium in the nitro \\n gen oxide storage material includes BaCOs, and the ceria in \\n the nitrogen oxide storage material includes CeO. \\n 7. The method of claim 6, wherein the barium carbonate \\n and the ceria are present in the nitrogen oxide storage material', metadata={'source': 'Data/US8022010.txt'}),\n",
       " Document(page_content='in a weight ratio of between about 1:3 and 1:5. \\n 8. The method of claim 1, wherein the ceria in the nitrogen \\n oxide storage material has a crystallite size of between about \\n 10 and 20 nm. \\n 9. The method of claim 1, wherein the barium in the nitro \\n gen oxide storage material has a crystallite size of between \\n about 20 and 40 nm. \\n 10. The method of claim 1, wherein the nitrogen oxide \\n storage material has a particle size between about 5 and 50 \\n microns.', metadata={'source': 'Data/US8022010.txt'}),\n",
       " Document(page_content='11. The method of claim 1, wherein the nitrogen oxide \\n storage material has a surface area between about 30 and 80 m?g. \\n 12. The method of claim 1, further comprising mixing the \\n nitrogen oxide storage material with a precious metal Sup \\n ported on a refractory oxide. \\n 13. The method of claim 12, wherein the precious metal is selected from the group consisting of platinum, palladium,', metadata={'source': 'Data/US8022010.txt'}),\n",
       " Document(page_content='rhodium, iridium, and mixtures thereof, and wherein the refractory oxide is selected from the group consisting of \\n aluminum oxide, mixed aluminum oxide and Zirconium \\n oxide, mixed aluminum oxide and lanthanum oxide, mixed \\n aluminum oxide and cerium oxide, mixed aluminum oxide \\n and magnesium oxide, aluminum oxide mixed with one or \\n more of Zirconia and lanthana, and mixtures thereof. US 8,022,010 B2 \\n 15', metadata={'source': 'Data/US8022010.txt'}),\n",
       " Document(page_content='14. The method of claim 13, wherein the aluminum oxide has a surface area between 150 and 250 m/g, a pore volume \\n between 0.3 and 0.8 ml/g, and pore size of between 3 and 20 \\n . \\n 15. The method of claim 12, wherein the mixture of nitro \\n gen oxide storage material and precious metal Supported on a \\n refractory oxide are milled to a Do particle size of 11 \\n microns. \\n 16. The method of claim 1, further comprising coating the nitrogen oxide storage material on a Substrate.', metadata={'source': 'Data/US8022010.txt'}),\n",
       " Document(page_content='17. The method of claim 16, wherein the substrate is a \\n metallic or ceramic honeycomb structure. 10 16 \\n 18. The method of claim 17, further comprising placing the coated metallic or ceramic honeycomb structure in the fluid path of an exhaust gas stream comprising nitrogen oxide derived from a lean-burn gasoline or diesel engine. \\n 19. The method of claim 1, wherein the nitrogen oxide storage material exhibits an improved nitrogen oxide storage', metadata={'source': 'Data/US8022010.txt'}),\n",
       " Document(page_content='capacity after aging at 850Â° C. for 50 hours at a stoichiometric air fuel ratio compared with a nitrogen storage material hav ing non-spray-dried ceria particles having barium Supported \\n thereon. \\n 20. The method of claim 13, wherein the refractory oxide has a surface area of between about 5 and about 350 m/g.', metadata={'source': 'Data/US8022010.txt'})]"
      ]
     },
     "execution_count": 143,
     "metadata": {},
     "output_type": "execute_result"
    }
   ],
   "source": [
    "all_splits"
   ]
  },
  {
   "cell_type": "code",
   "execution_count": 150,
   "metadata": {},
   "outputs": [
    {
     "data": {
      "text/plain": [
       "'U\\n presence of excess oxygen. In this case, the catalyst/NOX \\n sorbent is effective for storing NOx. As in the case of the gasoline partial lean burn application, after the NOX storage \\n mode, a transient rich condition must be utilized to releasef \\n reduce the stored NOx to nitrogen. In the case of the diesel engine, this transient reducing condition will require unique \\n engine calibration or injection of a diesel fuel into the exhaust \\n to create the next reducing environment.'"
      ]
     },
     "execution_count": 150,
     "metadata": {},
     "output_type": "execute_result"
    }
   ],
   "source": [
    "all_splits[0].page_content"
   ]
  },
  {
   "cell_type": "code",
   "execution_count": 159,
   "metadata": {},
   "outputs": [],
   "source": [
    "results_all_splits = []\n",
    "\n",
    "for chunk in all_splits[20:30]:\n",
    "    \n",
    "    result = chain.run(input_text=chunk.page_content)\n",
    "    results_all_splits.append(result)"
   ]
  },
  {
   "cell_type": "code",
   "execution_count": 253,
   "metadata": {},
   "outputs": [
    {
     "data": {
      "text/plain": [
       "['measurment: catalytic component, unit: g/ft, value: 20 to 200\\nmeasurment: catalytic component, unit: g/ft, value: 60 to 120',\n",
       " 'measurment: catalytic component, unit: g/ft, value: 20 to 200\\nmeasurment: catalytic component, unit: g/ft, value: 60 to 120\\n',\n",
       " 'measurment: catalytic component, unit: g/ft, value: 20 to 200\\nmeasurment: catalytic component, unit: g/ft, value: 60 to 120',\n",
       " 'measurment: catalytic component amount, unit: g/ft, value: 20 to 200\\nmeasurment: catalytic component amount, unit: g/ft, value: 60 to 120',\n",
       " 'measurment: catalytic component amount, unit: g/ft, value: 20 to 200\\nmeasurment: catalytic component amount, unit: g/ft, value: 60 to 120',\n",
       " 'measurment: catalytic component, unit: g/ft, value: 20 to 200\\nmeasurment: catalytic component, unit: g/ft, value: 60 to 120',\n",
       " 'measurment: catalytic component amount, unit: g/ft, value: 20 to 200\\nmeasurment: catalytic component amount, unit: g/ft, value: 60 to 120',\n",
       " 'measurment: catalytic component, unit: g/ft, value: 20 to 200\\nmeasurment: catalytic component, unit: g/ft, value: 60 to 120',\n",
       " 'measurment: catalytic component, unit: g/ft, value: 20 to 200\\nmeasurment: catalytic component, unit: g/ft, value: 60 to 120',\n",
       " 'measurment: catalytic component precious metal amount, unit: g/ft, value: 20 to 200\\nmeasurment: catalytic component precious metal amount, unit: g/ft, value: 60 to 120']"
      ]
     },
     "execution_count": 253,
     "metadata": {},
     "output_type": "execute_result"
    }
   ],
   "source": [
    "results_all_splits"
   ]
  },
  {
   "cell_type": "code",
   "execution_count": 167,
   "metadata": {},
   "outputs": [
    {
     "data": {
      "text/plain": [
       "'{measurment: catalytic component, unit: g/ft, value: 20 to 200\\nmeasurment: catalytic component, unit: g/ft, value: 60 to 120}'"
      ]
     },
     "execution_count": 167,
     "metadata": {},
     "output_type": "execute_result"
    }
   ],
   "source": [
    "'{'+results_all_splits[0]+'}'"
   ]
  }
 ],
 "metadata": {
  "kernelspec": {
   "display_name": "Python 3 (ipykernel)",
   "language": "python",
   "name": "python3"
  },
  "language_info": {
   "codemirror_mode": {
    "name": "ipython",
    "version": 3
   },
   "file_extension": ".py",
   "mimetype": "text/x-python",
   "name": "python",
   "nbconvert_exporter": "python",
   "pygments_lexer": "ipython3",
   "version": "3.11.0"
  },
  "toc": {
   "base_numbering": 1,
   "nav_menu": {},
   "number_sections": true,
   "sideBar": true,
   "skip_h1_title": false,
   "title_cell": "Table of Contents",
   "title_sidebar": "Contents",
   "toc_cell": false,
   "toc_position": {},
   "toc_section_display": true,
   "toc_window_display": false
  },
  "varInspector": {
   "cols": {
    "lenName": 16,
    "lenType": 16,
    "lenVar": 40
   },
   "kernels_config": {
    "python": {
     "delete_cmd_postfix": "",
     "delete_cmd_prefix": "del ",
     "library": "var_list.py",
     "varRefreshCmd": "print(var_dic_list())"
    },
    "r": {
     "delete_cmd_postfix": ") ",
     "delete_cmd_prefix": "rm(",
     "library": "var_list.r",
     "varRefreshCmd": "cat(var_dic_list()) "
    }
   },
   "types_to_exclude": [
    "module",
    "function",
    "builtin_function_or_method",
    "instance",
    "_Feature"
   ],
   "window_display": false
  }
 },
 "nbformat": 4,
 "nbformat_minor": 4
}
