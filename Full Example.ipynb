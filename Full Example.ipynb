{
 "cells": [
  {
   "cell_type": "markdown",
   "metadata": {},
   "source": [
    "# Data Proplem\n",
    "Given an XML file contains many patents, we follow these steps:\n",
    "\n",
    "* Split the patents.\n",
    "\n",
    "* We filter patents using <section> element to only include Chemistry patents.\n",
    "    \n",
    "* We extract the test from the filtered patents, we use the text in \"description\", \"abstract\", \"claims\" elements, then put all text a txt file for later usage.\n",
    "    \n",
    "* We further clean the text by removing unwanted characters.\n"
   ]
  },
  {
   "cell_type": "code",
   "execution_count": 1,
   "metadata": {},
   "outputs": [],
   "source": [
    "import xml.etree.ElementTree as ET\n",
    "\n",
    "xmll_file_path = \"Data/ipa221229.xml\""
   ]
  },
  {
   "cell_type": "code",
   "execution_count": null,
   "metadata": {},
   "outputs": [],
   "source": [
    "\n",
    "# Read the XML file\n",
    "with open(xmll_file_path, \"r\") as file:\n",
    "    xml_content = file.read()\n",
    "\n",
    "# Split the XML file into separate documents\n",
    "xml_documents = xml_content.split(\"<?xml version=\")\n",
    "\n",
    "# Remove the empty first element\n",
    "xml_documents = xml_documents[1:]\n",
    "\n",
    "# Parse each XML document individually\n",
    "for i, xml_doc in enumerate(xml_documents):\n",
    "    # Add back the XML declaration\n",
    "    xml_doc = \"<?xml version=\" + xml_doc\n",
    "    \n",
    "    # Parse the XML document\n",
    "    root = ET.fromstring(xml_doc)\n",
    "    closels_lvl = root.findall(\".//section\")\n",
    "    if closels_lvl and closels_lvl[0].text.lower().strip()=='c': # \"c\" is the chimestry patents categries according to the documentation\n",
    "        print(closels_lvl[0].text)\n",
    "        file1 = open(f\"Data/ipa221229/ipa221229{closels_lvl[0].text}_{i}.xml\",\"w\")\n",
    "        file1.write(xml_doc)\n",
    "        file1.close()"
   ]
  },
  {
   "cell_type": "markdown",
   "metadata": {},
   "source": [
    "## Extracting text from Patents then write it to TXT file for later usages"
   ]
  },
  {
   "cell_type": "code",
   "execution_count": 1,
   "metadata": {},
   "outputs": [],
   "source": [
    "import os\n",
    "import html\n",
    "\n",
    "number_patents = 20\n",
    "directory = 'Data/ipa221229/'  # Replace with the path to your directory that contains filtered XML patents."
   ]
  },
  {
   "cell_type": "code",
   "execution_count": 3,
   "metadata": {},
   "outputs": [],
   "source": [
    "\n",
    "def extract_text_from_xml_patents(patents_number, directory):\n",
    "\n",
    "    # Get the list of files in the directory\n",
    "    file_list = os.listdir(directory)[0:number_patents]\n",
    "\n",
    "    text = []\n",
    "\n",
    "    for file in file_list:\n",
    "        file_name = f\"Data/ipa221229/{file}\"\n",
    "\n",
    "        text.append(extract_text_from_xml(file_name))\n",
    "        \n",
    "    with open(f'Data/patents_text_{patents_number}_patents.txt', 'w', encoding='utf-8') as f:\n",
    "    for line in text:\n",
    "        f.write(html.unescape(line))\n",
    "        f.write('\\n')"
   ]
  },
  {
   "cell_type": "code",
   "execution_count": 4,
   "metadata": {},
   "outputs": [],
   "source": [
    "extract_text_from_xml_patents(number_patents, directory)"
   ]
  },
  {
   "cell_type": "markdown",
   "metadata": {},
   "source": [
    "# Prompt Evaluation\n",
    "\n",
    "**Evaluation problem** \n",
    "For the Prompt Evaluation, we follow two paradigms:\n",
    "#### Context Evaluation\n",
    "This Evaluation answers the question, Does LLM understand the prompt context? Does it understand the provided demonstration? \n",
    "To answer this question, we use the examples in the prompts as inputs, and check whether GPT outputs the expected output or no. TO a prompt to be considered, the prompt need to score 100% accuracy for this evaluation.\n",
    "#### Test set Evaluation\n",
    "After Context Evaluation, how can we make sure that the prompt is not overfitting over the examples? We carefully choose a test set (with inputs and ground truth) from the provided patents manually, then use it as evaluation set for all prmpts, same test set is used for all prompts so we can compare.\n"
   ]
  },
  {
   "cell_type": "code",
   "execution_count": 5,
   "metadata": {},
   "outputs": [],
   "source": [
    "from prompt_evaluation import PromptEvaluator"
   ]
  },
  {
   "cell_type": "markdown",
   "metadata": {},
   "source": [
    "### Evaluating Prompts in the Prompts Directory\n",
    "\n",
    "Given that we have a Prompts directory that contains more than one prompt, we evaluate the prompts and Compare the results so we can choose one of them to parse our patents"
   ]
  },
  {
   "cell_type": "code",
   "execution_count": 4,
   "metadata": {},
   "outputs": [
    {
     "data": {
      "text/html": [
       "<div>\n",
       "<style scoped>\n",
       "    .dataframe tbody tr th:only-of-type {\n",
       "        vertical-align: middle;\n",
       "    }\n",
       "\n",
       "    .dataframe tbody tr th {\n",
       "        vertical-align: top;\n",
       "    }\n",
       "\n",
       "    .dataframe thead th {\n",
       "        text-align: right;\n",
       "    }\n",
       "</style>\n",
       "<table border=\"1\" class=\"dataframe\">\n",
       "  <thead>\n",
       "    <tr style=\"text-align: right;\">\n",
       "      <th></th>\n",
       "      <th>total_overall_accuracy</th>\n",
       "      <th>total_true_predictions</th>\n",
       "      <th>total_miss_predictions</th>\n",
       "      <th>total_false_predictions</th>\n",
       "      <th>number_of_tokens</th>\n",
       "      <th>prompt_id</th>\n",
       "    </tr>\n",
       "  </thead>\n",
       "  <tbody>\n",
       "    <tr>\n",
       "      <th>0</th>\n",
       "      <td>0.96875</td>\n",
       "      <td>18</td>\n",
       "      <td>0</td>\n",
       "      <td>1</td>\n",
       "      <td>101</td>\n",
       "      <td>000</td>\n",
       "    </tr>\n",
       "    <tr>\n",
       "      <th>1</th>\n",
       "      <td>0.96875</td>\n",
       "      <td>18</td>\n",
       "      <td>0</td>\n",
       "      <td>1</td>\n",
       "      <td>103</td>\n",
       "      <td>001</td>\n",
       "    </tr>\n",
       "    <tr>\n",
       "      <th>2</th>\n",
       "      <td>0.96875</td>\n",
       "      <td>18</td>\n",
       "      <td>0</td>\n",
       "      <td>1</td>\n",
       "      <td>111</td>\n",
       "      <td>002</td>\n",
       "    </tr>\n",
       "    <tr>\n",
       "      <th>3</th>\n",
       "      <td>0.90625</td>\n",
       "      <td>17</td>\n",
       "      <td>0</td>\n",
       "      <td>2</td>\n",
       "      <td>112</td>\n",
       "      <td>003</td>\n",
       "    </tr>\n",
       "  </tbody>\n",
       "</table>\n",
       "</div>"
      ],
      "text/plain": [
       "   total_overall_accuracy  total_true_predictions  total_miss_predictions  \\\n",
       "0                 0.96875                      18                       0   \n",
       "1                 0.96875                      18                       0   \n",
       "2                 0.96875                      18                       0   \n",
       "3                 0.90625                      17                       0   \n",
       "\n",
       "   total_false_predictions  number_of_tokens prompt_id  \n",
       "0                        1               101       000  \n",
       "1                        1               103       001  \n",
       "2                        1               111       002  \n",
       "3                        2               112       003  "
      ]
     },
     "execution_count": 4,
     "metadata": {},
     "output_type": "execute_result"
    }
   ],
   "source": [
    "prompt_evaluator = PromptEvaluator()\n",
    "test_result, context_test_results = prompt_evaluator.evaluate_prompts()\n",
    "\n",
    "test_result"
   ]
  },
  {
   "cell_type": "code",
   "execution_count": 5,
   "metadata": {},
   "outputs": [
    {
     "data": {
      "text/html": [
       "<div>\n",
       "<style scoped>\n",
       "    .dataframe tbody tr th:only-of-type {\n",
       "        vertical-align: middle;\n",
       "    }\n",
       "\n",
       "    .dataframe tbody tr th {\n",
       "        vertical-align: top;\n",
       "    }\n",
       "\n",
       "    .dataframe thead th {\n",
       "        text-align: right;\n",
       "    }\n",
       "</style>\n",
       "<table border=\"1\" class=\"dataframe\">\n",
       "  <thead>\n",
       "    <tr style=\"text-align: right;\">\n",
       "      <th></th>\n",
       "      <th>total_overall_accuracy</th>\n",
       "      <th>total_true_predictions</th>\n",
       "      <th>total_miss_predictions</th>\n",
       "      <th>total_false_predictions</th>\n",
       "      <th>number_of_tokens</th>\n",
       "      <th>prompt_id</th>\n",
       "    </tr>\n",
       "  </thead>\n",
       "  <tbody>\n",
       "    <tr>\n",
       "      <th>0</th>\n",
       "      <td>1.0</td>\n",
       "      <td>8</td>\n",
       "      <td>0</td>\n",
       "      <td>0</td>\n",
       "      <td>101</td>\n",
       "      <td>000</td>\n",
       "    </tr>\n",
       "    <tr>\n",
       "      <th>1</th>\n",
       "      <td>1.0</td>\n",
       "      <td>8</td>\n",
       "      <td>0</td>\n",
       "      <td>0</td>\n",
       "      <td>103</td>\n",
       "      <td>001</td>\n",
       "    </tr>\n",
       "    <tr>\n",
       "      <th>2</th>\n",
       "      <td>1.0</td>\n",
       "      <td>8</td>\n",
       "      <td>0</td>\n",
       "      <td>0</td>\n",
       "      <td>111</td>\n",
       "      <td>002</td>\n",
       "    </tr>\n",
       "    <tr>\n",
       "      <th>3</th>\n",
       "      <td>1.0</td>\n",
       "      <td>8</td>\n",
       "      <td>0</td>\n",
       "      <td>0</td>\n",
       "      <td>112</td>\n",
       "      <td>003</td>\n",
       "    </tr>\n",
       "  </tbody>\n",
       "</table>\n",
       "</div>"
      ],
      "text/plain": [
       "   total_overall_accuracy  total_true_predictions  total_miss_predictions  \\\n",
       "0                     1.0                       8                       0   \n",
       "1                     1.0                       8                       0   \n",
       "2                     1.0                       8                       0   \n",
       "3                     1.0                       8                       0   \n",
       "\n",
       "   total_false_predictions  number_of_tokens prompt_id  \n",
       "0                        0               101       000  \n",
       "1                        0               103       001  \n",
       "2                        0               111       002  \n",
       "3                        0               112       003  "
      ]
     },
     "execution_count": 5,
     "metadata": {},
     "output_type": "execute_result"
    }
   ],
   "source": [
    "context_test_results"
   ]
  },
  {
   "cell_type": "markdown",
   "metadata": {},
   "source": [
    "#### Results discussin\n",
    "\n",
    "Since this isonly a prototype, and also The examples needs to be choosed be domain experts, I included 4 prompts to ocmpare, and Evaluation results seems like they are almost similar, Let's choose Prompt number 003 to parse our patents "
   ]
  },
  {
   "cell_type": "markdown",
   "metadata": {},
   "source": [
    "# Parsing Patents "
   ]
  },
  {
   "cell_type": "code",
   "execution_count": 1,
   "metadata": {},
   "outputs": [],
   "source": [
    "from basf_measurement_parser import BASFMeasurementParser\n",
    "from prompt_evaluation import *\n",
    "from prompt_builder import *\n"
   ]
  },
  {
   "cell_type": "markdown",
   "metadata": {},
   "source": [
    "### Using prompt builder  to build the prompt \n",
    "\n",
    " "
   ]
  },
  {
   "cell_type": "code",
   "execution_count": 2,
   "metadata": {},
   "outputs": [],
   "source": [
    "chat_prompt, prompt, examples  = PromptBuilder.build_prompt_from_dir(\"003\") # We use prompt 003, change to to any prompt ID "
   ]
  },
  {
   "cell_type": "code",
   "execution_count": 3,
   "metadata": {},
   "outputs": [
    {
     "data": {
      "text/plain": [
       "{'text': \"You are given a text from chemistry research patent, extract all the measurements and it's context mentioned in the text. Only Extract Measurement context, Unit and Value ranges.\\nOnly extract measurements that have value and units.\\nIf you find no measurements, return [].\",\n",
       " 'output_format': \"Your output should follow be a list of json objects, good output format : [ { 'measurement ' : 'string ', 'unit ' : 'string ', 'value ' : 'string ' }, { 'measurement ' : 'string ', 'unit ' : 'string ', 'value ' : 'string ' }\"}"
      ]
     },
     "execution_count": 3,
     "metadata": {},
     "output_type": "execute_result"
    }
   ],
   "source": [
    "prompt"
   ]
  },
  {
   "cell_type": "markdown",
   "metadata": {},
   "source": [
    "## Then we use the Measurements Parser to parse the text\n",
    "\n",
    "During this process, every step is logged in a log file, check the log file at logging directory with the Prompt id and Chunk size. For example, we are using prompt_id = '003' and chunk size: 6000, log file should be under the name **\"parsing_logs_003_6000_logs.log\"**"
   ]
  },
  {
   "cell_type": "code",
   "execution_count": 6,
   "metadata": {},
   "outputs": [],
   "source": [
    "measurement_parser = BASFMeasurementParser(prompt=chat_prompt, prompt_id=\"003\", chunk_size=6000)\n"
   ]
  },
  {
   "cell_type": "code",
   "execution_count": null,
   "metadata": {},
   "outputs": [],
   "source": [
    "text_to_be_parser = \"Data/text_data_ipa221229_5_patents.txt\" # We use first 5 patents as a test \n",
    "\n",
    "# We pass the output formate to be used with the prompt, output forrmate instructions should be with the prompt file \n",
    "patents_text_results = measurement_parser.parse_txt_by_chunks(file_path=text_to_be_parser, output_format=prompt[\"output_format\"])\n"
   ]
  },
  {
   "cell_type": "markdown",
   "metadata": {},
   "source": [
    "#### Parsing Results in Structured Format"
   ]
  },
  {
   "cell_type": "code",
   "execution_count": 40,
   "metadata": {},
   "outputs": [
    {
     "data": {
      "text/html": [
       "<div>\n",
       "<style scoped>\n",
       "    .dataframe tbody tr th:only-of-type {\n",
       "        vertical-align: middle;\n",
       "    }\n",
       "\n",
       "    .dataframe tbody tr th {\n",
       "        vertical-align: top;\n",
       "    }\n",
       "\n",
       "    .dataframe thead th {\n",
       "        text-align: right;\n",
       "    }\n",
       "</style>\n",
       "<table border=\"1\" class=\"dataframe\">\n",
       "  <thead>\n",
       "    <tr style=\"text-align: right;\">\n",
       "      <th></th>\n",
       "      <th>measurement</th>\n",
       "      <th>unit</th>\n",
       "      <th>value</th>\n",
       "    </tr>\n",
       "  </thead>\n",
       "  <tbody>\n",
       "    <tr>\n",
       "      <th>0</th>\n",
       "      <td>amplicon pacbio sequencing coverage</td>\n",
       "      <td>%</td>\n",
       "      <td>90</td>\n",
       "    </tr>\n",
       "    <tr>\n",
       "      <th>1</th>\n",
       "      <td>molecular lop replicate strain typings concord...</td>\n",
       "      <td>%</td>\n",
       "      <td>10</td>\n",
       "    </tr>\n",
       "    <tr>\n",
       "      <th>2</th>\n",
       "      <td>paralel testing betwen molecular lop and tradi...</td>\n",
       "      <td>%</td>\n",
       "      <td>98.2</td>\n",
       "    </tr>\n",
       "    <tr>\n",
       "      <th>3</th>\n",
       "      <td>analytical sensitivity/specificity heat-inacti...</td>\n",
       "      <td>%</td>\n",
       "      <td>96.23</td>\n",
       "    </tr>\n",
       "    <tr>\n",
       "      <th>4</th>\n",
       "      <td>analytical sensitivity/specificity heat-inacti...</td>\n",
       "      <td>%</td>\n",
       "      <td>9.97</td>\n",
       "    </tr>\n",
       "    <tr>\n",
       "      <th>...</th>\n",
       "      <td>...</td>\n",
       "      <td>...</td>\n",
       "      <td>...</td>\n",
       "    </tr>\n",
       "    <tr>\n",
       "      <th>113</th>\n",
       "      <td>pipe strength</td>\n",
       "      <td>mpa</td>\n",
       "      <td>267 to 282</td>\n",
       "    </tr>\n",
       "    <tr>\n",
       "      <th>114</th>\n",
       "      <td>pipe defect</td>\n",
       "      <td>None</td>\n",
       "      <td>None</td>\n",
       "    </tr>\n",
       "    <tr>\n",
       "      <th>115</th>\n",
       "      <td>yield strength after 96-h imersion</td>\n",
       "      <td>mpa</td>\n",
       "      <td>367 to 418</td>\n",
       "    </tr>\n",
       "    <tr>\n",
       "      <th>116</th>\n",
       "      <td>tensile strength in 50 c., 70%</td>\n",
       "      <td>mpa</td>\n",
       "      <td>8 to 34</td>\n",
       "    </tr>\n",
       "    <tr>\n",
       "      <th>117</th>\n",
       "      <td>sulfuric acid grouping</td>\n",
       "      <td>None</td>\n",
       "      <td>None</td>\n",
       "    </tr>\n",
       "  </tbody>\n",
       "</table>\n",
       "<p>118 rows × 3 columns</p>\n",
       "</div>"
      ],
      "text/plain": [
       "                                           measurement  unit       value\n",
       "0                  amplicon pacbio sequencing coverage     %          90\n",
       "1    molecular lop replicate strain typings concord...     %          10\n",
       "2    paralel testing betwen molecular lop and tradi...     %        98.2\n",
       "3    analytical sensitivity/specificity heat-inacti...     %       96.23\n",
       "4    analytical sensitivity/specificity heat-inacti...     %        9.97\n",
       "..                                                 ...   ...         ...\n",
       "113                                      pipe strength   mpa  267 to 282\n",
       "114                                        pipe defect  None        None\n",
       "115                 yield strength after 96-h imersion   mpa  367 to 418\n",
       "116                     tensile strength in 50 c., 70%   mpa     8 to 34\n",
       "117                             sulfuric acid grouping  None        None\n",
       "\n",
       "[118 rows x 3 columns]"
      ]
     },
     "execution_count": 40,
     "metadata": {},
     "output_type": "execute_result"
    }
   ],
   "source": [
    "patents_text_results[0]"
   ]
  },
  {
   "cell_type": "markdown",
   "metadata": {},
   "source": [
    "#### Faulty Predictions "
   ]
  },
  {
   "cell_type": "code",
   "execution_count": 19,
   "metadata": {},
   "outputs": [
    {
     "name": "stdout",
     "output_type": "stream",
     "text": [
      "44 predictions with bad JSON format\n",
      "\n"
     ]
    },
    {
     "data": {
      "text/plain": [
       "['[{\"measurement\": \"refractory metal oxide support surface area\", \"unit\": \"m^2/g\", \"value\": \"100 to 200\"},\\n{\"measurement\": \"coated Substrate support\", \"unit\": \"g/in\", \"value\": \"1.5 to 7.0\"},\\n{\"measurement\": \"Alumina BET surface area\", \"unit\": \"m/g\", \"value\": \"200\"}]',\n",
       " '[{\"measurement\": \"nucleic acid sequencing\", \"unit\": \"\", \"value\": \"\"}, {\"measurement\": \"rt-pcr\", \"unit\": \"\", \"value\": \"\"}, {\"measurement\": \"pacbio sequencing\", \"unit\": \"\", \"value\": \"\"}, {\"measurement\": \"geographic location identification\", \"unit\": \"\", \"value\": \"\"}, {\"measurement\": \"barcode linkage\", \"unit\": \"\", \"value\": \"\"}, {\"measurement\": \"prevalence tracking\", \"unit\": \"\", \"value\": \"\"}, {\"measurement\": \"correlation of variants with infectivity and disease severity\", \"unit\": \"\", \"value\": \"\"}, {\"measurement\": \"data deposition\", \"unit\": \"\", \"value\": \"\"}, {\"measurement\": \"cdc database\", \"unit\": \"\", \"value\": \"\"}]',\n",
       " '[ \\n{ \"measurement\": \"surface area\", \"unit\": \"m^2/g\", \"value\": \"5 to 350\" },\\n{ \"measurement\": \"coated Substrate support\", \"unit\": \"g/in\", \"value\": \"1.5 to 7.0\" },\\n{ \"measurement\": \"Alumina BET surface area\", \"unit\": \"m/g\", \"value\": \"200\" },\\n{ \"measurement\": \"nitrogen oxide surface area\", \"unit\": \"m^2/g\", \"value\": \"30 and 80\" },\\n{ \"measurement\": \"polypeptide concentration\", \"unit\": \"g/ml\", \"value\": \"1 to 9\" }\\n]',\n",
       " '[{\\n    \"measurement\": \"tiling primer spacing\",\\n    \"unit\": \"bp\",\\n    \"value\": \"60\"\\n}, {\\n    \"measurement\": \"viral genome coverage\",\\n    \"unit\": \"%\",\\n    \"value\": \"80, 85, 90, 95\"\\n}, {\\n    \"measurement\": \"probe spacing\",\\n    \"unit\": \"bp\",\\n    \"value\": \"10, 20, 30, 40, 50, 60, 70, 80, 90 or more than 1,0\"\\n}, {\\n    \"measurement\": \"probe tiled percentage\",\\n    \"unit\": \"%\",\\n    \"value\": \"greater than 9\"\\n}, {\\n    \"measurement\": \"viral genome coverage\",\\n    \"unit\": \"%\",\\n    \"value\": \"80, 85, 90\"\\n}]',\n",
       " '[\\n  {\\n    \"measurement\": \"geographic location\",\\n    \"unit\": \"\",\\n    \"value\": \"\"\\n  },\\n  {\\n    \"measurement\": \"polypeptide concentration\",\\n    \"unit\": \"g/ml\",\\n    \"value\": \"1 to 9\"\\n  },\\n  {\\n    \"measurement\": \"nitrogen oxide surface area\",\\n    \"unit\": \"m^2/g\",\\n    \"value\": \"30 and 80\"\\n  },\\n  {\\n    \"measurement\": \"refractory metal oxide support surface area\",\\n    \"unit\": \"m^2/g\",\\n    \"value\": \"100 to 200\"\\n  },\\n  {\\n    \"measurement\": \"coated Substrate support\",\\n    \"unit\": \"g/in\",\\n    \"value\": \"1.5 to 7.0\"\\n  }\\n]',\n",
       " '[ \\n{ \"measurement\": \"surface area\", \"unit\": \"m^2/g\", \"value\": \"5 and about 350\"},\\n{ \"measurement\": \"coated Substrate support\", \"unit\": \"g/in\", \"value\": \"about 1.5 to about 7.0\"},\\n{ \"measurement\": \"coated Substrate support\", \"unit\": \"g/in\", \"value\": \"between about 3 and 6\"},\\n{ \"measurement\": \"Alumina BET surface area\", \"unit\": \"m/g\", \"value\": \"about 200\"},\\n{ \"measurement\": \"polypeptide concentration\", \"unit\": \"g/ml\", \"value\": \"1 to 9\"},\\n{ \"measurement\": \"nitrogen oxide surface area\", \"unit\": \"m^2/g\", \"value\": \"between about 30 and 80\"},\\n{ \"measurement\": \"probe dna template spacing\", \"unit\": \"base pairs\", \"value\": \"about 10, or 20, or 30, or 40, or 50, or 60, or 70, or 80, or 90 or more than 1,0\"},\\n{ \"measurement\": \"probe dna template spacing\", \"unit\": \"base pairs\", \"value\": \"within this range (e.g., 450, 50, 650 or 750)\"},\\n{ \"measurement\": \"probes tiled across\", \"unit\": \"% of the 30 kb sars-cov-2 viral genome\", \"value\": \"greater than 9% (e.g., 9.6%)\"} \\n]',\n",
       " '\"measurement\": \"system nucleic acid sequencing time\", \"unit\": \"hr\", \"value\": \"15\",\\n\"measurement\": \"system surface area\", \"unit\": \"m^2/g\", \"value\": \"unknown\",\\n\"measurement\": \"sample-specific nucleic acid sequencing time\", \"unit\": \"hr\", \"value\": \"unknown\"',\n",
       " '[{\"measurement\": \"genome coverage\", \"unit\": \"%\", \"value\": \"at least 90\"},\\n{\"measurement\": \"sample-level fastq file\", \"unit\": \"NA\", \"value\": \"NA\"},\\n{\"measurement\": \"consensus sequence coverage\", \"unit\": \"cs reads\", \"value\": \"4\"},\\n{\"measurement\": \"alternate allele frequency\", \"unit\": \"%\", \"value\": \"50\"},\\n{\"measurement\": \"production batch specimens\", \"unit\": \"NA\", \"value\": \"768\"}]',\n",
       " '[{\"measurement\": \"incubation step temperature\", \"unit\": \"c.\", \"value\": \"25\"},\\n {\"measurement\": \"incubation time\", \"unit\": \"min\", \"value\": \"10\"},\\n {\"measurement\": \"incubation step temperature\", \"unit\": \"c.\", \"value\": \"50\"},\\n {\"measurement\": \"incubation time\", \"unit\": \"min\", \"value\": \"50\"},\\n {\"measurement\": \"incubation step temperature\", \"unit\": \"c.\", \"value\": \"95\"},\\n {\"measurement\": \"incubation time\", \"unit\": \"min\", \"value\": \"1\"},\\n {\"measurement\": \"incubation step temperature\", \"unit\": \"c.\", \"value\": \"5\"},\\n {\"measurement\": \"incubation time\", \"unit\": \"hours\", \"value\": \"16-24\"},\\n {\"measurement\": \"hybridization conditions incubation time\", \"unit\": \"minutes\", \"value\": \"60\"},\\n {\"measurement\": \"exonuclease digestion incubation times\", \"unit\": \"shown in table 2\", \"value\": \"NA\"},\\n {\"measurement\": \"incubation step temperature\", \"unit\": \"c.\", \"value\": \"45\"},\\n {\"measurement\": \"incubation time\", \"unit\": \"hr\", \"value\": \"1\"},\\n {\"measurement\": \"incubation step temperature\", \"unit\": \"c.\", \"value\": \"95\"},\\n {\"measurement\": \"incubation time\", \"unit\": \"min\", \"value\": \"3\"},\\n {\"measurement\": \"incubation step temperature\", \"unit\": \"c.\", \"value\": \"4\"},\\n {\"measurement\": \"incubation step temperature\", \"unit\": \"c.\", \"value\": \"95\"},\\n {\"measurement\": \"incubation time\", \"unit\": \"min\", \"value\": \"1\"},\\n {\"measurement\": \"incubation step temperature\", \"unit\": \"c.\", \"value\": \"98\"},\\n {\"measurement\": \"incubation time\", \"unit\": \"sec\", \"value\": \"15\"},\\n {\"measurement\": \"incubation step temperature\", \"unit\": \"c.\", \"value\": \"5\"},\\n {\"measurement\": \"incubation time\", \"unit\": \"sec\", \"value\": \"15\"},\\n {\"measurement\": \"incubation step temperature\", \"unit\": \"c.\", \"value\": \"72\"},\\n {\"measurement\": \"incubation time\", \"unit\": \"sec\", \"value\": \"90\"},\\n {\"measurement\": \"incubation step temperature\", \"unit\": \"c.\", \"value\": \"4\"},\\n {\"measurement\": \"poling\", \"unit\": \"NA\", \"value\": \"NA\"},\\n {\"measurement\": \"ampure pb bead\", \"unit\": \"NA\", \"value\": \"NA\"},\\n {\"measurement\": \"incubation time\", \"unit\": \"min\", \"value\": \"5\"},\\n {\"measurement\": \"smrtbel library preparation\", \"unit\": \"NA\", \"value\": \"NA\"},\\n {\"measurement\": \"DNA prep buffer incubation temperature\", \"unit\": \"c.\", \"value\": \"37\"},\\n {\"measurement\": \"DNA prep buffer incubation time\", \"unit\": \"minutes\", \"value\": \"30\"},\\n {\"measurement\": \"end prep mix incubation temperature\", \"unit\": \"c.\", \"value\": \"20\"},\\n {\"measurement\": \"end prep mix incubation time\", \"unit\": \"minutes\", \"value\": \"30\"},\\n {\"measurement\": \"end prep mix incubation temperature\", \"unit\": \"c.\", \"value\": \"65\"},\\n {\"measurement\": \"end prep mix incubation time\", \"unit\": \"minutes\", \"value\": \"30\"},\\n {\"measurement\": \"adapters incubation temperature\", \"unit\": \"c.\", \"value\": \"20\"},\\n {\"measurement\": \"adapters incubation time\", \"unit\": \"minutes\", \"value\": \"60\"},\\n {\"measurement\": \"adapters incubation temperature\", \"unit\": \"c.\", \"value\": \"65\"},\\n {\"measurement\": \"adapters incubation time\", \"unit\": \"minutes\", \"value\": \"10\"},\\n {\"measurement\": \"ampure bead\", \"unit\": \"NA\", \"value\": \"NA\"},\\n {\"measurement\": \"incubation temperature\", \"unit\": \"c.\", \"value\": \"20\"},\\n {\"measurement\": \"incubation temperature\", \"unit\": \"c.\", \"value\": \"65\"},\\n {\"measurement\": \"DNA quantitation\", \"unit\": \"NA\", \"value\": \"NA\"},\\n {\"measurement\": \"pacbio smrtlnk software\", \"unit\": \"NA\", \"value\": \"NA\"},\\n {\"measurement\": \"fastqs\", \"unit\": \"NA\", \"value\": \"NA\"},\\n {\"measurement\": \"genome analysis pipeline\", \"unit\": \"NA\", \"value\": \"NA\"},\\n {\"measurement\": \"genome coverage\", \"unit\": \"%\", \"value\": \">90\"},\\n {\"measurement\": \"mean of median read coverage\", \"unit\": \"cs reads\", \"value\": \">10\"},\\n {\"measurement\": \"intra-asay repeatability\", \"unit\": \"NA\", \"value\": \"NA\"},\\n {\"measurement\": \"strain cal\", \"unit\": \"NA\", \"value\": \"NA\"},\\n {\"measurement\": \"percent genome coverage\", \"unit\": \"%\", \"value\": \"90\"},\\n {\"measurement\": \"read count\", \"unit\": \"NA\", \"value\": \"NA\"},\\n {\"measurement\": \"asymetric barcodes\", \"unit\": \"NA\", \"value\": \"NA\"}]',\n",
       " '[ \\n{\"measurement\": \"lineage percent mising\", \"unit\": \"\", \"value\": \"0.74 to 0.85\"},\\n{\"measurement\": \"lineage avg read depth\", \"unit\": \"\", \"value\": \"58.1 to 96.83\"},\\n{\"measurement\": \"lineage percent mising\", \"unit\": \"\", \"value\": \"0.41\"},\\n{\"measurement\": \"lineage avg read depth\", \"unit\": \"\", \"value\": \"176.36 to 156.59\"},\\n{\"measurement\": \"lineage percent mising\", \"unit\": \"\", \"value\": \"0.74 to 0.52\"},\\n{\"measurement\": \"lineage avg read depth\", \"unit\": \"\", \"value\": \"21.69 to 309.79\"},\\n{\"measurement\": \"lineage percent mising\", \"unit\": \"\", \"value\": \"0.52 to 0.84\"},\\n{\"measurement\": \"lineage avg read depth\", \"unit\": \"\", \"value\": \"48.53 to 93.86\"},\\n{\"measurement\": \"lineage percent mising\", \"unit\": \"\", \"value\": \"0.78 to 1.45\"},\\n{\"measurement\": \"lineage avg read depth\", \"unit\": \"\", \"value\": \"31.2 to 52.21\"},\\n{\"measurement\": \"lineage percent mising\", \"unit\": \"\", \"value\": \"0.53 to 1.34\"},\\n{\"measurement\": \"lineage avg read depth\", \"unit\": \"\", \"value\": \"13.74 to 138.38\"},\\n{\"measurement\": \"lineage percent mising\", \"unit\": \"\", \"value\": \"0.53 to 2.16\"},\\n{\"measurement\": \"lineage avg read depth\", \"unit\": \"\", \"value\": \"13.5 to 294.67\"},\\n{\"measurement\": \"lineage percent mising\", \"unit\": \"\", \"value\": \"0.63 to 0.74\"},\\n{\"measurement\": \"lineage avg read depth\", \"unit\": \"\", \"value\": \"10.93 to 207.5\"},\\n{\"measurement\": \"lineage percent mising\", \"unit\": \"\", \"value\": \"0.74 to 1.54\"},\\n{\"measurement\": \"lineage avg read depth\", \"unit\": \"\", \"value\": \"25.21 to 46.84\"},\\n{\"measurement\": \"lineage percent mising\", \"unit\": \"\", \"value\": \"0.67 to 1.52\"},\\n{\"measurement\": \"lineage avg read depth\", \"unit\": \"\", \"value\": \"2.86 to 28.72\"},\\n{\"measurement\": \"repeatability percent mising\", \"unit\": \"\", \"value\": \"0.84 to 2.16\"},\\n{\"measurement\": \"repeatability avg read depth\", \"unit\": \"\", \"value\": \"7.38 to 309.86\"},\\n{\"measurement\": \"concordance percent mising\", \"unit\": \"\", \"value\": \"0.41 to 67.10\"},\\n{\"measurement\": \"concordance avg read depth\", \"unit\": \"\", \"value\": \"2.86 to 318.59\"} \\n]',\n",
       " '[{\"measurement\": \"samples amplicon sequenced\", \"unit\": \"\", \"value\": \"12\"},\\n{\"measurement\": \"minimum read coverage threshold\", \"unit\": \"\", \"value\": \"4\"},\\n{\"measurement\": \"ilumina concordance\", \"unit\": \"\", \"value\": \"93\"},\\n{\"measurement\": \"ilumina paralel testing\", \"unit\": \"\", \"value\": \"79\"},\\n{\"measurement\": \"samples originaly amplicon sequenced\", \"unit\": \"\", \"value\": \"382\"},\\n{\"measurement\": \"genome coverage\", \"unit\": \"%\", \"value\": \">90\"},\\n{\"measurement\": \"acuracy\", \"unit\": \"%\", \"value\": \"95\"},\\n{\"measurement\": \"read coverage threshold\", \"unit\": \"\", \"value\": \"\"},\\n{\"measurement\": \"average read coverage\", \"unit\": \"\", \"value\": \"\"},\\n{\"measurement\": \"concording results\", \"unit\": \"%\", \"value\": \"98.3\"},\\n{\"measurement\": \"suces rate\", \"unit\": \"%\", \"value\": \"71\"},\\n{\"measurement\": \"matching strain results\", \"unit\": \"%\", \"value\": \"95.3\"},\\n{\"measurement\": \"winter 2020 circulating strain acuracy\", \"unit\": \"%\", \"value\": \"\"},\\n{\"measurement\": \"summer 2021 circulating strain acuracy\", \"unit\": \"%\", \"value\": \"\"},\\n{\"measurement\": \"qc metrics concordant total acuracy\", \"unit\": \"\", \"value\": \"\"},\\n{\"measurement\": \">90% coverage > 10 cs reads\", \"unit\": \"\", \"value\": \"51 51 10%\"},\\n{\"measurement\": \">90% coverage < 10 cs reads\", \"unit\": \"\", \"value\": \"10 13 7%\"},\\n{\"measurement\": \"<90% coverage\", \"unit\": \"\", \"value\": \"2 7 29%\"},\\n{\"measurement\": \"samples sequenced on molecular lop\", \"unit\": \"\", \"value\": \"72\"},\\n{\"measurement\": \"reportable results concordant betwen paralel technologies\", \"unit\": \"%\", \"value\": \"10\"}]',\n",
       " '[{\"measurement\": \"samples nucleic acid input tolerance\", \"unit\": \"cp/l\", \"value\": \"not found\"},\\n{\"measurement\": \"samples nucleic acid input tolerance\", \"unit\": \"ct\", \"value\": \"not found\"},\\n{\"measurement\": \"samples produced genome at 90%\", \"unit\": \"\", \"value\": \"not found\"},\\n{\"measurement\": \"nucleocapsid target #1 (n1) ct value\", \"unit\": \"\", \"value\": \"not found\"},\\n{\"measurement\": \"rna for sequencing\", \"unit\": \"copies\", \"value\": \"10,0\"},\\n{\"measurement\": \"analyte stability samples storage period\", \"unit\": \"weeks\", \"value\": \"4\"},\\n{\"measurement\": \"analyte stability samples storage temperature\", \"unit\": \"°C\", \"value\": \"20\"},\\n{\"measurement\": \"samples re-sequenced\", \"unit\": \"\", \"value\": \"12\"},\\n{\"measurement\": \"reprocessing accuracy\", \"unit\": \"%\", \"value\": \"91.6\"}]',\n",
       " '\"measurement\": \"intermediate bam files length\", \"unit\": \"bp\", \"value\": \"250 to 50\",\\n\"measurement\": \"SARS-CoV-2 reference genome alignment coverage\", \"unit\": \"%\", \"value\": \">90\",\\n\"measurement\": \"mean of median coverage\", \"unit\": \"cs reads\", \"value\": \">10\",\\n\"measurement\": \"ct\", \"unit\": \"NA\", \"value\": \"<31\",\\n\"measurement\": \"genome coverage\", \"unit\": \"%\", \"value\": \">90\",\\n\"measurement\": \"ntc control\", \"unit\": \"NA\", \"value\": \"passing\",\\n\"measurement\": \"potential new variants lineage classification stability\", \"unit\": \"NA\", \"value\": \"rate at which mutated sequences\"}',\n",
       " '[{\"measurement\": \"sampled sequences\", \"unit\": \"\", \"value\": \"up to 10\"},\\n{\"measurement\": \"sampled sequences\", \"unit\": \"\", \"value\": \"10,0\"},\\n{\"measurement\": \"median voc noi concordance\", \"unit\": \"%\", \"value\": \"at least 90%\"}]',\n",
       " '[] (No measurements mentioned in the text)',\n",
       " '[ \\n{ \"measurement\": \"sars-cov-2 cdna concentration\", \"unit\": \"g/ml\", \"value\": \"not found\" }, \\n{ \"measurement\": \"tiled primers spacing\", \"unit\": \"bp\", \"value\": \"approximately 60\" }, \\n{ \"measurement\": \"sars-cov-2 cdna circular consensus sequencing (cs) reads\", \"unit\": \"not found\", \"value\": \">50%\" }, \\n{ \"measurement\": \"sample sar-cov-2 nucleic acid sequencing reads length\", \"unit\": \"bp\", \"value\": \"250-50\" }, \\n{ \"measurement\": \"minimum nucleic acid coverage\", \"unit\": \"%\", \"value\": \"at least 50%\" }, \\n{ \"measurement\": \"nucleic acid sequencing coverage\", \"unit\": \"%\", \"value\": \"at least 80%, or optionally 85%, or optionally 90%\" }, \\n{ \"measurement\": \"sars-cov-2 nucleic acid surface area\", \"unit\": \"not found\", \"value\": \"not found\" }, \\n{ \"measurement\": \"geographic location of the subject\", \"unit\": \"not found\", \"value\": \"not found\" }, \\n{ \"measurement\": \"sars-cov-2 genome sequencing\", \"unit\": \"not found\", \"value\": \"not found\" }, \\n{ \"measurement\": \"nucleic acid sequencing alignment\", \"unit\": \"not found\", \"value\": \"not found\" }, \\n{ \"measurement\": \"sample sar-cov-2 nucleic acid sequencing reads filtering\", \"unit\": \"bp\", \"value\": \"250-50\" }, \\n{ \"measurement\": \"sample sar-cov-2 nucleic acid sequencing reads alignment\", \"unit\": \"not found\", \"value\": \"not found\" }, \\n{ \"measurement\": \"sample sar-cov-2 nucleic acid sequencing reads local realignment\", \"unit\": \"not found\", \"value\": \"not found\" }, \\n{ \"measurement\": \"sample sar-cov-2 nucleic acid sequence base composition determination\", \"unit\": \"not found\", \"value\": \"not found\" } \\n]',\n",
       " '[{\"measurement\": \"gisaid sequences\", \"unit\": \"g\", \"value\": \"10\"}, {\"measurement\": \"gisaid sequences\", \"unit\": \"\", \"value\": \"10,0\"}, {\"measurement\": \"median voc/voi concordance\", \"unit\": \"%\", \"value\": \"at least 90\"}]',\n",
       " '[]',\n",
       " '[ \\n  { \\n    \"measurement\": \"raw hide weight\", \\n    \"unit\": \"not specified\", \\n    \"value\": \"not specified\" \\n  }, \\n  { \\n    \"measurement\": \"polar organic solvent weight\", \\n    \"unit\": \"not specified\", \\n    \"value\": \"2.0 to 8.0 times raw hide weight\" \\n  },\\n  { \\n    \"measurement\": \"molecular sieve weight\", \\n    \"unit\": \"not specified\", \\n    \"value\": \"2.0 to 8.0 times raw hide weight\" \\n  },\\n  { \\n    \"measurement\": \"oxide weight\", \\n    \"unit\": \"% of crust weight\", \\n    \"value\": \"8.0% to 20%\" \\n  },\\n  { \\n    \"measurement\": \"solvent weight\", \\n    \"unit\": \"times crust weight\", \\n    \"value\": \"10 to 16\" \\n  },\\n  { \\n    \"measurement\": \"pdms weight\", \\n    \"unit\": \"times crust weight\", \\n    \"value\": \"5.0 to 12\" \\n  }\\n]',\n",
       " '\"measurement\": \"dehydration time\", \"unit\": \"min\", \"value\": \"90\",\\n\"measurement\": \"activated molecular sieve powder weight\", \"unit\": \"times the weight of raw hide\", \"value\": \"3.5\",\\n\"measurement\": \"water content of dehydrated hide\", \"unit\": \"%\", \"value\": \"2.95\",\\n\"measurement\": \"softness of the crust\", \"unit\": \"m\", \"value\": \"4.69\",\\n\"measurement\": \"silicon dioxide weight\", \"unit\": \"% of weight of crust\", \"value\": \"10\",\\n\"measurement\": \"pdms solution weight\", \"unit\": \"times the weight of crust\", \"value\": \"8.0\",\\n\"measurement\": \"water content of ethanol\", \"unit\": \"%\", \"value\": \"0.97\",\\n\"measurement\": \"water contact angle of taning agent-free leather\", \"unit\": \"degrees\", \"value\": \"shown in fig. 6\",\\n\"measurement\": \"water content of dehydrated hide in comparative example 1\", \"unit\": \"%\", \"value\": \"9.56\",\\n\"measurement\": \"softness of control sample in comparative example 1\", \"unit\": \"m\", \"value\": \"3.61\"',\n",
       " '[\\n  {\\n    \"measurement\": \"weight of the ethanol\",\\n    \"unit\": \"times the weight of the raw hide\",\\n    \"value\": \"6.0\"\\n  },\\n  {\\n    \"measurement\": \"weight of the activated molecular sieve powder\",\\n    \"unit\": \"times the weight of the raw hide\",\\n    \"value\": \"3.5\"\\n  },\\n  {\\n    \"measurement\": \"dehydration time\",\\n    \"unit\": \"min\",\\n    \"value\": \"90\"\\n  },\\n  {\\n    \"measurement\": \"dehydration time\",\\n    \"unit\": \"min\",\\n    \"value\": \"120\"\\n  },\\n  {\\n    \"measurement\": \"water content of the dehydrated hide\",\\n    \"unit\": \"%\",\\n    \"value\": \"3.24\"\\n  },\\n  {\\n    \"measurement\": \"softness of the crust\",\\n    \"unit\": \"m\",\\n    \"value\": \"4.52\"\\n  },\\n  {\\n    \"measurement\": \"weight of the silicon dioxide\",\\n    \"unit\": \"% of a weight of the crust\",\\n    \"value\": \"10\"\\n  },\\n  {\\n    \"measurement\": \"weight of the anhydrous ethanol\",\\n    \"unit\": \"times the weight of the crust\",\\n    \"value\": \"10\"\\n  },\\n  {\\n    \"measurement\": \"weight of the pdms solution\",\\n    \"unit\": \"times the weight of the crust\",\\n    \"value\": \"8.0\"\\n  },\\n  {\\n    \"measurement\": \"wt % pdms solution\",\\n    \"unit\": \"10\",\\n    \"value\": \"5.0\"\\n  },\\n  {\\n    \"measurement\": \"tear force\",\\n    \"unit\": \"n\",\\n    \"value\": \"156.12\"\\n  },\\n  {\\n    \"measurement\": \"tensile strength\",\\n    \"unit\": \"n/m^2\",\\n    \"value\": \"31.80\"\\n  },\\n  {\\n    \"measurement\": \"water contact angle\",\\n    \"unit\": \"\",\\n    \"value\": \"\"\\n  },\\n  {\\n    \"measurement\": \"dehydration time\",\\n    \"unit\": \"min\",\\n    \"value\": \"60\"\\n  },\\n  {\\n    \"measurement\": \"water content of the dehydrated hide\",\\n    \"unit\": \"%\",\\n    \"value\": \"3.48\"\\n  },\\n  {\\n    \"measurement\": \"weight of the titanium dioxide\",\\n    \"unit\": \"% of a weight of the crust\",\\n    \"value\": \"8.0\"\\n  },\\n  {\\n    \"measurement\": \"weight of the anhydrous ethanol\",\\n    \"unit\": \"times the weight of the crust\",\\n    \"value\": \"12\"\\n  },\\n  {\\n    \"measurement\": \"wt % pdms solution\",\\n    \"unit\": \"10\",\\n    \"value\": \"30\"\\n  },\\n  {\\n    \"measurement\": \"tear force\",\\n    \"unit\": \"n\",\\n    \"value\": \"152.16\"\\n  },\\n  {\\n    \"measurement\": \"tensile strength\",\\n    \"unit\": \"n/m^2\",\\n    \"value\": \"30.4\"\\n  },\\n  {\\n    \"measurement\": \"dehydration time\",\\n    \"unit\": \"min\",\\n    \"value\": \"180\"\\n  },\\n  {\\n    \"measurement\": \"water content of the dehydrated hide\",\\n    \"unit\": \"%\",\\n    \"value\": \"2.78\"\\n  },\\n  {\\n    \"measurement\": \"softness of the crust\",\\n    \"unit\": \"m\",\\n    \"value\": \"4.53\"\\n  },\\n  {\\n    \"measurement\": \"weight of the aluminum oxide\",\\n    \"unit\": \"% of a weight of the crust\",\\n    \"value\": \"20\"\\n  },\\n  {\\n    \"measurement\": \"weight of the anhydrous ethanol\",\\n    \"unit\": \"times the weight of the crust\",\\n    \"value\": \"15\"\\n  },\\n  {\\n    \"measurement\": \"wt % pdms solution\",\\n    \"unit\": \"10\",\\n    \"value\": \"60\"\\n  },\\n  {\\n    \"measurement\": \"water contact angle\",\\n    \"unit\": \"\",\\n    \"value\": \"\"\\n  },\\n  {\\n    \"measurement\": \"weight of the molecular sieve particles\",\\n    \"unit\": \"times the weight of the raw hide\",\\n    \"value\": \"4.0\"\\n  },\\n  {\\n    \"measurement\": \"water content of the dehydrated hide\",\\n    \"unit\": \"%\",\\n    \"value\": \"3.45\"\\n  },\\n  {\\n    \"measurement\": \"softness of the crust\",\\n    \"unit\": \"m\",\\n    \"value\": \"4.57\"\\n  },\\n  {\\n    \"measurement\": \"weight of the calcium oxide\",\\n    \"unit\": \"% of a weight of the crust\",\\n    \"value\": \"15\"\\n  },\\n  {\\n    \"measurement\": \"weight of the anhydrous ethanol\",\\n    \"unit\": \"times the weight of the crust\",\\n    \"value\": \"16\"\\n  }\\n]',\n",
       " 'Output: []\\n\\nExplanation: There are no measurements mentioned in the provided text.',\n",
       " '\"measurement\": \"metalurgical vesel surrounding wall surface area\", \"unit\": \"unknown\", \"value\": \"between about 5 and about 350\",\\n\"measurement\": \"coated Substrate support\", \"unit\": \"g/in\", \"value\": \"1.5 to 7.0\",\\n\"measurement\": \"cyclone part and smelt reduction part temperature\", \"unit\": \"unknown\", \"value\": \"not controled wel enough\",\\n\"measurement\": \"introduced oxygen gas in the smelt reduction part\", \"unit\": \"unknown\", \"value\": \"generates enough energy\",\\n\"measurement\": \"introduced combustible gas and oxygen gas mixture\", \"unit\": \"unknown\", \"value\": \"releases a lot of energy during the combustion proces\",\\n\"measurement\": \"introduced combustible gas and oxygen gas mixture temperature\", \"unit\": \"unknown\", \"value\": \"can be controled\",\\n\"measurement\": \"introduced combustible gas\", \"unit\": \"unknown\", \"value\": \"relatively low nitrogen content\",\\n\"measurement\": \"natural gas mixture\", \"unit\": \"%\", \"value\": \"25% natural gas and 75% oxygen gas\",\\n\"measurement\": \"natural gas mixture reduction in CO2\", \"unit\": \"%\", \"value\": \"up to 2%\",\\n\"measurement\": \"natural gas conversion under processing conditions\", \"unit\": \"unknown\", \"value\": \"into carbon dioxide and water\"',\n",
       " '[{\"measurement\": \"circumference of the surounding wal of the cyclone part\", \"unit\": \"\", \"value\": \"\"},\\n{\"measurement\": \"top of the smelt reduction unit\", \"unit\": \"\", \"value\": \"\"},\\n{\"measurement\": \"suply means\", \"unit\": \"\", \"value\": \"\"},\\n{\"measurement\": \"oxygen gas\", \"unit\": \"\", \"value\": \"\"},\\n{\"measurement\": \"combustible gas\", \"unit\": \"\", \"value\": \"\"},\\n{\"measurement\": \"group of oxygen gas outlets\", \"unit\": \"\", \"value\": \"\"},\\n{\"measurement\": \"group of combustible gas outlets\", \"unit\": \"\", \"value\": \"\"},\\n{\"measurement\": \"mixture\", \"unit\": \"\", \"value\": \"\"}]',\n",
       " '[]',\n",
       " '\"measurement\": \"sublance diameter\", \"unit\": \"N/A\", \"value\": \"similar to diameter of protecting device\",\\n\"measurement\": \"top lance diameter\", \"unit\": \"N/A\", \"value\": \"larger than diameter of sublance\",\\n\"measurement\": \"metal incrustations gap\", \"unit\": \"N/A\", \"value\": \"prevented by elastic ring seals\",\\n\"measurement\": \"shoulder protection\", \"unit\": \"N/A\", \"value\": \"provided by protective device on sublance\",\\n\"measurement\": \"gap protection\", \"unit\": \"N/A\", \"value\": \"provided by protective device on sublance\"',\n",
       " '[] (no measurements mentioned in the text)',\n",
       " '\"measurement\": \"elongated tube cros-section external diameter\", \"unit\": \"\", \"value\": \"\",\\n\"measurement\": \"outer maximum diameter\", \"unit\": \"\", \"value\": \"\",\\n\"measurement\": \"diameter of circle inscribed by protective device in deformed configuration\", \"unit\": \"\", \"value\": \"\",\\n\"measurement\": \"diameter of iner passage\", \"unit\": \"\", \"value\": \"\",\\n\"measurement\": \"diameter of peripheral tubes\", \"unit\": \"\", \"value\": \"\",\\n\"measurement\": \"diameter of circle inscribed by protective device in initial configuration\", \"unit\": \"\", \"value\": \"\",\\n\"measurement\": \"diameter of elongated tube cavity\", \"unit\": \"\", \"value\": \"\",\\n\"measurement\": \"diameter of sublance cavity\", \"unit\": \"\", \"value\": \"\",\\n\"measurement\": \"diameter of fixed element\", \"unit\": \"\", \"value\": \"\",\\n\"measurement\": \"diameter of probe holder\", \"unit\": \"\", \"value\": \"\",\\n\"measurement\": \"diameter of electrical connection\", \"unit\": \"\", \"value\": \"\"',\n",
       " '\"measurement\": \"distal end cros-section diameter\", \"unit\": \"NA\", \"value\": \"d1\",\\n\"measurement\": \"coupling portion maximum diameter\", \"unit\": \"NA\", \"value\": \"d1\",\\n\"measurement\": \"cavity diameter\", \"unit\": \"NA\", \"value\": \"d2\",\\n\"measurement\": \"outer maximum diameter of protective device in initial configuration\", \"unit\": \"NA\", \"value\": \"d3o\",\\n\"measurement\": \"outer maximum diameter of deformed protective device\", \"unit\": \"NA\", \"value\": \"d3d\",\\n\"measurement\": \"diameter of iner pasage of the protective device\", \"unit\": \"NA\", \"value\": \"d3i\"',\n",
       " '\"measurement\": \"seamless stel pipe outer diameter\", \"unit\": \"m\", \"value\": \"138.9\",\\n\"measurement\": \"seamless stel pipe wall thickness\", \"unit\": \"m\", \"value\": \"10.8\",\\n\"measurement\": \"normalizing heat treatment temperature\", \"unit\": \"°C\", \"value\": \"950\",\\n\"measurement\": \"corrosion test specimen length\", \"unit\": \"m\", \"value\": \"30\",\\n\"measurement\": \"corrosion test specimen width\", \"unit\": \"m\", \"value\": \"20\",\\n\"measurement\": \"corrosion test specimen thickness\", \"unit\": \"m\", \"value\": \"5\"',\n",
       " '[{\"measurement\": \"seamless steel pipe yield strength\", \"unit\": \"MPa\", \"value\": \"230 or more\"},\\n{\"measurement\": \"seamless steel pipe tensile strength\", \"unit\": \"MPa\", \"value\": \"380 or more\"},\\n{\"measurement\": \"seamless steel pipe composition c\", \"unit\": \"mas %\", \"value\": \"0.02 to 0.12\"},\\n{\"measurement\": \"seamless steel pipe composition si\", \"unit\": \"mas %\", \"value\": \"0.010 to 1.0\"},\\n{\"measurement\": \"seamless steel pipe composition mn\", \"unit\": \"mas %\", \"value\": \"0.10 to 2.0\"},\\n{\"measurement\": \"seamless steel pipe composition p\", \"unit\": \"mas %\", \"value\": \"0.050 or less\"},\\n{\"measurement\": \"seamless steel pipe composition s\", \"unit\": \"mas %\", \"value\": \"0.04 or less\"},\\n{\"measurement\": \"seamless steel pipe composition al\", \"unit\": \"mas %\", \"value\": \"0.010 to 0.10\"},\\n{\"measurement\": \"seamless steel pipe composition cu\", \"unit\": \"mas %\", \"value\": \"0.03 to 0.80\"},\\n{\"measurement\": \"seamless steel pipe composition ni\", \"unit\": \"mas %\", \"value\": \"0.02 to 0.50\"},\\n{\"measurement\": \"seamless steel pipe composition cr\", \"unit\": \"mas %\", \"value\": \"0.5 to 1.0\"},\\n{\"measurement\": \"seamless steel pipe composition sb\", \"unit\": \"mas %\", \"value\": \"0.05 to 0.20\"},\\n{\"measurement\": \"seamless steel pipe composition w\", \"unit\": \"mas %\", \"value\": \"0.03 to 0.040\"}]',\n",
       " '[\\n    {\\n        \"measurement\": \"cu concentration\",\\n        \"unit\": \"mas %\",\\n        \"value\": \"N/A\"\\n    },\\n    {\\n        \"measurement\": \"cr concentration\",\\n        \"unit\": \"mas %\",\\n        \"value\": \"N/A\"\\n    },\\n    {\\n        \"measurement\": \"sb concentration\",\\n        \"unit\": \"mas %\",\\n        \"value\": \"N/A\"\\n    },\\n    {\\n        \"measurement\": \"w concentration\",\\n        \"unit\": \"mas %\",\\n        \"value\": \"N/A\"\\n    },\\n    {\\n        \"measurement\": \"sn concentration\",\\n        \"unit\": \"mas %\",\\n        \"value\": \"0.05 to 0.5\"\\n    },\\n    {\\n        \"measurement\": \"yield strength\",\\n        \"unit\": \"mpa\",\\n        \"value\": \"230 or more\"\\n    },\\n    {\\n        \"measurement\": \"tensile strength\",\\n        \"unit\": \"mpa\",\\n        \"value\": \"380 or more\"\\n    },\\n    {\\n        \"measurement\": \"cast piece rectangular cross section heating temperature\",\\n        \"unit\": \"c\",\\n        \"value\": \"1,0 to 1,20\"\\n    },\\n    {\\n        \"measurement\": \"heated cast piece into steel pipe material heating temperature\",\\n        \"unit\": \"c\",\\n        \"value\": \"1,10 to 1,30\"\\n    },\\n    {\\n        \"measurement\": \"normalizing temperature\",\\n        \"unit\": \"c\",\\n        \"value\": \"850 to 1,050\"\\n    },\\n    {\\n        \"measurement\": \"heating time cast piece rectangular cross section to heating temperature\",\\n        \"unit\": \"hours\",\\n        \"value\": \"at least 1.5\"\\n    },\\n    {\\n        \"measurement\": \"heating time cast piece circular cross section to heating temperature\",\\n        \"unit\": \"hours\",\\n        \"value\": \"at least 1.5\"\\n    },\\n    {\\n        \"measurement\": \"corrosion test specimen exfoliation rate\",\\n        \"unit\": \"N/A\",\\n        \"value\": \"10% or less\"\\n    },\\n    {\\n        \"measurement\": \"sulfuric acid concentration\",\\n        \"unit\": \"mas %\",\\n        \"value\": \"70\"\\n    }\\n]',\n",
       " '[{\"measurement\": \"c content\", \"unit\": \"%\", \"value\": \"0.02 to 0.12\"},\\n{\"measurement\": \"si content\", \"unit\": \"%\", \"value\": \"0.010 to 1.0\"},\\n{\"measurement\": \"mn content\", \"unit\": \"%\", \"value\": \"0.10 to 2.0\"},\\n{\"measurement\": \"p content\", \"unit\": \"%\", \"value\": \"0.050 or less\"},\\n{\"measurement\": \"s content\", \"unit\": \"%\", \"value\": \"0.04 or less\"},\\n{\"measurement\": \"al content\", \"unit\": \"%\", \"value\": \"0.010 to 0.10\"},\\n{\"measurement\": \"cu content\", \"unit\": \"%\", \"value\": \"0.03 to 0.80\"},\\n{\"measurement\": \"ni content\", \"unit\": \"%\", \"value\": \"0.02 to 0.50\"}]',\n",
       " '[\\n{\"measurement\": \"cr content\", \"unit\": \"%\", \"value\": \"0.5 to 1.0\"},\\n{\"measurement\": \"sb content\", \"unit\": \"%\", \"value\": \"0.05 to 0.20\"},\\n{\"measurement\": \"w content\", \"unit\": \"%\", \"value\": \"0.03 to 0.040\"},\\n{\"measurement\": \"sn content\", \"unit\": \"%\", \"value\": \"0.05 to 0.5\"},\\n{\"measurement\": \"h content\", \"unit\": \"%\", \"value\": \"0.05\"},\\n{\"measurement\": \"o content\", \"unit\": \"%\", \"value\": \"0.04\"},\\n{\"measurement\": \"co content\", \"unit\": \"%\", \"value\": \"0.01\"},\\n{\"measurement\": \"as content\", \"unit\": \"%\", \"value\": \"0.06\"},\\n{\"measurement\": \"zr content\", \"unit\": \"%\", \"value\": \"0.04\"},\\n{\"measurement\": \"ag content\", \"unit\": \"%\", \"value\": \"0.01\"},\\n{\"measurement\": \"ta content\", \"unit\": \"%\", \"value\": \"0.04\"},\\n{\"measurement\": \"pb content\", \"unit\": \"%\", \"value\": \"0.05\"}\\n]',\n",
       " '[]',\n",
       " '[{\"measurement\": \"cu concentration\", \"unit\": \"mas %\", \"value\": null},\\n{\"measurement\": \"cr concentration\", \"unit\": \"mas %\", \"value\": null},\\n{\"measurement\": \"sb concentration\", \"unit\": \"mas %\", \"value\": null},\\n{\"measurement\": \"w concentration\", \"unit\": \"mas %\", \"value\": null},\\n{\"measurement\": \"yield strength\", \"unit\": \"MPa\", \"value\": \"230 or more\"},\\n{\"measurement\": \"tensile strength\", \"unit\": \"MPa\", \"value\": \"380 or more\"},\\n{\"measurement\": \"heating temperature\", \"unit\": \"°C\", \"value\": \"1,0 to 1,20\"},\\n{\"measurement\": \"heating temperature\", \"unit\": \"°C\", \"value\": \"1,050 or more\"},\\n{\"measurement\": \"heating temperature\", \"unit\": \"°C\", \"value\": \"1,10 or more\"},\\n{\"measurement\": \"heating temperature\", \"unit\": \"°C\", \"value\": \"1,190 or less\"}]',\n",
       " '[{\"measurement\": \"heating time from 90 c. to heating temperature\", \"unit\": \"hours\", \"value\": \"at least 1.5\"},\\n{\"measurement\": \"heating time from 90 c. to the target heating temperature of bilet roling\", \"unit\": \"hours\", \"value\": \"at least 1.5\"},\\n{\"measurement\": \"heating time\", \"unit\": \"hours\", \"value\": \"at least 2.0\"},\\n{\"measurement\": \"heating time\", \"unit\": \"hours\", \"value\": \"not more than 3.0\"},\\n{\"measurement\": \"hot roling end temperature\", \"unit\": \"°C\", \"value\": \"not particularly limited\"},\\n{\"measurement\": \"heating temperature of cast-piece heat treatment\", \"unit\": \"°C\", \"value\": \"1,0 to 1,20\"},\\n{\"measurement\": \"heating temperature\", \"unit\": \"°C\", \"value\": \"at least 1,050\"},\\n{\"measurement\": \"heating temperature\", \"unit\": \"°C\", \"value\": \"not more than 1,180\"},\\n{\"measurement\": \"heating time from 90 c. to the target heating temperature of cast-piece heat treatment\", \"unit\": \"hours\", \"value\": \"at least 1.5\"},\\n{\"measurement\": \"heating time\", \"unit\": \"hours\", \"value\": \"at least 2.0\"},\\n{\"measurement\": \"heating time\", \"unit\": \"hours\", \"value\": \"not more than 3.0\"},\\n{\"measurement\": \"stel pipe material heating temperature\", \"unit\": \"°C\", \"value\": \"1,10 to 1,30\"}]',\n",
       " '[\\n   {\\n      \"measurement\": \"steel pipe material heating temperature\",\\n      \"unit\": \"°C\",\\n      \"value\": \"1150 or more\"\\n   },\\n   {\\n      \"measurement\": \"steel pipe material heating temperature\",\\n      \"unit\": \"°C\",\\n      \"value\": \"1200 or more\"\\n   },\\n   {\\n      \"measurement\": \"steel pipe material heating temperature\",\\n      \"unit\": \"°C\",\\n      \"value\": \"1300 or less\"\\n   },\\n   {\\n      \"measurement\": \"hot rolling temperature\",\\n      \"unit\": \"°C\",\\n      \"value\": \"80 or more\"\\n   },\\n   {\\n      \"measurement\": \"hot rolling temperature\",\\n      \"unit\": \"°C\",\\n      \"value\": \"830 or more\"\\n   },\\n   {\\n      \"measurement\": \"normalizing temperature\",\\n      \"unit\": \"°C\",\\n      \"value\": \"850 to 1050\"\\n   },\\n   {\\n      \"measurement\": \"normalizing temperature\",\\n      \"unit\": \"°C\",\\n      \"value\": \"80 or more\"\\n   },\\n   {\\n      \"measurement\": \"normalizing temperature\",\\n      \"unit\": \"°C\",\\n      \"value\": \"1050 or less\"\\n   },\\n   {\\n      \"measurement\": \"heating temperature\",\\n      \"unit\": \"°C\",\\n      \"value\": \"190 or 140\"\\n   },\\n   {\\n      \"measurement\": \"heating temperature\",\\n      \"unit\": \"°C\",\\n      \"value\": \"90 or more\"\\n   },\\n   {\\n      \"measurement\": \"heating temperature\",\\n      \"unit\": \"°C\",\\n      \"value\": \"not shown in tables 3, 4, and 5\"\\n   },\\n   {\\n      \"measurement\": \"hot rolling end temperature\",\\n      \"unit\": \"°C\",\\n      \"value\": \"80 or more\"\\n   },\\n   {\\n      \"measurement\": \"hot rolling end temperature\",\\n      \"unit\": \"°C\",\\n      \"value\": \"not shown in tables 3, 4, and 5\"\\n   },\\n   {\\n      \"measurement\": \"steel pipe wall thickness\",\\n      \"unit\": \"m\",\\n      \"value\": \"not shown in tables 3, 4, and 5\"\\n   },\\n   {\\n      \"measurement\": \"steel pipe outer diameter\",\\n      \"unit\": \"m\",\\n      \"value\": \"not shown in tables 3, 4, and 5\"\\n   }\\n]',\n",
       " '[{\"measurement\": \"pipe defect\", \"unit\": \"\", \"value\": \"\"},\\n{\"measurement\": \"yield strength\", \"unit\": \"MPa\", \"value\": \"230 or more\"},\\n{\"measurement\": \"yield strength\", \"unit\": \"MPa\", \"value\": \"250 or more (preferably)\"},\\n{\"measurement\": \"tensile strength\", \"unit\": \"MPa\", \"value\": \"380 or more\"},\\n{\"measurement\": \"tensile strength\", \"unit\": \"MPa\", \"value\": \"40 or more (preferably)\"},\\n{\"measurement\": \"cu* concentration\", \"unit\": \"mas %\", \"value\": \"\"},\\n{\"measurement\": \"cr* concentration\", \"unit\": \"mas %\", \"value\": \"\"},\\n{\"measurement\": \"sb* concentration\", \"unit\": \"mas %\", \"value\": \"\"},\\n{\"measurement\": \"w* concentration\", \"unit\": \"mas %\", \"value\": \"\"},\\n{\"measurement\": \"acceptable range of the values\", \"unit\": \"\", \"value\": \"13.5 or more (preferably 14.0 or more, more preferably 15.0 or more)\"}]',\n",
       " '[{\"measurement\": \"exfoliation rate of corrosion products\", \"unit\": \"%\", \"value\": \"10 or les\"},\\n{\"measurement\": \"exfoliation rate of corrosion products\", \"unit\": \"%\", \"value\": \"8 or les\"},\\n{\"measurement\": \"exfoliation rate of corrosion products\", \"unit\": \"%\", \"value\": \"5 or les\"},\\n{\"measurement\": \"stel pipes surface area\", \"unit\": \"m\", \"value\": \"17.8\"},\\n{\"measurement\": \"stel no. a composition si\", \"unit\": \"%\", \"value\": \"0.2\"},\\n{\"measurement\": \"stel no. a composition mn\", \"unit\": \"%\", \"value\": \"1.12\"},\\n{\"measurement\": \"stel no. a composition p\", \"unit\": \"%\", \"value\": \"0.01\"},\\n{\"measurement\": \"stel no. a composition s\", \"unit\": \"%\", \"value\": \"0.02\"},\\n{\"measurement\": \"stel no. a composition al\", \"unit\": \"%\", \"value\": \"0.021\"},\\n{\"measurement\": \"stel no. a composition cu\", \"unit\": \"%\", \"value\": \"0.38\"},\\n{\"measurement\": \"stel no. a composition ni\", \"unit\": \"%\", \"value\": \"0.29\"},\\n{\"measurement\": \"stel no. a composition cr\", \"unit\": \"%\", \"value\": \"0.64\"},\\n{\"measurement\": \"stel no. a composition sb\", \"unit\": \"%\", \"value\": \"0.09\"},\\n{\"measurement\": \"stel no. a composition w\", \"unit\": \"\", \"value\": \"\"},\\n{\"measurement\": \"stel no. a composition sn\", \"unit\": \"\", \"value\": \"\"},\\n{\"measurement\": \"stel no. a grouping\", \"unit\": \"\", \"value\": \"compliant\"},\\n{\"measurement\": \"stel no. b composition si\", \"unit\": \"%\", \"value\": \"0.23\"},\\n{\"measurement\": \"stel no. b composition mn\", \"unit\": \"%\", \"value\": \"1.1\"},\\n{\"measurement\": \"stel no. b composition p\", \"unit\": \"%\", \"value\": \"0.01\"},\\n{\"measurement\": \"stel no. b composition s\", \"unit\": \"%\", \"value\": \"0.01\"},\\n{\"measurement\": \"stel no. b composition al\", \"unit\": \"%\", \"value\": \"0.023\"},\\n{\"measurement\": \"stel no. b composition cu\", \"unit\": \"%\", \"value\": \"0.37\"},\\n{\"measurement\": \"stel no. b composition ni\", \"unit\": \"%\", \"value\": \"0.28\"},\\n{\"measurement\": \"stel no. b composition cr\", \"unit\": \"%\", \"value\": \"0.65\"},\\n{\"measurement\": \"stel no. b composition sb\", \"unit\": \"%\", \"value\": \"0.09\"},\\n{\"measurement\": \"stel no. b composition w\", \"unit\": \"\", \"value\": \"\"},\\n{\"measurement\": \"stel no. b composition sn\", \"unit\": \"\", \"value\": \"\"},\\n{\"measurement\": \"stel no. b grouping\", \"unit\": \"\", \"value\": \"compliant\"},\\n{\"measurement\": \"stel no. c composition si\", \"unit\": \"%\", \"value\": \"0.58\"},\\n{\"measurement\": \"stel no. c composition mn\", \"unit\": \"%\", \"value\": \"1.28\"},\\n{\"measurement\": \"stel no. c composition p\", \"unit\": \"%\", \"value\": \"0.09\"},\\n{\"measurement\": \"stel no. c composition s\", \"unit\": \"%\", \"value\": \"0.02\"},\\n{\"measurement\": \"stel no. c composition al\", \"unit\": \"%\", \"value\": \"0.039\"},\\n{\"measurement\": \"stel no. c composition cu\", \"unit\": \"%\", \"value\": \"0.2\"},\\n{\"measurement\": \"stel no. c composition ni\", \"unit\": \"%\", \"value\": \"0.13\"},\\n{\"measurement\": \"stel no. c composition cr\", \"unit\": \"%\", \"value\": \"0.79\"},\\n{\"measurement\": \"stel no. c composition sb\", \"unit\": \"%\", \"value\": \"0.06\"},\\n{\"measurement\": \"stel no. c composition w\", \"unit\": \"\", \"value\": \"\"},\\n{\"measurement\": \"stel no. c composition sn\", \"unit\": \"\", \"value\": \"\"},\\n{\"measurement\": \"stel no. c grouping\", \"unit\": \"\", \"value\": \"compliant\"},\\n{\"measurement\": \"stel no. d composition si\", \"unit\": \"%\", \"value\": \"0.29\"},\\n{\"measurement\": \"stel no. d composition mn\", \"unit\": \"%\", \"value\": \"1.34\"},\\n{\"measurement\": \"stel no. d composition p\", \"unit\": \"%\", \"value\": \"0.012\"},\\n{\"measurement\": \"stel no. d composition s\", \"unit\": \"%\", \"value\": \"0.02\"},\\n{\"measurement\": \"stel no. d composition al\", \"unit\": \"%\", \"value\": \"0.03\"},\\n{\"measurement\": \"stel no. d composition cu\", \"unit\": \"%\", \"value\": \"0.3\"},\\n{\"measurement\": \"stel no. d composition ni\", \"unit\": \"%\", \"value\": \"0.28\"},\\n{\"measurement\": \"stel no. d composition cr\", \"unit\": \"%\", \"value\": \"0.7\"},\\n{\"measurement\": \"stel no. d composition sb\", \"unit\": \"%\", \"value\": \"0.05\"},\\n{\"measurement\": \"stel no. d composition w\", \"unit\": \"\", \"value\": \"\"},\\n{\"measurement\": \"stel no. d composition sn\", \"unit\": \"\", \"value\": \"\"},\\n{\"measurement\": \"stel no. d grouping\", \"unit\": \"\", \"value\": \"compliant\"},\\n{\"measurement\": \"stel no. e composition si\", \"unit\": \"%\", \"value\": \"0.4\"},\\n{\"measurement\": \"stel no. e composition mn\", \"unit\": \"%\", \"value\": \"1.39\"},\\n{\"measurement\": \"stel no. e composition p\", \"unit\": \"%\", \"value\": \"0.014\"},\\n{\"measurement\": \"stel no. e composition s\", \"unit\": \"%\", \"value\": \"0.02\"},\\n{\"measurement\": \"stel no. e composition al\", \"unit\": \"%\", \"value\": \"0.036\"},\\n{\"measurement\": \"stel no. e composition cu\", \"unit\": \"%\", \"value\": \"0.4\"},\\n{\"measurement\": \"stel no. e composition ni\", \"unit\": \"%\", \"value\": \"0.24\"},\\n{\"measurement\": \"stel no. e composition cr\", \"unit\": \"%\", \"value\": \"0.59\"},\\n{\"measurement\": \"stel no. e composition sb\", \"unit\": \"%\", \"value\": \"0.09\"},\\n{\"measurement\": \"stel no. e composition w\", \"unit\": \"\", \"value\": \"\"},\\n{\"measurement\": \"stel no. e composition sn\", \"unit\": \"\", \"value\": \"\"},\\n{\"measurement\": \"stel no. e grouping\", \"unit\": \"\", \"value\": \"compliant\"},\\n{\"measurement\": \"stel no. f composition si\", \"unit\": \"%\", \"value\": \"0.31\"},\\n{\"measurement\": \"stel no. f composition mn\", \"unit\": \"%\", \"value\": \"1.18\"},\\n{\"measurement\": \"stel no. f composition p\", \"unit\": \"%\", \"value\": \"0.01\"},\\n{\"measurement\": \"stel no. f composition s\", \"unit\": \"%\", \"value\": \"0.01\"},\\n{\"measurement\": \"stel no. f composition al\", \"unit\": \"%\", \"value\": \"0.02\"},\\n{\"measurement\": \"stel no. f composition cu\", \"unit\": \"%\", \"value\": \"0.34\"},\\n{\"measurement\": \"stel no. f composition ni\", \"unit\": \"%\", \"value\": \"0.16\"},\\n{\"measurement\": \"stel no. f composition cr\", \"unit\": \"%\", \"value\": \"0.63\"},\\n{\"measurement\": \"stel no. f composition sb\", \"unit\": \"%\", \"value\": \"0.04\"},\\n{\"measurement\": \"stel no. f composition w\", \"unit\": \"\", \"value\": \"\"},\\n{\"measurement\": \"stel no. f composition sn\", \"unit\": \"\", \"value\": \"\"},\\n{\"measurement\": \"stel no. f grouping\", \"unit\": \"\", \"value\": \"compliant\"},\\n{\"measurement\": \"stel no. g composition si\", \"unit\": \"%\", \"value\": \"0.58\"},\\n{\"measurement\": \"stel no. g composition mn\", \"unit\": \"%\", \"value\": \"1.19\"},\\n{\"measurement\": \"stel no. g composition p\", \"unit\": \"%\", \"value\": \"0.012\"},\\n{\"measurement\": \"stel no. g composition s\", \"unit\": \"%\", \"value\": \"0.02\"},\\n{\"measurement\": \"stel no. g composition al\", \"unit\": \"%\", \"value\": \"0.021\"},\\n{\"measurement\": \"stel no. g composition cu\", \"unit\": \"%\", \"value\": \"0.18\"},\\n{\"measurement\": \"stel no. g composition ni\", \"unit\": \"%\", \"value\": \"0.2\"},\\n{\"measurement\": \"stel no. g composition cr\", \"unit\": \"%\", \"value\": \"0.7\"},\\n{\"measurement\": \"stel no. g composition sb\", \"unit\": \"%\", \"value\": \"0.08\"},\\n{\"measurement\": \"stel no. g composition w\", \"unit\": \"\", \"value\": \"\"},\\n{\"measurement\": \"stel no. g composition sn\", \"unit\": \"\", \"value\": \"\"},\\n{\"measurement\": \"stel no. g grouping\", \"unit\": \"\", \"value\": \"compliant\"},\\n{\"measurement\": \"stel no. h composition si\", \"unit\": \"%\", \"value\": \"0.81\"},\\n{\"measurement\": \"stel no. h composition mn\", \"unit\": \"%\", \"value\": \"1.34\"},\\n{\"measurement\": \"stel no. h composition p\", \"unit\": \"%\", \"value\": \"0.031\"},\\n{\"measurement\": \"stel no. h composition s\", \"unit\": \"%\", \"value\": \"0.02\"},\\n{\"measurement\": \"stel no. h composition al\", \"unit\": \"%\", \"value\": \"0.02\"},\\n{\"measurement\": \"stel no. h composition cu\", \"unit\": \"%\", \"value\": \"0.24\"},\\n{\"measurement\": \"stel no. h composition ni\", \"unit\": \"%\", \"value\": \"0.07\"},\\n{\"measurement\": \"stel no. h composition cr\", \"unit\": \"%\", \"value\": \"0.71\"},\\n{\"measurement\": \"stel no. h composition sb\", \"unit\": \"%\", \"value\": \"0.07\"},\\n{\"measurement\": \"stel no. h composition w\", \"unit\": \"\", \"value\": \"\"},\\n{\"measurement\": \"stel no. h composition sn\", \"unit\": \"\", \"value\": \"\"},\\n{\"measurement\": \"stel no. h grouping\", \"unit\": \"\", \"value\": \"compliant\"},\\n{\"measurement\": \"stel no. i composition si\", \"unit\": \"%\", \"value\": \"0.2\"},\\n{\"measurement\": \"stel no. i composition mn\", \"unit\": \"%\", \"value\": \"1.28\"},\\n{\"measurement\": \"stel no. i composition p\", \"unit\": \"%\", \"value\": \"0.012\"},\\n{\"measurement\": \"stel no. i composition s\", \"unit\": \"%\", \"value\": \"0.04\"},\\n{\"measurement\": \"stel no. i composition al\", \"unit\": \"%\", \"value\": \"0.017\"},\\n{\"measurement\": \"stel no. i composition cu\", \"unit\": \"%\", \"value\": \"0.36\"},\\n{\"measurement\": \"stel no. i composition ni\", \"unit\": \"%\", \"value\": \"0.19\"},\\n{\"measurement\": \"stel no. i composition cr\", \"unit\": \"%\", \"value\": \"0.69\"},\\n{\"measurement\": \"stel no. i composition sb\", \"unit\": \"%\", \"value\": \"0.01\"},\\n{\"measurement\": \"stel no. i composition w\", \"unit\": \"\", \"value\": \"\"},\\n{\"measurement\": \"stel no. i composition sn\", \"unit\": \"\", \"value\": \"\"},\\n{\"measurement\": \"stel no. i grouping\", \"unit\": \"\", \"value\": \"compliant\"},\\n{\"measurement\": \"stel no. j composition si\", \"unit\": \"%\", \"value\": \"0.1\"},\\n{\"measurement\": \"stel no. j composition mn\", \"unit\": \"%\", \"value\": \"1.02\"},\\n{\"measurement\": \"stel no. j composition p\", \"unit\": \"%\", \"value\": \"0.013\"},\\n{\"measurement\": \"stel no. j composition s\", \"unit\": \"%\", \"value\": \"0.02\"},\\n{\"measurement\": \"stel no. j composition al\", \"unit\": \"%\", \"value\": \"0.02\"},\\n{\"measurement\": \"stel no. j composition cu\", \"unit\": \"%\", \"value\": \"0.36\"},\\n{\"measurement\": \"stel no. j composition ni\", \"unit\": \"%\", \"value\": \"0.28\"},\\n{\"measurement\": \"stel no. j composition cr\", \"unit\": \"%\", \"value\": \"0.71\"},\\n{\"measurement\": \"stel no. j composition sb\", \"unit\": \"%\", \"value\": \"0.08\"},\\n{\"measurement\": \"stel no. j composition w\", \"unit\": \"\", \"value\": \"\"},\\n{\"measurement\": \"stel no. j composition sn\", \"unit\": \"\", \"value\": \"\"},\\n{\"measurement\": \"stel no. j grouping\", \"unit\": \"\", \"value\": \"compliant\"},\\n{\"measurement\": \"stel no. k composition si\", \"unit\": \"%\", \"value\": \"0.47\"},\\n{\"measurement\": \"stel no. k composition mn\", \"unit\": \"%\", \"value\": \"1.13\"},\\n{\"measurement\": \"stel no. k composition p\", \"unit\": \"%\", \"value\": \"0.01\"},\\n{\"measurement\": \"stel no. k composition s\", \"unit\": \"%\", \"value\": \"0.01\"},\\n{\"measurement\": \"stel no. k composition al\", \"unit\": \"%\", \"value\": \"0.021\"},\\n{\"measurement\": \"stel no. k composition cu\", \"unit\": \"%\", \"value\": \"0.4\"},\\n{\"measurement\": \"stel no. k composition ni\", \"unit\": \"%\", \"value\": \"0.3\"},\\n{\"measurement\": \"stel no. k composition cr\", \"unit\": \"%\", \"value\": \"0.62\"},\\n{\"measurement\": \"stel no. k composition sb\", \"unit\": \"%\", \"value\": \"0.09\"},\\n{\"measurement\": \"stel no. k composition w\", \"unit\": \"\", \"value\": \"\"},\\n{\"measurement\": \"stel no. k composition sn\", \"unit\": \"\", \"value\": \"\"},\\n{\"measurement\": \"stel no. k grouping\", \"unit\": \"\", \"value\": \"compliant\"},\\n{\"measurement\": \"stel no. l composition si\", \"unit\": \"%\", \"value\": \"0.21\"},\\n{\"measurement\": \"stel no. l composition mn\", \"unit\": \"%\", \"value\": \"1.46\"},\\n{\"measurement\": \"stel no. l composition p\", \"unit\": \"%\", \"value\": \"0.014\"},\\n{\"measurement\": \"stel no. l composition s\", \"unit\": \"%\", \"value\": \"0.02\"},\\n{\"measurement\": \"stel no. l composition al\", \"unit\": \"%\", \"value\": \"0.02\"},\\n{\"measurement\": \"stel no. l composition cu\", \"unit\": \"%\", \"value\": \"0.4\"},\\n{\"measurement\": \"stel no. l composition ni\", \"unit\": \"%\", \"value\": \"0.29\"},\\n{\"measurement\": \"stel no. l composition cr\", \"unit\": \"%\", \"value\": \"0.61\"},\\n{\"measurement\": \"stel no. l composition sb\", \"unit\": \"%\", \"value\": \"0.08\"},\\n{\"measurement\": \"stel no. l composition w\", \"unit\": \"\", \"value\": \"\"},\\n{\"measurement\": \"stel no. l composition sn\", \"unit\": \"\", \"value\": \"\"},\\n{\"measurement\": \"stel no. l grouping\", \"unit\": \"\", \"value\": \"compliant\"},\\n{\"measurement\": \"stel no. m composition si\", \"unit\": \"%\", \"value\": \"0.62\"},\\n{\"measurement\": \"stel no. m composition mn\", \"unit\": \"%\", \"value\": \"1.24\"},\\n{\"measurement\": \"stel no. m composition p\", \"unit\": \"%\", \"value\": \"0.013\"},\\n{\"measurement\": \"stel no. m composition s\", \"unit\": \"%\", \"value\": \"0.02\"},\\n{\"measurement\": \"stel no. m composition al\", \"unit\": \"%\", \"value\": \"0.037\"},\\n{\"measurement\": \"stel no. m composition cu\", \"unit\": \"%\", \"value\": \"0.39\"},\\n{\"measurement\": \"stel no. m composition ni\", \"unit\": \"%\", \"value\": \"0.25\"},\\n{\"measurement\": \"stel no. m composition cr\", \"unit\": \"%\", \"value\": \"0.8\"},\\n{\"measurement\": \"stel no. m composition sb\", \"unit\": \"%\", \"value\": \"0.05\"},\\n{\"measurement\": \"stel no. m composition w\", \"unit\": \"\", \"value\": \"\"},\\n{\"measurement\": \"stel no. m composition sn\", \"unit\": \"\", \"value\": \"\"},\\n{\"measurement\": \"stel no. m grouping\", \"unit\": \"\", \"value\": \"compliant\"},\\n{\"measurement\": \"stel no. n composition si\", \"unit\": \"%\", \"value\": \"0.3\"},\\n{\"measurement\": \"stel no. n composition mn\", \"unit\": \"%\", \"value\": \"1.32\"},\\n{\"measurement\": \"stel no. n composition p\", \"unit\": \"%\", \"value\": \"0.012\"},\\n{\"measurement\": \"stel no. n composition s\", \"unit\": \"%\", \"value\": \"0.03\"},\\n{\"measurement\": \"stel no. n composition al\", \"unit\": \"%\", \"value\": \"0.051\"},\\n{\"measurement\": \"stel no. n composition cu\", \"unit\": \"%\", \"value\": \"0.28\"},\\n{\"measurement\": \"stel no. n composition ni\", \"unit\": \"%\", \"value\": \"0.14\"},\\n{\"measurement\": \"stel no. n composition cr\", \"unit\": \"%\", \"value\": \"0.6\"},\\n{\"measurement\": \"stel no. n composition sb\", \"unit\": \"%\", \"value\": \"0.1\"},\\n{\"measurement\": \"stel no. n composition w\", \"unit\": \"\", \"value\": \"\"},\\n{\"measurement\": \"stel no. n composition sn\", \"unit\": \"\", \"value\": \"\"},\\n{\"measurement\": \"stel no. n grouping\", \"unit\": \"\", \"value\": \"compliant\"},\\n{\"measurement\": \"stel no. o composition si\", \"unit\": \"%\", \"value\": \"0.04\"},\\n{\"measurement\": \"stel no. o composition mn\", \"unit\": \"%\", \"value\": \"0.39\"},\\n{\"measurement\": \"stel no. o composition p\", \"unit\": \"%\", \"value\": \"0.014\"},\\n{\"measurement\": \"stel no. o composition s\", \"unit\": \"%\", \"value\": \"0.02\"},\\n{\"measurement\": \"stel no. o composition al\", \"unit\": \"%\", \"value\": \"0.023\"},\\n{\"measurement\": \"stel no. o composition cu\", \"unit\": \"%\", \"value\": \"0.04\"},\\n{\"measurement\": \"stel no. o composition ni\", \"unit\": \"%\", \"value\": \"0.04\"},\\n{\"measurement\": \"stel no. o composition cr\", \"unit\": \"%\", \"value\": \"0.91\"},\\n{\"measurement\": \"stel no. o composition sb\", \"unit\": \"%\", \"value\": \"0.16\"},\\n{\"measurement\": \"stel no. o composition w\", \"unit\": \"\", \"value\": \"\"},\\n{\"measurement\": \"stel no. o composition sn\", \"unit\": \"\", \"value\": \"\"},\\n{\"measurement\": \"stel no. o grouping\", \"unit\": \"\", \"value\": \"compliant\"},\\n{\"measurement\": \"stel no. p composition si\", \"unit\": \"%\", \"value\": \"0.03\"},\\n{\"measurement\": \"stel no. p composition mn\", \"unit\": \"%\", \"value\": \"1.86\"},\\n{\"measurement\": \"stel no. p composition p\", \"unit\": \"%\", \"value\": \"0.017\"},\\n{\"measurement\": \"stel no. p composition s\", \"unit\": \"%\", \"value\": \"0.01\"},\\n{\"measurement\": \"stel no. p composition al\", \"unit\": \"%\", \"value\": \"0.012\"},\\n{\"measurement\": \"stel no. p composition cu\", \"unit\": \"%\", \"value\": \"0.65\"},\\n{\"measurement\": \"',\n",
       " '\"measurement\": \"heating stel pipe thickness\", \"unit\": \"m\", \"value\": \"50.8\",\\n\"measurement\": \"heating temp.\", \"unit\": \"c\", \"value\": \"from 90 to 147\",\\n\"measurement\": \"heating time\", \"unit\": \"hr\", \"value\": \"from 1.7 to 2.2\",\\n\"measurement\": \"stel pipe surface area\", \"unit\": \"m^2/g\", \"value\": \"138.9\",\\n\"measurement\": \"bilet roling temp.\", \"unit\": \"c\", \"value\": \"from 925 to 1031\",\\n\"measurement\": \"Bilet wal outer temp.\", \"unit\": \"c\", \"value\": \"from 10.6 to 12.7\",\\n\"measurement\": \"pipe end thickness\", \"unit\": \"m\", \"value\": \"17.8\",\\n\"measurement\": \"polypeptide concentration\", \"unit\": \"g/ml\", \"value\": \"1 to 9\",\\n\"measurement\": \"heating stel pipe thickness\", \"unit\": \"m\", \"value\": \"38.1\",\\n\"measurement\": \"heating temp.\", \"unit\": \"c\", \"value\": \"from 980 to 128\",\\n\"measurement\": \"heating time\", \"unit\": \"hr\", \"value\": \"from 0.3 to 1.8\",\\n\"measurement\": \"stel pipe surface area\", \"unit\": \"m^2/g\", \"value\": \"138.9\",\\n\"measurement\": \"Bilet wal outer temp.\", \"unit\": \"c\", \"value\": \"from 10.6 to 12.7\"',\n",
       " '[ \\n{ \"measurement\": \"stel compositions\", \"unit\": \"\", \"value\": \"within the ranges acording to aspects of the present invention\" },\\n{ \"measurement\": \"formula (1)\", \"unit\": \"\", \"value\": \"satisfied the requirement for formula (1) acording to aspects of the present invention\" },\\n{ \"measurement\": \"formula (2)\", \"unit\": \"\", \"value\": \"satisfied the requirement for formula (2) acording to aspects of the present invention\" },\\n{ \"measurement\": \"defects\", \"unit\": \"\", \"value\": \"not observed in iner and outer surfaces of the stel pipe\" },\\n{ \"measurement\": \"manufacturability\", \"unit\": \"\", \"value\": \"desirable manufacturability by satisfying the required criteria after repair\" },\\n{ \"measurement\": \"yield strength\", \"unit\": \"\", \"value\": \"satisfied the yield strength and tensile strength required as seamles stel pipes for piping\" },\\n{ \"measurement\": \"tensile strength\", \"unit\": \"\", \"value\": \"satisfied the yield strength and tensile strength required as seamles stel pipes for piping\" },\\n{ \"measurement\": \"corosion resistance\", \"unit\": \"\", \"value\": \"desirable sulfuric acid dew-point corosion resistance with an exfoliation rate of corosion products of 10% or les observed after imersion in a sulfuric acid dew-point corosive environment for 96 hours\" },\\n{ \"measurement\": \"c content\", \"unit\": \"\", \"value\": \"exceded the uper limit of the range of the present invention\" },\\n{ \"measurement\": \"si content\", \"unit\": \"\", \"value\": \"exceded the uper limit of the range of the present invention\" },\\n{ \"measurement\": \"cu content\", \"unit\": \"\", \"value\": \"exceded the uper limit of the range of the present invention\" },\\n{ \"measurement\": \"sb content\", \"unit\": \"\", \"value\": \"exceded the uper limit of the range of the present invention\" },\\n{ \"measurement\": \"Sn content\", \"unit\": \"\", \"value\": \"exceded the uper limit of the range of the present invention\" },\\n{ \"measurement\": \"ni content\", \"unit\": \"\", \"value\": \"below the lower limit of the range of the present invention\" },\\n{ \"measurement\": \"mn content\", \"unit\": \"\", \"value\": \"below the lower limit of the range of the present invention\" },\\n{ \"measurement\": \"p content\", \"unit\": \"\", \"value\": \"exceded the uper limit of the range of the present invention\" },\\n{ \"measurement\": \"s content\", \"unit\": \"\", \"value\": \"exceded the uper limit of the range of the present invention\" },\\n{ \"measurement\": \"cr content\", \"unit\": \"\", \"value\": \"exceded the uper limit of the range of the present invention\" },\\n{ \"measurement\": \"w content\", \"unit\": \"\", \"value\": \"exceded the uper limit of the range of the present invention\" },\\n{ \"measurement\": \"mn content\", \"unit\": \"\", \"value\": \"below the lower limit of the range of the present invention\" },\\n{ \"measurement\": \"corosion ocured\", \"unit\": \"\", \"value\": \"severe corosion ocured in the sulfuric acid dew-point corosion test\" },\\n{ \"measurement\": \"exfoliation rate of corosion products\", \"unit\": \"\", \"value\": \"failed to met the target value\" },\\n{ \"measurement\": \"stel pipe material\", \"unit\": \"\", \"value\": \"produced by the tubing and stel pipe heat treatment of as-cast stel pipe material without bilet roling or cast-piece heat treatment after continuous casting\" },\\n{ \"measurement\": \"coarsening of stel microstructure\", \"unit\": \"\", \"value\": \"coarsening of stel microstructure ocured\" }\\n]',\n",
       " '[{\"measurement\": \"normalizing temperature\", \"unit\": \"unknown\", \"value\": \"not given\"},\\n{\"measurement\": \"yield strength\", \"unit\": \"unknown\", \"value\": \"failed to achieve target value\"},\\n{\"measurement\": \"tensile strength\", \"unit\": \"unknown\", \"value\": \"failed to achieve target value\"},\\n{\"measurement\": \"normalizing temperature\", \"unit\": \"unknown\", \"value\": \"exceeded upper limit of the range of present invention\"},\\n{\"measurement\": \"normalizing temperature\", \"unit\": \"unknown\", \"value\": \"below lower limit of the range of present invention\"}]',\n",
       " '[\\n{\"measurement\": \"c composition\", \"unit\": \"mas %\", \"value\": \"0.02 to 0.12\"},\\n{\"measurement\": \"si composition\", \"unit\": \"mas %\", \"value\": \"0.010 to 1.0\"},\\n{\"measurement\": \"mn composition\", \"unit\": \"mas %\", \"value\": \"0.10 to 2.0\"},\\n{\"measurement\": \"p composition\", \"unit\": \"mas %\", \"value\": \"0.050% or les\"},\\n{\"measurement\": \"s composition\", \"unit\": \"mas %\", \"value\": \"0.04% or les\"},\\n{\"measurement\": \"al composition\", \"unit\": \"mas %\", \"value\": \"0.010 to 0.10\"},\\n{\"measurement\": \"cu composition\", \"unit\": \"mas %\", \"value\": \"0.03 to 0.80\"},\\n{\"measurement\": \"ni composition\", \"unit\": \"mas %\", \"value\": \"0.02 to 0.50\"},\\n{\"measurement\": \"cr composition\", \"unit\": \"mas %\", \"value\": \"0.5 to 1.0\"},\\n{\"measurement\": \"sb composition\", \"unit\": \"mas %\", \"value\": \"0.05 to 0.20\"},\\n{\"measurement\": \"yield strength\", \"unit\": \"mpa\", \"value\": \"230 or more\"},\\n{\"measurement\": \"tensile strength\", \"unit\": \"mpa\", \"value\": \"380 or more\"},\\n{\"measurement\": \"c*, cr*, and sb* concentrations\", \"unit\": \"mas %\", \"value\": \"average concentrations of cu, cr, and sb, respectively, in a region 0.5 to 2.0 m away from an outer surface of the stel pipe\"}]']"
      ]
     },
     "execution_count": 19,
     "metadata": {},
     "output_type": "execute_result"
    }
   ],
   "source": [
    "print(f\"{len(patents_text_results[1])} predictions with bad JSON format\\n\")\n",
    "patents_text_results[1]"
   ]
  },
  {
   "cell_type": "markdown",
   "metadata": {},
   "source": [
    "Correct Parsing results aresaved in an Excel file in the output directory, under the name **parsing_results_{prompt_id}_{chunk_size}.xlsx\n",
    "\n",
    "Also incorrect formats are saved in the output directory under the name **parsing_results_{prompt_id}_{chunk_size}_false_json** for further processing"
   ]
  },
  {
   "cell_type": "code",
   "execution_count": 42,
   "metadata": {},
   "outputs": [
    {
     "data": {
      "text/html": [
       "<div>\n",
       "<style scoped>\n",
       "    .dataframe tbody tr th:only-of-type {\n",
       "        vertical-align: middle;\n",
       "    }\n",
       "\n",
       "    .dataframe tbody tr th {\n",
       "        vertical-align: top;\n",
       "    }\n",
       "\n",
       "    .dataframe thead th {\n",
       "        text-align: right;\n",
       "    }\n",
       "</style>\n",
       "<table border=\"1\" class=\"dataframe\">\n",
       "  <thead>\n",
       "    <tr style=\"text-align: right;\">\n",
       "      <th></th>\n",
       "      <th>Unnamed: 0</th>\n",
       "      <th>measurement</th>\n",
       "      <th>unit</th>\n",
       "      <th>value</th>\n",
       "    </tr>\n",
       "  </thead>\n",
       "  <tbody>\n",
       "    <tr>\n",
       "      <th>0</th>\n",
       "      <td>0</td>\n",
       "      <td>amplicon pacbio sequencing coverage</td>\n",
       "      <td>%</td>\n",
       "      <td>90</td>\n",
       "    </tr>\n",
       "    <tr>\n",
       "      <th>1</th>\n",
       "      <td>1</td>\n",
       "      <td>molecular lop replicate strain typings concord...</td>\n",
       "      <td>%</td>\n",
       "      <td>10</td>\n",
       "    </tr>\n",
       "    <tr>\n",
       "      <th>2</th>\n",
       "      <td>2</td>\n",
       "      <td>paralel testing betwen molecular lop and tradi...</td>\n",
       "      <td>%</td>\n",
       "      <td>98.2</td>\n",
       "    </tr>\n",
       "    <tr>\n",
       "      <th>3</th>\n",
       "      <td>3</td>\n",
       "      <td>analytical sensitivity/specificity heat-inacti...</td>\n",
       "      <td>%</td>\n",
       "      <td>96.23</td>\n",
       "    </tr>\n",
       "    <tr>\n",
       "      <th>4</th>\n",
       "      <td>4</td>\n",
       "      <td>analytical sensitivity/specificity heat-inacti...</td>\n",
       "      <td>%</td>\n",
       "      <td>9.97</td>\n",
       "    </tr>\n",
       "    <tr>\n",
       "      <th>...</th>\n",
       "      <td>...</td>\n",
       "      <td>...</td>\n",
       "      <td>...</td>\n",
       "      <td>...</td>\n",
       "    </tr>\n",
       "    <tr>\n",
       "      <th>113</th>\n",
       "      <td>113</td>\n",
       "      <td>pipe strength</td>\n",
       "      <td>mpa</td>\n",
       "      <td>267 to 282</td>\n",
       "    </tr>\n",
       "    <tr>\n",
       "      <th>114</th>\n",
       "      <td>114</td>\n",
       "      <td>pipe defect</td>\n",
       "      <td>NaN</td>\n",
       "      <td>NaN</td>\n",
       "    </tr>\n",
       "    <tr>\n",
       "      <th>115</th>\n",
       "      <td>115</td>\n",
       "      <td>yield strength after 96-h imersion</td>\n",
       "      <td>mpa</td>\n",
       "      <td>367 to 418</td>\n",
       "    </tr>\n",
       "    <tr>\n",
       "      <th>116</th>\n",
       "      <td>116</td>\n",
       "      <td>tensile strength in 50 c., 70%</td>\n",
       "      <td>mpa</td>\n",
       "      <td>8 to 34</td>\n",
       "    </tr>\n",
       "    <tr>\n",
       "      <th>117</th>\n",
       "      <td>117</td>\n",
       "      <td>sulfuric acid grouping</td>\n",
       "      <td>NaN</td>\n",
       "      <td>NaN</td>\n",
       "    </tr>\n",
       "  </tbody>\n",
       "</table>\n",
       "<p>118 rows × 4 columns</p>\n",
       "</div>"
      ],
      "text/plain": [
       "     Unnamed: 0                                        measurement unit  \\\n",
       "0             0                amplicon pacbio sequencing coverage    %   \n",
       "1             1  molecular lop replicate strain typings concord...    %   \n",
       "2             2  paralel testing betwen molecular lop and tradi...    %   \n",
       "3             3  analytical sensitivity/specificity heat-inacti...    %   \n",
       "4             4  analytical sensitivity/specificity heat-inacti...    %   \n",
       "..          ...                                                ...  ...   \n",
       "113         113                                      pipe strength  mpa   \n",
       "114         114                                        pipe defect  NaN   \n",
       "115         115                 yield strength after 96-h imersion  mpa   \n",
       "116         116                     tensile strength in 50 c., 70%  mpa   \n",
       "117         117                             sulfuric acid grouping  NaN   \n",
       "\n",
       "          value  \n",
       "0            90  \n",
       "1            10  \n",
       "2          98.2  \n",
       "3         96.23  \n",
       "4          9.97  \n",
       "..          ...  \n",
       "113  267 to 282  \n",
       "114         NaN  \n",
       "115  367 to 418  \n",
       "116     8 to 34  \n",
       "117         NaN  \n",
       "\n",
       "[118 rows x 4 columns]"
      ]
     },
     "execution_count": 42,
     "metadata": {},
     "output_type": "execute_result"
    }
   ],
   "source": [
    "import pandas as pd \n",
    "excel_output = pd.read_excel('output/parsing_results_003_6000.xlsx')\n",
    "excel_output"
   ]
  },
  {
   "cell_type": "markdown",
   "metadata": {},
   "source": [
    "## Parsing using Document Retriever.\n",
    "\n",
    "It is noticed that some of the predictions are irelevent, we are passing huge number of documents but not all of them are relevent to the task.\n",
    "\n",
    "#### Solution\n",
    "\n",
    "We use Document Retriever with Embeddings, before we send the Documents to the LLM, we Embed them and use the retriever with a prompt to retrieve relevant document (chunks) before sending them to the LLM."
   ]
  },
  {
   "cell_type": "code",
   "execution_count": 4,
   "metadata": {},
   "outputs": [],
   "source": [
    "measurement_parser = BASFMeasurementParser(prompt=chat_prompt, prompt_id=\"003\", chunk_size=6000)\n",
    "text_to_be_parser = \"Data/text_data_ipa221229_5_patents.txt\" # We use first 5 patents as a test \n",
    "\n",
    "# We pass the output formate to be used with the prompt, output forrmate instructions should be with the prompt file \n",
    "patents_text_results = measurement_parser.parse_txt_by_chunks(file_path=text_to_be_parser, output_format=prompt[\"output_format\"], use_retriever=True)\n"
   ]
  },
  {
   "cell_type": "markdown",
   "metadata": {},
   "source": [
    "Results for Parsing with the retriever "
   ]
  },
  {
   "cell_type": "code",
   "execution_count": 5,
   "metadata": {},
   "outputs": [
    {
     "data": {
      "text/html": [
       "<div>\n",
       "<style scoped>\n",
       "    .dataframe tbody tr th:only-of-type {\n",
       "        vertical-align: middle;\n",
       "    }\n",
       "\n",
       "    .dataframe tbody tr th {\n",
       "        vertical-align: top;\n",
       "    }\n",
       "\n",
       "    .dataframe thead th {\n",
       "        text-align: right;\n",
       "    }\n",
       "</style>\n",
       "<table border=\"1\" class=\"dataframe\">\n",
       "  <thead>\n",
       "    <tr style=\"text-align: right;\">\n",
       "      <th></th>\n",
       "      <th>measurement</th>\n",
       "      <th>unit</th>\n",
       "      <th>value</th>\n",
       "    </tr>\n",
       "  </thead>\n",
       "  <tbody>\n",
       "    <tr>\n",
       "      <th>0</th>\n",
       "      <td>sample surface area</td>\n",
       "      <td>m^2/g</td>\n",
       "      <td>5 and about 350</td>\n",
       "    </tr>\n",
       "    <tr>\n",
       "      <th>1</th>\n",
       "      <td>coated Substrate support</td>\n",
       "      <td>g/in</td>\n",
       "      <td>1.5 to 7.0</td>\n",
       "    </tr>\n",
       "    <tr>\n",
       "      <th>2</th>\n",
       "      <td>Alumina BET surface area</td>\n",
       "      <td>m/g</td>\n",
       "      <td>200</td>\n",
       "    </tr>\n",
       "    <tr>\n",
       "      <th>3</th>\n",
       "      <td>nitrogen oxide surface area</td>\n",
       "      <td>m^2/g</td>\n",
       "      <td>30 and 80</td>\n",
       "    </tr>\n",
       "    <tr>\n",
       "      <th>4</th>\n",
       "      <td>polypeptide concentration</td>\n",
       "      <td>g/ml</td>\n",
       "      <td>1 to 9</td>\n",
       "    </tr>\n",
       "    <tr>\n",
       "      <th>5</th>\n",
       "      <td>surface area</td>\n",
       "      <td>m^2/g</td>\n",
       "      <td>13.5 or more, preferably 14.0 or more, more pr...</td>\n",
       "    </tr>\n",
       "    <tr>\n",
       "      <th>6</th>\n",
       "      <td>yield strength</td>\n",
       "      <td>MPa</td>\n",
       "      <td>230 or more, preferably 250 or more</td>\n",
       "    </tr>\n",
       "    <tr>\n",
       "      <th>7</th>\n",
       "      <td>tensile strength</td>\n",
       "      <td>MPa</td>\n",
       "      <td>380 or more, preferably 40 or more</td>\n",
       "    </tr>\n",
       "  </tbody>\n",
       "</table>\n",
       "</div>"
      ],
      "text/plain": [
       "                   measurement   unit  \\\n",
       "0          sample surface area  m^2/g   \n",
       "1     coated Substrate support   g/in   \n",
       "2     Alumina BET surface area    m/g   \n",
       "3  nitrogen oxide surface area  m^2/g   \n",
       "4    polypeptide concentration   g/ml   \n",
       "5                 surface area  m^2/g   \n",
       "6               yield strength    MPa   \n",
       "7             tensile strength    MPa   \n",
       "\n",
       "                                               value  \n",
       "0                                    5 and about 350  \n",
       "1                                         1.5 to 7.0  \n",
       "2                                                200  \n",
       "3                                          30 and 80  \n",
       "4                                             1 to 9  \n",
       "5  13.5 or more, preferably 14.0 or more, more pr...  \n",
       "6                230 or more, preferably 250 or more  \n",
       "7                 380 or more, preferably 40 or more  "
      ]
     },
     "execution_count": 5,
     "metadata": {},
     "output_type": "execute_result"
    }
   ],
   "source": [
    "patents_text_results[0]"
   ]
  },
  {
   "cell_type": "code",
   "execution_count": 6,
   "metadata": {},
   "outputs": [
    {
     "data": {
      "text/plain": [
       "['[] (No measurements found)']"
      ]
     },
     "execution_count": 6,
     "metadata": {},
     "output_type": "execute_result"
    }
   ],
   "source": [
    "patents_text_results[1]"
   ]
  },
  {
   "cell_type": "markdown",
   "metadata": {},
   "source": [
    "#### Resuls Discussion\n",
    "\n",
    "It's noticed number of Chunks sent to the LLM is much lower, normaly we sent 56 Chukns, but with the retriever wwe only sent 4.\n",
    "\n",
    "The extracted measurements seems more relevent and related, however, much less, but it's more reliable."
   ]
  },
  {
   "cell_type": "code",
   "execution_count": null,
   "metadata": {},
   "outputs": [],
   "source": []
  }
 ],
 "metadata": {
  "kernelspec": {
   "display_name": "Python 3 (ipykernel)",
   "language": "python",
   "name": "python3"
  },
  "language_info": {
   "codemirror_mode": {
    "name": "ipython",
    "version": 3
   },
   "file_extension": ".py",
   "mimetype": "text/x-python",
   "name": "python",
   "nbconvert_exporter": "python",
   "pygments_lexer": "ipython3",
   "version": "3.11.0"
  },
  "toc": {
   "base_numbering": 1,
   "nav_menu": {},
   "number_sections": true,
   "sideBar": true,
   "skip_h1_title": false,
   "title_cell": "Table of Contents",
   "title_sidebar": "Contents",
   "toc_cell": false,
   "toc_position": {},
   "toc_section_display": true,
   "toc_window_display": false
  },
  "varInspector": {
   "cols": {
    "lenName": 16,
    "lenType": 16,
    "lenVar": 40
   },
   "kernels_config": {
    "python": {
     "delete_cmd_postfix": "",
     "delete_cmd_prefix": "del ",
     "library": "var_list.py",
     "varRefreshCmd": "print(var_dic_list())"
    },
    "r": {
     "delete_cmd_postfix": ") ",
     "delete_cmd_prefix": "rm(",
     "library": "var_list.r",
     "varRefreshCmd": "cat(var_dic_list()) "
    }
   },
   "types_to_exclude": [
    "module",
    "function",
    "builtin_function_or_method",
    "instance",
    "_Feature"
   ],
   "window_display": false
  }
 },
 "nbformat": 4,
 "nbformat_minor": 4
}
