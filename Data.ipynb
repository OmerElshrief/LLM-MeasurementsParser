{
 "cells": [
  {
   "cell_type": "markdown",
   "metadata": {},
   "source": [
    "# Filtering Patents by Category 'C'\n",
    "\n",
    "We filter patent, First for each big XML file, we split the patents, then we only need Chimestry Patents, so we look for Category C under <section> element, then write each patent in a separate XML file."
   ]
  },
  {
   "cell_type": "code",
   "execution_count": null,
   "metadata": {},
   "outputs": [],
   "source": [
    "import xml.etree.ElementTree as ET\n",
    "\n",
    "# Read the XML file\n",
    "with open(\"Data/ipg150616.xml\", \"r\") as file:\n",
    "    xml_content = file.read()\n",
    "\n",
    "# Split the XML file into separate documents\n",
    "xml_documents = xml_content.split(\"<?xml version=\")\n",
    "\n",
    "# Remove the empty first element\n",
    "xml_documents = xml_documents[1:]\n",
    "\n",
    "# Parse each XML document individually\n",
    "for i, xml_doc in enumerate(xml_documents):\n",
    "    # Add back the XML declaration\n",
    "    xml_doc = \"<?xml version=\" + xml_doc\n",
    "    \n",
    "    # Parse the XML document\n",
    "    root = ET.fromstring(xml_doc)\n",
    "    closels_lvl = root.findall(\".//section\")\n",
    "    if closels_lvl and closels_lvl[0].text.lower().strip()=='c':\n",
    "        print(closels_lvl[0].text)\n",
    "        file1 = open(f\"Data/ipg150616/ipg150616_{closels_lvl[0].text}_{i}.xml\",\"w\")\n",
    "        file1.write(xml_doc)\n",
    "        file1.close()"
   ]
  },
  {
   "cell_type": "markdown",
   "metadata": {},
   "source": [
    "# Transforming XML to TXT\n",
    "\n",
    "From Target patents, we extract text under the elements <description>, <claims>, <abstract>"
   ]
  },
  {
   "cell_type": "code",
   "execution_count": 1,
   "metadata": {},
   "outputs": [],
   "source": [
    "import xml.etree.ElementTree as ET\n",
    "import re\n",
    "import string\n",
    "\n",
    "def extract_text_from_xml(xml_path):\n",
    "    # Parse the XML file\n",
    "    tree = ET.parse(xml_path)\n",
    "    root = tree.getroot()\n",
    "\n",
    "    # Define the namespace used in the XML file\n",
    "    namespace = {\n",
    "        \"us-patent-grant\": \"http://www.w3.org/2005/Atom\",\n",
    "        \"us-bibliographic-data-grant\": \"http://www.w3.org/2005/Atom\",\n",
    "        # Add other namespaces if necessary\n",
    "    }\n",
    "\n",
    "    # Extract all text from the XML\n",
    "    all_text = []\n",
    "    elements  = root.findall(\"description\")\n",
    "    elements.extend(root.findall(\"claims\"))\n",
    "    elements.extend(root.findall('abstract'))\n",
    "\n",
    "    def extract_text(element):\n",
    "        if element.text:\n",
    "            all_text.append(element.text)\n",
    "        for child in element:\n",
    "            extract_text(child)\n",
    "\n",
    "    for element in elements:\n",
    "        extract_text(element)\n",
    "\n",
    "    # Join the extracted text into a single string\n",
    "    extracted_text = \" \".join(all_text)\n",
    "    \n",
    "    return preprocess_text(extracted_text)\n",
    "  \n",
    "\n",
    "def preprocess_text(text):\n",
    "    # Remove repeated characters\n",
    "    text = re.sub(r'(.)\\1+', r'\\1', text)\n",
    "    \n",
    "    # Remove non-English characters\n",
    "    text = ''.join(char for char in text if char in string.printable and char.isascii())\n",
    "    text = text.replace(r\"\\n+\", \"\\n\" )\n",
    "    text = text.replace(r\"\\s+\", \"\\s\" )\n",
    "    \n",
    "    # Remove URLs\n",
    "    text = re.sub(r'http\\S+|www\\S+|https\\S+', '', text)\n",
    "    \n",
    "    return text.lower()"
   ]
  },
  {
   "cell_type": "markdown",
   "metadata": {},
   "source": [
    "## Extractin text from first 20 Patents then write it to TXT file for later usages"
   ]
  },
  {
   "cell_type": "code",
   "execution_count": 2,
   "metadata": {},
   "outputs": [],
   "source": [
    "import os\n",
    "\n",
    "directory = 'Data/ipa221229/'  # Replace with the path to your directory\n",
    "\n",
    "# Get the list of files in the directory\n",
    "file_list = os.listdir(directory)[10:15]\n"
   ]
  },
  {
   "cell_type": "code",
   "execution_count": 3,
   "metadata": {},
   "outputs": [],
   "source": [
    "extract_text_from_xml(\"Data/ipa221229/ipa221229_C_3484.xml\")\n",
    "\n",
    "text = []\n",
    "\n",
    "for file in file_list:\n",
    "    file_name = f\"Data/ipa221229/{file}\"\n",
    "    \n",
    "    text.append(extract_text_from_xml(file_name))\n",
    "    "
   ]
  },
  {
   "cell_type": "code",
   "execution_count": 4,
   "metadata": {},
   "outputs": [],
   "source": [
    "import html\n",
    "\n",
    "with open('Data/text_data_ipa221229_5_patents.txt', 'w', encoding='utf-8') as f:\n",
    "    for line in text:\n",
    "        f.write(html.unescape(line))\n",
    "        f.write('\\n')"
   ]
  }
 ],
 "metadata": {
  "kernelspec": {
   "display_name": "Python 3 (ipykernel)",
   "language": "python",
   "name": "python3"
  },
  "language_info": {
   "codemirror_mode": {
    "name": "ipython",
    "version": 3
   },
   "file_extension": ".py",
   "mimetype": "text/x-python",
   "name": "python",
   "nbconvert_exporter": "python",
   "pygments_lexer": "ipython3",
   "version": "3.11.0"
  },
  "toc": {
   "base_numbering": 1,
   "nav_menu": {},
   "number_sections": true,
   "sideBar": true,
   "skip_h1_title": false,
   "title_cell": "Table of Contents",
   "title_sidebar": "Contents",
   "toc_cell": false,
   "toc_position": {},
   "toc_section_display": true,
   "toc_window_display": false
  },
  "varInspector": {
   "cols": {
    "lenName": 16,
    "lenType": 16,
    "lenVar": 40
   },
   "kernels_config": {
    "python": {
     "delete_cmd_postfix": "",
     "delete_cmd_prefix": "del ",
     "library": "var_list.py",
     "varRefreshCmd": "print(var_dic_list())"
    },
    "r": {
     "delete_cmd_postfix": ") ",
     "delete_cmd_prefix": "rm(",
     "library": "var_list.r",
     "varRefreshCmd": "cat(var_dic_list()) "
    }
   },
   "types_to_exclude": [
    "module",
    "function",
    "builtin_function_or_method",
    "instance",
    "_Feature"
   ],
   "window_display": false
  }
 },
 "nbformat": 4,
 "nbformat_minor": 4
}
