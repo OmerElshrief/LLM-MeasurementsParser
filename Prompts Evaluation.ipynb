{
 "cells": [
  {
   "cell_type": "code",
   "execution_count": 1,
   "metadata": {},
   "outputs": [],
   "source": [
    "from prompt_evaluation import PromptEvaluator"
   ]
  },
  {
   "cell_type": "code",
   "execution_count": 2,
   "metadata": {},
   "outputs": [],
   "source": [
    "prompt_evaluator = PromptEvaluator()"
   ]
  },
  {
   "cell_type": "code",
   "execution_count": 3,
   "metadata": {},
   "outputs": [],
   "source": [
    "test_result, context_test_results = prompt_evaluator.evaluate_prompts()"
   ]
  },
  {
   "cell_type": "code",
   "execution_count": 4,
   "metadata": {},
   "outputs": [
    {
     "data": {
      "text/html": [
       "<div>\n",
       "<style scoped>\n",
       "    .dataframe tbody tr th:only-of-type {\n",
       "        vertical-align: middle;\n",
       "    }\n",
       "\n",
       "    .dataframe tbody tr th {\n",
       "        vertical-align: top;\n",
       "    }\n",
       "\n",
       "    .dataframe thead th {\n",
       "        text-align: right;\n",
       "    }\n",
       "</style>\n",
       "<table border=\"1\" class=\"dataframe\">\n",
       "  <thead>\n",
       "    <tr style=\"text-align: right;\">\n",
       "      <th></th>\n",
       "      <th>total_overall_accuracy</th>\n",
       "      <th>total_true_predictions</th>\n",
       "      <th>total_miss_predictions</th>\n",
       "      <th>total_false_predictions</th>\n",
       "      <th>number_of_tokens</th>\n",
       "      <th>prompt_id</th>\n",
       "    </tr>\n",
       "  </thead>\n",
       "  <tbody>\n",
       "    <tr>\n",
       "      <th>0</th>\n",
       "      <td>0.96875</td>\n",
       "      <td>18</td>\n",
       "      <td>0</td>\n",
       "      <td>5</td>\n",
       "      <td>101</td>\n",
       "      <td>000</td>\n",
       "    </tr>\n",
       "    <tr>\n",
       "      <th>1</th>\n",
       "      <td>0.96875</td>\n",
       "      <td>18</td>\n",
       "      <td>0</td>\n",
       "      <td>1</td>\n",
       "      <td>103</td>\n",
       "      <td>001</td>\n",
       "    </tr>\n",
       "  </tbody>\n",
       "</table>\n",
       "</div>"
      ],
      "text/plain": [
       "   total_overall_accuracy  total_true_predictions  total_miss_predictions  \\\n",
       "0                 0.96875                      18                       0   \n",
       "1                 0.96875                      18                       0   \n",
       "\n",
       "   total_false_predictions  number_of_tokens prompt_id  \n",
       "0                        5               101       000  \n",
       "1                        1               103       001  "
      ]
     },
     "execution_count": 4,
     "metadata": {},
     "output_type": "execute_result"
    }
   ],
   "source": [
    "test_result"
   ]
  },
  {
   "cell_type": "code",
   "execution_count": 6,
   "metadata": {},
   "outputs": [
    {
     "data": {
      "text/html": [
       "<div>\n",
       "<style scoped>\n",
       "    .dataframe tbody tr th:only-of-type {\n",
       "        vertical-align: middle;\n",
       "    }\n",
       "\n",
       "    .dataframe tbody tr th {\n",
       "        vertical-align: top;\n",
       "    }\n",
       "\n",
       "    .dataframe thead th {\n",
       "        text-align: right;\n",
       "    }\n",
       "</style>\n",
       "<table border=\"1\" class=\"dataframe\">\n",
       "  <thead>\n",
       "    <tr style=\"text-align: right;\">\n",
       "      <th></th>\n",
       "      <th>total_overall_accuracy</th>\n",
       "      <th>total_true_predictions</th>\n",
       "      <th>total_miss_predictions</th>\n",
       "      <th>total_false_predictions</th>\n",
       "      <th>number_of_tokens</th>\n",
       "      <th>prompt_id</th>\n",
       "    </tr>\n",
       "  </thead>\n",
       "  <tbody>\n",
       "    <tr>\n",
       "      <th>0</th>\n",
       "      <td>1.0</td>\n",
       "      <td>8</td>\n",
       "      <td>0</td>\n",
       "      <td>0</td>\n",
       "      <td>101</td>\n",
       "      <td>000</td>\n",
       "    </tr>\n",
       "    <tr>\n",
       "      <th>1</th>\n",
       "      <td>1.0</td>\n",
       "      <td>8</td>\n",
       "      <td>0</td>\n",
       "      <td>0</td>\n",
       "      <td>103</td>\n",
       "      <td>001</td>\n",
       "    </tr>\n",
       "  </tbody>\n",
       "</table>\n",
       "</div>"
      ],
      "text/plain": [
       "   total_overall_accuracy  total_true_predictions  total_miss_predictions  \\\n",
       "0                     1.0                       8                       0   \n",
       "1                     1.0                       8                       0   \n",
       "\n",
       "   total_false_predictions  number_of_tokens prompt_id  \n",
       "0                        0               101       000  \n",
       "1                        0               103       001  "
      ]
     },
     "execution_count": 6,
     "metadata": {},
     "output_type": "execute_result"
    }
   ],
   "source": [
    "context_test_results"
   ]
  },
  {
   "cell_type": "code",
   "execution_count": 4,
   "metadata": {},
   "outputs": [],
   "source": [
    "prompt_001_context_evaluation = prompt_evaluator.evaluate_prompt_context(\"001\")"
   ]
  },
  {
   "cell_type": "code",
   "execution_count": 31,
   "metadata": {},
   "outputs": [
    {
     "data": {
      "text/plain": [
       "{'total_overall_accuracy': 1.0,\n",
       " 'total_true_predictions': 8,\n",
       " 'total_miss_predictions': 0,\n",
       " 'total_false_predictions': 0,\n",
       " 'number_of_tokens': 103}"
      ]
     },
     "execution_count": 31,
     "metadata": {},
     "output_type": "execute_result"
    }
   ],
   "source": [
    "prompt_001_context_evaluation[-1]"
   ]
  },
  {
   "cell_type": "code",
   "execution_count": 27,
   "metadata": {},
   "outputs": [],
   "source": [
    "prompt_000_test_evaluation = prompt_evaluator.evaluate_model_with_testset(\"000\")"
   ]
  },
  {
   "cell_type": "code",
   "execution_count": 12,
   "metadata": {},
   "outputs": [
    {
     "data": {
      "text/plain": [
       "[{'input': 'According to one embodiment, the nitrogen oxide storage materials comprise ceria particles having alkaline earth oxides, for example, baria, Supported on the particles, the ceria having a crystallite size of between about 10 and 20 nm and the alkaline earth oxides having a crystallite size of between about 20 and 40 nm. Other suitable alkaline earth oxides include oxides of Mg, Sr. and Ca. In certain embodi ments, the composite particles have a BET surface area of between about 30 and 80 m/g.',\n",
       "  'ground_truth': [{'measurement': 'ceria crystallite size',\n",
       "    'unit': 'nm',\n",
       "    'value': '10 to 20'},\n",
       "   {'measurement': 'alkaline earth oxides crystallite size',\n",
       "    'unit': 'nm',\n",
       "    'value': '20 to 40'},\n",
       "   {'measurement': 'composite particles BET surface area',\n",
       "    'unit': 'm/g',\n",
       "    'value': '30 to 80'}],\n",
       "  'predictions': [{'measurement': 'ceria crystallite size',\n",
       "    'unit': 'nm',\n",
       "    'value': '10 to 20'},\n",
       "   {'measurement': 'alkaline earth oxides crystallite size',\n",
       "    'unit': 'nm',\n",
       "    'value': '20 to 40'},\n",
       "   {'measurement': 'composite particles BET surface area',\n",
       "    'unit': 'm/g',\n",
       "    'value': '30 to 80'}],\n",
       "  'score': [{'measurement': 'ceria crystallite size', 'match': True},\n",
       "   {'measurement': 'alkaline earth oxides crystallite size', 'match': True},\n",
       "   {'measurement': 'composite particles BET surface area', 'match': True},\n",
       "   {'true_predictions': 3,\n",
       "    'accuracy': 1.0,\n",
       "    'missing_predictions': 0,\n",
       "    'false_predicted_samples': 0}]},\n",
       " {'input': 'Desirably, the refractory metal oxide support will have a surface area of between about 5 and about 350 m?g, and more particularly between about 100 and 200 m/g. Typically, the Support will be present on the coated Substrate in the amount of about 1.5 to about 7.0 g/in, for example between about 3 and 6 g/in. A suitable support material for the precious metal is alumina, which may be doped with one or more other materials. Alumina having a BET surface area of about 200 m/g',\n",
       "  'ground_truth': [{'measurement': 'refractory metal oxide support surface area',\n",
       "    'unit': 'm^2/g',\n",
       "    'value': '100 to 200'},\n",
       "   {'measurement': 'coated Substrate support',\n",
       "    'unit': 'g/in',\n",
       "    'value': '1.5 to 7.0'},\n",
       "   {'measurement': 'Alumina BET surface area', 'unit': 'm/g', 'value': '200'}],\n",
       "  'predictions': [{'measurement': 'refractory metal oxide support surface area',\n",
       "    'unit': 'm^2/g',\n",
       "    'value': '100 to 200'},\n",
       "   {'measurement': 'coated Substrate support',\n",
       "    'unit': 'g/in',\n",
       "    'value': '1.5 to 7.0'},\n",
       "   {'measurement': 'Alumina BET surface area', 'unit': 'm/g', 'value': '200'}],\n",
       "  'score': [{'measurement': 'refractory metal oxide support surface area',\n",
       "    'match': True},\n",
       "   {'measurement': 'coated Substrate support', 'match': True},\n",
       "   {'measurement': 'Alumina BET surface area', 'match': True},\n",
       "   {'true_predictions': 3,\n",
       "    'accuracy': 1.0,\n",
       "    'missing_predictions': 0,\n",
       "    'false_predicted_samples': 0}]},\n",
       " {'input': 'In one or more embodiments of the present invention the catalytic component preferably comprises a precious metal component, i.e., a platinum group metal component. Suitable precious metal components include platinum, palladium, rhodium and mixtures thereof. The catalytic component will typically be present in an amount of about 20 to about 200 g/ft, more specifically, about 60 to 120 g/ft.',\n",
       "  'ground_truth': [{'measurement': 'catalytic component amount',\n",
       "    'unit': 'g/ft',\n",
       "    'value': '20 to 200'},\n",
       "   {'measurement': 'catalytic component ammount',\n",
       "    'unit': 'g/ft',\n",
       "    'value': '60 to 120'}],\n",
       "  'predictions': [{'measurement': 'catalytic component amount',\n",
       "    'unit': 'g/ft',\n",
       "    'value': '20 to about 200'},\n",
       "   {'measurement': 'catalytic component amount',\n",
       "    'unit': 'g/ft',\n",
       "    'value': '60 to 120'}],\n",
       "  'score': [{'measurement': 'catalytic component amount', 'match': True},\n",
       "   {'measurement': 'catalytic component ammount', 'match': True},\n",
       "   {'true_predictions': 2,\n",
       "    'accuracy': 1.0,\n",
       "    'missing_predictions': 0,\n",
       "    'false_predicted_samples': 0}]},\n",
       " {'input': 'BaCO, and CeO, were intimately mixed and finely dis persed in a weight ratio of between about 1:3 and about 1:5. Cerium oxide having a BET surface area of between about 50-150 m/g was mixed with a solution of barium acetate such that the BaCO/CeO composite had a BaCO3 content of about 10-30 wt %. After mixing, the suspension of soluble barium acetate and CeO2 was then spray-dried at a tempera ture of between about 90° C. and 120° C. to obtain a solid mixture of barium acetate and ceria.',\n",
       "  'ground_truth': [{'measurement': 'BaCO weight ratio',\n",
       "    'unit': '',\n",
       "    'value': 'between about 1:3 and about 1:5'},\n",
       "   {'measurement': 'BaCO and CeO weight ratio',\n",
       "    'unit': 'weight ratio',\n",
       "    'value': '1:3 to 1:5'},\n",
       "   {'measurement': 'Cerium oxide surface area',\n",
       "    'unit': 'm/g',\n",
       "    'value': '50 to 150'},\n",
       "   {'measurement': 'BaCO3 content in BaCO/CeO composite',\n",
       "    'unit': 'wt',\n",
       "    'value': '10 to 30'}],\n",
       "  'predictions': [{'measurement': 'BaCO weight ratio to CeO',\n",
       "    'unit': 'NA',\n",
       "    'value': '1:3 to 1:5'},\n",
       "   {'measurement': 'Cerium oxide BET surface area',\n",
       "    'unit': 'm/g',\n",
       "    'value': '50-150'},\n",
       "   {'measurement': 'BaCO3 content', 'unit': 'wt %', 'value': '10-30'},\n",
       "   {'measurement': 'Temperature of spray-drying',\n",
       "    'unit': '°C',\n",
       "    'value': '90-120'}],\n",
       "  'score': [{'measurement': 'Cerium oxide surface area', 'match': True},\n",
       "   {'measurement': 'BaCO3 content in BaCO/CeO composite', 'match': True},\n",
       "   {'true_predictions': 2,\n",
       "    'accuracy': 0.5,\n",
       "    'missing_predictions': 0,\n",
       "    'false_predicted_samples': 2}]},\n",
       " {'input': 'According to the data in Tables I and II, an as-prepared BET surface area between 40-60 m/g and a ceria crystal size between about 10- and 20 nm and a BaCO crystallite size of between about 20- and 40 nm yielded the best performance after aging.',\n",
       "  'ground_truth': [{'measurement': 'BET surface area',\n",
       "    'unit': 'm/g',\n",
       "    'value': 'between 40-60'},\n",
       "   {'measurement': 'ceria crystal size',\n",
       "    'unit': 'nm',\n",
       "    'value': 'between about 10- and 20'},\n",
       "   {'measurement': 'BaCO crystallite size',\n",
       "    'unit': 'nm',\n",
       "    'value': 'between about 20- and 40'}],\n",
       "  'predictions': [{'measurement': 'as-prepared BET surface area',\n",
       "    'unit': 'm/g',\n",
       "    'value': '40-60'},\n",
       "   {'measurement': 'ceria crystal size', 'unit': 'nm', 'value': '10-20'},\n",
       "   {'measurement': 'BaCO crystallite size', 'unit': 'nm', 'value': '20-40'}],\n",
       "  'score': [{'measurement': 'BET surface area', 'match': True},\n",
       "   {'measurement': 'ceria crystal size', 'match': True},\n",
       "   {'measurement': 'BaCO crystallite size', 'match': True},\n",
       "   {'true_predictions': 3,\n",
       "    'accuracy': 1.0,\n",
       "    'missing_predictions': 0,\n",
       "    'false_predicted_samples': 0}]},\n",
       " {'input': 'The method of claim 1, wherein the nitrogen oxide storage material has a surface area between about 30 and 80 m^2/g.',\n",
       "  'ground_truth': [{'measurement': 'nitrogen oxide surface area',\n",
       "    'unit': 'm^2/g',\n",
       "    'value': '30 and 80'}],\n",
       "  'predictions': [{'measurement': 'nitrogen oxide surface area',\n",
       "    'unit': 'm^2/g',\n",
       "    'value': '30 and 80'}],\n",
       "  'score': [{'measurement': 'nitrogen oxide surface area', 'match': True},\n",
       "   {'true_predictions': 1,\n",
       "    'accuracy': 1.0,\n",
       "    'missing_predictions': 0,\n",
       "    'false_predicted_samples': 0}]},\n",
       " {'input': 'In a favorite realization the bioproducto is useful for the control of plant fungi. In a materialization of the invention the polypeptide included into the bio-product in the concentration range among 1 to 9 g/ml',\n",
       "  'ground_truth': [{'measurement': 'polypeptide concentration',\n",
       "    'unit': 'g/ml',\n",
       "    'value': '1 to 9'}],\n",
       "  'predictions': [{'measurement': 'polypeptide concentration',\n",
       "    'unit': 'g/ml',\n",
       "    'value': '1 to 9'}],\n",
       "  'score': [{'measurement': 'polypeptide concentration', 'match': True},\n",
       "   {'true_predictions': 1,\n",
       "    'accuracy': 1.0,\n",
       "    'missing_predictions': 0,\n",
       "    'false_predicted_samples': 0}]},\n",
       " {'input': 'The starting RCR mixture contains about 0.01 ng&#x2dc;10 &#x3bc;g of the RCR-ready RNA/mRNA templates, about 0.1&#x2dc;50 U of isolated coronaviral RdRp/helicase, and a proper amount of rNTPs in 1&#xd7;transcription buffer. RdRp/helicase is either an RdRp enzyme with an additional RNA unwinding activity or a mixture of RdRp and helicase.',\n",
       "  'ground_truth': [{'measurement': 'RCR-ready RNA/mRNA templates',\n",
       "    'unit': 'ng-µg',\n",
       "    'value': '0.01-10'},\n",
       "   {'measurement': 'Isolated coronaviral RdRp/helicase',\n",
       "    'unit': 'U (units)',\n",
       "    'value': '0.1-50'}],\n",
       "  'predictions': [{'measurement': 'RCR-ready RNA/mRNA templates',\n",
       "    'unit': 'μg',\n",
       "    'value': '0.01 to 10'},\n",
       "   {'measurement': 'isolated coronaviral RdRp/helicase',\n",
       "    'unit': 'U',\n",
       "    'value': '0.1 to 50'}],\n",
       "  'score': [{'measurement': 'RCR-ready RNA/mRNA templates', 'match': True},\n",
       "   {'measurement': 'Isolated coronaviral RdRp/helicase', 'match': True},\n",
       "   {'true_predictions': 2,\n",
       "    'accuracy': 1.0,\n",
       "    'missing_predictions': 0,\n",
       "    'false_predicted_samples': 0}]},\n",
       " {'total_overall_accuracy': 0.9375,\n",
       "  'total_true_predictions': 17,\n",
       "  'total_miss_predictions': 0,\n",
       "  'total_false_predictions': 2,\n",
       "  'number_of_tokens': 103}]"
      ]
     },
     "execution_count": 12,
     "metadata": {},
     "output_type": "execute_result"
    }
   ],
   "source": [
    "prompt_001_test_evaluation"
   ]
  },
  {
   "cell_type": "code",
   "execution_count": 14,
   "metadata": {},
   "outputs": [],
   "source": [
    "\n",
    "def get_evaluation_results_for_prompt_id(prompt_id):\n",
    "    file_path = f\"Prompts/{prompt_id}/context_evaluation_results.json\"\n",
    "\n",
    "    with open(file_path) as file:\n",
    "        data = json.loads(file.read())\n",
    "    return data[-1]"
   ]
  },
  {
   "cell_type": "code",
   "execution_count": 15,
   "metadata": {},
   "outputs": [],
   "source": [
    "import os \n",
    "import pandas as pd \n",
    "context_evaluation_results = []\n",
    "prompts = os.listdir(\"prompts\")\n",
    "\n",
    "for prompt_id in prompts:\n",
    "    context_evaluation_results.append(get_evaluation_results_for_prompt_id(prompt_id))"
   ]
  },
  {
   "cell_type": "code",
   "execution_count": 13,
   "metadata": {},
   "outputs": [],
   "source": [
    "test_result = pd.DataFrame(evaluation_results)"
   ]
  },
  {
   "cell_type": "code",
   "execution_count": 16,
   "metadata": {},
   "outputs": [],
   "source": [
    "context_evaluation_results = pd.DataFrame(context_evaluation_results)"
   ]
  }
 ],
 "metadata": {
  "kernelspec": {
   "display_name": "Python 3 (ipykernel)",
   "language": "python",
   "name": "python3"
  },
  "language_info": {
   "codemirror_mode": {
    "name": "ipython",
    "version": 3
   },
   "file_extension": ".py",
   "mimetype": "text/x-python",
   "name": "python",
   "nbconvert_exporter": "python",
   "pygments_lexer": "ipython3",
   "version": "3.11.0"
  },
  "toc": {
   "base_numbering": 1,
   "nav_menu": {},
   "number_sections": true,
   "sideBar": true,
   "skip_h1_title": false,
   "title_cell": "Table of Contents",
   "title_sidebar": "Contents",
   "toc_cell": false,
   "toc_position": {},
   "toc_section_display": true,
   "toc_window_display": false
  },
  "varInspector": {
   "cols": {
    "lenName": 16,
    "lenType": 16,
    "lenVar": 40
   },
   "kernels_config": {
    "python": {
     "delete_cmd_postfix": "",
     "delete_cmd_prefix": "del ",
     "library": "var_list.py",
     "varRefreshCmd": "print(var_dic_list())"
    },
    "r": {
     "delete_cmd_postfix": ") ",
     "delete_cmd_prefix": "rm(",
     "library": "var_list.r",
     "varRefreshCmd": "cat(var_dic_list()) "
    }
   },
   "types_to_exclude": [
    "module",
    "function",
    "builtin_function_or_method",
    "instance",
    "_Feature"
   ],
   "window_display": false
  }
 },
 "nbformat": 4,
 "nbformat_minor": 4
}
