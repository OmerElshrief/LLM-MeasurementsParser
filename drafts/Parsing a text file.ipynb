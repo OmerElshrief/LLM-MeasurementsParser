{
 "cells": [
  {
   "cell_type": "markdown",
   "metadata": {},
   "source": []
  },
  {
   "cell_type": "code",
   "execution_count": 54,
   "metadata": {},
   "outputs": [],
   "source": [
    "from basf_measurement_parser import BASFMeasurementParser\n",
    "from prompt_evaluation import *\n",
    "from prompt_builder import *\n",
    "from logger import ParserLogger\n",
    "\n"
   ]
  },
  {
   "cell_type": "code",
   "execution_count": 55,
   "metadata": {},
   "outputs": [],
   "source": [
    "# logger = ParserLogger(\"Data/text_data_ipa221229_30_patents.log\")\n",
    "\n",
    "chat_prompt, prompt, examples  = PromptBuilder.build_prompt_from_dir(\"003\")"
   ]
  },
  {
   "cell_type": "code",
   "execution_count": 56,
   "metadata": {},
   "outputs": [
    {
     "data": {
      "text/plain": [
       "{'text': \"You are given a text from chemistry research patent, extract all the measurements and it's context mentioned in the text. Only Extract Measurement context, Unit and Value ranges.\\nOnly extract measurements that have value and units.\\nIf you find no measurements, return [].\",\n",
       " 'output_format': \"Your output should follow be a list of json objects, good output format : [ { 'measurement ' : 'string ', 'unit ' : 'string ', 'value ' : 'string ' }, { 'measurement ' : 'string ', 'unit ' : 'string ', 'value ' : 'string ' }\"}"
      ]
     },
     "execution_count": 56,
     "metadata": {},
     "output_type": "execute_result"
    }
   ],
   "source": [
    "prompt"
   ]
  },
  {
   "cell_type": "code",
   "execution_count": 57,
   "metadata": {},
   "outputs": [],
   "source": [
    "measurement_parser = BASFMeasurementParser(prompt=chat_prompt, prompt_id=\"003\", chunk_size=6000)\n"
   ]
  },
  {
   "cell_type": "code",
   "execution_count": 5,
   "metadata": {},
   "outputs": [],
   "source": [
    "text = measurement_parser._load_txt_and_split(\"Data/text_data_ipa221229_5_patents.txt\")"
   ]
  },
  {
   "cell_type": "code",
   "execution_count": 58,
   "metadata": {},
   "outputs": [
    {
     "name": "stdout",
     "output_type": "stream",
     "text": [
      "Unexpected exception formatting exception. Falling back to standard exception\n"
     ]
    },
    {
     "name": "stderr",
     "output_type": "stream",
     "text": [
      "Traceback (most recent call last):\n",
      "  File \"C:\\Users\\cm_El\\anaconda3\\envs\\langchain\\Lib\\site-packages\\IPython\\core\\interactiveshell.py\", line 3505, in run_code\n",
      "    exec(code_obj, self.user_global_ns, self.user_ns)\n",
      "  File \"C:\\Users\\cm_El\\AppData\\Local\\Temp\\ipykernel_28096\\4222190929.py\", line 1, in <module>\n",
      "    patents_text_results = measurement_parser.parse_txt_by_chunks(file_path=\"Data/text_data_ipa221229_5_patents.txt\", output_format=prompt[\"output_format\"])\n",
      "                           ^^^^^^^^^^^^^^^^^^^^^^^^^^^^^^^^^^^^^^^^^^^^^^^^^^^^^^^^^^^^^^^^^^^^^^^^^^^^^^^^^^^^^^^^^^^^^^^^^^^^^^^^^^^^^^^^^^^^^^^^^^^^^^^^^\n",
      "  File \"D:\\00Work\\BASF\\challange\\basf_measurement_parser.py\", line 131, in parse_txt_by_chunks\n",
      "    with open(\n",
      "         ^^^^^\n",
      "FileNotFoundError: [Errno 2] No such file or directory: 'output/parsing_results_003_6000_false_json.txt'\n",
      "\n",
      "During handling of the above exception, another exception occurred:\n",
      "\n",
      "Traceback (most recent call last):\n",
      "  File \"C:\\Users\\cm_El\\anaconda3\\envs\\langchain\\Lib\\site-packages\\IPython\\core\\interactiveshell.py\", line 2102, in showtraceback\n",
      "    stb = self.InteractiveTB.structured_traceback(\n",
      "          ^^^^^^^^^^^^^^^^^^^^^^^^^^^^^^^^^^^^^^^^\n",
      "  File \"C:\\Users\\cm_El\\anaconda3\\envs\\langchain\\Lib\\site-packages\\IPython\\core\\ultratb.py\", line 1310, in structured_traceback\n",
      "    return FormattedTB.structured_traceback(\n",
      "           ^^^^^^^^^^^^^^^^^^^^^^^^^^^^^^^^^\n",
      "  File \"C:\\Users\\cm_El\\anaconda3\\envs\\langchain\\Lib\\site-packages\\IPython\\core\\ultratb.py\", line 1199, in structured_traceback\n",
      "    return VerboseTB.structured_traceback(\n",
      "           ^^^^^^^^^^^^^^^^^^^^^^^^^^^^^^^\n",
      "  File \"C:\\Users\\cm_El\\anaconda3\\envs\\langchain\\Lib\\site-packages\\IPython\\core\\ultratb.py\", line 1052, in structured_traceback\n",
      "    formatted_exception = self.format_exception_as_a_whole(etype, evalue, etb, number_of_lines_of_context,\n",
      "                          ^^^^^^^^^^^^^^^^^^^^^^^^^^^^^^^^^^^^^^^^^^^^^^^^^^^^^^^^^^^^^^^^^^^^^^^^^^^^^^^^\n",
      "  File \"C:\\Users\\cm_El\\anaconda3\\envs\\langchain\\Lib\\site-packages\\IPython\\core\\ultratb.py\", line 978, in format_exception_as_a_whole\n",
      "    frames.append(self.format_record(record))\n",
      "                  ^^^^^^^^^^^^^^^^^^^^^^^^^^\n",
      "  File \"C:\\Users\\cm_El\\anaconda3\\envs\\langchain\\Lib\\site-packages\\IPython\\core\\ultratb.py\", line 878, in format_record\n",
      "    frame_info.lines, Colors, self.has_colors, lvals\n",
      "    ^^^^^^^^^^^^^^^^\n",
      "  File \"C:\\Users\\cm_El\\anaconda3\\envs\\langchain\\Lib\\site-packages\\IPython\\core\\ultratb.py\", line 712, in lines\n",
      "    return self._sd.lines\n",
      "           ^^^^^^^^^^^^^^\n",
      "  File \"C:\\Users\\cm_El\\anaconda3\\envs\\langchain\\Lib\\site-packages\\stack_data\\utils.py\", line 145, in cached_property_wrapper\n",
      "    value = obj.__dict__[self.func.__name__] = self.func(obj)\n",
      "                                               ^^^^^^^^^^^^^^\n",
      "  File \"C:\\Users\\cm_El\\anaconda3\\envs\\langchain\\Lib\\site-packages\\stack_data\\core.py\", line 698, in lines\n",
      "    pieces = self.included_pieces\n",
      "             ^^^^^^^^^^^^^^^^^^^^\n",
      "  File \"C:\\Users\\cm_El\\anaconda3\\envs\\langchain\\Lib\\site-packages\\stack_data\\utils.py\", line 145, in cached_property_wrapper\n",
      "    value = obj.__dict__[self.func.__name__] = self.func(obj)\n",
      "                                               ^^^^^^^^^^^^^^\n",
      "  File \"C:\\Users\\cm_El\\anaconda3\\envs\\langchain\\Lib\\site-packages\\stack_data\\core.py\", line 649, in included_pieces\n",
      "    pos = scope_pieces.index(self.executing_piece)\n",
      "                             ^^^^^^^^^^^^^^^^^^^^\n",
      "  File \"C:\\Users\\cm_El\\anaconda3\\envs\\langchain\\Lib\\site-packages\\stack_data\\utils.py\", line 145, in cached_property_wrapper\n",
      "    value = obj.__dict__[self.func.__name__] = self.func(obj)\n",
      "                                               ^^^^^^^^^^^^^^\n",
      "  File \"C:\\Users\\cm_El\\anaconda3\\envs\\langchain\\Lib\\site-packages\\stack_data\\core.py\", line 628, in executing_piece\n",
      "    return only(\n",
      "           ^^^^^\n",
      "  File \"C:\\Users\\cm_El\\anaconda3\\envs\\langchain\\Lib\\site-packages\\executing\\executing.py\", line 164, in only\n",
      "    raise NotOneValueFound('Expected one value, found 0')\n",
      "executing.executing.NotOneValueFound: Expected one value, found 0\n"
     ]
    }
   ],
   "source": [
    "patents_text_results = measurement_parser.parse_txt_by_chunks(file_path=\"Data/text_data_ipa221229_5_patents.txt\", output_format=prompt[\"output_format\"])\n"
   ]
  },
  {
   "cell_type": "code",
   "execution_count": 59,
   "metadata": {},
   "outputs": [
    {
     "ename": "NameError",
     "evalue": "name 'patents_text_results' is not defined",
     "output_type": "error",
     "traceback": [
      "\u001b[1;31m---------------------------------------------------------------------------\u001b[0m",
      "\u001b[1;31mNameError\u001b[0m                                 Traceback (most recent call last)",
      "Cell \u001b[1;32mIn[59], line 1\u001b[0m\n\u001b[1;32m----> 1\u001b[0m patents_text_results\n",
      "\u001b[1;31mNameError\u001b[0m: name 'patents_text_results' is not defined"
     ]
    }
   ],
   "source": [
    "patents_text_results"
   ]
  },
  {
   "cell_type": "code",
   "execution_count": 4,
   "metadata": {},
   "outputs": [],
   "source": [
    "file = open(\"output/parsing_results_54_chunks_prompt_001.txt\")\n",
    "prediction_test = file.read()"
   ]
  },
  {
   "cell_type": "code",
   "execution_count": 5,
   "metadata": {},
   "outputs": [
    {
     "data": {
      "text/plain": [
       "'[     {         \"measurement\": \"surface area\",          \"unit\": \"m^2/g\",          \"value\": \"between about 5 and about 350\"     },      {         \"measurement\": \"surface area\",          \"unit\": \"m/g\",          \"value\": \"between about 30 and 80\"     },     {         \"measurement\": \"coated Substrate support\",          \"unit\": \"g/in\",          \"value\": \"about 1.5 to about 7.0\"     },     {         \"measurement\": \"polypeptide concentration\",          \"unit\": \"g/ml\",          \"value\": \"1 to 9\"     } '"
      ]
     },
     "execution_count": 5,
     "metadata": {},
     "output_type": "execute_result"
    }
   ],
   "source": [
    "prediction_test_list = prediction_test.replace(\"\\n\", \" \").split(']')\n",
    "prediction_test_list[0]"
   ]
  },
  {
   "cell_type": "code",
   "execution_count": 16,
   "metadata": {},
   "outputs": [],
   "source": [
    "import re\n",
    "import ast\n",
    "import string \n",
    "\n",
    "def build_dict_from_json_string(json_str_list):\n",
    "    try:\n",
    "        fixed_json = json.loads(json_str_list)\n",
    "        return fixed_json\n",
    "    except json.JSONDecodeError as e:\n",
    "        # Remove the surrounding square brackets and newlines\n",
    "        clean_string = json_str_list.replace(\"'\", \"\\\"\")\n",
    "\n",
    "        # Safely evaluate the string as a list of dictionaries\n",
    "        dictionary_list = ast.literal_eval(clean_string)\n",
    "        \n",
    "        return dictionary_list"
   ]
  },
  {
   "cell_type": "code",
   "execution_count": 1,
   "metadata": {},
   "outputs": [],
   "source": [
    "prediction = '''[{\"measurement\": \"nucleic acid sequencing\", \"unit\": \"\", \"value\": \"\"},\n",
    "{\"measurement\": \"rt-pcr sequencing\", \"unit\": \"\", \"value\": \"\"},\n",
    "{\"measurement\": \"pacbio sequencing protocol\", \"unit\": \"\", \"value\": \"\"},\n",
    "{\"measurement\": \"geographic location of infected individuals\", \"unit\": \"\", \"value\": \"\"},\n",
    "{\"measurement\": \"barcodes linked to zip code or geographic identifier\", \"unit\": \"\", \"value\": \"\"},\n",
    "{\"measurement\": \"prevalence of variants in infected individuals or general population\", \"unit\": \"\", \"value\": \"\"},\n",
    "{\"measurement\": \"correlation of specific variants with infectivity and disease severity\", \"unit\": \"\", \"value\": \"\"},\n",
    "{\"measurement\": \"data deposition in CDC database\", \"unit\": \"\", \"value\": \"\"}]'''"
   ]
  },
  {
   "cell_type": "code",
   "execution_count": 8,
   "metadata": {},
   "outputs": [
    {
     "data": {
      "text/plain": [
       "' As there are no measurements with units and values in the provided text, no output can be generated. \"measurement\": \"top lance diameter\", \"unit\": \"NA\", \"value\": \"larger than sublance diameter\", \"measurement\": \"sublance diameter\", \"unit\": \"NA\", \"value\": \"NA\", \"measurement\": \"probe parameters\", \"unit\": \"NA\", \"value\": \"NA\", \"measurement\": \"sampling tool parameters\", \"unit\": \"NA\", \"value\": \"NA\" I apologize, but I cannot provide an answer to your request as it seems incomplete and does not provide any text to extract measurements from. Could you please provide the appropriate text? [     {         \"measurement\": \"diameter of top lance distal end\",         \"unit\": null,         \"value\": \"d1\"     },     {         \"measurement\": \"maximum diameter of top lance coupling portion\",         \"unit\": null,         \"value\": \"d1\"     },     {         \"measurement\": \"diameter of sublance cavity\",         \"unit\": null,         \"value\": \"d2\"     },     {         \"measurement\": \"diameter of external cross-section of elongated tube\",         \"unit\": null,         \"value\": \"d2\"     },     {         \"measurement\": \"outer maximum diameter of protective device in initial configuration\",         \"unit\": null,         \"value\": \"d3_o_2_3_o_2_2_3_o_2\"     },     {         \"measurement\": \"diameter of circle inscribing surface that spans over deformed protective device\",         \"unit\": null,         \"value\": \"d3_d_3_d_1\"     },     {         \"measurement\": \"concentration range of polypeptide in bio-product\",         \"unit\": \"g/ml\",         \"value\": \"1 to 9\"     },     {         \"measurement\": \"diameter of refractory metal oxide support surface area\",         \"unit\": \"m^2/g\",         \"value\": \"100 to 200\"     },     {         \"measurement\": \"support material for precious metal\",         \"unit\": null,         \"value\": \"alumina\"     },     {         \"measurement\": \"nitrogen oxide storage material surface area\",         \"unit\": \"m^2/g\",         \"value\": \"30 and 80\"     } '"
      ]
     },
     "execution_count": 8,
     "metadata": {},
     "output_type": "execute_result"
    }
   ],
   "source": [
    "prediction_test_list[30]"
   ]
  },
  {
   "cell_type": "code",
   "execution_count": 47,
   "metadata": {},
   "outputs": [],
   "source": [
    "import json\n",
    "import pandas as pd\n",
    "def post_process_predictions(\n",
    "        predictions: list, return_df=True\n",
    "    ) :\n",
    "        \"\"\"Parse Predictions from LLM to follow JSON format.\n",
    "\n",
    "        We parse the string to load it as JSON, some predictions fails to be parsed as JSON,\n",
    "        they need further post_processing\n",
    "\n",
    "        Args:\n",
    "            predictions (list[str]): List of LLM outputs.\n",
    "            return_df (bool, optional): IF true, returned predictions will be in a DataFrame. Default True.\n",
    "\n",
    "        Returns:\n",
    "            Tuple[dict, dict]: First item is the list of json objects,\n",
    "            second item is predictions failed to be parsed as Json.\n",
    "        \"\"\"\n",
    "        predictions_json = []\n",
    "        false_json = []\n",
    "        for prediction in predictions:\n",
    "            try:\n",
    "                predictions_json.extend(build_dict_from_json_string(prediction))\n",
    "            except Exception as exception:\n",
    "                \n",
    "                false_json.append(prediction)\n",
    "        \n",
    "        return predictions_json, false_json\n",
    "    \n",
    "def post_process_predicions_from_file(prediction_file_path):\n",
    "    \n",
    "    with open(prediction_file_path, encoding=\"utf8\") as file:\n",
    "        predictions = file.read()\n",
    "    \n",
    "    \n",
    "    \n",
    "    prediction_list = predictions.replace(\"\\n\", \" \").split(']')\n",
    "    character = ']'\n",
    "    prediction_list = list(map(lambda item: item + character, prediction_list))\n",
    "    \n",
    "    return post_process_predictions(prediction_list)"
   ]
  },
  {
   "cell_type": "code",
   "execution_count": 48,
   "metadata": {},
   "outputs": [],
   "source": [
    "predictions_json, false_jsons = post_process_predicions_from_file(\"parsing_results_54_chunks_prompt_002.txt\")"
   ]
  },
  {
   "cell_type": "code",
   "execution_count": 50,
   "metadata": {},
   "outputs": [
    {
     "data": {
      "text/html": [
       "<div>\n",
       "<style scoped>\n",
       "    .dataframe tbody tr th:only-of-type {\n",
       "        vertical-align: middle;\n",
       "    }\n",
       "\n",
       "    .dataframe tbody tr th {\n",
       "        vertical-align: top;\n",
       "    }\n",
       "\n",
       "    .dataframe thead th {\n",
       "        text-align: right;\n",
       "    }\n",
       "</style>\n",
       "<table border=\"1\" class=\"dataframe\">\n",
       "  <thead>\n",
       "    <tr style=\"text-align: right;\">\n",
       "      <th></th>\n",
       "      <th>measurement</th>\n",
       "      <th>unit</th>\n",
       "      <th>value</th>\n",
       "      <th>measurement</th>\n",
       "      <th>unit</th>\n",
       "      <th>value</th>\n",
       "      <th>mea...nt</th>\n",
       "      <th>region</th>\n",
       "    </tr>\n",
       "  </thead>\n",
       "  <tbody>\n",
       "    <tr>\n",
       "      <th>0</th>\n",
       "      <td>refractory metal oxide support surface area</td>\n",
       "      <td>m^2/g</td>\n",
       "      <td>5 to 350</td>\n",
       "      <td>NaN</td>\n",
       "      <td>NaN</td>\n",
       "      <td>NaN</td>\n",
       "      <td>NaN</td>\n",
       "      <td>NaN</td>\n",
       "    </tr>\n",
       "    <tr>\n",
       "      <th>1</th>\n",
       "      <td>refractory metal oxide support surface area</td>\n",
       "      <td>m^2/g</td>\n",
       "      <td>100 to 200</td>\n",
       "      <td>NaN</td>\n",
       "      <td>NaN</td>\n",
       "      <td>NaN</td>\n",
       "      <td>NaN</td>\n",
       "      <td>NaN</td>\n",
       "    </tr>\n",
       "    <tr>\n",
       "      <th>2</th>\n",
       "      <td>coated Substrate support</td>\n",
       "      <td>g/in</td>\n",
       "      <td>1.5 to 7.0</td>\n",
       "      <td>NaN</td>\n",
       "      <td>NaN</td>\n",
       "      <td>NaN</td>\n",
       "      <td>NaN</td>\n",
       "      <td>NaN</td>\n",
       "    </tr>\n",
       "    <tr>\n",
       "      <th>3</th>\n",
       "      <td>Alumina BET surface area</td>\n",
       "      <td>m/g</td>\n",
       "      <td>200</td>\n",
       "      <td>NaN</td>\n",
       "      <td>NaN</td>\n",
       "      <td>NaN</td>\n",
       "      <td>NaN</td>\n",
       "      <td>NaN</td>\n",
       "    </tr>\n",
       "    <tr>\n",
       "      <th>4</th>\n",
       "      <td>nitrogen oxide surface area</td>\n",
       "      <td>m^2/g</td>\n",
       "      <td>30 and 80</td>\n",
       "      <td>NaN</td>\n",
       "      <td>NaN</td>\n",
       "      <td>NaN</td>\n",
       "      <td>NaN</td>\n",
       "      <td>NaN</td>\n",
       "    </tr>\n",
       "    <tr>\n",
       "      <th>...</th>\n",
       "      <td>...</td>\n",
       "      <td>...</td>\n",
       "      <td>...</td>\n",
       "      <td>...</td>\n",
       "      <td>...</td>\n",
       "      <td>...</td>\n",
       "      <td>...</td>\n",
       "      <td>...</td>\n",
       "    </tr>\n",
       "    <tr>\n",
       "      <th>609</th>\n",
       "      <td>cr</td>\n",
       "      <td>%</td>\n",
       "      <td>0.5 to 1.0</td>\n",
       "      <td>NaN</td>\n",
       "      <td>NaN</td>\n",
       "      <td>NaN</td>\n",
       "      <td>NaN</td>\n",
       "      <td>NaN</td>\n",
       "    </tr>\n",
       "    <tr>\n",
       "      <th>610</th>\n",
       "      <td>sb</td>\n",
       "      <td>%</td>\n",
       "      <td>0.05 to 0.20</td>\n",
       "      <td>NaN</td>\n",
       "      <td>NaN</td>\n",
       "      <td>NaN</td>\n",
       "      <td>NaN</td>\n",
       "      <td>NaN</td>\n",
       "    </tr>\n",
       "    <tr>\n",
       "      <th>611</th>\n",
       "      <td>cu*, cr*, and sb* composition</td>\n",
       "      <td>%</td>\n",
       "      <td>average concentrations of cu, cr, and sb, resp...</td>\n",
       "      <td>NaN</td>\n",
       "      <td>NaN</td>\n",
       "      <td>NaN</td>\n",
       "      <td>NaN</td>\n",
       "      <td>NaN</td>\n",
       "    </tr>\n",
       "    <tr>\n",
       "      <th>612</th>\n",
       "      <td>yield strength</td>\n",
       "      <td>mpa</td>\n",
       "      <td>230 or more</td>\n",
       "      <td>NaN</td>\n",
       "      <td>NaN</td>\n",
       "      <td>NaN</td>\n",
       "      <td>NaN</td>\n",
       "      <td>NaN</td>\n",
       "    </tr>\n",
       "    <tr>\n",
       "      <th>613</th>\n",
       "      <td>tensile strength</td>\n",
       "      <td>mpa</td>\n",
       "      <td>380 or more</td>\n",
       "      <td>NaN</td>\n",
       "      <td>NaN</td>\n",
       "      <td>NaN</td>\n",
       "      <td>NaN</td>\n",
       "      <td>NaN</td>\n",
       "    </tr>\n",
       "  </tbody>\n",
       "</table>\n",
       "<p>614 rows × 8 columns</p>\n",
       "</div>"
      ],
      "text/plain": [
       "                                     measurement   unit  \\\n",
       "0    refractory metal oxide support surface area  m^2/g   \n",
       "1    refractory metal oxide support surface area  m^2/g   \n",
       "2                       coated Substrate support   g/in   \n",
       "3                       Alumina BET surface area    m/g   \n",
       "4                    nitrogen oxide surface area  m^2/g   \n",
       "..                                           ...    ...   \n",
       "609                                           cr      %   \n",
       "610                                           sb      %   \n",
       "611                cu*, cr*, and sb* composition      %   \n",
       "612                               yield strength    mpa   \n",
       "613                             tensile strength    mpa   \n",
       "\n",
       "                                                 value measurement  unit   \\\n",
       "0                                             5 to 350          NaN   NaN   \n",
       "1                                           100 to 200          NaN   NaN   \n",
       "2                                           1.5 to 7.0          NaN   NaN   \n",
       "3                                                  200          NaN   NaN   \n",
       "4                                            30 and 80          NaN   NaN   \n",
       "..                                                 ...          ...   ...   \n",
       "609                                         0.5 to 1.0          NaN   NaN   \n",
       "610                                       0.05 to 0.20          NaN   NaN   \n",
       "611  average concentrations of cu, cr, and sb, resp...          NaN   NaN   \n",
       "612                                        230 or more          NaN   NaN   \n",
       "613                                        380 or more          NaN   NaN   \n",
       "\n",
       "    value  mea...nt region  \n",
       "0      NaN      NaN    NaN  \n",
       "1      NaN      NaN    NaN  \n",
       "2      NaN      NaN    NaN  \n",
       "3      NaN      NaN    NaN  \n",
       "4      NaN      NaN    NaN  \n",
       "..     ...      ...    ...  \n",
       "609    NaN      NaN    NaN  \n",
       "610    NaN      NaN    NaN  \n",
       "611    NaN      NaN    NaN  \n",
       "612    NaN      NaN    NaN  \n",
       "613    NaN      NaN    NaN  \n",
       "\n",
       "[614 rows x 8 columns]"
      ]
     },
     "execution_count": 50,
     "metadata": {},
     "output_type": "execute_result"
    }
   ],
   "source": [
    "pd.DataFrame(predictions_json)"
   ]
  },
  {
   "cell_type": "code",
   "execution_count": null,
   "metadata": {},
   "outputs": [],
   "source": [
    "measurement\n",
    "measurement"
   ]
  },
  {
   "cell_type": "code",
   "execution_count": 46,
   "metadata": {},
   "outputs": [
    {
     "data": {
      "text/html": [
       "<div>\n",
       "<style scoped>\n",
       "    .dataframe tbody tr th:only-of-type {\n",
       "        vertical-align: middle;\n",
       "    }\n",
       "\n",
       "    .dataframe tbody tr th {\n",
       "        vertical-align: top;\n",
       "    }\n",
       "\n",
       "    .dataframe thead th {\n",
       "        text-align: right;\n",
       "    }\n",
       "</style>\n",
       "<table border=\"1\" class=\"dataframe\">\n",
       "  <thead>\n",
       "    <tr style=\"text-align: right;\">\n",
       "      <th></th>\n",
       "      <th>measurement</th>\n",
       "      <th>unit</th>\n",
       "      <th>value</th>\n",
       "      <th>measurement</th>\n",
       "      <th>unit</th>\n",
       "      <th>value</th>\n",
       "      <th>mea...nt</th>\n",
       "      <th>region</th>\n",
       "    </tr>\n",
       "  </thead>\n",
       "  <tbody>\n",
       "    <tr>\n",
       "      <th>0</th>\n",
       "      <td>refractory metal oxide support surface area</td>\n",
       "      <td>m^2/g</td>\n",
       "      <td>5 to 350</td>\n",
       "      <td>NaN</td>\n",
       "      <td>NaN</td>\n",
       "      <td>NaN</td>\n",
       "      <td>NaN</td>\n",
       "      <td>NaN</td>\n",
       "    </tr>\n",
       "    <tr>\n",
       "      <th>1</th>\n",
       "      <td>refractory metal oxide support surface area</td>\n",
       "      <td>m^2/g</td>\n",
       "      <td>100 to 200</td>\n",
       "      <td>NaN</td>\n",
       "      <td>NaN</td>\n",
       "      <td>NaN</td>\n",
       "      <td>NaN</td>\n",
       "      <td>NaN</td>\n",
       "    </tr>\n",
       "    <tr>\n",
       "      <th>2</th>\n",
       "      <td>coated Substrate support</td>\n",
       "      <td>g/in</td>\n",
       "      <td>1.5 to 7.0</td>\n",
       "      <td>NaN</td>\n",
       "      <td>NaN</td>\n",
       "      <td>NaN</td>\n",
       "      <td>NaN</td>\n",
       "      <td>NaN</td>\n",
       "    </tr>\n",
       "    <tr>\n",
       "      <th>3</th>\n",
       "      <td>Alumina BET surface area</td>\n",
       "      <td>m/g</td>\n",
       "      <td>200</td>\n",
       "      <td>NaN</td>\n",
       "      <td>NaN</td>\n",
       "      <td>NaN</td>\n",
       "      <td>NaN</td>\n",
       "      <td>NaN</td>\n",
       "    </tr>\n",
       "    <tr>\n",
       "      <th>4</th>\n",
       "      <td>nitrogen oxide surface area</td>\n",
       "      <td>m^2/g</td>\n",
       "      <td>30 and 80</td>\n",
       "      <td>NaN</td>\n",
       "      <td>NaN</td>\n",
       "      <td>NaN</td>\n",
       "      <td>NaN</td>\n",
       "      <td>NaN</td>\n",
       "    </tr>\n",
       "    <tr>\n",
       "      <th>...</th>\n",
       "      <td>...</td>\n",
       "      <td>...</td>\n",
       "      <td>...</td>\n",
       "      <td>...</td>\n",
       "      <td>...</td>\n",
       "      <td>...</td>\n",
       "      <td>...</td>\n",
       "      <td>...</td>\n",
       "    </tr>\n",
       "    <tr>\n",
       "      <th>609</th>\n",
       "      <td>cr</td>\n",
       "      <td>%</td>\n",
       "      <td>0.5 to 1.0</td>\n",
       "      <td>NaN</td>\n",
       "      <td>NaN</td>\n",
       "      <td>NaN</td>\n",
       "      <td>NaN</td>\n",
       "      <td>NaN</td>\n",
       "    </tr>\n",
       "    <tr>\n",
       "      <th>610</th>\n",
       "      <td>sb</td>\n",
       "      <td>%</td>\n",
       "      <td>0.05 to 0.20</td>\n",
       "      <td>NaN</td>\n",
       "      <td>NaN</td>\n",
       "      <td>NaN</td>\n",
       "      <td>NaN</td>\n",
       "      <td>NaN</td>\n",
       "    </tr>\n",
       "    <tr>\n",
       "      <th>611</th>\n",
       "      <td>cu*, cr*, and sb* composition</td>\n",
       "      <td>%</td>\n",
       "      <td>average concentrations of cu, cr, and sb, resp...</td>\n",
       "      <td>NaN</td>\n",
       "      <td>NaN</td>\n",
       "      <td>NaN</td>\n",
       "      <td>NaN</td>\n",
       "      <td>NaN</td>\n",
       "    </tr>\n",
       "    <tr>\n",
       "      <th>612</th>\n",
       "      <td>yield strength</td>\n",
       "      <td>mpa</td>\n",
       "      <td>230 or more</td>\n",
       "      <td>NaN</td>\n",
       "      <td>NaN</td>\n",
       "      <td>NaN</td>\n",
       "      <td>NaN</td>\n",
       "      <td>NaN</td>\n",
       "    </tr>\n",
       "    <tr>\n",
       "      <th>613</th>\n",
       "      <td>tensile strength</td>\n",
       "      <td>mpa</td>\n",
       "      <td>380 or more</td>\n",
       "      <td>NaN</td>\n",
       "      <td>NaN</td>\n",
       "      <td>NaN</td>\n",
       "      <td>NaN</td>\n",
       "      <td>NaN</td>\n",
       "    </tr>\n",
       "  </tbody>\n",
       "</table>\n",
       "<p>614 rows × 8 columns</p>\n",
       "</div>"
      ],
      "text/plain": [
       "                                     measurement   unit  \\\n",
       "0    refractory metal oxide support surface area  m^2/g   \n",
       "1    refractory metal oxide support surface area  m^2/g   \n",
       "2                       coated Substrate support   g/in   \n",
       "3                       Alumina BET surface area    m/g   \n",
       "4                    nitrogen oxide surface area  m^2/g   \n",
       "..                                           ...    ...   \n",
       "609                                           cr      %   \n",
       "610                                           sb      %   \n",
       "611                cu*, cr*, and sb* composition      %   \n",
       "612                               yield strength    mpa   \n",
       "613                             tensile strength    mpa   \n",
       "\n",
       "                                                 value measurement  unit   \\\n",
       "0                                             5 to 350          NaN   NaN   \n",
       "1                                           100 to 200          NaN   NaN   \n",
       "2                                           1.5 to 7.0          NaN   NaN   \n",
       "3                                                  200          NaN   NaN   \n",
       "4                                            30 and 80          NaN   NaN   \n",
       "..                                                 ...          ...   ...   \n",
       "609                                         0.5 to 1.0          NaN   NaN   \n",
       "610                                       0.05 to 0.20          NaN   NaN   \n",
       "611  average concentrations of cu, cr, and sb, resp...          NaN   NaN   \n",
       "612                                        230 or more          NaN   NaN   \n",
       "613                                        380 or more          NaN   NaN   \n",
       "\n",
       "    value  mea...nt region  \n",
       "0      NaN      NaN    NaN  \n",
       "1      NaN      NaN    NaN  \n",
       "2      NaN      NaN    NaN  \n",
       "3      NaN      NaN    NaN  \n",
       "4      NaN      NaN    NaN  \n",
       "..     ...      ...    ...  \n",
       "609    NaN      NaN    NaN  \n",
       "610    NaN      NaN    NaN  \n",
       "611    NaN      NaN    NaN  \n",
       "612    NaN      NaN    NaN  \n",
       "613    NaN      NaN    NaN  \n",
       "\n",
       "[614 rows x 8 columns]"
      ]
     },
     "execution_count": 46,
     "metadata": {},
     "output_type": "execute_result"
    }
   ],
   "source": [
    "predictions_json"
   ]
  },
  {
   "cell_type": "code",
   "execution_count": 22,
   "metadata": {},
   "outputs": [
    {
     "data": {
      "text/plain": [
       "'\\n\"measurement\": \"condensed positive plate specimens\", \"unit\": \"\", \"value\": \"96\",\\n\"measurement\": \"samples in one production batch\", \"unit\": \"\", \"value\": \"768\",\\n\"measurement\": \"genome coverage\", \"unit\": \"%\", \"value\": \"at least 90\",\\n\"measurement\": \"sars-cov-2 genome length\", \"unit\": \"kb\", \"value\": \"30\"\\n[\\n{ \\n\"measurement\": \"incubation step temperature\", \\n\"unit\": \"c.\", \\n\"value\": \"25\", \\n\"time\": \"10 min\" \\n},\\n{ \\n\"measurement\": \"incubation step temperature\", \\n\"unit\": \"c.\", \\n\"value\": \"50\", \\n\"time\": \"50 min\" \\n},\\n{ \\n\"measurement\": \"incubation step temperature\", \\n\"unit\": \"c.\", \\n\"value\": \"95\", \\n\"time\": \"1 min\" \\n},\\n{ \\n\"measurement\": \"incubation step temperature\", \\n\"unit\": \"c.\", \\n\"value\": \"5\", \\n\"time\": \"16-24 hours\" \\n},\\n{ \\n\"measurement\": \"clean-up incubation temperature\", \\n\"unit\": \"c.\", \\n\"value\": \"45\", \\n\"time\": \"1 hr\" \\n},\\n{ \\n\"measurement\": \"clean-up incubation temperature\", \\n\"unit\": \"c.\", \\n\"value\": \"95\", \\n\"time\": \"3 min\" \\n},\\n{ \\n\"measurement\": \"PCR incubation temperature\", \\n\"unit\": \"c.\", \\n\"value\": \"95\", \\n\"time\": \"3 min\", \\n\"cycles\": \"1\"\\n},\\n{ \\n\"measurement\": \"PCR incubation temperature\", \\n\"unit\": \"c.\", \\n\"value\": \"98\", \\n\"time\": \"15 sec\", \\n\"cycles\": \"23\"\\n},\\n{\\n\"measurement\": \"PCR incubation temperature\",\\n\"unit\": \"c.\",\\n\"value\": \"5\",\\n\"time\": \"15 sec\",\\n\"cycles\": \"\"\\n},\\n{ \\n\"measurement\": \"PCR incubation temperature\", \\n\"unit\": \"c.\", \\n\"value\": \"72\", \\n\"time\": \"90 sec\", \\n\"cycles\": \"\"\\n},\\n{\\n\"measurement\": \"smrtbel library preparation temperature\",\\n\"unit\": \"c.\",\\n\"value\": \"37\", \\n\"time\": \"30 minutes\", \\n\"cycles\": \"\"\\n},\\n{ \\n\"measurement\": \"smrtbel library preparation temperature\", \\n\"unit\": \"c.\", \\n\"value\": \"20\", \\n\"time\": \"30 minutes\", \\n\"cycles\": \"\"\\n},\\n{\\n\"measurement\": \"smrtbel library preparation temperature\",\\n\"unit\": \"c.\",\\n\"value\": \"65\", \\n\"time\": \"30 minutes\", \\n\"cycles\": \"\"\\n},\\n{\\n\"measurement\": \"smrtbel library preparation temperature\",\\n\"unit\": \"c.\",\\n\"value\": \"20\", \\n\"time\": \"60 minutes\", \\n\"cycles\": \"\"\\n},\\n{\\n\"measurement\": \"smrtbel library preparation temperature\",\\n\"unit\": \"c.\",\\n\"value\": \"65\", \\n\"time\": \"10 minutes\", \\n\"cycles\": \"\"\\n},\\n{\\n\"measurement\": \"enyme clean-up temperature\",\\n\"unit\": \"c.\",\\n\"value\": \"\", \\n\"time\": \"\", \\n\"cycles\": \"\"\\n},\\n{\\n\"measurement\": \"sequencing temperature\",\\n\"unit\": \"c.\",\\n\"value\": \"\", \\n\"time\": \"\", \\n\"cycles\": \"\"\\n},\\n{\\n\"measurement\": \"intra-assay repeatability temperature\",\\n\"unit\": \"\", \\n\"value\": \"\", \\n\"time\": \"\", \\n\"cycles\": \"\"\\n}\\n]'"
      ]
     },
     "execution_count": 22,
     "metadata": {},
     "output_type": "execute_result"
    }
   ],
   "source": [
    "false_jsons[0]"
   ]
  },
  {
   "cell_type": "code",
   "execution_count": 10,
   "metadata": {},
   "outputs": [
    {
     "data": {
      "text/plain": [
       "['[{\"measurement\": \"refractory metal oxide support surface area\", \"unit\": \"m^2/g\", \"value\": \"5 to 350\"},\\n{\"measurement\": \"refractory metal oxide support surface area\", \"unit\": \"m^2/g\", \"value\": \"100 to 200\"},\\n{\"measurement\": \"coated Substrate support\", \"unit\": \"g/in\", \"value\": \"1.5 to 7.0\"},\\n{\"measurement\": \"Alumina BET surface area\", \"unit\": \"m/g\", \"value\": \"200\"},\\n{\"measurement\": \"nitrogen oxide surface area\", \"unit\": \"m^2/g\", \"value\": \"30 and 80\"},\\n{\"measurement\": \"polypeptide concentration\", \"unit\": \"g/ml\", \"value\": \"1 to 9\"}',\n",
       " '\\n[ \\n  { \\n    \"measurement\": \"nucleic acid sequencing\", \\n    \"unit\": \"\", \\n    \"value\": \"\" \\n  }, \\n  { \\n    \"measurement\": \"rt-pcr sequencing\", \\n    \"unit\": \"\", \\n    \"value\": \"\" \\n  }, \\n  { \\n    \"measurement\": \"pacbio sequencing protocol\", \\n    \"unit\": \"\", \\n    \"value\": \"\" \\n  }, \\n  { \\n    \"measurement\": \"geographic location identification\", \\n    \"unit\": \"\", \\n    \"value\": \"\" \\n  }, \\n  { \\n    \"measurement\": \"barcode linkage\", \\n    \"unit\": \"\", \\n    \"value\": \"\" \\n  }, \\n  { \\n    \"measurement\": \"prevalence tracking\", \\n    \"unit\": \"\", \\n    \"value\": \"\" \\n  }, \\n  { \\n    \"measurement\": \"correlation of variants with infectivity and disease severity\", \\n    \"unit\": \"\", \\n    \"value\": \"\" \\n  }, \\n  { \\n    \"measurement\": \"data deposit in a depository\", \\n    \"unit\": \"\", \\n    \"value\": \"\" \\n  }, \\n  { \\n    \"measurement\": \"cdc database deposit\", \\n    \"unit\": \"\", \\n    \"value\": \"\" \\n  } \\n',\n",
       " '\\n[{\"measurement\": \"refractory metal oxide support surface area\", \"unit\": \"m^2/g\", \"value\": \"100 to 200\"},\\n {\"measurement\": \"coated Substrate support\", \"unit\": \"g/in\", \"value\": \"1.5 to 7.0\"},\\n {\"measurement\": \"Alumina BET surface area\", \"unit\": \"m/g\", \"value\": \"200\"},\\n {\"measurement\": \"nitrogen oxide surface area\", \"unit\": \"m^2/g\", \"value\": \"30 and 80\"},\\n {\"measurement\": \"polypeptide concentration\", \"unit\": \"g/ml\", \"value\": \"1 to 9\"}',\n",
       " '\\n[\\n    {\\n        \"measurement\": \"rt-pcr test\",\\n        \"unit\": \"N/A\",\\n        \"value\": \"labcorp eua201 and/or eua203057\"\\n    },\\n    {\\n        \"measurement\": \"tiled primers spacing\",\\n        \"unit\": \"bp\",\\n        \"value\": \"60\"\\n    },\\n    {\\n        \"measurement\": \"nucleic acid sequencing coverage\",\\n        \"unit\": \"%\",\\n        \"value\": \"at least 80%, or optionally at least 85%, or optionally at least 90%, or optionally at least 95% of the entire viral genome\"\\n    },\\n    {\\n        \"measurement\": \"polypeptide concentration\",\\n        \"unit\": \"g/ml\",\\n        \"value\": \"1 to 9\"\\n    },\\n    {\\n        \"measurement\": \"probe spacing\",\\n        \"unit\": \"bp\",\\n        \"value\": \"10, 20, 30, 40, 50, 60, 70, 80, 90 or more than 1,0 base pairs\"\\n    },\\n    {\\n        \"measurement\": \"probes tiled across sars-cov-2 viral genome\",\\n        \"unit\": \"%\",\\n        \"value\": \"greater than 9% (e.g., 9.6%) of the 30 kb sars-cov-2 viral genome\"\\n    },\\n    {\\n        \"measurement\": \"bases covered by mips\",\\n        \"unit\": \"\",\\n        \"value\": \"most bases covered by 2 mips\"\\n    },\\n    {\\n        \"measurement\": \"nucleic acid sequencing type\",\\n        \"unit\": \"N/A\",\\n        \"value\": \"next generation sequencing (ngs), sanger sequencing, shot gun sequencing, smrt sequencing, pyrosequencing or nanopore sequencing\"\\n    },\\n    {\\n        \"measurement\": \"nucleic acid sequencing tool\",\\n        \"unit\": \"N/A\",\\n        \"value\": \"pacbio whole genome sequencing with the corresponding smrt link 9 software and analysis tools\"\\n    },\\n    {\\n        \"measurement\": \"residual total nucleic acid extracts\",\\n        \"unit\": \"N/A\",\\n        \"value\": \"positive samples\"\\n    }\\n',\n",
       " \"\\n[{'measurement ': 'sars-cov-2 variant sequence',\\n  'unit ': '',\\n  'value ': ''},\\n {'measurement ': 'residual total nucleic acid extract',\\n  'unit ': '',\\n  'value ': ''},\\n {'measurement ': 'ct values',\\n  'unit ': '',\\n  'value ': '<31'},\\n {'measurement ': 'sample lineage',\\n  'unit ': '',\\n  'value ': ''},\\n {'measurement ': 'geographic location',\\n  'unit ': '',\\n  'value ': ''},\\n {'measurement ': 'depository update',\\n  'unit ': '',\\n  'value ': ''},\\n {'measurement ': 'hamilton Star robots',\\n  'unit ': '',\\n  'value ': ''},\\n {'measurement ': 'formulatrix mantis liquid handlers',\\n  'unit ': '',\\n  'value ': ''},\\n {'measurement ': 'sample plate setup',\\n  'unit ': '',\\n  'value ': ''},\\n {'measurement ': 'sequencing run plate',\\n  'unit ': '',\\n  'value ': '95'},\\n {'measurement ': 'production batch',\\n  'unit ': '',\\n  'value ': '8 plates, or 760 specimens'},\\n {'measurement ': 'sample lineage',\\n  'unit ': '',\\n  'value ': ''},\\n {'measurement ': 'mean of medium cs reads',\\n  'unit ': '',\\n  'value ': '>10 cs'},\\n {'measurement ': 'genome coverage',\\n  'unit ': '',\\n  'value ': '>90%'},\\n {'measurement ': 'data analysis',\\n  'unit ': '',\\n  'value ': ''},\\n {'measurement ': 'sequencer runs',\\n  'unit ': '',\\n  'value ': ''},\\n {'measurement ': 'variant cal',\\n  'unit ': '',\\n  'value ': ''},\\n {'measurement ': 'clustalw alignment',\\n  'unit ': '',\\n  'value ': ''},\\n {'measurement ': 'mean of median coverage',\\n  'unit ': '',\\n  'value ': '>10 cs reads'},\\n {'measurement ': 'pangolin lineage cal',\\n  'unit ': '',\\n  'value ': ''}\",\n",
       " '\\n[{\"measurement\": \"coverage cs reads\", \"unit\": \"<10\", \"value\": \"\"},\\n{\"measurement\": \"ntc control\", \"unit\": \"\", \"value\": \"\"},\\n{\"measurement\": \"virseq asay clasification acuracy\", \"unit\": \"\", \"value\": \"\"},\\n{\"measurement\": \"regresion analysis\", \"unit\": \"\", \"value\": \"\"},\\n{\"measurement\": \"regresion test\", \"unit\": \"\", \"value\": \"\"},\\n{\"measurement\": \"pangolin software output format\", \"unit\": \"\", \"value\": \"\"},\\n{\"measurement\": \"discordant lineage(s)\", \"unit\": \"\", \"value\": \"\"},\\n{\"measurement\": \"novel variant(s)\", \"unit\": \"\", \"value\": \"\"},\\n{\"measurement\": \"polypeptide concentration\", \"unit\": \"g/ml\", \"value\": \"1 to 9\"},\\n{\"measurement\": \"refractory metal oxide support surface area\", \"unit\": \"m^2/g\", \"value\": \"100 to 200\"},\\n{\"measurement\": \"coated Substrate support\", \"unit\": \"g/in\", \"value\": \"1.5 to 7.0\"},\\n{\"measurement\": \"Alumina BET surface area\", \"unit\": \"m/g\", \"value\": \"200\"},\\n{\"measurement\": \"nitrogen oxide surface area\", \"unit\": \"m^2/g\", \"value\": \"30 and 80\"},\\n{\"measurement\": \"sars-cov-2 nucleic acid support\", \"unit\": \"\", \"value\": \"\"},\\n{\"measurement\": \"rt-pcr\", \"unit\": \"\", \"value\": \"\"},\\n{\"measurement\": \"hybridization\", \"unit\": \"\", \"value\": \"\"},\\n{\"measurement\": \"probe dna template\", \"unit\": \"\", \"value\": \"\"},\\n{\"measurement\": \"tiled probes\", \"unit\": \"\", \"value\": \"\"},\\n{\"measurement\": \"spacing\", \"unit\": \"bp\", \"value\": \"10, 20, 30, 40, 50, 60, 70, 80, 90 or more\"},\\n{\"measurement\": \"viral genome\", \"unit\": \"kb\", \"value\": \"30\"},\\n{\"measurement\": \"universal sequencing primers\", \"unit\": \"\", \"value\": \"\"},\\n{\"measurement\": \"adaptor sequence\", \"unit\": \"\", \"value\": \"\"},\\n{\"measurement\": \"circular single-stranded probe dna template\", \"unit\": \"\", \"value\": \"\"},\\n{\"measurement\": \"linear dna\", \"unit\": \"\", \"value\": \"\"},\\n{\"measurement\": \"enrichment\", \"unit\": \"\", \"value\": \"\"},\\n{\"measurement\": \"purification step\", \"unit\": \"\", \"value\": \"\"},\\n{\"measurement\": \"whole genome sequencing\", \"unit\": \"\", \"value\": \"\"},\\n{\"measurement\": \"next generation sequencing\", \"unit\": \"ngs\", \"value\": \"\"},\\n{\"measurement\": \"pacbio whole genome sequencing\", \"unit\": \"\", \"value\": \"\"},\\n{\"measurement\": \"smrt link 9 software\", \"unit\": \"\", \"value\": \"\"}',\n",
       " '\\n[{\"measurement\": \"surface area\", \"unit\": \"m^2/g\", \"value\": \"30 and 80\"},\\n{\"measurement\": \"polypeptide concentration\", \"unit\": \"g/ml\", \"value\": \"1 to 9\"}, \\n{\"measurement\": \"DNA sequencing\", \"unit\": \"\", \"value\": \"\"}',\n",
       " '\\n\"measurement\": \"condensed positive plate specimens\", \"unit\": \"\", \"value\": \"96\",\\n\"measurement\": \"samples in one production batch\", \"unit\": \"\", \"value\": \"768\",\\n\"measurement\": \"genome coverage\", \"unit\": \"%\", \"value\": \"at least 90\",\\n\"measurement\": \"sars-cov-2 genome length\", \"unit\": \"kb\", \"value\": \"30\"\\n[\\n{ \\n\"measurement\": \"incubation step temperature\", \\n\"unit\": \"c.\", \\n\"value\": \"25\", \\n\"time\": \"10 min\" \\n},\\n{ \\n\"measurement\": \"incubation step temperature\", \\n\"unit\": \"c.\", \\n\"value\": \"50\", \\n\"time\": \"50 min\" \\n},\\n{ \\n\"measurement\": \"incubation step temperature\", \\n\"unit\": \"c.\", \\n\"value\": \"95\", \\n\"time\": \"1 min\" \\n},\\n{ \\n\"measurement\": \"incubation step temperature\", \\n\"unit\": \"c.\", \\n\"value\": \"5\", \\n\"time\": \"16-24 hours\" \\n},\\n{ \\n\"measurement\": \"clean-up incubation temperature\", \\n\"unit\": \"c.\", \\n\"value\": \"45\", \\n\"time\": \"1 hr\" \\n},\\n{ \\n\"measurement\": \"clean-up incubation temperature\", \\n\"unit\": \"c.\", \\n\"value\": \"95\", \\n\"time\": \"3 min\" \\n},\\n{ \\n\"measurement\": \"PCR incubation temperature\", \\n\"unit\": \"c.\", \\n\"value\": \"95\", \\n\"time\": \"3 min\", \\n\"cycles\": \"1\"\\n},\\n{ \\n\"measurement\": \"PCR incubation temperature\", \\n\"unit\": \"c.\", \\n\"value\": \"98\", \\n\"time\": \"15 sec\", \\n\"cycles\": \"23\"\\n},\\n{\\n\"measurement\": \"PCR incubation temperature\",\\n\"unit\": \"c.\",\\n\"value\": \"5\",\\n\"time\": \"15 sec\",\\n\"cycles\": \"\"\\n},\\n{ \\n\"measurement\": \"PCR incubation temperature\", \\n\"unit\": \"c.\", \\n\"value\": \"72\", \\n\"time\": \"90 sec\", \\n\"cycles\": \"\"\\n},\\n{\\n\"measurement\": \"smrtbel library preparation temperature\",\\n\"unit\": \"c.\",\\n\"value\": \"37\", \\n\"time\": \"30 minutes\", \\n\"cycles\": \"\"\\n},\\n{ \\n\"measurement\": \"smrtbel library preparation temperature\", \\n\"unit\": \"c.\", \\n\"value\": \"20\", \\n\"time\": \"30 minutes\", \\n\"cycles\": \"\"\\n},\\n{\\n\"measurement\": \"smrtbel library preparation temperature\",\\n\"unit\": \"c.\",\\n\"value\": \"65\", \\n\"time\": \"30 minutes\", \\n\"cycles\": \"\"\\n},\\n{\\n\"measurement\": \"smrtbel library preparation temperature\",\\n\"unit\": \"c.\",\\n\"value\": \"20\", \\n\"time\": \"60 minutes\", \\n\"cycles\": \"\"\\n},\\n{\\n\"measurement\": \"smrtbel library preparation temperature\",\\n\"unit\": \"c.\",\\n\"value\": \"65\", \\n\"time\": \"10 minutes\", \\n\"cycles\": \"\"\\n},\\n{\\n\"measurement\": \"enyme clean-up temperature\",\\n\"unit\": \"c.\",\\n\"value\": \"\", \\n\"time\": \"\", \\n\"cycles\": \"\"\\n},\\n{\\n\"measurement\": \"sequencing temperature\",\\n\"unit\": \"c.\",\\n\"value\": \"\", \\n\"time\": \"\", \\n\"cycles\": \"\"\\n},\\n{\\n\"measurement\": \"intra-assay repeatability temperature\",\\n\"unit\": \"\", \\n\"value\": \"\", \\n\"time\": \"\", \\n\"cycles\": \"\"\\n}\\n',\n",
       " \"\\n[ \\n    { 'measurement': 'percent mising', 'unit': '', 'value': '0.74 0.85 0.84' },\\n    { 'measurement': 'avg read depth', 'unit': '', 'value': '58.1 96.83 52.34' },\\n    { 'measurement': 'percent mising', 'unit': '', 'value': '0.41 0.41 0.41' },\\n    { 'measurement': 'avg read depth', 'unit': '', 'value': '176.36 156.59 125.76' },\\n    { 'measurement': 'percent mising', 'unit': '', 'value': '0.74 0.63 0.52' },\\n    { 'measurement': 'avg read depth', 'unit': '', 'value': '21.69 284.09 309.79' },\\n    { 'measurement': 'percent mising', 'unit': '', 'value': '0.52 0.84 0.74' },\\n    { 'measurement': 'avg read depth', 'unit': '', 'value': '93.86 48.53 86.6' },\\n    { 'measurement': 'percent mising', 'unit': '', 'value': '1.45 1.13 0.78' },\\n    { 'measurement': 'avg read depth', 'unit': '', 'value': '31.2 50.91 52.21' },\\n    { 'measurement': 'percent mising', 'unit': '', 'value': '0.53 0.63 1.34' },\\n    { 'measurement': 'avg read depth', 'unit': '', 'value': '138.38 13.74 57.17' },\\n    { 'measurement': 'percent mising', 'unit': '', 'value': '1.04 0.53 2.16' },\\n    { 'measurement': 'avg read depth', 'unit': '', 'value': '30.41 51.59 13.5' },\\n    { 'measurement': 'percent mising', 'unit': '', 'value': '0.41 0.41 0.53' },\\n    { 'measurement': 'avg read depth', 'unit': '', 'value': '17.12 294.67 148.76' },\\n    { 'measurement': 'percent mising', 'unit': '', 'value': '0.63 0.74 0.73' },\\n    { 'measurement': 'avg read depth', 'unit': '', 'value': '38.03 207.5 10.93' },\\n    { 'measurement': 'percent mising', 'unit': '', 'value': '1.0 0.74 1.54' },\\n    { 'measurement': 'avg read depth', 'unit': '', 'value': '27.9 46.84 25.21' },\\n    { 'measurement': 'percent mising', 'unit': '', 'value': '1.25 1.52 0.67' },\\n    { 'measurement': 'avg read depth', 'unit': '', 'value': '2.86 17.16 28.72' },\\n    { 'measurement': 'percent mising', 'unit': '', 'value': '0.84 0.96 0.84' },\\n    { 'measurement': 'avg read depth', 'unit': '', 'value': '52.34 34.9 17.06' },\\n    { 'measurement': 'percent mising', 'unit': '', 'value': '0.52 0.57 0.32' },\\n    { 'measurement': 'avg read depth', 'unit': '', 'value': '309.79 219.86 58.37' },\\n    { 'measurement': 'percent mising', 'unit': '', 'value': '0.78 1.32 0.41' },\\n    { 'measurement': 'avg read depth', 'unit': '', 'value': '52.21 43.03 39.19' },\\n    { 'measurement': 'percent mising', 'unit': '', 'value': '1.34 1.13 0.42' },\\n    { 'measurement': 'avg read depth', 'unit': '', 'value': '57.17 60.21 91.09' },\\n    { 'measurement': 'percent mising', 'unit': '', 'value': '2.16 23.61 0.73' },\\n    { 'measurement': 'avg read depth', 'unit': '', 'value': '13.5 7.38 13.8' },\\n    { 'measurement': 'percent mising', 'unit': '', 'value': '0.53 0.41 0.41' },\\n    { 'measurement': 'avg read depth', 'unit': '', 'value': '148.76 26.2 309.86' },\\n    { 'measurement': 'percent mising', 'unit': '', 'value': '0.73 0.64 0.73' },\\n    { 'measurement': 'avg read depth', 'unit': '', 'value': '10.93 318.59 7.97' },\\n    { 'measurement': 'percent mising', 'unit': '', 'value': '1.54 1.97 0.52' },\\n    { 'measurement': 'avg read depth', 'unit': '', 'value': '25.21 17.31 19.9' },\\n    { 'measurement': 'percent mising', 'unit': '', 'value': '0.67 67.10 9.82' },\\n    { 'measurement': 'avg read depth', 'unit': '', 'value': '28.72 3.03 2.86' } \\n\",\n",
       " \"\\n[{'measurement': 'samples amplicon sequenced', 'unit': '', 'value': '12'},\\n {'measurement': 'read coverage threshold', 'unit': '', 'value': '4'},\\n {'measurement': 'ilumina concordance', 'unit': '', 'value': '93'},\\n {'measurement': 'ilumina paralel testing samples', 'unit': '', 'value': '79'},\\n {'measurement': 'amplicon sequenced samples', 'unit': '', 'value': '382'},\\n {'measurement': 'duplicates of amplicon sequenced samples', 'unit': '', 'value': '2'},\\n {'measurement': 'acuracy acceptance criteria', 'unit': '', 'value': '95%'},\\n {'measurement': 'read coverage threshold minimum', 'unit': '', 'value': ''},\\n {'measurement': 'read coverage threshold maximum', 'unit': '', 'value': ''},\\n {'measurement': 'mean of median amplicon coverage', 'unit': '', 'value': ''},\\n {'measurement': 'ilumina artic sequencing samples', 'unit': '', 'value': '93'},\\n {'measurement': 'ilumina artic sequencing concordance', 'unit': '', 'value': '98.3%'},\\n {'measurement': 'ilumina artic sequencing avg. read counts', 'unit': '', 'value': ''},\\n {'measurement': 'ressequenced samples on molecular lop', 'unit': '', 'value': '72'},\\n {'measurement': 'successful reportable genome samples', 'unit': '', 'value': '51'},\\n {'measurement': 'cdc strain surveilance reportable genome rate', 'unit': '', 'value': '72.5%'},\\n {'measurement': 'strains identical results', 'unit': '', 'value': '10%'},\\n {'measurement': 'samples sequenced on ilumina and molecular lop', 'unit': '', 'value': '66'},\\n {'measurement': 'reportable results concordance', 'unit': '', 'value': '10%'}\",\n",
       " \"\\n[{'measurement': 'amplicon pacbio sequencing coverage', 'unit': '%', 'value': '90'},\\n {'measurement': 'molecular lop replicate strain typing concordance',\\n  'unit': '%',\\n  'value': '10'},\\n {'measurement': 'parallel testing concordance', 'unit': '%', 'value': '98.2'},\\n {'measurement': 'analytical sensitivity', 'unit': '%', 'value': '90'},\\n {'measurement': 'analytical specificity', 'unit': '%', 'value': '90'},\\n {'measurement': 'nextclade sensitivity', 'unit': '%', 'value': '96.23'},\\n {'measurement': 'nextclade specificity', 'unit': '%', 'value': '9.97'},\\n {'measurement': 'nextclade false discovery rate', 'unit': '%', 'value': '5.36'},\\n {'measurement': 'clc sensitivity', 'unit': '%', 'value': '98.1'},\\n {'measurement': 'clc specificity', 'unit': '%', 'value': '9.974'},\\n {'measurement': 'clc false discovery rate', 'unit': '%', 'value': '30.26'}\",\n",
       " '\\n[{\"measurement\": \"nucleic acid input tolerance\", \"unit\": \"cp/l\", \"value\": \"not found\"},\\n{\"measurement\": \"rna titer\", \"unit\": \"ct\", \"value\": \"not found\"},\\n{\"measurement\": \"suces rate\", \"unit\": \"not found\", \"value\": \"not found\"},\\n{\"measurement\": \"rna for sequencing\", \"unit\": \"copies\", \"value\": \"10,000\"},\\n{\"measurement\": \"genome coverage\", \"unit\": \"%\", \"value\": \"90\"},\\n{\"measurement\": \"long-term stability\", \"unit\": \"not found\", \"value\": \"not found\"},\\n{\"measurement\": \"storage temperature\", \"unit\": \"°C\", \"value\": \"20\"},\\n{\"measurement\": \"inter-asay precision\", \"unit\": \"not found\", \"value\": \"not found\"},\\n{\"measurement\": \"sample sequencing\", \"unit\": \"not found\", \"value\": \"not found\"},\\n{\"measurement\": \"strain detection\", \"unit\": \"not found\", \"value\": \"not found\"},\\n{\"measurement\": \"sample read count\", \"unit\": \"not found\", \"value\": \"not found\"},\\n{\"measurement\": \"sequencer runs monitoring\", \"unit\": \"not found\", \"value\": \"not found\"},\\n{\"measurement\": \"alignment and variant cals\", \"unit\": \"not found\", \"value\": \"not found\"},\\n{\"measurement\": \"lineage clasifications\", \"unit\": \"not found\", \"value\": \"not found\"}',\n",
       " '\\n[{\"measurement\": \"intermediate bam files length\", \"unit\": \"bp\", \"value\": \"250-50\"},\\n{\"measurement\": \"genome coverage\", \"unit\": \"%\", \"value\": \">90\"},\\n{\"measurement\": \"mean of median coverage\", \"unit\": \"cs reads\", \"value\": \">10\"},\\n{\"measurement\": \"ct\", \"unit\": \"\", \"value\": \"<31\"},\\n{\"measurement\": \"ntc control\", \"unit\": \"\", \"value\": \"passing\"},\\n{\"measurement\": \"lineage calling criteria\", \"unit\": \"\", \"value\": \"see text\"},\\n{\"measurement\": \"potential new variants assessment\", \"unit\": \"\", \"value\": \"see text\"},\\n{\"measurement\": \"sublineage reassignments\", \"unit\": \"\", \"value\": \"see text\"},\\n{\"measurement\": \"coverage and error properties\", \"unit\": \"\", \"value\": \"simulated\"}',\n",
       " '\\n[{\"measurement\": \"number of gisaid sequences sampled\", \"unit\": \"\", \"value\": \"up to 10\"},\\n{\"measurement\": \"median voc noi concordance\", \"unit\": \"%\", \"value\": \"at least 90\"},\\n{\"measurement\": \"location of individual sequence variants\", \"unit\": \"\", \"value\": \"reviewed\"},\\n{\"measurement\": \"potential for interference in probe binding\", \"unit\": \"\", \"value\": \"assessed\"}',\n",
       " '\\n[',\n",
       " \"\\n[\\n{ 'measurement': 'sars-cov-2 cdna', 'unit': '', 'value': '' },\\n{ 'measurement': 'tiled primers spacing', 'unit': 'bp', 'value': '60' },\\n{ 'measurement': 'sars-cov-2 nucleic acid sequencing coverage', 'unit': '', 'value': 'at least 80%' },\\n{ 'measurement': 'sars-cov-2 nucleic acid sequencing read length', 'unit': '', 'value': '250-50 bp' },\\n{ 'measurement': 'sars-cov-2 reference genome', 'unit': '', 'value': 'nc_04512v2' },\\n{ 'measurement': 'circular consensus sequencing reads', 'unit': '', 'value': '>50%' }\\n\",\n",
       " '\\n[\\n    {\\n        \"measurement\": \"non-ambiguous bases percentage\",\\n        \"unit\": \"\",\\n        \"value\": \"\"\\n    },\\n    {\\n        \"measurement\": \"polypeptide concentration\",\\n        \"unit\": \"g/ml\",\\n        \"value\": \"1 to 9\"\\n    },\\n    {\\n        \"measurement\": \"nitrogen oxide surface area\",\\n        \"unit\": \"m^2/g\",\\n        \"value\": \"30 and 80\"\\n    },\\n    {\\n        \"measurement\": \"refractory metal oxide support surface area\",\\n        \"unit\": \"m^2/g\",\\n        \"value\": \"100 to 200\"\\n    },\\n    {\\n        \"measurement\": \"coated Substrate support\",\\n        \"unit\": \"g/in\",\\n        \"value\": \"1.5 to 7.0\"\\n    },\\n    {\\n        \"measurement\": \"Alumina BET surface area\",\\n        \"unit\": \"m/g\",\\n        \"value\": \"200\"\\n    }\\n',\n",
       " '\\n[\\n    {\\n        \"measurement\": \"number of gisaid sequences\",\\n        \"unit\": \"\",\\n        \"value\": \"10\"\\n    },\\n    {\\n        \"measurement\": \"number of gisaid sequences\",\\n        \"unit\": \"\",\\n        \"value\": \"10,0\"\\n    },\\n    {\\n        \"measurement\": \"median voc/voi concordance\",\\n        \"unit\": \"%\",\\n        \"value\": \"at least 90\"\\n    }\\n',\n",
       " '\\n[{\"measurement\": \"system\", \"unit\": \"\", \"value\": \"\"}, {\"measurement\": \"system\", \"unit\": \"\", \"value\": \"\"}, {\"measurement\": \"sample-specific sars-cov-2 nucleic acid\", \"unit\": \"\", \"value\": \"\"}, {\"measurement\": \"nucleic acid sequencing\", \"unit\": \"\", \"value\": \"\"}, {\"mea...nt\": \"variants of sars-cov-2\", \"unit\": \"\", \"value\": \"\"}, {\"measurement\": \"sars-cov-2 nucleic acid\", \"unit\": \"\", \"value\": \"\"}, {\"measurement\": \"nucleic acid sequencing\", \"unit\": \"\", \"value\": \"\"}, {\"measurement\": \"sars-cov-2 variant sequence\", \"unit\": \"\", \"value\": \"\"}',\n",
       " '\\n[{\"measurement\": \"refractory metal oxide support surface area\", \"unit\": \"m^2/g\", \"value\": \"100 to 200\"},\\n{\"measurement\": \"coated Substrate support\", \"unit\": \"g/in\", \"value\": \"1.5 to 7.0\"},\\n{\"measurement\": \"Alumina BET surface area\", \"unit\": \"m/g\", \"value\": \"200\"},\\n{\"measurement\": \"nitrogen oxide surface area\", \"unit\": \"m^2/g\", \"value\": \"30 and 80\"},\\n{\"measurement\": \"polypeptide concentration\", \"unit\": \"g/ml\", \"value\": \"1 to 9\"}',\n",
       " '\\n[{\"measurement\": \"surface roughnes of the dehydrated hide\", \"unit\": \"\", \"value\": \"\"},\\n{\"measurement\": \"water adsorption capacity\", \"unit\": \"\", \"value\": \"\"},\\n{\"measurement\": \"controlable dehydration of a raw hide\", \"unit\": \"\", \"value\": \"\"},\\n{\"measurement\": \"water distribution betwen the raw hide and the polar organic solvent\", \"unit\": \"\", \"value\": \"\"},\\n{\"measurement\": \"multi-medium self-driven directional controlable dehydration of the raw hide\", \"unit\": \"\", \"value\": \"\"},\\n{\"measurement\": \"dehydration efficiency\", \"unit\": \"\", \"value\": \"low\"},\\n{\"measurement\": \"leather making cost\", \"unit\": \"\", \"value\": \"reduces significantly\"},\\n{\"measurement\": \"cleanliness of the leather making process\", \"unit\": \"\", \"value\": \"improves greatly\"},\\n{\"measurement\": \"leather making efficiency\", \"unit\": \"\", \"value\": \"remarkably improves\"}',\n",
       " '\\n[{\"measurement\": \"water content of the dehydrated hide\", \"unit\": \"%\", \"value\": \"2.95\"},\\n{\"measurement\": \"softness of the crust\", \"unit\": \"m\", \"value\": \"4.69\"},\\n{\"measurement\": \"weight of silicon dioxide\", \"unit\": \"NA\", \"value\": \"10% of a weight of the crust\"},\\n{\"measurement\": \"weight of pdms solution\", \"unit\": \"NA\", \"value\": \"8.0 times the weight of the crust\"},\\n{\"measurement\": \"water content of ethanol\", \"unit\": \"%\", \"value\": \"0.97\"},\\n{\"measurement\": \"water contact angle of grain surface\", \"unit\": \"NA\", \"value\": \"NA\"},\\n{\"measurement\": \"water content of dehydrated hide without molecular sieve\", \"unit\": \"%\", \"value\": \"9.56\"},\\n{\"measurement\": \"softness of control sample\", \"unit\": \"m\", \"value\": \"3.61\"},\\n{\"measurement\": \"porosity of example 1\", \"unit\": \"%\", \"value\": \"45.82\"},\\n{\"measurement\": \"average pore size of example 1\", \"unit\": \"nm\", \"value\": \"4.75\"},\\n{\"measurement\": \"total pore area of example 1\", \"unit\": \"m^2\", \"value\": \"590.97\"},\\n{\"measurement\": \"porosity of comparative example 1\", \"unit\": \"%\", \"value\": \"28.67\"},\\n{\"measurement\": \"average pore size of comparative example 1\", \"unit\": \"nm\", \"value\": \"1.54\"},\\n{\"measurement\": \"total pore area of comparative example 1\", \"unit\": \"m^2\", \"value\": \"161.05\"},\\n{\"measurement\": \"porosity of comparative example 2\", \"unit\": \"%\", \"value\": \"17.10\"},\\n{\"measurement\": \"average pore size of comparative example 2\", \"unit\": \"nm\", \"value\": \"1.06\"},\\n{\"measurement\": \"total pore area of comparative example 2\", \"unit\": \"m^2\", \"value\": \"3.23\"},\\n{\"measurement\": \"tensile force of example 1\", \"unit\": \"N\", \"value\": \"179.7\"},\\n{\"measurement\": \"tear strength at break of example 1\", \"unit\": \"N/m^2\", \"value\": \"28.50\"},\\n{\"measurement\": \"tear strength at 10 N/m^2 of example 1\", \"unit\": \"NA\", \"value\": \"36.10\"},\\n{\"measurement\": \"tensile force of example 2\", \"unit\": \"N\", \"value\": \"156.12\"},\\n{\"measurement\": \"tear strength at break of example 2\", \"unit\": \"N/m^2\", \"value\": \"31.80\"},\\n{\"measurement\": \"tear strength at 10 N/m^2 of example 2\", \"unit\": \"NA\", \"value\": \"25.70\"},\\n{\"measurement\": \"tensile force of example 3\", \"unit\": \"N\", \"value\": \"152.16\"},\\n{\"measurement\": \"tear strength at break of example 3\", \"unit\": \"N/m^2\", \"value\": \"30.4\"},\\n{\"measurement\": \"tear strength at 10 N/m^2 of example 3\", \"unit\": \"NA\", \"value\": \"16.60\"},\\n{\"measurement\": \"tensile force of example 5\", \"unit\": \"N\", \"value\": \"160.62\"},\\n{\"measurement\": \"tear strength at break of example 5\", \"unit\": \"N/m^2\", \"value\": \"24.21\"},\\n{\"measurement\": \"tear strength at 10 N/m^2 of example 5\", \"unit\": \"NA\", \"value\": \"32.40\"},\\n{\"measurement\": \"tensile force of example 13\", \"unit\": \"N\", \"value\": \"162.69\"},\\n{\"measurement\": \"tear strength at break of example 13\", \"unit\": \"N/m^2\", \"value\": \"27.69\"},\\n{\"measurement\": \"tear strength at 10 N/m^2 of example 13\", \"unit\": \"NA\", \"value\": \"17.4\"}',\n",
       " '\\n[{\"measurement\": \"weight of the ethanol\", \"unit\": \"times the weight of the raw hide\", \"value\": \"6.0\"},\\n{\"measurement\": \"weight of the activated molecular sieve powder (3a)\", \"unit\": \"times the weight of the raw hide\", \"value\": \"3.5\"},\\n{\"measurement\": \"dehydration time\", \"unit\": \"min\", \"value\": \"90\"},\\n{\"measurement\": \"dehydration time\", \"unit\": \"min\", \"value\": \"120\"},\\n{\"measurement\": \"water content of the dehydrated hide\", \"unit\": \"%\", \"value\": \"3.24\"},\\n{\"measurement\": \"softness of the crust\", \"unit\": \"m\", \"value\": \"4.52\"},\\n{\"measurement\": \"weight of the silicon dioxide\", \"unit\": \"% of the weight of the crust\", \"value\": \"10\"},\\n{\"measurement\": \"weight of the anhydrous ethanol\", \"unit\": \"times the weight of the crust\", \"value\": \"10\"},\\n{\"measurement\": \"weight of the pdms solution\", \"unit\": \"times the weight of the crust\", \"value\": \"8.0\"},\\n{\"measurement\": \"weight of the anhydrous ethanol\", \"unit\": \"times the weight of the raw hide\", \"value\": \"4.0\"},\\n{\"measurement\": \"weight of the activated molecular sieve powder (3a)\", \"unit\": \"times the weight of the raw hide\", \"value\": \"2.0\"},\\n{\"measurement\": \"water content of the dehydrated hide\", \"unit\": \"%\", \"value\": \"3.48\"},\\n{\"measurement\": \"weight of the titanium dioxide\", \"unit\": \"% of the weight of the crust\", \"value\": \"8.0\"},\\n{\"measurement\": \"weight of the anhydrous ethanol\", \"unit\": \"times the weight of the crust\", \"value\": \"12\"},\\n{\"measurement\": \"weight of the pdms solution\", \"unit\": \"times the weight of the crust\", \"value\": \"5.0\"},\\n{\"measurement\": \"weight of the anhydrous ethanol\", \"unit\": \"times the weight of the raw hide\", \"value\": \"7.0\"},\\n{\"measurement\": \"weight of the activated molecular sieve powder (3a)\", \"unit\": \"times the weight of the raw hide\", \"value\": \"5.0\"},\\n{\"measurement\": \"water content of the dehydrated hide\", \"unit\": \"%\", \"value\": \"2.78\"},\\n{\"measurement\": \"softness of the crust\", \"unit\": \"m\", \"value\": \"4.53\"},\\n{\"measurement\": \"weight of the aluminum oxide\", \"unit\": \"% of the weight of the crust\", \"value\": \"20\"},\\n{\"measurement\": \"weight of the anhydrous ethanol\", \"unit\": \"times the weight of the crust\", \"value\": \"15\"},\\n{\"measurement\": \"weight of the pdms solution\", \"unit\": \"times the weight of the crust\", \"value\": \"10\"},\\n{\"measurement\": \"weight of the molecular sieve particles (3a)\", \"unit\": \"times the weight of the raw hide\", \"value\": \"4.0\"},\\n{\"measurement\": \"weight of the anhydrous ethanol\", \"unit\": \"times the weight of the raw hide\", \"value\": \"8.0\"},\\n{\"measurement\": \"water content of the dehydrated hide\", \"unit\": \"%\", \"value\": \"3.45\"},\\n{\"measurement\": \"softness of the crust\", \"unit\": \"m\", \"value\": \"4.57\"},\\n{\"measurement\": \"weight of the calcium oxide\", \"unit\": \"% of the weight of the crust\", \"value\": \"15\"},\\n{\"measurement\": \"weight of the anhydrous ethanol\", \"unit\": \"times the weight of the crust\", \"value\": \"16\"}',\n",
       " '\\n[{\"measurement\": \"pdms solution weight\", \"unit\": \"times the weight of the crust\", \"value\": \"6.0\"},\\n{\"measurement\": \"composite particles weight\", \"unit\": \"g/in\", \"value\": \"3 to 6\"},\\n{\"measurement\": \"molecular sieve weight\", \"unit\": \"times the weight of the raw hide\", \"value\": \"6.0\"},\\n{\"measurement\": \"molecular sieve powder weight\", \"unit\": \"times the weight of the raw hide\", \"value\": \"3.0\"},\\n{\"measurement\": \"water content\", \"unit\": \"%\", \"value\": \"4.80%\"},\\n{\"measurement\": \"water content\", \"unit\": \"%\", \"value\": \"3.34%\"},\\n{\"measurement\": \"water content\", \"unit\": \"%\", \"value\": \"3.52%\"},\\n{\"measurement\": \"water content\", \"unit\": \"%\", \"value\": \"2.57%\"},\\n{\"measurement\": \"water content\", \"unit\": \"%\", \"value\": \"8.27%\"},\\n{\"measurement\": \"pdms solution weight\", \"unit\": \"times the weight of the crust\", \"value\": \"6.0\"},\\n{\"measurement\": \"acetone weight\", \"unit\": \"times the weight of the raw hide\", \"value\": \"2.0\"},\\n{\"measurement\": \"anhydrous ethanol weight\", \"unit\": \"times the weight of the raw hide\", \"value\": \"4.0\"},\\n{\"measurement\": \"molecular sieve particles weight\", \"unit\": \"times the weight of the raw hide\", \"value\": \"3.0\"},\\n{\"measurement\": \"calcium oxide weight\", \"unit\": \"% of a weight of the crust\", \"value\": \"13\"}',\n",
       " '\\n[{\"measurement\": \"anhydrous ethanol weight\", \"unit\": \"times the weight of the raw hide\", \"value\": \"15\"},\\n{\"measurement\": \"pdms solution weight\", \"unit\": \"times the weight of the crust\", \"value\": \"10\"},\\n{\"measurement\": \"water content of the dehydrated hide\", \"unit\": \"%\", \"value\": \"3.24\"},\\n{\"measurement\": \"calcium oxide weight\", \"unit\": \"% of a weight of the crust\", \"value\": \"15\"},\\n{\"measurement\": \"anhydrous ethanol weight\", \"unit\": \"times the weight of the crust\", \"value\": \"16\"},\\n{\"measurement\": \"pdms solution weight\", \"unit\": \"times the weight of the crust\", \"value\": \"12\"},\\n{\"measurement\": \"water content of the dehydrated hide\", \"unit\": \"%\", \"value\": \"3.76\"},\\n{\"measurement\": \"calcium oxide weight\", \"unit\": \"% of a weight of the crust\", \"value\": \"15\"},\\n{\"measurement\": \"anhydrous ethanol weight\", \"unit\": \"times the weight of the raw hide\", \"value\": \"3.0\"},\\n{\"measurement\": \"acetone weight\", \"unit\": \"times the weight of the raw hide\", \"value\": \"3.0\"},\\n{\"measurement\": \"activated molecular sieve powder weight\", \"unit\": \"times the weight of the raw hide\", \"value\": \"3.0\"},\\n{\"measurement\": \"water content of the dehydrated hide\", \"unit\": \"%\", \"value\": \"4.84\"},\\n{\"measurement\": \"titanium dioxide weight\", \"unit\": \"% of a weight of the crust\", \"value\": \"8.0\"},\\n{\"measurement\": \"anhydrous ethanol weight\", \"unit\": \"times the weight of the crust\", \"value\": \"12\"},\\n{\"measurement\": \"pdms solution weight\", \"unit\": \"times the weight of the crust\", \"value\": \"5.0\"}',\n",
       " \"\\n[{'measurement': 'softnes of the crust', 'unit': 'm', 'value': '3.61'},\\n {'measurement': 'weight of the magnesium oxide', 'unit': '%', 'value': '5.0'},\\n {'measurement': 'weight of the anhydrous ethanol', 'unit': 'g', 'value': '100'},\\n {'measurement': 'weight of the pdms solution', 'unit': 'g', 'value': '100'},\\n {'measurement': 'porosity', 'unit': '%', 'value': '28.67'},\\n {'measurement': 'average pore size', 'unit': 'nm', 'value': '59.91 to 161.05'},\\n {'measurement': 'total pore area', 'unit': 'm^2', 'value': '2.45'},\\n {'measurement': 'water content of the dehydrated hide',\\n  'unit': '%',\\n  'value': '4.80'}\",\n",
       " \"\\n[{'measurement': 'surface roughnes', 'unit': '', 'value': ''},\\n {'measurement': 'surface energy', 'unit': '', 'value': ''},\\n {'measurement': 'dehydration', 'unit': '', 'value': ''},\\n {'measurement': 'balance of water distribution', 'unit': '', 'value': ''},\\n {'measurement': 'dehydration', 'unit': '', 'value': ''},\\n {'measurement': 'polar organic solvent', 'unit': '', 'value': ''},\\n {'measurement': 'dehydration', 'unit': '', 'value': ''},\\n {'measurement': 'controlable dehydration', 'unit': '', 'value': ''},\\n {'measurement': 'dehydration', 'unit': '', 'value': ''},\\n {'measurement': 'clean leather making technology', 'unit': '', 'value': ''}\",\n",
       " '\\n\"measurement\": \"metalurgical vessel surface area\", \"unit\": \"unknown\", \"value\": \"between about 5 and about 350\",\\n\"measurement\": \"coated substrate support\", \"unit\": \"g/in\", \"value\": \"about 1.5 to about 7.0\",\\n\"measurement\": \"combustible gas and oxygen gas mixture\", \"unit\": \"unknown\", \"value\": \"predetermined\",\\n\"measurement\": \"required quantity of coal\", \"unit\": \"unknown\", \"value\": \"lower\",\\n\"measurement\": \"combustible gas nitrogen content\", \"unit\": \"%\", \"value\": \"less than 20\",\\n\"measurement\": \"natural gas and oxygen gas mixture\", \"unit\": \"%\", \"value\": \"25% natural gas and 75% oxygen gas\",\\n\"measurement\": \"reduction in CO2\", \"unit\": \"%\", \"value\": \"up to 2\"\\n[{\"measurement\": \"circumference\", \"unit\": \"N/A\", \"value\": \"N/A\"},\\n{\"measurement\": \"temperature distribution\", \"unit\": \"N/A\", \"value\": \"N/A\"},\\n{\"measurement\": \"oxygen gas outlets\", \"unit\": \"N/A\", \"value\": \"N/A\"},\\n{\"measurement\": \"combustible gas outlets\", \"unit\": \"N/A\", \"value\": \"N/A\"}',\n",
       " '\\n[',\n",
       " '\\n[{\"measurement\": \"shoulder diameter\", \"unit\": \"\", \"value\": \"\"}, \\n{\"measurement\": \"protecting device diameter\", \"unit\": \"\", \"value\": \"\"},\\n{\"measurement\": \"sublance length\", \"unit\": \"\", \"value\": \"\"}',\n",
       " '\\n[',\n",
       " ' (No measurements found)\\n[{\"measurement\": \"diameter of coupling portion of top lance\", \"unit\": \"N/A\", \"value\": \"d1\"},\\n {\"measurement\": \"diameter of cavity of sublance\", \"unit\": \"N/A\", \"value\": \"d2\"},\\n {\"measurement\": \"outer maximum diameter of protective device in initial configuration\", \"unit\": \"N/A\", \"value\": \"d3o2\"},\\n {\"measurement\": \"diameter of inner passage of protective device in first and second embodiment\", \"unit\": \"N/A\", \"value\": \"d3i\"},\\n {\"measurement\": \"diameter of elongated tube of sublance\", \"unit\": \"N/A\", \"value\": \"d21\"},\\n {\"measurement\": \"diameter of external section of l-shaped plate\", \"unit\": \"N/A\", \"value\": \"d2\"},\\n {\"measurement\": \"maximum diameter of outer tube in first embodiment\", \"unit\": \"N/A\", \"value\": \"d3o3\"},\\n {\"measurement\": \"maximum diameter of coupling portion of top lance\", \"unit\": \"N/A\", \"value\": \"d1\"}',\n",
       " '\\n[ \\n{ \"measurement\": \"elongated tube cros-section external diameter\", \"unit\": \"\", \"value\": \"\" },\\n{ \"measurement\": \"protective device deformable force along longitudinal axis\", \"unit\": \"\", \"value\": \"\" },\\n{ \"measurement\": \"coupling portion diameter\", \"unit\": \"\", \"value\": \"\" },\\n{ \"measurement\": \"protective device outer maximum diameter\", \"unit\": \"\", \"value\": \"\" },\\n{ \"measurement\": \"protective device deformed configuration diameter\", \"unit\": \"\", \"value\": \"\" },\\n{ \"measurement\": \"protective device impervious surface diameter\", \"unit\": \"\", \"value\": \"\" },\\n{ \"measurement\": \"inner tube diameter\", \"unit\": \"\", \"value\": \"\" },\\n{ \"measurement\": \"outer tube diameter\", \"unit\": \"\", \"value\": \"\" },\\n{ \"measurement\": \"peripheral tubes diameter\", \"unit\": \"\", \"value\": \"\" },\\n{ \"measurement\": \"peripheral slits diameter\", \"unit\": \"\", \"value\": \"\" },\\n{ \"measurement\": \"top lance diameter\", \"unit\": \"\", \"value\": \"\" },\\n{ \"measurement\": \"handling portion diameter\", \"unit\": \"\", \"value\": \"\" },\\n{ \"measurement\": \"sublance diameter\", \"unit\": \"\", \"value\": \"\" },\\n{ \"measurement\": \"fixed element diameter\", \"unit\": \"\", \"value\": \"\" },\\n{ \"measurement\": \"probe holder diameter\", \"unit\": \"\", \"value\": \"\" },\\n{ \"measurement\": \"holow coupling portion diameter\", \"unit\": \"\", \"value\": \"\" },\\n{ \"measurement\": \"electrical conection diameter\", \"unit\": \"\", \"value\": \"\" },\\n{ \"measurement\": \"elongated tube diameter\", \"unit\": \"\", \"value\": \"\" },\\n{ \"measurement\": \"protective device diameter\", \"unit\": \"\", \"value\": \"\" }\\n',\n",
       " '\\n\"measurement\": \"diameter of the distal end of the handling portion\", \"unit\": None, \"value\": \"d1\",\\n\"measurement\": \"maximum diameter of the coupling portion cross-section\", \"unit\": None, \"value\": \"d1\",\\n\"measurement\": \"diameter of cavity\", \"unit\": None, \"value\": \"d2\",\\n\"measurement\": \"external diameter of the coupling end\", \"unit\": None, \"value\": \"d2\",\\n\"measurement\": \"outer maximum diameter of the deformed protective device\", \"unit\": None, \"value\": \"d3o\",\\n\"measurement\": \"diameter of inner passage of the protective device\", \"unit\": None, \"value\": \"d3i\",\\n\"measurement\": \"outer maximum diameter of the undeformed protective device\", \"unit\": None, \"value\": \"d3o\",\\n\"measurement\": \"diameter of the cavity of elongated tube\", \"unit\": None, \"value\": \"d2\",\\n\"measurement\": \"diameter of the sublance\", \"unit\": None, \"value\": \"d2\",\\n\"measurement\": \"diameter of the circle inscribed in the deformed protective device\", \"unit\": None, \"value\": \"d3d\"\\n[{\"measurement\": \"diameter of inner passage\", \"unit\": \"not specified\", \"value\": \"d 3 i 3 i 1\"}, \\n{\"measurement\": \"diameter of elongated tube\", \"unit\": \"not specified\", \"value\": \"d 2 1 2 2 1\"}, \\n{\"measurement\": \"diameter of elongated tube\", \"unit\": \"not specified\", \"value\": \"d 2 1 2 2 1\"}, \\n{\"measurement\": \"outer maximum diameter of protective device\", \"unit\": \"not specified\", \"value\": \"not more than 10% larger than d 2 3 o 2 2 3 o 2 3 o 2\"}, \\n{\"measurement\": \"number of peripheral slits\", \"unit\": \"not specified\", \"value\": \"not specified\"}, \\n{\"measurement\": \"number of outer slits\", \"unit\": \"not specified\", \"value\": \"not specified\"}, \\n{\"measurement\": \"number of inner slits\", \"unit\": \"not specified\", \"value\": \"not specified\"}',\n",
       " '\\n[',\n",
       " '\\n[{\"measurement\": \"seamless steel pipe outer diameter\", \"unit\": \"m\", \"value\": \"138.9\"},\\n{\"measurement\": \"seamless steel pipe wall thickness\", \"unit\": \"m\", \"value\": \"10.8\"},\\n{\"measurement\": \"normalizing heat treatment temperature\", \"unit\": \"°C\", \"value\": \"950\"},\\n{\"measurement\": \"corrosion test specimen length\", \"unit\": \"m\", \"value\": \"30\"},\\n{\"measurement\": \"corrosion test specimen width\", \"unit\": \"m\", \"value\": \"20\"},\\n{\"measurement\": \"corrosion test specimen thickness\", \"unit\": \"m\", \"value\": \"5\"}',\n",
       " '\\n[{\"measurement\": \"refractory metal oxide support surface area\", \"unit\": \"m^2/g\", \"value\": \"100 to 200\"},\\n{\"measurement\": \"coated Substrate support\", \"unit\": \"g/in\", \"value\": \"1.5 to 7.0\"},\\n{\"measurement\": \"Alumina BET surface area\", \"unit\": \"m/g\", \"value\": \"200\"},\\n{\"measurement\": \"nitrogen oxide surface area\", \"unit\": \"m^2/g\", \"value\": \"30 and 80\"},\\n{\"measurement\": \"polypeptide concentration\", \"unit\": \"g/ml\", \"value\": \"1 to 9\"},\\n{\"measurement\": \"yield strength\", \"unit\": \"MPa\", \"value\": \"230\"},\\n{\"measurement\": \"tensile strength\", \"unit\": \"MPa\", \"value\": \"380\"}',\n",
       " '\\n[\\n  {\\n    \"measurement\": \"cu concentration\",\\n    \"unit\": \"mas %\",\\n    \"value\": \"N/A\"\\n  },\\n  {\\n    \"measurement\": \"cr concentration\",\\n    \"unit\": \"mas %\",\\n    \"value\": \"N/A\"\\n  },\\n  {\\n    \"measurement\": \"sb concentration\",\\n    \"unit\": \"mas %\",\\n    \"value\": \"N/A\"\\n  },\\n  {\\n    \"measurement\": \"w concentration\",\\n    \"unit\": \"mas %\",\\n    \"value\": \"N/A\"\\n  },\\n  {\\n    \"measurement\": \"sn concentration\",\\n    \"unit\": \"mas %\",\\n    \"value\": \"0.05 to 0.5\"\\n  },\\n  {\\n    \"measurement\": \"yield strength\",\\n    \"unit\": \"mpa\",\\n    \"value\": \"230 or more\"\\n  },\\n  {\\n    \"measurement\": \"tensile strength\",\\n    \"unit\": \"mpa\",\\n    \"value\": \"380 or more\"\\n  },\\n  {\\n    \"measurement\": \"rectangular cros section heating temperature\",\\n    \"unit\": \"c\",\\n    \"value\": \"1,0 to 1,20\"\\n  },\\n  {\\n    \"measurement\": \"circular cros section heating temperature\",\\n    \"unit\": \"c\",\\n    \"value\": \"1,0 to 1,20\"\\n  },\\n  {\\n    \"measurement\": \"normalizing temperature\",\\n    \"unit\": \"c\",\\n    \"value\": \"850 to 1,050\"\\n  },\\n  {\\n    \"measurement\": \"cast piece heating time\",\\n    \"unit\": \"hours\",\\n    \"value\": \"at least 1.5\"\\n  },\\n  {\\n    \"measurement\": \"corosion product exfoliation rate\",\\n    \"unit\": \"N/A\",\\n    \"value\": \"10% or less\"\\n  },\\n  {\\n    \"measurement\": \"seamles stel pipe BET surface area\",\\n    \"unit\": \"N/A\",\\n    \"value\": \"N/A\"\\n  }\\n',\n",
       " \"\\n[\\n{ 'measurement': 'c content', 'unit': '%', 'value': '0.02% or more' },\\n{ 'measurement': 'c content', 'unit': '%', 'value': '0.021% or more' },\\n{ 'measurement': 'c content', 'unit': '%', 'value': '0.12% or less' },\\n{ 'measurement': 'c content', 'unit': '%', 'value': '0.08% or less' },\\n{ 'measurement': 'si content', 'unit': '%', 'value': '0.010% or more' },\\n{ 'measurement': 'si content', 'unit': '%', 'value': '0.05% or more' },\\n{ 'measurement': 'si content', 'unit': '%', 'value': '1.0% or less' },\\n{ 'measurement': 'si content', 'unit': '%', 'value': '0.80% or less' },\\n{ 'measurement': 'mn content', 'unit': '%', 'value': '0.10% or more' },\\n{ 'measurement': 'mn content', 'unit': '%', 'value': '0.50% or more' },\\n{ 'measurement': 'mn content', 'unit': '%', 'value': '2.0% or less' },\\n{ 'measurement': 'mn content', 'unit': '%', 'value': '1.80% or less' },\\n{ 'measurement': 'p content', 'unit': '%', 'value': '0.050% or less' },\\n{ 'measurement': 'p content', 'unit': '%', 'value': '0.030% or less' },\\n{ 'measurement': 'p content', 'unit': '%', 'value': '0.015% or less' },\\n{ 'measurement': 's content', 'unit': '%', 'value': '0.04% or less' },\\n{ 'measurement': 's content', 'unit': '%', 'value': '0.03% or less' },\\n{ 'measurement': 's content', 'unit': '%', 'value': '0.02% or less' },\\n{ 'measurement': 'al content', 'unit': '%', 'value': '0.010% or more' },\\n{ 'measurement': 'al content', 'unit': '%', 'value': '0.015% or more' },\\n{ 'measurement': 'al content', 'unit': '%', 'value': '0.10% or less' },\\n{ 'measurement': 'al content', 'unit': '%', 'value': '0.020% or more' },\\n{ 'measurement': 'cu content', 'unit': '%', 'value': '0.03% or more' },\\n{ 'measurement': 'cu content', 'unit': '%', 'value': '0.10% or more' },\\n{ 'measurement': 'cu content', 'unit': '%', 'value': '0.80% or less' },\\n{ 'measurement': 'cu content', 'unit': '%', 'value': '0.60% or less' },\\n{ 'measurement': 'ni content', 'unit': '%', 'value': '0.02% or more' },\\n{ 'measurement': 'ni content', 'unit': '%', 'value': '0.08% or more' },\\n{ 'measurement': 'ni content', 'unit': '%', 'value': '0.50% or less' },\\n{ 'measurement': 'ni content', 'unit': '%', 'value': '0.45% or less' }\\n\",\n",
       " \"\\n[{'measurement': 'cr content', 'unit': '%', 'value': '0.5 to 1.0'},\\n {'measurement': 'sb content', 'unit': '%', 'value': '0.05 to 0.20'},\\n {'measurement': 'sb content', 'unit': '%', 'value': '0.05% or more'},\\n {'measurement': 'sb content', 'unit': '%', 'value': '0.02% or more'},\\n {'measurement': 'sb content', 'unit': '%', 'value': '0.05% or more'},\\n {'measurement': 'sb content', 'unit': '%', 'value': '0.20%'},\\n {'measurement': 'sb content', 'unit': '%', 'value': '0.15% or les'},\\n {'measurement': 'sb content', 'unit': '%', 'value': '0.09% or les'},\\n {'measurement': 'w content', 'unit': '%', 'value': '0.03 to 0.040%'},\\n {'measurement': 'w content', 'unit': '%', 'value': '0.03% or more'},\\n {'measurement': 'w content', 'unit': '%', 'value': '0.05% or more'},\\n {'measurement': 'w content', 'unit': '%', 'value': '0.08% or more'},\\n {'measurement': 'w content', 'unit': '%', 'value': '0.040%'},\\n {'measurement': 'w content', 'unit': '%', 'value': '0.030% or les'},\\n {'measurement': 'w content', 'unit': '%', 'value': '0.015% or les'},\\n {'measurement': 'sn content', 'unit': '%', 'value': '0.05 to 0.5%'},\\n {'measurement': 'h content', 'unit': '%', 'value': '0.05%'},\\n {'measurement': 'o content', 'unit': '%', 'value': '0.04%'},\\n {'measurement': 'co content', 'unit': '%', 'value': '0.01%'},\\n {'measurement': 'as content', 'unit': '%', 'value': '0.06%'},\\n {'measurement': 'zr content', 'unit': '%', 'value': '0.04%'},\\n {'measurement': 'ag content', 'unit': '%', 'value': '0.01%'},\\n {'measurement': 'ta content', 'unit': '%', 'value': '0.04%'},\\n {'measurement': 'pb content', 'unit': '%', 'value': '0.05%'},\\n {'measurement': 'cu concentration', 'unit': 'mas %', 'value': 'cu*'},\\n {'measurement': 'cr concentration', 'unit': 'mas %', 'value': 'cr*'},\\n {'measurement': 'sb concentration', 'unit': 'mas %', 'value': 'sb*'},\\n {'measurement': 'w concentration', 'unit': 'mas %', 'value': 'w*'}\",\n",
       " '\\n[',\n",
       " \"\\n[{'measurement': 'outer surface thickness', 'unit': 'm', 'value': '2'},\\n {'measurement': 'concentration of cu', 'unit': 'mas %', 'value': 'N/A'},\\n {'measurement': 'concentration of cr', 'unit': 'mas %', 'value': 'N/A'},\\n {'measurement': 'concentration of sb', 'unit': 'mas %', 'value': 'N/A'},\\n {'measurement': 'concentration of w', 'unit': 'mas %', 'value': 'N/A'},\\n {'measurement': 'yield strength', 'unit': 'MPa', 'value': '230 or more'},\\n {'measurement': 'tensile strength', 'unit': 'MPa', 'value': '380 or more'},\\n {'measurement': 'heating temperature', 'unit': '°C', 'value': '1,0 to 1,20'},\\n {'measurement': 'heating temperature', 'unit': '°C', 'value': '1,0 or more'},\\n {'measurement': 'heating temperature', 'unit': '°C', 'value': '1,050 or more'},\\n {'measurement': 'heating temperature', 'unit': '°C', 'value': '1,10 or more'},\\n {'measurement': 'heating temperature', 'unit': '°C', 'value': '1,20 or less'},\\n {'measurement': 'temperature region', 'unit': '°C', 'value': 'austenitic phase'},\\n {'measurement': 'enrichment of cu', 'unit': 'N/A', 'value': 'outer surface'},\\n {'measurement': 'enrichment of cr', 'unit': 'N/A', 'value': 'outer surface'},\\n {'measurement': 'enrichment of sb', 'unit': 'N/A', 'value': 'outer surface'},\\n {'measurement': 'enrichment of w', 'unit': 'N/A', 'value': 'outer surface'}\",\n",
       " '\\n[\\n  {\\n    \"measurement\": \"heating time from 90 c. to heating temperature\",\\n    \"unit\": \"hours\",\\n    \"value\": \"at least 1.5\"\\n  },\\n  {\\n    \"measurement\": \"enrichment of elements (cu, cr, sb, w) in outer surface of seamless steel pipe\",\\n    \"unit\": \"undefined\",\\n    \"value\": \"notable\"\\n  },\\n  {\\n    \"measurement\": \"heating time from 90 c. to target heating temperature of billet rolling or cast-piece heat treatment\",\\n    \"unit\": \"hours\",\\n    \"value\": \"at least 1.5\"\\n  },\\n  {\\n    \"measurement\": \"hot rolling end temperature (billet-rolling end temperature)\",\\n    \"unit\": \"°C\",\\n    \"value\": \"preferably 80 or more, more preferably 90 or more\"\\n  },\\n  {\\n    \"measurement\": \"cooling rate of air cooling\",\\n    \"unit\": \"°C/s\",\\n    \"value\": \"1 or less\"\\n  },\\n  {\\n    \"measurement\": \"heating temperature of cast-piece heat treatment\",\\n    \"unit\": \"°C\",\\n    \"value\": \"1,0 to 1,20\"\\n  },\\n  {\\n    \"measurement\": \"time length of heating from 90 c. to heating temperature of cast-piece heat treatment\",\\n    \"unit\": \"hours\",\\n    \"value\": \"at least 1.5\"\\n  },\\n  {\\n    \"measurement\": \"heating temperature of stel pipe material\",\\n    \"unit\": \"°C\",\\n    \"value\": \"1,10 to 1,30\"\\n  }\\n',\n",
       " '\\n[{\"measurement\": \"stel pipe material heating temperature\", \"unit\": \"°C\", \"value\": \"1,150 or more\"},\\n{\"measurement\": \"stel pipe material heating temperature\", \"unit\": \"°C\", \"value\": \"1,200 or more\"},\\n{\"measurement\": \"stel pipe material heating temperature upper limit\", \"unit\": \"°C\", \"value\": \"1,300 or less\"},\\n{\"measurement\": \"hot roling temperature\", \"unit\": \"°C\", \"value\": \"80 or more\"},\\n{\"measurement\": \"hot roling end temperature\", \"unit\": \"°C\", \"value\": \"80 or more\"},\\n{\"measurement\": \"hot roling temperature\", \"unit\": \"°C\", \"value\": \"830 or more\"},\\n{\"measurement\": \"seamles stel pipe normalizing temperature\", \"unit\": \"°C\", \"value\": \"850 to 1,050\"},\\n{\"measurement\": \"normalizing temperature\", \"unit\": \"°C\", \"value\": \"850 or more\"},\\n{\"measurement\": \"normalizing temperature\", \"unit\": \"°C\", \"value\": \"950 or less\"},\\n{\"measurement\": \"stel pipe diameter\", \"unit\": \"m\", \"value\": \"190\"},\\n{\"measurement\": \"stel pipe diameter\", \"unit\": \"m\", \"value\": \"140\"}',\n",
       " '\\n[\\n    {\"measurement\": \"surface area\", \"unit\": \"m\", \"value\": \"5 to 350\"},\\n    {\"measurement\": \"coated Substrate support\", \"unit\": \"g/in\", \"value\": \"1.5 to 7.0\"},\\n    {\"measurement\": \"Alumina BET surface area\", \"unit\": \"m/g\", \"value\": \"200\"},\\n    {\"measurement\": \"nitrogen oxide surface area\", \"unit\": \"m^2/g\", \"value\": \"30 and 80\"},\\n    {\"measurement\": \"polypeptide concentration\", \"unit\": \"g/ml\", \"value\": \"1 to 9\"},\\n    {\"measurement\": \"yield strength\", \"unit\": \"MPa\", \"value\": \"230 or more\"},\\n    {\"measurement\": \"tensile strength\", \"unit\": \"MPa\", \"value\": \"380 or more\"},\\n    {\"measurement\": \"yield strength\", \"unit\": \"MPa\", \"value\": \"250 or more\"},\\n    {\"measurement\": \"tensile strength\", \"unit\": \"MPa\", \"value\": \"40 or more\"}\\n',\n",
       " '\\n[{\"measurement\": \"exfoliation rate of corosion products\", \"unit\": \"%\", \"value\": \"10 or less\"},\\n{\"measurement\": \"exfoliation rate of corosion products\", \"unit\": \"%\", \"value\": \"8 or less\"},\\n{\"measurement\": \"exfoliation rate of corosion products\", \"unit\": \"%\", \"value\": \"5 or less\"},\\n{\"measurement\": \"stel pipes surface area\", \"unit\": \"m\", \"value\": \"17.8\"},\\n{\"measurement\": \"stel pipes end temp\", \"unit\": \"C\", \"value\": \"80\"},\\n{\"measurement\": \"stel pipes end temp\", \"unit\": \"C\", \"value\": \"85\"},\\n{\"measurement\": \"stel outer diameter\", \"unit\": \"m\", \"value\": \"17.8\"},\\n{\"measurement\": \"stel outer diameter\", \"unit\": \"m\", \"value\": \"50.8\"},\\n{\"measurement\": \"stel tubing heating temp\", \"unit\": \"C\", \"value\": \"1275\"},\\n{\"measurement\": \"stel tubing heating temp\", \"unit\": \"C\", \"value\": \"1270\"},\\n{\"measurement\": \"stel tubing heating temp\", \"unit\": \"C\", \"value\": \"1249\"},\\n{\"measurement\": \"stel tubing heating temp\", \"unit\": \"C\", \"value\": \"1252\"},\\n{\"measurement\": \"stel tubing heating temp\", \"unit\": \"C\", \"value\": \"1254\"},\\n{\"measurement\": \"stel tubing heating temp\", \"unit\": \"C\", \"value\": \"1273\"},\\n{\"measurement\": \"stel tubing heating temp\", \"unit\": \"C\", \"value\": \"1276\"},\\n{\"measurement\": \"stel tubing heating temp\", \"unit\": \"C\", \"value\": \"16\"},\\n{\"measurement\": \"stel tubing end temp\", \"unit\": \"C\", \"value\": \"920\"},\\n{\"measurement\": \"stel tubing end temp\", \"unit\": \"C\", \"value\": \"930\"},\\n{\"measurement\": \"stel tubing end temp\", \"unit\": \"C\", \"value\": \"861\"},\\n{\"measurement\": \"stel tubing end temp\", \"unit\": \"C\", \"value\": \"873\"},\\n{\"measurement\": \"stel tubing end temp\", \"unit\": \"C\", \"value\": \"86\"},\\n{\"measurement\": \"stel tubing end temp\", \"unit\": \"C\", \"value\": \"87\"},\\n{\"measurement\": \"stel tubing end temp\", \"unit\": \"C\", \"value\": \"82\"},\\n{\"measurement\": \"stel tubing end temp\", \"unit\": \"C\", \"value\": \"837\"}',\n",
       " '\\n[{\"measurement\": \"heating temp. of cast-piece\", \"unit\": \"c.\", \"value\": \"98\"},\\n{\"measurement\": \"heating temp. of heating temp. of stel bilet\", \"unit\": \"c.\", \"value\": \"181 to 174\"},\\n{\"measurement\": \"heating time\", \"unit\": \"hr\", \"value\": \"0.3 to 1.8\"},\\n{\"measurement\": \"thickness\", \"unit\": \"m\", \"value\": \"10.6 to 138.9\"},\\n{\"measurement\": \"diameter\", \"unit\": \"m\", \"value\": \"17.8 to 50.8\"},\\n{\"measurement\": \"stel pipe temp\", \"unit\": \"c.\", \"value\": \"123 to 128\"},\\n{\"measurement\": \"end temp.\", \"unit\": \"c.\", \"value\": \"83 to 869\"},\\n{\"measurement\": \"SB\", \"unit\": \"mas %\", \"value\": \"0.02 to 0.19\"},\\n{\"measurement\": \"Cu*\", \"unit\": \"mas %\", \"value\": \"0.24 to 0.82\"},\\n{\"measurement\": \"Cr*\", \"unit\": \"mas %\", \"value\": \"1.1 to 1.63\"},\\n{\"measurement\": \"W*\", \"unit\": \"mas %\", \"value\": \"0.08 to 0.18\"}',\n",
       " '\\n[{\"measurement\": \"epma line analysis cu\", \"unit\": \"mas %\", \"value\": \"0.68\", \"region\": \"0.5 to 2.0-m\"},\\n{\"measurement\": \"epma line analysis cr\", \"unit\": \"mas %\", \"value\": \"1.13\", \"region\": \"0.5 to 2.0-m\"},\\n{\"measurement\": \"epma line analysis sb\", \"unit\": \"mas %\", \"value\": \"0.16\", \"region\": \"0.5 to 2.0-m\"},\\n{\"measurement\": \"epma line analysis w\", \"unit\": \"mas %\", \"value\": \"14.2\", \"region\": \"0.5 to 2.0-m\"},\\n{\"measurement\": \"epma line analysis cu\", \"unit\": \"mas %\", \"value\": \"0.67\", \"region\": \"0.5 to 2.0-m\"},\\n{\"measurement\": \"epma line analysis cr\", \"unit\": \"mas %\", \"value\": \"1.15\", \"region\": \"0.5 to 2.0-m\"},\\n{\"measurement\": \"epma line analysis sb\", \"unit\": \"mas %\", \"value\": \"0.18\", \"region\": \"0.5 to 2.0-m\"},\\n{\"measurement\": \"epma line analysis w\", \"unit\": \"mas %\", \"value\": \"14.5\", \"region\": \"0.5 to 2.0-m\"},\\n{\"measurement\": \"epma line analysis cu\", \"unit\": \"mas %\", \"value\": \"0.65\", \"region\": \"0.5 to 2.0-m\"},\\n{\"measurement\": \"epma line analysis cr\", \"unit\": \"mas %\", \"value\": \"1.13\", \"region\": \"0.5 to 2.0-m\"},\\n{\"measurement\": \"epma line analysis sb\", \"unit\": \"mas %\", \"value\": \"0.16\", \"region\": \"0.5 to 2.0-m\"},\\n{\"measurement\": \"epma line analysis w\", \"unit\": \"mas %\", \"value\": \"14.1\", \"region\": \"0.5 to 2.0-m\"},\\n{\"measurement\": \"epma line analysis cu\", \"unit\": \"mas %\", \"value\": \"0.67\", \"region\": \"0.5 to 2.0-m\"},\\n{\"measurement\": \"epma line analysis cr\", \"unit\": \"mas %\", \"value\": \"1.17\", \"region\": \"0.5 to 2.0-m\"},\\n{\"measurement\": \"epma line analysis sb\", \"unit\": \"mas %\", \"value\": \"0.14\", \"region\": \"0.5 to 2.0-m\"},\\n{\"measurement\": \"epma line analysis w\", \"unit\": \"mas %\", \"value\": \"14.5\", \"region\": \"0.5 to 2.0-m\"},\\n{\"measurement\": \"epma line analysis cu\", \"unit\": \"mas %\", \"value\": \"0.67\", \"region\": \"0.5 to 2.0-m\"},\\n{\"measurement\": \"epma line analysis cr\", \"unit\": \"mas %\", \"value\": \"1.15\", \"region\": \"0.5 to 2.0-m\"},\\n{\"measurement\": \"epma line analysis sb\", \"unit\": \"mas %\", \"value\": \"0.16\", \"region\": \"0.5 to 2.0-m\"},\\n{\"measurement\": \"epma line analysis w\", \"unit\": \"mas %\", \"value\": \"14.4\", \"region\": \"0.5 to 2.0-m\"},\\n{\"measurement\": \"epma line analysis cu\", \"unit\": \"mas %\", \"value\": \"0.65\", \"region\": \"0.5 to 2.0-m\"},\\n{\"measurement\": \"epma line analysis cr\", \"unit\": \"mas %\", \"value\": \"1.13\", \"region\": \"0.5 to 2.0-m\"},\\n{\"measurement\": \"epma line analysis sb\", \"unit\": \"mas %\", \"value\": \"0.16\", \"region\": \"0.5 to 2.0-m\"},\\n{\"measurement\": \"epma line analysis w\", \"unit\": \"mas %\", \"value\": \"14.1\", \"region\": \"0.5 to 2.0-m\"},\\n{\"measurement\": \"epma line analysis cu\", \"unit\": \"mas %\", \"value\": \"0.67\", \"region\": \"0.5 to 2.0-m\"},\\n{\"measurement\": \"epma line analysis cr\", \"unit\": \"mas %\", \"value\": \"1.19\", \"region\": \"0.5 to 2.0-m\"},\\n{\"measurement\": \"epma line analysis sb\", \"unit\": \"mas %\", \"value\": \"0.17\", \"region\": \"0.5 to 2.0-m\"},\\n{\"measurement\": \"epma line analysis w\", \"unit\": \"mas %\", \"value\": \"14.9\", \"region\": \"0.5 to 2.0-m\"},\\n{\"measurement\": \"epma line analysis cu\", \"unit\": \"mas %\", \"value\": \"0.6\", \"region\": \"0.5 to 2.0-m\"},\\n{\"measurement\": \"epma line analysis cr\", \"unit\": \"mas %\", \"value\": \"1.2\", \"region\": \"0.5 to 2.0-m\"},\\n{\"measurement\": \"epma line analysis sb\", \"unit\": \"mas %\", \"value\": \"0.18\", \"region\": \"0.5 to 2.0-m\"},\\n{\"measurement\": \"epma line analysis w\", \"unit\": \"mas %\", \"value\": \"15.2\", \"region\": \"0.5 to 2.0-m\"},\\n{\"measurement\": \"epma line analysis cu\", \"unit\": \"mas %\", \"value\": \"0.39\", \"region\": \"0.5 to 2.0-m\"},\\n{\"measurement\": \"epma line analysis cr\", \"unit\": \"mas %\", \"value\": \"0.63\", \"region\": \"0.5 to 2.0-m\"},\\n{\"measurement\": \"epma line analysis sb\", \"unit\": \"mas %\", \"value\": \"0.1\", \"region\": \"0.5 to 2.0-m\"},\\n{\"measurement\": \"epma line analysis w\", \"unit\": \"mas %\", \"value\": \"8.0\", \"region\": \"0.5 to 2.0-m\"},\\n{\"measurement\": \"epma line analysis cu\", \"unit\": \"mas %\", \"value\": \"0.67\", \"region\": \"0.5 to 2.0-m\"},\\n{\"measurement\": \"epma line analysis cr\", \"unit\": \"mas %\", \"value\": \"1.24\", \"region\": \"0.5 to 2.0-m\"},\\n{\"measurement\": \"epma line analysis sb\", \"unit\": \"mas %\", \"value\": \"0.16\", \"region\": \"0.5 to 2.0-m\"},\\n{\"measurement\": \"epma line analysis w\", \"unit\": \"mas %\", \"value\": \"15.4\", \"region\": \"0.5 to 2.0-m\"},\\n{\"measurement\": \"epma line analysis cu\", \"unit\": \"mas %\", \"value\": \"0.69\", \"region\": \"0.5 to 2.0-m\"},\\n{\"measurement\": \"epma line analysis cr\", \"unit\": \"mas %\", \"value\": \"1.25\", \"region\": \"0.5 to 2.0-m\"},\\n{\"measurement\": \"epma line analysis sb\", \"unit\": \"mas %\", \"value\": \"0.18\", \"region\": \"0.5 to 2.0-m\"},\\n{\"measurement\": \"epma line analysis w\", \"unit\": \"mas %\", \"value\": \"15.6\", \"region\": \"0.5 to 2.0-m\"},\\n{\"measurement\": \"epma line analysis cu\", \"unit\": \"mas %\", \"value\": \"0.24\", \"region\": \"0.5 to 2.0-m\"},\\n{\"measurement\": \"epma line analysis cr\", \"unit\": \"mas %\", \"value\": \"0.79\", \"region\": \"0.5 to 2.0-m\"},\\n{\"measurement\": \"epma line analysis sb\", \"unit\": \"mas %\", \"value\": \"0.07\", \"region\": \"0.5 to 2.0-m\"},\\n{\"measurement\": \"epma line analysis w\", \"unit\": \"mas %\", \"value\": \"13.5\", \"region\": \"0.5 to 2.0-m\"},\\n{\"measurement\": \"epma line analysis cu\", \"unit\": \"mas %\", \"value\": \"0.4\", \"region\": \"0.5 to 2.0-m\"},\\n{\"measurement\": \"epma line analysis cr\", \"unit\": \"mas %\", \"value\": \"0.65\", \"region\": \"0.5 to 2.0-m\"},\\n{\"measurement\": \"epma line analysis sb\", \"unit\": \"mas %\", \"value\": \"0.06\", \"region\": \"0.5 to 2.0-m\"},\\n{\"measurement\": \"epma line analysis w\", \"unit\": \"mas %\", \"value\": \"13.5\", \"region\": \"0.5 to 2.0-m\"},\\n{\"measurement\": \"epma line analysis cu\", \"unit\": \"mas %\", \"value\": \"0.27\", \"region\": \"0.5 to 2.0-m\"},\\n{\"measurement\": \"epma line analysis cr\", \"unit\": \"mas %\", \"value\": \"0.69\", \"region\": \"0.5 to 2.0-m\"},\\n{\"measurement\": \"epma line analysis sb\", \"unit\": \"mas %\", \"value\": \"0.1\", \"region\": \"0.5 to 2.0-m\"},\\n{\"measurement\": \"epma line analysis w\", \"unit\": \"mas %\", \"value\": \"8.4\", \"region\": \"0.5 to 2.0-m\"},\\n{\"measurement\": \"epma line analysis cu\", \"unit\": \"mas %\", \"value\": \"0.36\", \"region\": \"0.5 to 2.0-m\"},\\n{\"measurement\": \"epma line analysis cr\", \"unit\": \"mas %\", \"value\": \"0.64\", \"region\": \"0.5 to 2.0-m\"},\\n{\"measurement\": \"epma line analysis sb\", \"unit\": \"mas %\", \"value\": \"0.08\", \"region\": \"0.5 to 2.0-m\"},\\n{\"measurement\": \"epma line analysis w\", \"unit\": \"mas %\", \"value\": \"13.5\", \"region\": \"0.5 to 2.0-m\"}',\n",
       " '\\n[{\"measurement\": \"stel compositions upper limit\", \"unit\": \"N/A\", \"value\": \"not within range of present invention\"},\\n{\"measurement\": \"stel compositions lower limit\", \"unit\": \"N/A\", \"value\": \"not within range of present invention\"},\\n{\"measurement\": \"defects\", \"unit\": \"N/A\", \"value\": \"not observed in the stel pipes of the present examples\"},\\n{\"measurement\": \"yield strength\", \"unit\": \"N/A\", \"value\": \"desired\"},\\n{\"measurement\": \"tensile strength\", \"unit\": \"N/A\", \"value\": \"desired\"},\\n{\"measurement\": \"sulfuric acid dew-point corrosion resistance\", \"unit\": \"%\", \"value\": \"exfoliation rate of corrosion products of 10% or less\"},\\n{\"measurement\": \"defects\", \"unit\": \"N/A\", \"value\": \"observed in the outer surface of the stel pipe in the nondestructive testing in comparative example (stel pipe no. 1-24)\"},\\n{\"measurement\": \"defects\", \"unit\": \"N/A\", \"value\": \"observed in the outer surface of the stel pipe in the nondestructive testing in comparative example (stel pipe no. 1-26)\"},\\n{\"measurement\": \"defects\", \"unit\": \"N/A\", \"value\": \"observed in the outer surface of the stel pipe in the nondestructive testing in comparative example (stel pipe no. 1-32)\"},\\n{\"measurement\": \"defects\", \"unit\": \"N/A\", \"value\": \"observed in the outer surface of the stel pipe in the nondestructive testing in comparative example (stel pipe no. 1-37)\"},\\n{\"measurement\": \"defects\", \"unit\": \"N/A\", \"value\": \"observed in the outer surface of the stel pipe in the nondestructive testing in comparative example (stel pipe no. 1-40)\"},\\n{\"measurement\": \"defects\", \"unit\": \"N/A\", \"value\": \"observed in the outer surface of the stel pipe in the nondestructive testing in comparative example (stel pipe no. 1-34)\"},\\n{\"measurement\": \"defects\", \"unit\": \"N/A\", \"value\": \"observed after piercing in the rolling of the stel pipe in comparative example (stel pipe no. 1-28)\"},\\n{\"measurement\": \"defects\", \"unit\": \"N/A\", \"value\": \"observed in the nondestructive testing after piercing in the rolling of the stel pipe in comparative example (stel pipe no. 1-30)\"},\\n{\"measurement\": \"defects\", \"unit\": \"N/A\", \"value\": \"observed in the nondestructive testing after piercing in the rolling of the stel pipe in comparative example (stel pipe no. 1-31)\"},\\n{\"measurement\": \"defects\", \"unit\": \"N/A\", \"value\": \"observed in the nondestructive testing after piercing in the rolling of the stel pipe in comparative example (stel pipe no. 1-35)\"},\\n{\"measurement\": \"defects\", \"unit\": \"N/A\", \"value\": \"observed in the nondestructive testing after piercing in the rolling of the stel pipe in comparative example (stel pipe no. 1-39)\"},\\n{\"measurement\": \"yield strength\", \"unit\": \"N/A\", \"value\": \"failed to meet the target values in the tensile test in comparative example (stel pipe no. 1-25)\"},\\n{\"measurement\": \"yield strength\", \"unit\": \"N/A\", \"value\": \"failed to meet the target values in the tensile test in comparative example (stel pipe no. 1-27)\"},\\n{\"measurement\": \"yield strength\", \"unit\": \"N/A\", \"value\": \"failed to meet the target values in the tensile test in comparative example (stel pipe no. 1-29)\"},\\n{\"measurement\": \"corrosion resistance\", \"unit\": \"%\", \"value\": \"severe corrosion occurred in the sulfuric acid dew-point corrosion test and the stel pipe failed to satisfy the target exfoliation rate of corrosion products in comparative example (stel pipe no. 1-3)\"},\\n{\"measurement\": \"corrosion resistance\", \"unit\": \"%\", \"value\": \"severe corrosion occurred in the sulfuric acid dew-point corrosion test and the stel pipe failed to satisfy the target exfoliation rate of corrosion products in comparative example (stel pipe no. 1-38)\"},\\n{\"measurement\": \"corrosion resistance\", \"unit\": \"%\", \"value\": \"the stel pipe failed to satisfy the target exfoliation rate of corrosion products in the sulfuric acid dew-point corrosion test in comparative example (stel pipe no. 1-36)\"},\\n{\"measurement\": \"heating temperature\", \"unit\": \"N/A\", \"value\": \"below the lower limit of the range of the present invention in comparative examples (stel pipe nos. 2-1, 2-5, and 2-10)\"},\\n{\"measurement\": \"heating temperature\", \"unit\": \"N/A\", \"value\": \"below the lower limit of the range of the present invention in comparative example (stel pipe no. 2-8)\"},\\n{\"measurement\": \"heating temperature\", \"unit\": \"N/A\", \"value\": \"not performed after continuous casting in comparative examples (stel pipe nos. 2-4, 2-9, and 2-1)\"},\\n{\"measurement\": \"coarsening of steel microstructure\", \"unit\": \"N/A\", \"value\": \"occurred in the stel pipe\"}',\n",
       " \"\\n[{'measurement': 'normalizing temperature', 'unit': 'N/A', 'value': 'upper limit of the range of the present invention'},\\n{'measurement': 'normalizing temperature', 'unit': 'N/A', 'value': 'lower limit of the range of the present invention'},\\n{'measurement': 'yield strength', 'unit': 'N/A', 'value': 'failed to achieve target value'},\\n{'measurement': 'tensile strength', 'unit': 'N/A', 'value': 'failed to achieve target value'}\",\n",
       " '\\n[{\"measurement\": \"c\", \"unit\": \"%\", \"value\": \"0.02 to 0.12\"},\\n{\"measurement\": \"si\", \"unit\": \"%\", \"value\": \"0.010 to 1.0\"},\\n{\"measurement\": \"mn\", \"unit\": \"%\", \"value\": \"0.10 to 2.0\"},\\n{\"measurement\": \"p\", \"unit\": \"%\", \"value\": \"0.050 or les\"},\\n{\"measurement\": \"s\", \"unit\": \"%\", \"value\": \"0.04 or les\"},\\n{\"measurement\": \"al\", \"unit\": \"%\", \"value\": \"0.010 to 0.10\"},\\n{\"measurement\": \"cu\", \"unit\": \"%\", \"value\": \"0.03 to 0.80\"},\\n{\"measurement\": \"ni\", \"unit\": \"%\", \"value\": \"0.02 to 0.50\"},\\n{\"measurement\": \"cr\", \"unit\": \"%\", \"value\": \"0.5 to 1.0\"},\\n{\"measurement\": \"sb\", \"unit\": \"%\", \"value\": \"0.05 to 0.20\"},\\n{\"measurement\": \"cu*, cr*, and sb* composition\", \"unit\": \"%\", \"value\": \"average concentrations of cu, cr, and sb, respectively in the range of 0.5 to 2.0 m away from an outer surface of the stel pipe\"},\\n{\"measurement\": \"yield strength\", \"unit\": \"mpa\", \"value\": \"230 or more\"},\\n{\"measurement\": \"tensile strength\", \"unit\": \"mpa\", \"value\": \"380 or more\"}',\n",
       " '\\n']"
      ]
     },
     "execution_count": 10,
     "metadata": {},
     "output_type": "execute_result"
    }
   ],
   "source": [
    "predictions.split(']')"
   ]
  },
  {
   "cell_type": "code",
   "execution_count": 7,
   "metadata": {},
   "outputs": [
    {
     "data": {
      "text/plain": [
       "[]"
      ]
     },
     "execution_count": 7,
     "metadata": {},
     "output_type": "execute_result"
    }
   ],
   "source": [
    "predictions_json"
   ]
  },
  {
   "cell_type": "code",
   "execution_count": 10,
   "metadata": {},
   "outputs": [],
   "source": [
    "predictions_json, false_jsons = post_process_predicions(prediction_test_list)"
   ]
  },
  {
   "cell_type": "code",
   "execution_count": 11,
   "metadata": {},
   "outputs": [
    {
     "data": {
      "text/html": [
       "<div>\n",
       "<style scoped>\n",
       "    .dataframe tbody tr th:only-of-type {\n",
       "        vertical-align: middle;\n",
       "    }\n",
       "\n",
       "    .dataframe tbody tr th {\n",
       "        vertical-align: top;\n",
       "    }\n",
       "\n",
       "    .dataframe thead th {\n",
       "        text-align: right;\n",
       "    }\n",
       "</style>\n",
       "<table border=\"1\" class=\"dataframe\">\n",
       "  <thead>\n",
       "    <tr style=\"text-align: right;\">\n",
       "      <th></th>\n",
       "      <th>measurement</th>\n",
       "      <th>unit</th>\n",
       "      <th>value</th>\n",
       "      <th>measurement</th>\n",
       "      <th>unit</th>\n",
       "      <th>value</th>\n",
       "    </tr>\n",
       "  </thead>\n",
       "  <tbody>\n",
       "    <tr>\n",
       "      <th>0</th>\n",
       "      <td>surface area</td>\n",
       "      <td>m^2/g</td>\n",
       "      <td>between about 5 and about 350</td>\n",
       "      <td>NaN</td>\n",
       "      <td>NaN</td>\n",
       "      <td>NaN</td>\n",
       "    </tr>\n",
       "    <tr>\n",
       "      <th>1</th>\n",
       "      <td>surface area</td>\n",
       "      <td>m/g</td>\n",
       "      <td>between about 30 and 80</td>\n",
       "      <td>NaN</td>\n",
       "      <td>NaN</td>\n",
       "      <td>NaN</td>\n",
       "    </tr>\n",
       "    <tr>\n",
       "      <th>2</th>\n",
       "      <td>coated Substrate support</td>\n",
       "      <td>g/in</td>\n",
       "      <td>about 1.5 to about 7.0</td>\n",
       "      <td>NaN</td>\n",
       "      <td>NaN</td>\n",
       "      <td>NaN</td>\n",
       "    </tr>\n",
       "    <tr>\n",
       "      <th>3</th>\n",
       "      <td>polypeptide concentration</td>\n",
       "      <td>g/ml</td>\n",
       "      <td>1 to 9</td>\n",
       "      <td>NaN</td>\n",
       "      <td>NaN</td>\n",
       "      <td>NaN</td>\n",
       "    </tr>\n",
       "    <tr>\n",
       "      <th>4</th>\n",
       "      <td>nucleic acid sequencing</td>\n",
       "      <td></td>\n",
       "      <td></td>\n",
       "      <td>NaN</td>\n",
       "      <td>NaN</td>\n",
       "      <td>NaN</td>\n",
       "    </tr>\n",
       "    <tr>\n",
       "      <th>...</th>\n",
       "      <td>...</td>\n",
       "      <td>...</td>\n",
       "      <td>...</td>\n",
       "      <td>...</td>\n",
       "      <td>...</td>\n",
       "      <td>...</td>\n",
       "    </tr>\n",
       "    <tr>\n",
       "      <th>498</th>\n",
       "      <td>yield strength</td>\n",
       "      <td>mpa</td>\n",
       "      <td>230 or more</td>\n",
       "      <td>NaN</td>\n",
       "      <td>NaN</td>\n",
       "      <td>NaN</td>\n",
       "    </tr>\n",
       "    <tr>\n",
       "      <th>499</th>\n",
       "      <td>tensile strength</td>\n",
       "      <td>mpa</td>\n",
       "      <td>380 or more</td>\n",
       "      <td>NaN</td>\n",
       "      <td>NaN</td>\n",
       "      <td>NaN</td>\n",
       "    </tr>\n",
       "    <tr>\n",
       "      <th>500</th>\n",
       "      <td>heating temperature</td>\n",
       "      <td>c</td>\n",
       "      <td>1.0 to 1.20</td>\n",
       "      <td>NaN</td>\n",
       "      <td>NaN</td>\n",
       "      <td>NaN</td>\n",
       "    </tr>\n",
       "    <tr>\n",
       "      <th>501</th>\n",
       "      <td>hot rolling temperature</td>\n",
       "      <td>c</td>\n",
       "      <td>80 or more</td>\n",
       "      <td>NaN</td>\n",
       "      <td>NaN</td>\n",
       "      <td>NaN</td>\n",
       "    </tr>\n",
       "    <tr>\n",
       "      <th>502</th>\n",
       "      <td>normalizing temperature</td>\n",
       "      <td>c</td>\n",
       "      <td>850 to 1,050</td>\n",
       "      <td>NaN</td>\n",
       "      <td>NaN</td>\n",
       "      <td>NaN</td>\n",
       "    </tr>\n",
       "  </tbody>\n",
       "</table>\n",
       "<p>503 rows × 6 columns</p>\n",
       "</div>"
      ],
      "text/plain": [
       "                   measurement   unit                          value  \\\n",
       "0                 surface area  m^2/g  between about 5 and about 350   \n",
       "1                 surface area    m/g        between about 30 and 80   \n",
       "2     coated Substrate support   g/in         about 1.5 to about 7.0   \n",
       "3    polypeptide concentration   g/ml                         1 to 9   \n",
       "4      nucleic acid sequencing                                         \n",
       "..                         ...    ...                            ...   \n",
       "498             yield strength    mpa                    230 or more   \n",
       "499           tensile strength    mpa                    380 or more   \n",
       "500        heating temperature      c                    1.0 to 1.20   \n",
       "501    hot rolling temperature      c                     80 or more   \n",
       "502    normalizing temperature      c                   850 to 1,050   \n",
       "\n",
       "    measurement  unit  value   \n",
       "0            NaN   NaN    NaN  \n",
       "1            NaN   NaN    NaN  \n",
       "2            NaN   NaN    NaN  \n",
       "3            NaN   NaN    NaN  \n",
       "4            NaN   NaN    NaN  \n",
       "..           ...   ...    ...  \n",
       "498          NaN   NaN    NaN  \n",
       "499          NaN   NaN    NaN  \n",
       "500          NaN   NaN    NaN  \n",
       "501          NaN   NaN    NaN  \n",
       "502          NaN   NaN    NaN  \n",
       "\n",
       "[503 rows x 6 columns]"
      ]
     },
     "execution_count": 11,
     "metadata": {},
     "output_type": "execute_result"
    }
   ],
   "source": [
    "import pandas as pd \n",
    "\n",
    "pd.DataFrame(predictions_json)"
   ]
  },
  {
   "cell_type": "code",
   "execution_count": 12,
   "metadata": {},
   "outputs": [
    {
     "name": "stdout",
     "output_type": "stream",
     "text": [
      "invalid syntax (<unknown>, line 1)\n",
      "invalid syntax (<unknown>, line 1)\n",
      "invalid syntax (<unknown>, line 1)\n",
      "invalid syntax (<unknown>, line 1)\n",
      "'{' was never closed (<unknown>, line 1)\n",
      "unmatched ']' (<unknown>, line 1)\n"
     ]
    }
   ],
   "source": [
    "predictions_json = []\n",
    "false_jsons =[]\n",
    "for i, prediction in enumerate(prediction_test_list):\n",
    "    try:\n",
    "        predictions_json.extend(build_dict_from_json_string(prediction+']'))\n",
    "    except Exception as e:\n",
    "        print(e)\n",
    "        false_jsons.append(prediction)"
   ]
  },
  {
   "cell_type": "code",
   "execution_count": 13,
   "metadata": {},
   "outputs": [],
   "source": [
    "from langchain.output_parsers import StructuredOutputParser, ResponseSchema\n",
    "\n",
    "# The schema I want out\n",
    "response_schemas = [\n",
    "    ResponseSchema(name=\"measurements\", description=\"Measurements details\"),\n",
    "    ResponseSchema(name=\"unit\", description=\"Unit used in the measurments\"),\n",
    "    ResponseSchema(name=\"value\", description=\"The value of the measurements\")\n",
    "]\n",
    "\n",
    "# The parser that will look for the LLM output in my schema and return it back to me\n",
    "output_parser = StructuredOutputParser.from_response_schemas(response_schemas)"
   ]
  },
  {
   "cell_type": "code",
   "execution_count": 23,
   "metadata": {},
   "outputs": [
    {
     "data": {
      "text/plain": [
       "True"
      ]
     },
     "execution_count": 23,
     "metadata": {},
     "output_type": "execute_result"
    }
   ],
   "source": [
    "from dotenv import load_dotenv\n",
    "load_dotenv(\"env.env\")\n"
   ]
  },
  {
   "cell_type": "code",
   "execution_count": 20,
   "metadata": {},
   "outputs": [
    {
     "ename": "NameError",
     "evalue": "name 'all_splits' is not defined",
     "output_type": "error",
     "traceback": [
      "\u001b[1;31m---------------------------------------------------------------------------\u001b[0m",
      "\u001b[1;31mNameError\u001b[0m                                 Traceback (most recent call last)",
      "Cell \u001b[1;32mIn[20], line 4\u001b[0m\n\u001b[0;32m      2\u001b[0m \u001b[38;5;28;01mfrom\u001b[39;00m \u001b[38;5;21;01mlangchain\u001b[39;00m\u001b[38;5;21;01m.\u001b[39;00m\u001b[38;5;21;01membeddings\u001b[39;00m \u001b[38;5;28;01mimport\u001b[39;00m OpenAIEmbeddings\n\u001b[0;32m      3\u001b[0m \u001b[38;5;28;01mfrom\u001b[39;00m \u001b[38;5;21;01mlangchain\u001b[39;00m\u001b[38;5;21;01m.\u001b[39;00m\u001b[38;5;21;01mvectorstores\u001b[39;00m \u001b[38;5;28;01mimport\u001b[39;00m Chroma\n\u001b[1;32m----> 4\u001b[0m vectorstore \u001b[38;5;241m=\u001b[39m Chroma\u001b[38;5;241m.\u001b[39mfrom_documents(documents\u001b[38;5;241m=\u001b[39mall_splits,\n\u001b[0;32m      5\u001b[0m                                     embedding\u001b[38;5;241m=\u001b[39mOpenAIEmbeddings())\n",
      "\u001b[1;31mNameError\u001b[0m: name 'all_splits' is not defined"
     ]
    }
   ],
   "source": [
    "# Build vectorstore and keep the metadata\n",
    "from langchain.embeddings import OpenAIEmbeddings\n",
    "from langchain.vectorstores import Chroma\n",
    "vectorstore = Chroma.from_documents(documents=all_splits,\n",
    "                                    embedding=OpenAIEmbeddings(deployment_name=\"\"))"
   ]
  }
 ],
 "metadata": {
  "kernelspec": {
   "display_name": "Python 3 (ipykernel)",
   "language": "python",
   "name": "python3"
  },
  "language_info": {
   "codemirror_mode": {
    "name": "ipython",
    "version": 3
   },
   "file_extension": ".py",
   "mimetype": "text/x-python",
   "name": "python",
   "nbconvert_exporter": "python",
   "pygments_lexer": "ipython3",
   "version": "3.11.0"
  },
  "toc": {
   "base_numbering": 1,
   "nav_menu": {},
   "number_sections": true,
   "sideBar": true,
   "skip_h1_title": false,
   "title_cell": "Table of Contents",
   "title_sidebar": "Contents",
   "toc_cell": false,
   "toc_position": {},
   "toc_section_display": true,
   "toc_window_display": false
  },
  "varInspector": {
   "cols": {
    "lenName": 16,
    "lenType": 16,
    "lenVar": 40
   },
   "kernels_config": {
    "python": {
     "delete_cmd_postfix": "",
     "delete_cmd_prefix": "del ",
     "library": "var_list.py",
     "varRefreshCmd": "print(var_dic_list())"
    },
    "r": {
     "delete_cmd_postfix": ") ",
     "delete_cmd_prefix": "rm(",
     "library": "var_list.r",
     "varRefreshCmd": "cat(var_dic_list()) "
    }
   },
   "types_to_exclude": [
    "module",
    "function",
    "builtin_function_or_method",
    "instance",
    "_Feature"
   ],
   "window_display": false
  }
 },
 "nbformat": 4,
 "nbformat_minor": 4
}
