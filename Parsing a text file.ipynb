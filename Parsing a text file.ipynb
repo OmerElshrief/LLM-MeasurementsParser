{
 "cells": [
  {
   "cell_type": "code",
   "execution_count": 2,
   "metadata": {},
   "outputs": [],
   "source": [
    "from basf_measurement_parser import BASFMeasurementParser\n",
    "from prompt_evaluation import *\n",
    "from prompt_builder import *\n",
    "from logger import ParserLogger\n",
    "\n"
   ]
  },
  {
   "cell_type": "code",
   "execution_count": 3,
   "metadata": {},
   "outputs": [],
   "source": [
    "logger = ParserLogger(\"Data/text_data_ipa221229_30_patents.log\")\n",
    "\n",
    "chat_prompt, prompt, examples  = PromptBuilder.build_prompt_from_dir(\"001\")"
   ]
  },
  {
   "cell_type": "code",
   "execution_count": 4,
   "metadata": {},
   "outputs": [],
   "source": [
    "measurement_parser = BASFMeasurementParser(prompt=chat_prompt, prompt_id=\"001\", chunk_size=6000, logger=logger)\n",
    "measurement_parser.build_chat_chain()\n"
   ]
  },
  {
   "cell_type": "code",
   "execution_count": 5,
   "metadata": {},
   "outputs": [],
   "source": [
    "text = measurement_parser._load_txt_and_split(\"Data/text_data_ipa221229_5_patents.txt\")"
   ]
  },
  {
   "cell_type": "code",
   "execution_count": 6,
   "metadata": {},
   "outputs": [
    {
     "ename": "AttributeError",
     "evalue": "'ParserLogger' object has no attribute 'info'",
     "output_type": "error",
     "traceback": [
      "\u001b[1;31m---------------------------------------------------------------------------\u001b[0m",
      "\u001b[1;31mAttributeError\u001b[0m                            Traceback (most recent call last)",
      "Cell \u001b[1;32mIn[6], line 1\u001b[0m\n\u001b[1;32m----> 1\u001b[0m patents_text_results \u001b[38;5;241m=\u001b[39m measurement_parser\u001b[38;5;241m.\u001b[39mparse_txt_by_chunks(file_path\u001b[38;5;241m=\u001b[39m\u001b[38;5;124m\"\u001b[39m\u001b[38;5;124mData/text_data_ipa221229_5_patents.txt\u001b[39m\u001b[38;5;124m\"\u001b[39m, output_format\u001b[38;5;241m=\u001b[39mprompt[\u001b[38;5;124m\"\u001b[39m\u001b[38;5;124moutput_format\u001b[39m\u001b[38;5;124m\"\u001b[39m])\n",
      "File \u001b[1;32mD:\\00Work\\BASF\\challange\\basf_measurement_parser.py:84\u001b[0m, in \u001b[0;36mBASFMeasurementParser.parse_txt_by_chunks\u001b[1;34m(self, file_path, output_format, output_file)\u001b[0m\n\u001b[0;32m     81\u001b[0m         logs_file\u001b[38;5;241m.\u001b[39mwrite(html\u001b[38;5;241m.\u001b[39munescape(result))\n\u001b[0;32m     82\u001b[0m         logs_file\u001b[38;5;241m.\u001b[39mwrite(\u001b[38;5;124m\"\u001b[39m\u001b[38;5;130;01m\\n\u001b[39;00m\u001b[38;5;124m\"\u001b[39m)\n\u001b[1;32m---> 84\u001b[0m \u001b[38;5;28mself\u001b[39m\u001b[38;5;241m.\u001b[39mlogger\u001b[38;5;241m.\u001b[39minfo(\u001b[38;5;124m\"\u001b[39m\u001b[38;5;124mFile Parsing has finished!\u001b[39m\u001b[38;5;124m\"\u001b[39m)\n\u001b[0;32m     85\u001b[0m \u001b[38;5;28;01mreturn\u001b[39;00m results_all_splits\n",
      "\u001b[1;31mAttributeError\u001b[0m: 'ParserLogger' object has no attribute 'info'"
     ]
    }
   ],
   "source": [
    "patents_text_results = measurement_parser.parse_txt_by_chunks(file_path=\"Data/text_data_ipa221229_5_patents.txt\", output_format=prompt[\"output_format\"])\n"
   ]
  },
  {
   "cell_type": "code",
   "execution_count": 1,
   "metadata": {},
   "outputs": [],
   "source": [
    "file = open(\"parsing_results_54_chunks_prompt_001.txt\")\n",
    "prediction_test = file.read()"
   ]
  },
  {
   "cell_type": "code",
   "execution_count": 2,
   "metadata": {},
   "outputs": [
    {
     "data": {
      "text/plain": [
       "'[     {         \"measurement\": \"surface area\",          \"unit\": \"m^2/g\",          \"value\": \"between about 5 and about 350\"     },      {         \"measurement\": \"surface area\",          \"unit\": \"m/g\",          \"value\": \"between about 30 and 80\"     },     {         \"measurement\": \"coated Substrate support\",          \"unit\": \"g/in\",          \"value\": \"about 1.5 to about 7.0\"     },     {         \"measurement\": \"polypeptide concentration\",          \"unit\": \"g/ml\",          \"value\": \"1 to 9\"     } '"
      ]
     },
     "execution_count": 2,
     "metadata": {},
     "output_type": "execute_result"
    }
   ],
   "source": [
    "prediction_test_list = prediction_test.replace(\"\\n\", \" \").split(']')\n",
    "prediction_test_list[0]"
   ]
  },
  {
   "cell_type": "code",
   "execution_count": 3,
   "metadata": {},
   "outputs": [],
   "source": [
    "import re\n",
    "import ast\n",
    "import string \n",
    "\n",
    "def build_dict_from_json_string(json_str_list):\n",
    "    try:\n",
    "        fixed_json = json.loads(json_str_list)\n",
    "        return fixed_json\n",
    "    except json.JSONDecodeError as e:\n",
    "        # Remove the surrounding square brackets and newlines\n",
    "        clean_string = json_str_list.replace(\"'\", \"\\\"\")\n",
    "\n",
    "        # Safely evaluate the string as a list of dictionaries\n",
    "        dictionary_list = ast.literal_eval(clean_string)\n",
    "        \n",
    "        return dictionary_list"
   ]
  },
  {
   "cell_type": "code",
   "execution_count": 4,
   "metadata": {},
   "outputs": [],
   "source": [
    "prediction = '''[{\"measurement\": \"nucleic acid sequencing\", \"unit\": \"\", \"value\": \"\"},\n",
    "{\"measurement\": \"rt-pcr sequencing\", \"unit\": \"\", \"value\": \"\"},\n",
    "{\"measurement\": \"pacbio sequencing protocol\", \"unit\": \"\", \"value\": \"\"},\n",
    "{\"measurement\": \"geographic location of infected individuals\", \"unit\": \"\", \"value\": \"\"},\n",
    "{\"measurement\": \"barcodes linked to zip code or geographic identifier\", \"unit\": \"\", \"value\": \"\"},\n",
    "{\"measurement\": \"prevalence of variants in infected individuals or general population\", \"unit\": \"\", \"value\": \"\"},\n",
    "{\"measurement\": \"correlation of specific variants with infectivity and disease severity\", \"unit\": \"\", \"value\": \"\"},\n",
    "{\"measurement\": \"data deposition in CDC database\", \"unit\": \"\", \"value\": \"\"}]'''"
   ]
  },
  {
   "cell_type": "code",
   "execution_count": 5,
   "metadata": {},
   "outputs": [
    {
     "data": {
      "text/plain": [
       "' As there are no measurements with units and values in the provided text, no output can be generated. \"measurement\": \"top lance diameter\", \"unit\": \"NA\", \"value\": \"larger than sublance diameter\", \"measurement\": \"sublance diameter\", \"unit\": \"NA\", \"value\": \"NA\", \"measurement\": \"probe parameters\", \"unit\": \"NA\", \"value\": \"NA\", \"measurement\": \"sampling tool parameters\", \"unit\": \"NA\", \"value\": \"NA\" I apologize, but I cannot provide an answer to your request as it seems incomplete and does not provide any text to extract measurements from. Could you please provide the appropriate text? [     {         \"measurement\": \"diameter of top lance distal end\",         \"unit\": null,         \"value\": \"d1\"     },     {         \"measurement\": \"maximum diameter of top lance coupling portion\",         \"unit\": null,         \"value\": \"d1\"     },     {         \"measurement\": \"diameter of sublance cavity\",         \"unit\": null,         \"value\": \"d2\"     },     {         \"measurement\": \"diameter of external cross-section of elongated tube\",         \"unit\": null,         \"value\": \"d2\"     },     {         \"measurement\": \"outer maximum diameter of protective device in initial configuration\",         \"unit\": null,         \"value\": \"d3_o_2_3_o_2_2_3_o_2\"     },     {         \"measurement\": \"diameter of circle inscribing surface that spans over deformed protective device\",         \"unit\": null,         \"value\": \"d3_d_3_d_1\"     },     {         \"measurement\": \"concentration range of polypeptide in bio-product\",         \"unit\": \"g/ml\",         \"value\": \"1 to 9\"     },     {         \"measurement\": \"diameter of refractory metal oxide support surface area\",         \"unit\": \"m^2/g\",         \"value\": \"100 to 200\"     },     {         \"measurement\": \"support material for precious metal\",         \"unit\": null,         \"value\": \"alumina\"     },     {         \"measurement\": \"nitrogen oxide storage material surface area\",         \"unit\": \"m^2/g\",         \"value\": \"30 and 80\"     } '"
      ]
     },
     "execution_count": 5,
     "metadata": {},
     "output_type": "execute_result"
    }
   ],
   "source": [
    "prediction_test_list[30]"
   ]
  },
  {
   "cell_type": "code",
   "execution_count": 6,
   "metadata": {},
   "outputs": [],
   "source": [
    "import json\n",
    "def post_process_predicions(predictions):\n",
    "    \n",
    "    predictions_json = []\n",
    "    false_jsons =[]\n",
    "    for i, prediction in enumerate(prediction_test_list):\n",
    "        try:\n",
    "            predictions_json.extend(build_dict_from_json_string(prediction+']'))\n",
    "        except Exception as e:\n",
    "#         print(e)\n",
    "            false_jsons.append(prediction)\n",
    "    return predictions_json, false_jsons"
   ]
  },
  {
   "cell_type": "code",
   "execution_count": 8,
   "metadata": {},
   "outputs": [],
   "source": [
    "predictions_json, false_jsons = post_process_predicions(prediction_test_list)"
   ]
  },
  {
   "cell_type": "code",
   "execution_count": 14,
   "metadata": {},
   "outputs": [
    {
     "data": {
      "text/html": [
       "<div>\n",
       "<style scoped>\n",
       "    .dataframe tbody tr th:only-of-type {\n",
       "        vertical-align: middle;\n",
       "    }\n",
       "\n",
       "    .dataframe tbody tr th {\n",
       "        vertical-align: top;\n",
       "    }\n",
       "\n",
       "    .dataframe thead th {\n",
       "        text-align: right;\n",
       "    }\n",
       "</style>\n",
       "<table border=\"1\" class=\"dataframe\">\n",
       "  <thead>\n",
       "    <tr style=\"text-align: right;\">\n",
       "      <th></th>\n",
       "      <th>measurement</th>\n",
       "      <th>unit</th>\n",
       "      <th>value</th>\n",
       "      <th>measurement</th>\n",
       "      <th>unit</th>\n",
       "      <th>value</th>\n",
       "    </tr>\n",
       "  </thead>\n",
       "  <tbody>\n",
       "    <tr>\n",
       "      <th>0</th>\n",
       "      <td>surface area</td>\n",
       "      <td>m^2/g</td>\n",
       "      <td>between about 5 and about 350</td>\n",
       "      <td>NaN</td>\n",
       "      <td>NaN</td>\n",
       "      <td>NaN</td>\n",
       "    </tr>\n",
       "    <tr>\n",
       "      <th>1</th>\n",
       "      <td>surface area</td>\n",
       "      <td>m/g</td>\n",
       "      <td>between about 30 and 80</td>\n",
       "      <td>NaN</td>\n",
       "      <td>NaN</td>\n",
       "      <td>NaN</td>\n",
       "    </tr>\n",
       "    <tr>\n",
       "      <th>2</th>\n",
       "      <td>coated Substrate support</td>\n",
       "      <td>g/in</td>\n",
       "      <td>about 1.5 to about 7.0</td>\n",
       "      <td>NaN</td>\n",
       "      <td>NaN</td>\n",
       "      <td>NaN</td>\n",
       "    </tr>\n",
       "    <tr>\n",
       "      <th>3</th>\n",
       "      <td>polypeptide concentration</td>\n",
       "      <td>g/ml</td>\n",
       "      <td>1 to 9</td>\n",
       "      <td>NaN</td>\n",
       "      <td>NaN</td>\n",
       "      <td>NaN</td>\n",
       "    </tr>\n",
       "    <tr>\n",
       "      <th>4</th>\n",
       "      <td>nucleic acid sequencing</td>\n",
       "      <td></td>\n",
       "      <td></td>\n",
       "      <td>NaN</td>\n",
       "      <td>NaN</td>\n",
       "      <td>NaN</td>\n",
       "    </tr>\n",
       "    <tr>\n",
       "      <th>...</th>\n",
       "      <td>...</td>\n",
       "      <td>...</td>\n",
       "      <td>...</td>\n",
       "      <td>...</td>\n",
       "      <td>...</td>\n",
       "      <td>...</td>\n",
       "    </tr>\n",
       "    <tr>\n",
       "      <th>498</th>\n",
       "      <td>yield strength</td>\n",
       "      <td>mpa</td>\n",
       "      <td>230 or more</td>\n",
       "      <td>NaN</td>\n",
       "      <td>NaN</td>\n",
       "      <td>NaN</td>\n",
       "    </tr>\n",
       "    <tr>\n",
       "      <th>499</th>\n",
       "      <td>tensile strength</td>\n",
       "      <td>mpa</td>\n",
       "      <td>380 or more</td>\n",
       "      <td>NaN</td>\n",
       "      <td>NaN</td>\n",
       "      <td>NaN</td>\n",
       "    </tr>\n",
       "    <tr>\n",
       "      <th>500</th>\n",
       "      <td>heating temperature</td>\n",
       "      <td>c</td>\n",
       "      <td>1.0 to 1.20</td>\n",
       "      <td>NaN</td>\n",
       "      <td>NaN</td>\n",
       "      <td>NaN</td>\n",
       "    </tr>\n",
       "    <tr>\n",
       "      <th>501</th>\n",
       "      <td>hot rolling temperature</td>\n",
       "      <td>c</td>\n",
       "      <td>80 or more</td>\n",
       "      <td>NaN</td>\n",
       "      <td>NaN</td>\n",
       "      <td>NaN</td>\n",
       "    </tr>\n",
       "    <tr>\n",
       "      <th>502</th>\n",
       "      <td>normalizing temperature</td>\n",
       "      <td>c</td>\n",
       "      <td>850 to 1,050</td>\n",
       "      <td>NaN</td>\n",
       "      <td>NaN</td>\n",
       "      <td>NaN</td>\n",
       "    </tr>\n",
       "  </tbody>\n",
       "</table>\n",
       "<p>503 rows × 6 columns</p>\n",
       "</div>"
      ],
      "text/plain": [
       "                   measurement   unit                          value  \\\n",
       "0                 surface area  m^2/g  between about 5 and about 350   \n",
       "1                 surface area    m/g        between about 30 and 80   \n",
       "2     coated Substrate support   g/in         about 1.5 to about 7.0   \n",
       "3    polypeptide concentration   g/ml                         1 to 9   \n",
       "4      nucleic acid sequencing                                         \n",
       "..                         ...    ...                            ...   \n",
       "498             yield strength    mpa                    230 or more   \n",
       "499           tensile strength    mpa                    380 or more   \n",
       "500        heating temperature      c                    1.0 to 1.20   \n",
       "501    hot rolling temperature      c                     80 or more   \n",
       "502    normalizing temperature      c                   850 to 1,050   \n",
       "\n",
       "    measurement  unit  value   \n",
       "0            NaN   NaN    NaN  \n",
       "1            NaN   NaN    NaN  \n",
       "2            NaN   NaN    NaN  \n",
       "3            NaN   NaN    NaN  \n",
       "4            NaN   NaN    NaN  \n",
       "..           ...   ...    ...  \n",
       "498          NaN   NaN    NaN  \n",
       "499          NaN   NaN    NaN  \n",
       "500          NaN   NaN    NaN  \n",
       "501          NaN   NaN    NaN  \n",
       "502          NaN   NaN    NaN  \n",
       "\n",
       "[503 rows x 6 columns]"
      ]
     },
     "execution_count": 14,
     "metadata": {},
     "output_type": "execute_result"
    }
   ],
   "source": [
    "import pandas as pd \n",
    "\n",
    "pd.DataFrame(predictions_json)"
   ]
  },
  {
   "cell_type": "code",
   "execution_count": 48,
   "metadata": {},
   "outputs": [
    {
     "name": "stdout",
     "output_type": "stream",
     "text": [
      "invalid syntax (<unknown>, line 1)\n",
      "invalid syntax (<unknown>, line 1)\n",
      "invalid syntax (<unknown>, line 1)\n",
      "invalid syntax (<unknown>, line 1)\n",
      "'{' was never closed (<unknown>, line 1)\n",
      "unmatched ']' (<unknown>, line 1)\n"
     ]
    }
   ],
   "source": [
    "predictions_json = []\n",
    "false_jsons =[]\n",
    "for i, prediction in enumerate(prediction_test_list):\n",
    "    try:\n",
    "        predictions_json.extend(build_dict_from_json_string(prediction+']'))\n",
    "    except Exception as e:\n",
    "        print(e)\n",
    "        false_jsons.append(prediction)"
   ]
  },
  {
   "cell_type": "code",
   "execution_count": null,
   "metadata": {},
   "outputs": [],
   "source": [
    "predictions_json"
   ]
  },
  {
   "cell_type": "code",
   "execution_count": null,
   "metadata": {},
   "outputs": [],
   "source": []
  }
 ],
 "metadata": {
  "kernelspec": {
   "display_name": "Python 3 (ipykernel)",
   "language": "python",
   "name": "python3"
  },
  "language_info": {
   "codemirror_mode": {
    "name": "ipython",
    "version": 3
   },
   "file_extension": ".py",
   "mimetype": "text/x-python",
   "name": "python",
   "nbconvert_exporter": "python",
   "pygments_lexer": "ipython3",
   "version": "3.11.0"
  },
  "toc": {
   "base_numbering": 1,
   "nav_menu": {},
   "number_sections": true,
   "sideBar": true,
   "skip_h1_title": false,
   "title_cell": "Table of Contents",
   "title_sidebar": "Contents",
   "toc_cell": false,
   "toc_position": {},
   "toc_section_display": true,
   "toc_window_display": false
  },
  "varInspector": {
   "cols": {
    "lenName": 16,
    "lenType": 16,
    "lenVar": 40
   },
   "kernels_config": {
    "python": {
     "delete_cmd_postfix": "",
     "delete_cmd_prefix": "del ",
     "library": "var_list.py",
     "varRefreshCmd": "print(var_dic_list())"
    },
    "r": {
     "delete_cmd_postfix": ") ",
     "delete_cmd_prefix": "rm(",
     "library": "var_list.r",
     "varRefreshCmd": "cat(var_dic_list()) "
    }
   },
   "types_to_exclude": [
    "module",
    "function",
    "builtin_function_or_method",
    "instance",
    "_Feature"
   ],
   "window_display": false
  }
 },
 "nbformat": 4,
 "nbformat_minor": 4
}
